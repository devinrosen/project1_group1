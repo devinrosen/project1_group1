{
 "cells": [
  {
   "cell_type": "markdown",
   "metadata": {},
   "source": [
    "# Residential Real Estate vs Supply, Inflation, and Interest Rate"
   ]
  },
  {
   "cell_type": "markdown",
   "metadata": {},
   "source": [
    "## Description ##\n",
    "Our goal is to determine how the value of residential real estate relates to supply, inflation, and interest rate.  Additionally, we will compare real estate returns to the returns of the  S&P 500 and XLRE (Real Estate Select Sector)."
   ]
  },
  {
   "cell_type": "markdown",
   "metadata": {},
   "source": [
    "## Objectives ##\n",
    "We intend to identify ideal periods to transact residential real estate based on valuation, inflation, and interest rate."
   ]
  },
  {
   "cell_type": "code",
   "execution_count": 106,
   "metadata": {
    "tags": []
   },
   "outputs": [],
   "source": [
    "# Imports\n",
    "import pandas as pd\n",
    "import os\n",
    "from dotenv import load_dotenv\n",
    "from fredapi import Fred\n",
    "import hvplot.pandas\n",
    "import yfinance as yf\n",
    "import numpy as np\n",
    "import seaborn as sns\n",
    "\n"
   ]
  },
  {
   "cell_type": "code",
   "execution_count": 56,
   "metadata": {},
   "outputs": [],
   "source": [
    "# Load Environment Variables\n",
    "load_dotenv()\n",
    "\n",
    "# setup fred api client\n",
    "FRED_API_KEY = os.getenv('FRED_API_KEY')\n",
    "fred = Fred(api_key=FRED_API_KEY)"
   ]
  },
  {
   "cell_type": "markdown",
   "metadata": {},
   "source": [
    "## Load all Fred Data"
   ]
  },
  {
   "cell_type": "code",
   "execution_count": 57,
   "metadata": {},
   "outputs": [],
   "source": [
    "dataframes = {}\n",
    "FRED_SERIES_KEYS = [\"FPCPITOTLZGUSA\", \"FEDFUNDS\", \"MSACSR\", \"USSTHPI\"]\n",
    "for FRED_SERIES_KEY in FRED_SERIES_KEYS:\n",
    "    series = fred.get_series(FRED_SERIES_KEY)\n",
    "    frame = {\n",
    "        \"date\": series.keys(),\n",
    "        \"value\": series.values,\n",
    "    }\n",
    "    dataframes[FRED_SERIES_KEY] = pd.DataFrame(frame).set_index(\"date\")\n",
    "    dataframes[FRED_SERIES_KEY][f\"pct_change {FRED_SERIES_KEY}\"] = dataframes[FRED_SERIES_KEY].pct_change()\n",
    "    dataframes[FRED_SERIES_KEY][f\"diff {FRED_SERIES_KEY}\"] = dataframes[FRED_SERIES_KEY][\"value\"].diff()\n",
    "    dataframes[FRED_SERIES_KEY] = dataframes[FRED_SERIES_KEY].dropna()\n"
   ]
  },
  {
   "cell_type": "markdown",
   "metadata": {},
   "source": [
    "## Residential Real Estate Value vs Inflation"
   ]
  },
  {
   "cell_type": "code",
   "execution_count": 58,
   "metadata": {
    "tags": []
   },
   "outputs": [
    {
     "data": {},
     "metadata": {},
     "output_type": "display_data"
    },
    {
     "data": {
      "application/vnd.holoviews_exec.v0+json": "",
      "text/html": [
       "<div id='p2942'>\n",
       "  <div id=\"f9e4d7df-6298-417f-8076-0a6487ab421e\" data-root-id=\"p2942\" style=\"display: contents;\"></div>\n",
       "</div>\n",
       "<script type=\"application/javascript\">(function(root) {\n",
       "  var docs_json = {\"8261838a-e094-41c7-b280-d00180bfc652\":{\"version\":\"3.2.2\",\"title\":\"Bokeh Application\",\"roots\":[{\"type\":\"object\",\"name\":\"Row\",\"id\":\"p2942\",\"attributes\":{\"name\":\"Row04536\",\"tags\":[\"embedded\"],\"stylesheets\":[\"\\n:host(.pn-loading.pn-arc):before, .pn-loading.pn-arc:before {\\n  background-image: url(\\\"data:image/svg+xml;base64,PHN2ZyB4bWxucz0iaHR0cDovL3d3dy53My5vcmcvMjAwMC9zdmciIHN0eWxlPSJtYXJnaW46IGF1dG87IGJhY2tncm91bmQ6IG5vbmU7IGRpc3BsYXk6IGJsb2NrOyBzaGFwZS1yZW5kZXJpbmc6IGF1dG87IiB2aWV3Qm94PSIwIDAgMTAwIDEwMCIgcHJlc2VydmVBc3BlY3RSYXRpbz0ieE1pZFlNaWQiPiAgPGNpcmNsZSBjeD0iNTAiIGN5PSI1MCIgZmlsbD0ibm9uZSIgc3Ryb2tlPSIjYzNjM2MzIiBzdHJva2Utd2lkdGg9IjEwIiByPSIzNSIgc3Ryb2tlLWRhc2hhcnJheT0iMTY0LjkzMzYxNDMxMzQ2NDE1IDU2Ljk3Nzg3MTQzNzgyMTM4Ij4gICAgPGFuaW1hdGVUcmFuc2Zvcm0gYXR0cmlidXRlTmFtZT0idHJhbnNmb3JtIiB0eXBlPSJyb3RhdGUiIHJlcGVhdENvdW50PSJpbmRlZmluaXRlIiBkdXI9IjFzIiB2YWx1ZXM9IjAgNTAgNTA7MzYwIDUwIDUwIiBrZXlUaW1lcz0iMDsxIj48L2FuaW1hdGVUcmFuc2Zvcm0+ICA8L2NpcmNsZT48L3N2Zz4=\\\");\\n  background-size: auto calc(min(50%, 400px));\\n}\",{\"type\":\"object\",\"name\":\"ImportedStyleSheet\",\"id\":\"p2945\",\"attributes\":{\"url\":\"https://cdn.holoviz.org/panel/1.2.3/dist/css/loading.css\"}},{\"type\":\"object\",\"name\":\"ImportedStyleSheet\",\"id\":\"p3009\",\"attributes\":{\"url\":\"https://cdn.holoviz.org/panel/1.2.3/dist/css/listpanel.css\"}},{\"type\":\"object\",\"name\":\"ImportedStyleSheet\",\"id\":\"p2943\",\"attributes\":{\"url\":\"https://cdn.holoviz.org/panel/1.2.3/dist/bundled/theme/default.css\"}},{\"type\":\"object\",\"name\":\"ImportedStyleSheet\",\"id\":\"p2944\",\"attributes\":{\"url\":\"https://cdn.holoviz.org/panel/1.2.3/dist/bundled/theme/native.css\"}}],\"min_width\":700,\"margin\":0,\"sizing_mode\":\"stretch_width\",\"align\":\"start\",\"children\":[{\"type\":\"object\",\"name\":\"Spacer\",\"id\":\"p2946\",\"attributes\":{\"name\":\"HSpacer04547\",\"stylesheets\":[\"\\n:host(.pn-loading.pn-arc):before, .pn-loading.pn-arc:before {\\n  background-image: url(\\\"data:image/svg+xml;base64,PHN2ZyB4bWxucz0iaHR0cDovL3d3dy53My5vcmcvMjAwMC9zdmciIHN0eWxlPSJtYXJnaW46IGF1dG87IGJhY2tncm91bmQ6IG5vbmU7IGRpc3BsYXk6IGJsb2NrOyBzaGFwZS1yZW5kZXJpbmc6IGF1dG87IiB2aWV3Qm94PSIwIDAgMTAwIDEwMCIgcHJlc2VydmVBc3BlY3RSYXRpbz0ieE1pZFlNaWQiPiAgPGNpcmNsZSBjeD0iNTAiIGN5PSI1MCIgZmlsbD0ibm9uZSIgc3Ryb2tlPSIjYzNjM2MzIiBzdHJva2Utd2lkdGg9IjEwIiByPSIzNSIgc3Ryb2tlLWRhc2hhcnJheT0iMTY0LjkzMzYxNDMxMzQ2NDE1IDU2Ljk3Nzg3MTQzNzgyMTM4Ij4gICAgPGFuaW1hdGVUcmFuc2Zvcm0gYXR0cmlidXRlTmFtZT0idHJhbnNmb3JtIiB0eXBlPSJyb3RhdGUiIHJlcGVhdENvdW50PSJpbmRlZmluaXRlIiBkdXI9IjFzIiB2YWx1ZXM9IjAgNTAgNTA7MzYwIDUwIDUwIiBrZXlUaW1lcz0iMDsxIj48L2FuaW1hdGVUcmFuc2Zvcm0+ICA8L2NpcmNsZT48L3N2Zz4=\\\");\\n  background-size: auto calc(min(50%, 400px));\\n}\",{\"id\":\"p2945\"},{\"id\":\"p2943\"},{\"id\":\"p2944\"}],\"margin\":0,\"sizing_mode\":\"stretch_width\",\"align\":\"start\"}},{\"type\":\"object\",\"name\":\"Figure\",\"id\":\"p2954\",\"attributes\":{\"width\":700,\"height\":300,\"margin\":[5,10],\"sizing_mode\":\"fixed\",\"align\":\"start\",\"x_range\":{\"type\":\"object\",\"name\":\"Range1d\",\"id\":\"p2947\",\"attributes\":{\"tags\":[[[\"date\",\"date\",null]],[]],\"start\":-283996800000.0,\"end\":1640995200000.0,\"reset_start\":-283996800000.0,\"reset_end\":1640995200000.0}},\"y_range\":{\"type\":\"object\",\"name\":\"Range1d\",\"id\":\"p2948\",\"attributes\":{\"tags\":[[[\"value\",\"value\",null]],{\"type\":\"map\",\"entries\":[[\"invert_yaxis\",false],[\"autorange\",false]]}],\"start\":-1.746021090426565,\"end\":14.939676799095214,\"reset_start\":-1.746021090426565,\"reset_end\":14.939676799095214}},\"x_scale\":{\"type\":\"object\",\"name\":\"LinearScale\",\"id\":\"p2964\"},\"y_scale\":{\"type\":\"object\",\"name\":\"LinearScale\",\"id\":\"p2965\"},\"title\":{\"type\":\"object\",\"name\":\"Title\",\"id\":\"p2957\",\"attributes\":{\"text\":\"Inflation, consumer prices for the United States\",\"text_color\":\"black\",\"text_font_size\":\"12pt\"}},\"renderers\":[{\"type\":\"object\",\"name\":\"GlyphRenderer\",\"id\":\"p3002\",\"attributes\":{\"data_source\":{\"type\":\"object\",\"name\":\"ColumnDataSource\",\"id\":\"p2993\",\"attributes\":{\"selected\":{\"type\":\"object\",\"name\":\"Selection\",\"id\":\"p2994\",\"attributes\":{\"indices\":[],\"line_indices\":[]}},\"selection_policy\":{\"type\":\"object\",\"name\":\"UnionRenderers\",\"id\":\"p2995\"},\"data\":{\"type\":\"map\",\"entries\":[[\"date\",{\"type\":\"ndarray\",\"array\":{\"type\":\"bytes\",\"data\":\"AAAA0eGHUMIAAAAM62NNwgAAAHYSuEnCAAAA4DkMRsIAAAAczl1CwgAAAAzrYz3CAAAA4DkMNsIAAABoEWktwgAAALDEXh3CAAAAAAAAAAAAAACwxF4dQgAAALDEXi1CAAAA4DkMNkIAAAAM62M9QgAAABzOXUJCAAAAsqYJRkIAAAB2ErhJQgAAAAzrY01CAAAA0eGHUEIAAAAczl1SQgAAAP4DNVRCAAAASfAKVkIAAACU3OBXQgAAAN/ItllCAAAAwf6NW0IAAAAM62NdQgAAAFfXOV9CAAAA0eGHYEIAAADCfHNhQgAAgOdyXmJCAAAADWlJY0IAAIAyXzRkQgAAgCP6H2VCAAAASfAKZkIAAIBu5vVmQgAAAJTc4GdCAAAAhXfMaEIAAICqbbdpQgAAANBjompCAACA9VmNa0IAAIDm9HhsQgAAAAzrY21CAACAMeFObkIAAABX1zlvQgAAACS5EnBCAADANjSIcEIAAIBJr/1wQgAAQFwqc3FCAADA1PfocUIAAIDncl5yQgAAQPrt03JCAAAADWlJc0IAAICFNr9zQgAAQJixNHRCAAAAqyyqdEIAAMC9px91QgAAQDZ1lXVCAAAASfAKdkIAAMBba4B2QgAAgG7m9XZCAAAA57Nrd0IAAMD5LuF3Qg==\"},\"shape\":[62],\"dtype\":\"float64\",\"order\":\"little\"}],[\"value\",{\"type\":\"ndarray\",\"array\":{\"type\":\"bytes\",\"data\":\"0erSpK8h8T9ufl32LC7zP2o/cpqv1fM/wrQI+Wt29D8B2Sxy2lz5P/CL1dbfHghAkdl+OqouBkDcSA+7URYRQBNtocR72RVAZeuBm19aF0CZg9sHyysRQGHaojegLQpAFLfxuwa2GEC+mRhgDxwmQCUav4tKSSJAtVLcKbD6FkDqI/lyuQEaQIFhc2Ibhh5AMxA0CkqCJkCZxlIAMRkrQFjrH89fqyRAEPivzJSGGEBZi1c+EbMJQBCtVZK/MxFA6PdjrnpdDEC0WdtJZ17+P5fgKoUGUQ1AzBtoXZtPEECFtd/h2U4TQLp3muSBlxVA2bm9ZJrwEEDbErnPBTsIQHsX3VP+nAdA/0VkVgrcBEBKja7gf3EGQMLtBDAbcwdAkWMnyJazAkAo5LWbItb4P6MULmcUgQFAx8vCvs0DC0CfBYOa/5sGQMo95LJiYPk/SzOrjScpAkBj10MS+2oFQOgUSHVYJAtAIvzZx7vOCUDl+jHzRdIGQJ1wYTd6tg5AtTp+IEXB1r9mV1Exnj36P6kU/yY2QQlAqYE1sgCOAECagOBd9G/3P6+brBSg9Pk/eamdE1levj+c/xrfcS/0P+7NFB13CgFAx3+QHGmKA0Culev9z/78P0Le7/3CvPM/bS+Sg5vKEkBtJWP6bgEgQA==\"},\"shape\":[62],\"dtype\":\"float64\",\"order\":\"little\"}]]}}},\"view\":{\"type\":\"object\",\"name\":\"CDSView\",\"id\":\"p3003\",\"attributes\":{\"filter\":{\"type\":\"object\",\"name\":\"AllIndices\",\"id\":\"p3004\"}}},\"glyph\":{\"type\":\"object\",\"name\":\"Line\",\"id\":\"p2999\",\"attributes\":{\"tags\":[\"apply_ranges\"],\"x\":{\"type\":\"field\",\"field\":\"date\"},\"y\":{\"type\":\"field\",\"field\":\"value\"},\"line_color\":\"#30a2da\",\"line_width\":2}},\"selection_glyph\":{\"type\":\"object\",\"name\":\"Line\",\"id\":\"p3005\",\"attributes\":{\"tags\":[\"apply_ranges\"],\"x\":{\"type\":\"field\",\"field\":\"date\"},\"y\":{\"type\":\"field\",\"field\":\"value\"},\"line_color\":\"#30a2da\",\"line_width\":2}},\"nonselection_glyph\":{\"type\":\"object\",\"name\":\"Line\",\"id\":\"p3000\",\"attributes\":{\"tags\":[\"apply_ranges\"],\"x\":{\"type\":\"field\",\"field\":\"date\"},\"y\":{\"type\":\"field\",\"field\":\"value\"},\"line_color\":\"#30a2da\",\"line_alpha\":0.1,\"line_width\":2}},\"muted_glyph\":{\"type\":\"object\",\"name\":\"Line\",\"id\":\"p3001\",\"attributes\":{\"tags\":[\"apply_ranges\"],\"x\":{\"type\":\"field\",\"field\":\"date\"},\"y\":{\"type\":\"field\",\"field\":\"value\"},\"line_color\":\"#30a2da\",\"line_alpha\":0.2,\"line_width\":2}}}}],\"toolbar\":{\"type\":\"object\",\"name\":\"Toolbar\",\"id\":\"p2963\",\"attributes\":{\"tools\":[{\"type\":\"object\",\"name\":\"WheelZoomTool\",\"id\":\"p2952\",\"attributes\":{\"tags\":[\"hv_created\"],\"zoom_together\":\"none\"}},{\"type\":\"object\",\"name\":\"HoverTool\",\"id\":\"p2953\",\"attributes\":{\"tags\":[\"hv_created\"],\"renderers\":[{\"id\":\"p3002\"}],\"tooltips\":[[\"date\",\"@{date}{%F %T}\"],[\"value\",\"@{value}\"]],\"formatters\":{\"type\":\"map\",\"entries\":[[\"@{date}\",\"datetime\"]]}}},{\"type\":\"object\",\"name\":\"SaveTool\",\"id\":\"p2988\"},{\"type\":\"object\",\"name\":\"PanTool\",\"id\":\"p2989\"},{\"type\":\"object\",\"name\":\"BoxZoomTool\",\"id\":\"p2990\",\"attributes\":{\"overlay\":{\"type\":\"object\",\"name\":\"BoxAnnotation\",\"id\":\"p2991\",\"attributes\":{\"syncable\":false,\"level\":\"overlay\",\"visible\":false,\"left_units\":\"canvas\",\"right_units\":\"canvas\",\"bottom_units\":\"canvas\",\"top_units\":\"canvas\",\"line_color\":\"black\",\"line_alpha\":1.0,\"line_width\":2,\"line_dash\":[4,4],\"fill_color\":\"lightgrey\",\"fill_alpha\":0.5}}}},{\"type\":\"object\",\"name\":\"ResetTool\",\"id\":\"p2992\"}],\"active_drag\":{\"id\":\"p2989\"},\"active_scroll\":{\"id\":\"p2952\"}}},\"left\":[{\"type\":\"object\",\"name\":\"LinearAxis\",\"id\":\"p2983\",\"attributes\":{\"ticker\":{\"type\":\"object\",\"name\":\"BasicTicker\",\"id\":\"p2984\",\"attributes\":{\"mantissas\":[1,2,5]}},\"formatter\":{\"type\":\"object\",\"name\":\"BasicTickFormatter\",\"id\":\"p2985\"},\"axis_label\":\"\",\"major_label_policy\":{\"type\":\"object\",\"name\":\"AllLabels\",\"id\":\"p2986\"}}}],\"below\":[{\"type\":\"object\",\"name\":\"DatetimeAxis\",\"id\":\"p2966\",\"attributes\":{\"ticker\":{\"type\":\"object\",\"name\":\"DatetimeTicker\",\"id\":\"p2967\",\"attributes\":{\"num_minor_ticks\":5,\"tickers\":[{\"type\":\"object\",\"name\":\"AdaptiveTicker\",\"id\":\"p2968\",\"attributes\":{\"num_minor_ticks\":0,\"mantissas\":[1,2,5],\"max_interval\":500.0}},{\"type\":\"object\",\"name\":\"AdaptiveTicker\",\"id\":\"p2969\",\"attributes\":{\"num_minor_ticks\":0,\"base\":60,\"mantissas\":[1,2,5,10,15,20,30],\"min_interval\":1000.0,\"max_interval\":1800000.0}},{\"type\":\"object\",\"name\":\"AdaptiveTicker\",\"id\":\"p2970\",\"attributes\":{\"num_minor_ticks\":0,\"base\":24,\"mantissas\":[1,2,4,6,8,12],\"min_interval\":3600000.0,\"max_interval\":43200000.0}},{\"type\":\"object\",\"name\":\"DaysTicker\",\"id\":\"p2971\",\"attributes\":{\"days\":[1,2,3,4,5,6,7,8,9,10,11,12,13,14,15,16,17,18,19,20,21,22,23,24,25,26,27,28,29,30,31]}},{\"type\":\"object\",\"name\":\"DaysTicker\",\"id\":\"p2972\",\"attributes\":{\"days\":[1,4,7,10,13,16,19,22,25,28]}},{\"type\":\"object\",\"name\":\"DaysTicker\",\"id\":\"p2973\",\"attributes\":{\"days\":[1,8,15,22]}},{\"type\":\"object\",\"name\":\"DaysTicker\",\"id\":\"p2974\",\"attributes\":{\"days\":[1,15]}},{\"type\":\"object\",\"name\":\"MonthsTicker\",\"id\":\"p2975\",\"attributes\":{\"months\":[0,1,2,3,4,5,6,7,8,9,10,11]}},{\"type\":\"object\",\"name\":\"MonthsTicker\",\"id\":\"p2976\",\"attributes\":{\"months\":[0,2,4,6,8,10]}},{\"type\":\"object\",\"name\":\"MonthsTicker\",\"id\":\"p2977\",\"attributes\":{\"months\":[0,4,8]}},{\"type\":\"object\",\"name\":\"MonthsTicker\",\"id\":\"p2978\",\"attributes\":{\"months\":[0,6]}},{\"type\":\"object\",\"name\":\"YearsTicker\",\"id\":\"p2979\"}]}},\"formatter\":{\"type\":\"object\",\"name\":\"DatetimeTickFormatter\",\"id\":\"p2980\"},\"axis_label\":\"date\",\"major_label_policy\":{\"type\":\"object\",\"name\":\"AllLabels\",\"id\":\"p2981\"}}}],\"center\":[{\"type\":\"object\",\"name\":\"Grid\",\"id\":\"p2982\",\"attributes\":{\"axis\":{\"id\":\"p2966\"},\"grid_line_color\":null}},{\"type\":\"object\",\"name\":\"Grid\",\"id\":\"p2987\",\"attributes\":{\"dimension\":1,\"axis\":{\"id\":\"p2983\"},\"grid_line_color\":null}}],\"min_border_top\":10,\"min_border_bottom\":10,\"min_border_left\":10,\"min_border_right\":10,\"output_backend\":\"webgl\"}},{\"type\":\"object\",\"name\":\"Spacer\",\"id\":\"p3007\",\"attributes\":{\"name\":\"HSpacer04550\",\"stylesheets\":[\"\\n:host(.pn-loading.pn-arc):before, .pn-loading.pn-arc:before {\\n  background-image: url(\\\"data:image/svg+xml;base64,PHN2ZyB4bWxucz0iaHR0cDovL3d3dy53My5vcmcvMjAwMC9zdmciIHN0eWxlPSJtYXJnaW46IGF1dG87IGJhY2tncm91bmQ6IG5vbmU7IGRpc3BsYXk6IGJsb2NrOyBzaGFwZS1yZW5kZXJpbmc6IGF1dG87IiB2aWV3Qm94PSIwIDAgMTAwIDEwMCIgcHJlc2VydmVBc3BlY3RSYXRpbz0ieE1pZFlNaWQiPiAgPGNpcmNsZSBjeD0iNTAiIGN5PSI1MCIgZmlsbD0ibm9uZSIgc3Ryb2tlPSIjYzNjM2MzIiBzdHJva2Utd2lkdGg9IjEwIiByPSIzNSIgc3Ryb2tlLWRhc2hhcnJheT0iMTY0LjkzMzYxNDMxMzQ2NDE1IDU2Ljk3Nzg3MTQzNzgyMTM4Ij4gICAgPGFuaW1hdGVUcmFuc2Zvcm0gYXR0cmlidXRlTmFtZT0idHJhbnNmb3JtIiB0eXBlPSJyb3RhdGUiIHJlcGVhdENvdW50PSJpbmRlZmluaXRlIiBkdXI9IjFzIiB2YWx1ZXM9IjAgNTAgNTA7MzYwIDUwIDUwIiBrZXlUaW1lcz0iMDsxIj48L2FuaW1hdGVUcmFuc2Zvcm0+ICA8L2NpcmNsZT48L3N2Zz4=\\\");\\n  background-size: auto calc(min(50%, 400px));\\n}\",{\"id\":\"p2945\"},{\"id\":\"p2943\"},{\"id\":\"p2944\"}],\"margin\":0,\"sizing_mode\":\"stretch_width\",\"align\":\"start\"}}]}}],\"defs\":[{\"type\":\"model\",\"name\":\"ReactiveHTML1\"},{\"type\":\"model\",\"name\":\"FlexBox1\",\"properties\":[{\"name\":\"align_content\",\"kind\":\"Any\",\"default\":\"flex-start\"},{\"name\":\"align_items\",\"kind\":\"Any\",\"default\":\"flex-start\"},{\"name\":\"flex_direction\",\"kind\":\"Any\",\"default\":\"row\"},{\"name\":\"flex_wrap\",\"kind\":\"Any\",\"default\":\"wrap\"},{\"name\":\"justify_content\",\"kind\":\"Any\",\"default\":\"flex-start\"}]},{\"type\":\"model\",\"name\":\"FloatPanel1\",\"properties\":[{\"name\":\"config\",\"kind\":\"Any\",\"default\":{\"type\":\"map\"}},{\"name\":\"contained\",\"kind\":\"Any\",\"default\":true},{\"name\":\"position\",\"kind\":\"Any\",\"default\":\"right-top\"},{\"name\":\"offsetx\",\"kind\":\"Any\",\"default\":null},{\"name\":\"offsety\",\"kind\":\"Any\",\"default\":null},{\"name\":\"theme\",\"kind\":\"Any\",\"default\":\"primary\"},{\"name\":\"status\",\"kind\":\"Any\",\"default\":\"normalized\"}]},{\"type\":\"model\",\"name\":\"GridStack1\",\"properties\":[{\"name\":\"mode\",\"kind\":\"Any\",\"default\":\"warn\"},{\"name\":\"ncols\",\"kind\":\"Any\",\"default\":null},{\"name\":\"nrows\",\"kind\":\"Any\",\"default\":null},{\"name\":\"allow_resize\",\"kind\":\"Any\",\"default\":true},{\"name\":\"allow_drag\",\"kind\":\"Any\",\"default\":true},{\"name\":\"state\",\"kind\":\"Any\",\"default\":[]}]},{\"type\":\"model\",\"name\":\"drag1\",\"properties\":[{\"name\":\"slider_width\",\"kind\":\"Any\",\"default\":5},{\"name\":\"slider_color\",\"kind\":\"Any\",\"default\":\"black\"},{\"name\":\"value\",\"kind\":\"Any\",\"default\":50}]},{\"type\":\"model\",\"name\":\"click1\",\"properties\":[{\"name\":\"terminal_output\",\"kind\":\"Any\",\"default\":\"\"},{\"name\":\"debug_name\",\"kind\":\"Any\",\"default\":\"\"},{\"name\":\"clears\",\"kind\":\"Any\",\"default\":0}]},{\"type\":\"model\",\"name\":\"FastWrapper1\",\"properties\":[{\"name\":\"object\",\"kind\":\"Any\",\"default\":null},{\"name\":\"style\",\"kind\":\"Any\",\"default\":null}]},{\"type\":\"model\",\"name\":\"NotificationAreaBase1\",\"properties\":[{\"name\":\"js_events\",\"kind\":\"Any\",\"default\":{\"type\":\"map\"}},{\"name\":\"position\",\"kind\":\"Any\",\"default\":\"bottom-right\"},{\"name\":\"_clear\",\"kind\":\"Any\",\"default\":0}]},{\"type\":\"model\",\"name\":\"NotificationArea1\",\"properties\":[{\"name\":\"js_events\",\"kind\":\"Any\",\"default\":{\"type\":\"map\"}},{\"name\":\"notifications\",\"kind\":\"Any\",\"default\":[]},{\"name\":\"position\",\"kind\":\"Any\",\"default\":\"bottom-right\"},{\"name\":\"_clear\",\"kind\":\"Any\",\"default\":0},{\"name\":\"types\",\"kind\":\"Any\",\"default\":[{\"type\":\"map\",\"entries\":[[\"type\",\"warning\"],[\"background\",\"#ffc107\"],[\"icon\",{\"type\":\"map\",\"entries\":[[\"className\",\"fas fa-exclamation-triangle\"],[\"tagName\",\"i\"],[\"color\",\"white\"]]}]]},{\"type\":\"map\",\"entries\":[[\"type\",\"info\"],[\"background\",\"#007bff\"],[\"icon\",{\"type\":\"map\",\"entries\":[[\"className\",\"fas fa-info-circle\"],[\"tagName\",\"i\"],[\"color\",\"white\"]]}]]}]}]},{\"type\":\"model\",\"name\":\"Notification\",\"properties\":[{\"name\":\"background\",\"kind\":\"Any\",\"default\":null},{\"name\":\"duration\",\"kind\":\"Any\",\"default\":3000},{\"name\":\"icon\",\"kind\":\"Any\",\"default\":null},{\"name\":\"message\",\"kind\":\"Any\",\"default\":\"\"},{\"name\":\"notification_type\",\"kind\":\"Any\",\"default\":null},{\"name\":\"_destroyed\",\"kind\":\"Any\",\"default\":false}]},{\"type\":\"model\",\"name\":\"TemplateActions1\",\"properties\":[{\"name\":\"open_modal\",\"kind\":\"Any\",\"default\":0},{\"name\":\"close_modal\",\"kind\":\"Any\",\"default\":0}]},{\"type\":\"model\",\"name\":\"BootstrapTemplateActions1\",\"properties\":[{\"name\":\"open_modal\",\"kind\":\"Any\",\"default\":0},{\"name\":\"close_modal\",\"kind\":\"Any\",\"default\":0}]},{\"type\":\"model\",\"name\":\"MaterialTemplateActions1\",\"properties\":[{\"name\":\"open_modal\",\"kind\":\"Any\",\"default\":0},{\"name\":\"close_modal\",\"kind\":\"Any\",\"default\":0}]}]}};\n",
       "  var render_items = [{\"docid\":\"8261838a-e094-41c7-b280-d00180bfc652\",\"roots\":{\"p2942\":\"f9e4d7df-6298-417f-8076-0a6487ab421e\"},\"root_ids\":[\"p2942\"]}];\n",
       "  var docs = Object.values(docs_json)\n",
       "  if (!docs) {\n",
       "    return\n",
       "  }\n",
       "  const py_version = docs[0].version.replace('rc', '-rc.').replace('.dev', '-dev.')\n",
       "  const is_dev = py_version.indexOf(\"+\") !== -1 || py_version.indexOf(\"-\") !== -1\n",
       "  function embed_document(root) {\n",
       "    var Bokeh = get_bokeh(root)\n",
       "    Bokeh.embed.embed_items_notebook(docs_json, render_items);\n",
       "    for (const render_item of render_items) {\n",
       "      for (const root_id of render_item.root_ids) {\n",
       "\tconst id_el = document.getElementById(root_id)\n",
       "\tif (id_el.children.length && (id_el.children[0].className === 'bk-root')) {\n",
       "\t  const root_el = id_el.children[0]\n",
       "\t  root_el.id = root_el.id + '-rendered'\n",
       "\t}\n",
       "      }\n",
       "    }\n",
       "  }\n",
       "  function get_bokeh(root) {\n",
       "    if (root.Bokeh === undefined) {\n",
       "      return null\n",
       "    } else if (root.Bokeh.version !== py_version && !is_dev) {\n",
       "      if (root.Bokeh.versions === undefined || !root.Bokeh.versions.has(py_version)) {\n",
       "\treturn null\n",
       "      }\n",
       "      return root.Bokeh.versions.get(py_version);\n",
       "    } else if (root.Bokeh.version === py_version) {\n",
       "      return root.Bokeh\n",
       "    }\n",
       "    return null\n",
       "  }\n",
       "  function is_loaded(root) {\n",
       "    var Bokeh = get_bokeh(root)\n",
       "    return (Bokeh != null && Bokeh.Panel !== undefined)\n",
       "  }\n",
       "  if (is_loaded(root)) {\n",
       "    embed_document(root);\n",
       "  } else {\n",
       "    var attempts = 0;\n",
       "    var timer = setInterval(function(root) {\n",
       "      if (is_loaded(root)) {\n",
       "        clearInterval(timer);\n",
       "        embed_document(root);\n",
       "      } else if (document.readyState == \"complete\") {\n",
       "        attempts++;\n",
       "        if (attempts > 200) {\n",
       "          clearInterval(timer);\n",
       "\t  var Bokeh = get_bokeh(root)\n",
       "\t  if (Bokeh == null || Bokeh.Panel == null) {\n",
       "            console.warn(\"Panel: ERROR: Unable to run Panel code because Bokeh or Panel library is missing\");\n",
       "\t  } else {\n",
       "\t    console.warn(\"Panel: WARNING: Attempting to render but not all required libraries could be resolved.\")\n",
       "\t    embed_document(root)\n",
       "\t  }\n",
       "        }\n",
       "      }\n",
       "    }, 25, root)\n",
       "  }\n",
       "})(window);</script>"
      ],
      "text/plain": [
       ":Curve   [date]   (value)"
      ]
     },
     "metadata": {
      "application/vnd.holoviews_exec.v0+json": {
       "id": "p2942"
      }
     },
     "output_type": "display_data"
    },
    {
     "data": {},
     "metadata": {},
     "output_type": "display_data"
    },
    {
     "data": {
      "application/vnd.holoviews_exec.v0+json": "",
      "text/html": [
       "<div id='p3013'>\n",
       "  <div id=\"a2da82a8-232c-4f3d-b569-7836f51a6501\" data-root-id=\"p3013\" style=\"display: contents;\"></div>\n",
       "</div>\n",
       "<script type=\"application/javascript\">(function(root) {\n",
       "  var docs_json = {\"c4bb6b02-c152-4e03-9f21-b393130c372f\":{\"version\":\"3.2.2\",\"title\":\"Bokeh Application\",\"roots\":[{\"type\":\"object\",\"name\":\"Row\",\"id\":\"p3013\",\"attributes\":{\"name\":\"Row04658\",\"tags\":[\"embedded\"],\"stylesheets\":[\"\\n:host(.pn-loading.pn-arc):before, .pn-loading.pn-arc:before {\\n  background-image: url(\\\"data:image/svg+xml;base64,PHN2ZyB4bWxucz0iaHR0cDovL3d3dy53My5vcmcvMjAwMC9zdmciIHN0eWxlPSJtYXJnaW46IGF1dG87IGJhY2tncm91bmQ6IG5vbmU7IGRpc3BsYXk6IGJsb2NrOyBzaGFwZS1yZW5kZXJpbmc6IGF1dG87IiB2aWV3Qm94PSIwIDAgMTAwIDEwMCIgcHJlc2VydmVBc3BlY3RSYXRpbz0ieE1pZFlNaWQiPiAgPGNpcmNsZSBjeD0iNTAiIGN5PSI1MCIgZmlsbD0ibm9uZSIgc3Ryb2tlPSIjYzNjM2MzIiBzdHJva2Utd2lkdGg9IjEwIiByPSIzNSIgc3Ryb2tlLWRhc2hhcnJheT0iMTY0LjkzMzYxNDMxMzQ2NDE1IDU2Ljk3Nzg3MTQzNzgyMTM4Ij4gICAgPGFuaW1hdGVUcmFuc2Zvcm0gYXR0cmlidXRlTmFtZT0idHJhbnNmb3JtIiB0eXBlPSJyb3RhdGUiIHJlcGVhdENvdW50PSJpbmRlZmluaXRlIiBkdXI9IjFzIiB2YWx1ZXM9IjAgNTAgNTA7MzYwIDUwIDUwIiBrZXlUaW1lcz0iMDsxIj48L2FuaW1hdGVUcmFuc2Zvcm0+ICA8L2NpcmNsZT48L3N2Zz4=\\\");\\n  background-size: auto calc(min(50%, 400px));\\n}\",{\"type\":\"object\",\"name\":\"ImportedStyleSheet\",\"id\":\"p3016\",\"attributes\":{\"url\":\"https://cdn.holoviz.org/panel/1.2.3/dist/css/loading.css\"}},{\"type\":\"object\",\"name\":\"ImportedStyleSheet\",\"id\":\"p3080\",\"attributes\":{\"url\":\"https://cdn.holoviz.org/panel/1.2.3/dist/css/listpanel.css\"}},{\"type\":\"object\",\"name\":\"ImportedStyleSheet\",\"id\":\"p3014\",\"attributes\":{\"url\":\"https://cdn.holoviz.org/panel/1.2.3/dist/bundled/theme/default.css\"}},{\"type\":\"object\",\"name\":\"ImportedStyleSheet\",\"id\":\"p3015\",\"attributes\":{\"url\":\"https://cdn.holoviz.org/panel/1.2.3/dist/bundled/theme/native.css\"}}],\"min_width\":700,\"margin\":0,\"sizing_mode\":\"stretch_width\",\"align\":\"start\",\"children\":[{\"type\":\"object\",\"name\":\"Spacer\",\"id\":\"p3017\",\"attributes\":{\"name\":\"HSpacer04669\",\"stylesheets\":[\"\\n:host(.pn-loading.pn-arc):before, .pn-loading.pn-arc:before {\\n  background-image: url(\\\"data:image/svg+xml;base64,PHN2ZyB4bWxucz0iaHR0cDovL3d3dy53My5vcmcvMjAwMC9zdmciIHN0eWxlPSJtYXJnaW46IGF1dG87IGJhY2tncm91bmQ6IG5vbmU7IGRpc3BsYXk6IGJsb2NrOyBzaGFwZS1yZW5kZXJpbmc6IGF1dG87IiB2aWV3Qm94PSIwIDAgMTAwIDEwMCIgcHJlc2VydmVBc3BlY3RSYXRpbz0ieE1pZFlNaWQiPiAgPGNpcmNsZSBjeD0iNTAiIGN5PSI1MCIgZmlsbD0ibm9uZSIgc3Ryb2tlPSIjYzNjM2MzIiBzdHJva2Utd2lkdGg9IjEwIiByPSIzNSIgc3Ryb2tlLWRhc2hhcnJheT0iMTY0LjkzMzYxNDMxMzQ2NDE1IDU2Ljk3Nzg3MTQzNzgyMTM4Ij4gICAgPGFuaW1hdGVUcmFuc2Zvcm0gYXR0cmlidXRlTmFtZT0idHJhbnNmb3JtIiB0eXBlPSJyb3RhdGUiIHJlcGVhdENvdW50PSJpbmRlZmluaXRlIiBkdXI9IjFzIiB2YWx1ZXM9IjAgNTAgNTA7MzYwIDUwIDUwIiBrZXlUaW1lcz0iMDsxIj48L2FuaW1hdGVUcmFuc2Zvcm0+ICA8L2NpcmNsZT48L3N2Zz4=\\\");\\n  background-size: auto calc(min(50%, 400px));\\n}\",{\"id\":\"p3016\"},{\"id\":\"p3014\"},{\"id\":\"p3015\"}],\"margin\":0,\"sizing_mode\":\"stretch_width\",\"align\":\"start\"}},{\"type\":\"object\",\"name\":\"Figure\",\"id\":\"p3025\",\"attributes\":{\"width\":700,\"height\":300,\"margin\":[5,10],\"sizing_mode\":\"fixed\",\"align\":\"start\",\"x_range\":{\"type\":\"object\",\"name\":\"Range1d\",\"id\":\"p3018\",\"attributes\":{\"tags\":[[[\"date\",\"date\",null]],[]],\"start\":165542400000.0,\"end\":1680307200000.0,\"reset_start\":165542400000.0,\"reset_end\":1680307200000.0}},\"y_range\":{\"type\":\"object\",\"name\":\"Range1d\",\"id\":\"p3019\",\"attributes\":{\"tags\":[[[\"value\",\"value\",null]],{\"type\":\"map\",\"entries\":[[\"invert_yaxis\",false],[\"autorange\",false]]}],\"start\":2.317999999999998,\"end\":703.622,\"reset_start\":2.317999999999998,\"reset_end\":703.622}},\"x_scale\":{\"type\":\"object\",\"name\":\"LinearScale\",\"id\":\"p3035\"},\"y_scale\":{\"type\":\"object\",\"name\":\"LinearScale\",\"id\":\"p3036\"},\"title\":{\"type\":\"object\",\"name\":\"Title\",\"id\":\"p3028\",\"attributes\":{\"text\":\"All Transactions House Price Index for the United States\",\"text_color\":\"black\",\"text_font_size\":\"12pt\"}},\"renderers\":[{\"type\":\"object\",\"name\":\"GlyphRenderer\",\"id\":\"p3073\",\"attributes\":{\"data_source\":{\"type\":\"object\",\"name\":\"ColumnDataSource\",\"id\":\"p3064\",\"attributes\":{\"selected\":{\"type\":\"object\",\"name\":\"Selection\",\"id\":\"p3065\",\"attributes\":{\"indices\":[],\"line_indices\":[]}},\"selection_policy\":{\"type\":\"object\",\"name\":\"UnionRenderers\",\"id\":\"p3066\"},\"data\":{\"type\":\"map\",\"entries\":[[\"date\",{\"type\":\"ndarray\",\"array\":{\"type\":\"bytes\",\"data\":\"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\"},\"shape\":[193],\"dtype\":\"float64\",\"order\":\"little\"}],[\"value\",{\"type\":\"ndarray\",\"array\":{\"type\":\"bytes\",\"data\":\"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\"},\"shape\":[193],\"dtype\":\"float64\",\"order\":\"little\"}]]}}},\"view\":{\"type\":\"object\",\"name\":\"CDSView\",\"id\":\"p3074\",\"attributes\":{\"filter\":{\"type\":\"object\",\"name\":\"AllIndices\",\"id\":\"p3075\"}}},\"glyph\":{\"type\":\"object\",\"name\":\"Line\",\"id\":\"p3070\",\"attributes\":{\"tags\":[\"apply_ranges\"],\"x\":{\"type\":\"field\",\"field\":\"date\"},\"y\":{\"type\":\"field\",\"field\":\"value\"},\"line_color\":\"#30a2da\",\"line_width\":2}},\"selection_glyph\":{\"type\":\"object\",\"name\":\"Line\",\"id\":\"p3076\",\"attributes\":{\"tags\":[\"apply_ranges\"],\"x\":{\"type\":\"field\",\"field\":\"date\"},\"y\":{\"type\":\"field\",\"field\":\"value\"},\"line_color\":\"#30a2da\",\"line_width\":2}},\"nonselection_glyph\":{\"type\":\"object\",\"name\":\"Line\",\"id\":\"p3071\",\"attributes\":{\"tags\":[\"apply_ranges\"],\"x\":{\"type\":\"field\",\"field\":\"date\"},\"y\":{\"type\":\"field\",\"field\":\"value\"},\"line_color\":\"#30a2da\",\"line_alpha\":0.1,\"line_width\":2}},\"muted_glyph\":{\"type\":\"object\",\"name\":\"Line\",\"id\":\"p3072\",\"attributes\":{\"tags\":[\"apply_ranges\"],\"x\":{\"type\":\"field\",\"field\":\"date\"},\"y\":{\"type\":\"field\",\"field\":\"value\"},\"line_color\":\"#30a2da\",\"line_alpha\":0.2,\"line_width\":2}}}}],\"toolbar\":{\"type\":\"object\",\"name\":\"Toolbar\",\"id\":\"p3034\",\"attributes\":{\"tools\":[{\"type\":\"object\",\"name\":\"WheelZoomTool\",\"id\":\"p3023\",\"attributes\":{\"tags\":[\"hv_created\"],\"zoom_together\":\"none\"}},{\"type\":\"object\",\"name\":\"HoverTool\",\"id\":\"p3024\",\"attributes\":{\"tags\":[\"hv_created\"],\"renderers\":[{\"id\":\"p3073\"}],\"tooltips\":[[\"date\",\"@{date}{%F %T}\"],[\"value\",\"@{value}\"]],\"formatters\":{\"type\":\"map\",\"entries\":[[\"@{date}\",\"datetime\"]]}}},{\"type\":\"object\",\"name\":\"SaveTool\",\"id\":\"p3059\"},{\"type\":\"object\",\"name\":\"PanTool\",\"id\":\"p3060\"},{\"type\":\"object\",\"name\":\"BoxZoomTool\",\"id\":\"p3061\",\"attributes\":{\"overlay\":{\"type\":\"object\",\"name\":\"BoxAnnotation\",\"id\":\"p3062\",\"attributes\":{\"syncable\":false,\"level\":\"overlay\",\"visible\":false,\"left_units\":\"canvas\",\"right_units\":\"canvas\",\"bottom_units\":\"canvas\",\"top_units\":\"canvas\",\"line_color\":\"black\",\"line_alpha\":1.0,\"line_width\":2,\"line_dash\":[4,4],\"fill_color\":\"lightgrey\",\"fill_alpha\":0.5}}}},{\"type\":\"object\",\"name\":\"ResetTool\",\"id\":\"p3063\"}],\"active_drag\":{\"id\":\"p3060\"},\"active_scroll\":{\"id\":\"p3023\"}}},\"left\":[{\"type\":\"object\",\"name\":\"LinearAxis\",\"id\":\"p3054\",\"attributes\":{\"ticker\":{\"type\":\"object\",\"name\":\"BasicTicker\",\"id\":\"p3055\",\"attributes\":{\"mantissas\":[1,2,5]}},\"formatter\":{\"type\":\"object\",\"name\":\"BasicTickFormatter\",\"id\":\"p3056\"},\"axis_label\":\"\",\"major_label_policy\":{\"type\":\"object\",\"name\":\"AllLabels\",\"id\":\"p3057\"}}}],\"below\":[{\"type\":\"object\",\"name\":\"DatetimeAxis\",\"id\":\"p3037\",\"attributes\":{\"ticker\":{\"type\":\"object\",\"name\":\"DatetimeTicker\",\"id\":\"p3038\",\"attributes\":{\"num_minor_ticks\":5,\"tickers\":[{\"type\":\"object\",\"name\":\"AdaptiveTicker\",\"id\":\"p3039\",\"attributes\":{\"num_minor_ticks\":0,\"mantissas\":[1,2,5],\"max_interval\":500.0}},{\"type\":\"object\",\"name\":\"AdaptiveTicker\",\"id\":\"p3040\",\"attributes\":{\"num_minor_ticks\":0,\"base\":60,\"mantissas\":[1,2,5,10,15,20,30],\"min_interval\":1000.0,\"max_interval\":1800000.0}},{\"type\":\"object\",\"name\":\"AdaptiveTicker\",\"id\":\"p3041\",\"attributes\":{\"num_minor_ticks\":0,\"base\":24,\"mantissas\":[1,2,4,6,8,12],\"min_interval\":3600000.0,\"max_interval\":43200000.0}},{\"type\":\"object\",\"name\":\"DaysTicker\",\"id\":\"p3042\",\"attributes\":{\"days\":[1,2,3,4,5,6,7,8,9,10,11,12,13,14,15,16,17,18,19,20,21,22,23,24,25,26,27,28,29,30,31]}},{\"type\":\"object\",\"name\":\"DaysTicker\",\"id\":\"p3043\",\"attributes\":{\"days\":[1,4,7,10,13,16,19,22,25,28]}},{\"type\":\"object\",\"name\":\"DaysTicker\",\"id\":\"p3044\",\"attributes\":{\"days\":[1,8,15,22]}},{\"type\":\"object\",\"name\":\"DaysTicker\",\"id\":\"p3045\",\"attributes\":{\"days\":[1,15]}},{\"type\":\"object\",\"name\":\"MonthsTicker\",\"id\":\"p3046\",\"attributes\":{\"months\":[0,1,2,3,4,5,6,7,8,9,10,11]}},{\"type\":\"object\",\"name\":\"MonthsTicker\",\"id\":\"p3047\",\"attributes\":{\"months\":[0,2,4,6,8,10]}},{\"type\":\"object\",\"name\":\"MonthsTicker\",\"id\":\"p3048\",\"attributes\":{\"months\":[0,4,8]}},{\"type\":\"object\",\"name\":\"MonthsTicker\",\"id\":\"p3049\",\"attributes\":{\"months\":[0,6]}},{\"type\":\"object\",\"name\":\"YearsTicker\",\"id\":\"p3050\"}]}},\"formatter\":{\"type\":\"object\",\"name\":\"DatetimeTickFormatter\",\"id\":\"p3051\"},\"axis_label\":\"date\",\"major_label_policy\":{\"type\":\"object\",\"name\":\"AllLabels\",\"id\":\"p3052\"}}}],\"center\":[{\"type\":\"object\",\"name\":\"Grid\",\"id\":\"p3053\",\"attributes\":{\"axis\":{\"id\":\"p3037\"},\"grid_line_color\":null}},{\"type\":\"object\",\"name\":\"Grid\",\"id\":\"p3058\",\"attributes\":{\"dimension\":1,\"axis\":{\"id\":\"p3054\"},\"grid_line_color\":null}}],\"min_border_top\":10,\"min_border_bottom\":10,\"min_border_left\":10,\"min_border_right\":10,\"output_backend\":\"webgl\"}},{\"type\":\"object\",\"name\":\"Spacer\",\"id\":\"p3078\",\"attributes\":{\"name\":\"HSpacer04672\",\"stylesheets\":[\"\\n:host(.pn-loading.pn-arc):before, .pn-loading.pn-arc:before {\\n  background-image: url(\\\"data:image/svg+xml;base64,PHN2ZyB4bWxucz0iaHR0cDovL3d3dy53My5vcmcvMjAwMC9zdmciIHN0eWxlPSJtYXJnaW46IGF1dG87IGJhY2tncm91bmQ6IG5vbmU7IGRpc3BsYXk6IGJsb2NrOyBzaGFwZS1yZW5kZXJpbmc6IGF1dG87IiB2aWV3Qm94PSIwIDAgMTAwIDEwMCIgcHJlc2VydmVBc3BlY3RSYXRpbz0ieE1pZFlNaWQiPiAgPGNpcmNsZSBjeD0iNTAiIGN5PSI1MCIgZmlsbD0ibm9uZSIgc3Ryb2tlPSIjYzNjM2MzIiBzdHJva2Utd2lkdGg9IjEwIiByPSIzNSIgc3Ryb2tlLWRhc2hhcnJheT0iMTY0LjkzMzYxNDMxMzQ2NDE1IDU2Ljk3Nzg3MTQzNzgyMTM4Ij4gICAgPGFuaW1hdGVUcmFuc2Zvcm0gYXR0cmlidXRlTmFtZT0idHJhbnNmb3JtIiB0eXBlPSJyb3RhdGUiIHJlcGVhdENvdW50PSJpbmRlZmluaXRlIiBkdXI9IjFzIiB2YWx1ZXM9IjAgNTAgNTA7MzYwIDUwIDUwIiBrZXlUaW1lcz0iMDsxIj48L2FuaW1hdGVUcmFuc2Zvcm0+ICA8L2NpcmNsZT48L3N2Zz4=\\\");\\n  background-size: auto calc(min(50%, 400px));\\n}\",{\"id\":\"p3016\"},{\"id\":\"p3014\"},{\"id\":\"p3015\"}],\"margin\":0,\"sizing_mode\":\"stretch_width\",\"align\":\"start\"}}]}}],\"defs\":[{\"type\":\"model\",\"name\":\"ReactiveHTML1\"},{\"type\":\"model\",\"name\":\"FlexBox1\",\"properties\":[{\"name\":\"align_content\",\"kind\":\"Any\",\"default\":\"flex-start\"},{\"name\":\"align_items\",\"kind\":\"Any\",\"default\":\"flex-start\"},{\"name\":\"flex_direction\",\"kind\":\"Any\",\"default\":\"row\"},{\"name\":\"flex_wrap\",\"kind\":\"Any\",\"default\":\"wrap\"},{\"name\":\"justify_content\",\"kind\":\"Any\",\"default\":\"flex-start\"}]},{\"type\":\"model\",\"name\":\"FloatPanel1\",\"properties\":[{\"name\":\"config\",\"kind\":\"Any\",\"default\":{\"type\":\"map\"}},{\"name\":\"contained\",\"kind\":\"Any\",\"default\":true},{\"name\":\"position\",\"kind\":\"Any\",\"default\":\"right-top\"},{\"name\":\"offsetx\",\"kind\":\"Any\",\"default\":null},{\"name\":\"offsety\",\"kind\":\"Any\",\"default\":null},{\"name\":\"theme\",\"kind\":\"Any\",\"default\":\"primary\"},{\"name\":\"status\",\"kind\":\"Any\",\"default\":\"normalized\"}]},{\"type\":\"model\",\"name\":\"GridStack1\",\"properties\":[{\"name\":\"mode\",\"kind\":\"Any\",\"default\":\"warn\"},{\"name\":\"ncols\",\"kind\":\"Any\",\"default\":null},{\"name\":\"nrows\",\"kind\":\"Any\",\"default\":null},{\"name\":\"allow_resize\",\"kind\":\"Any\",\"default\":true},{\"name\":\"allow_drag\",\"kind\":\"Any\",\"default\":true},{\"name\":\"state\",\"kind\":\"Any\",\"default\":[]}]},{\"type\":\"model\",\"name\":\"drag1\",\"properties\":[{\"name\":\"slider_width\",\"kind\":\"Any\",\"default\":5},{\"name\":\"slider_color\",\"kind\":\"Any\",\"default\":\"black\"},{\"name\":\"value\",\"kind\":\"Any\",\"default\":50}]},{\"type\":\"model\",\"name\":\"click1\",\"properties\":[{\"name\":\"terminal_output\",\"kind\":\"Any\",\"default\":\"\"},{\"name\":\"debug_name\",\"kind\":\"Any\",\"default\":\"\"},{\"name\":\"clears\",\"kind\":\"Any\",\"default\":0}]},{\"type\":\"model\",\"name\":\"FastWrapper1\",\"properties\":[{\"name\":\"object\",\"kind\":\"Any\",\"default\":null},{\"name\":\"style\",\"kind\":\"Any\",\"default\":null}]},{\"type\":\"model\",\"name\":\"NotificationAreaBase1\",\"properties\":[{\"name\":\"js_events\",\"kind\":\"Any\",\"default\":{\"type\":\"map\"}},{\"name\":\"position\",\"kind\":\"Any\",\"default\":\"bottom-right\"},{\"name\":\"_clear\",\"kind\":\"Any\",\"default\":0}]},{\"type\":\"model\",\"name\":\"NotificationArea1\",\"properties\":[{\"name\":\"js_events\",\"kind\":\"Any\",\"default\":{\"type\":\"map\"}},{\"name\":\"notifications\",\"kind\":\"Any\",\"default\":[]},{\"name\":\"position\",\"kind\":\"Any\",\"default\":\"bottom-right\"},{\"name\":\"_clear\",\"kind\":\"Any\",\"default\":0},{\"name\":\"types\",\"kind\":\"Any\",\"default\":[{\"type\":\"map\",\"entries\":[[\"type\",\"warning\"],[\"background\",\"#ffc107\"],[\"icon\",{\"type\":\"map\",\"entries\":[[\"className\",\"fas fa-exclamation-triangle\"],[\"tagName\",\"i\"],[\"color\",\"white\"]]}]]},{\"type\":\"map\",\"entries\":[[\"type\",\"info\"],[\"background\",\"#007bff\"],[\"icon\",{\"type\":\"map\",\"entries\":[[\"className\",\"fas fa-info-circle\"],[\"tagName\",\"i\"],[\"color\",\"white\"]]}]]}]}]},{\"type\":\"model\",\"name\":\"Notification\",\"properties\":[{\"name\":\"background\",\"kind\":\"Any\",\"default\":null},{\"name\":\"duration\",\"kind\":\"Any\",\"default\":3000},{\"name\":\"icon\",\"kind\":\"Any\",\"default\":null},{\"name\":\"message\",\"kind\":\"Any\",\"default\":\"\"},{\"name\":\"notification_type\",\"kind\":\"Any\",\"default\":null},{\"name\":\"_destroyed\",\"kind\":\"Any\",\"default\":false}]},{\"type\":\"model\",\"name\":\"TemplateActions1\",\"properties\":[{\"name\":\"open_modal\",\"kind\":\"Any\",\"default\":0},{\"name\":\"close_modal\",\"kind\":\"Any\",\"default\":0}]},{\"type\":\"model\",\"name\":\"BootstrapTemplateActions1\",\"properties\":[{\"name\":\"open_modal\",\"kind\":\"Any\",\"default\":0},{\"name\":\"close_modal\",\"kind\":\"Any\",\"default\":0}]},{\"type\":\"model\",\"name\":\"MaterialTemplateActions1\",\"properties\":[{\"name\":\"open_modal\",\"kind\":\"Any\",\"default\":0},{\"name\":\"close_modal\",\"kind\":\"Any\",\"default\":0}]}]}};\n",
       "  var render_items = [{\"docid\":\"c4bb6b02-c152-4e03-9f21-b393130c372f\",\"roots\":{\"p3013\":\"a2da82a8-232c-4f3d-b569-7836f51a6501\"},\"root_ids\":[\"p3013\"]}];\n",
       "  var docs = Object.values(docs_json)\n",
       "  if (!docs) {\n",
       "    return\n",
       "  }\n",
       "  const py_version = docs[0].version.replace('rc', '-rc.').replace('.dev', '-dev.')\n",
       "  const is_dev = py_version.indexOf(\"+\") !== -1 || py_version.indexOf(\"-\") !== -1\n",
       "  function embed_document(root) {\n",
       "    var Bokeh = get_bokeh(root)\n",
       "    Bokeh.embed.embed_items_notebook(docs_json, render_items);\n",
       "    for (const render_item of render_items) {\n",
       "      for (const root_id of render_item.root_ids) {\n",
       "\tconst id_el = document.getElementById(root_id)\n",
       "\tif (id_el.children.length && (id_el.children[0].className === 'bk-root')) {\n",
       "\t  const root_el = id_el.children[0]\n",
       "\t  root_el.id = root_el.id + '-rendered'\n",
       "\t}\n",
       "      }\n",
       "    }\n",
       "  }\n",
       "  function get_bokeh(root) {\n",
       "    if (root.Bokeh === undefined) {\n",
       "      return null\n",
       "    } else if (root.Bokeh.version !== py_version && !is_dev) {\n",
       "      if (root.Bokeh.versions === undefined || !root.Bokeh.versions.has(py_version)) {\n",
       "\treturn null\n",
       "      }\n",
       "      return root.Bokeh.versions.get(py_version);\n",
       "    } else if (root.Bokeh.version === py_version) {\n",
       "      return root.Bokeh\n",
       "    }\n",
       "    return null\n",
       "  }\n",
       "  function is_loaded(root) {\n",
       "    var Bokeh = get_bokeh(root)\n",
       "    return (Bokeh != null && Bokeh.Panel !== undefined)\n",
       "  }\n",
       "  if (is_loaded(root)) {\n",
       "    embed_document(root);\n",
       "  } else {\n",
       "    var attempts = 0;\n",
       "    var timer = setInterval(function(root) {\n",
       "      if (is_loaded(root)) {\n",
       "        clearInterval(timer);\n",
       "        embed_document(root);\n",
       "      } else if (document.readyState == \"complete\") {\n",
       "        attempts++;\n",
       "        if (attempts > 200) {\n",
       "          clearInterval(timer);\n",
       "\t  var Bokeh = get_bokeh(root)\n",
       "\t  if (Bokeh == null || Bokeh.Panel == null) {\n",
       "            console.warn(\"Panel: ERROR: Unable to run Panel code because Bokeh or Panel library is missing\");\n",
       "\t  } else {\n",
       "\t    console.warn(\"Panel: WARNING: Attempting to render but not all required libraries could be resolved.\")\n",
       "\t    embed_document(root)\n",
       "\t  }\n",
       "        }\n",
       "      }\n",
       "    }, 25, root)\n",
       "  }\n",
       "})(window);</script>"
      ],
      "text/plain": [
       ":Curve   [date]   (value)"
      ]
     },
     "metadata": {
      "application/vnd.holoviews_exec.v0+json": {
       "id": "p3013"
      }
     },
     "output_type": "display_data"
    }
   ],
   "source": [
    "# Plot Inflation, consumer prices for the United States\n",
    "display(dataframes[\"FPCPITOTLZGUSA\"][\"value\"].hvplot(title=\"Inflation, consumer prices for the United States\"))\n",
    "\n",
    "# Plot House price Index for the United States\n",
    "display(dataframes[\"USSTHPI\"][\"value\"].hvplot(title=\"All Transactions House Price Index for the United States\"))"
   ]
  },
  {
   "cell_type": "code",
   "execution_count": 59,
   "metadata": {
    "tags": []
   },
   "outputs": [
    {
     "data": {
      "text/html": [
       "<div>\n",
       "<style scoped>\n",
       "    .dataframe tbody tr th:only-of-type {\n",
       "        vertical-align: middle;\n",
       "    }\n",
       "\n",
       "    .dataframe tbody tr th {\n",
       "        vertical-align: top;\n",
       "    }\n",
       "\n",
       "    .dataframe thead th {\n",
       "        text-align: right;\n",
       "    }\n",
       "</style>\n",
       "<table border=\"1\" class=\"dataframe\">\n",
       "  <thead>\n",
       "    <tr style=\"text-align: right;\">\n",
       "      <th></th>\n",
       "      <th>Inflation</th>\n",
       "      <th>Inflation pct_change</th>\n",
       "      <th>Difference in Inflation</th>\n",
       "    </tr>\n",
       "    <tr>\n",
       "      <th>date</th>\n",
       "      <th></th>\n",
       "      <th></th>\n",
       "      <th></th>\n",
       "    </tr>\n",
       "  </thead>\n",
       "  <tbody>\n",
       "    <tr>\n",
       "      <th>1961-01-01</th>\n",
       "      <td>1.070724</td>\n",
       "      <td>-0.265609</td>\n",
       "      <td>-0.387252</td>\n",
       "    </tr>\n",
       "    <tr>\n",
       "      <th>1962-01-01</th>\n",
       "      <td>1.198773</td>\n",
       "      <td>0.119591</td>\n",
       "      <td>0.128049</td>\n",
       "    </tr>\n",
       "    <tr>\n",
       "      <th>1963-01-01</th>\n",
       "      <td>1.239669</td>\n",
       "      <td>0.034115</td>\n",
       "      <td>0.040896</td>\n",
       "    </tr>\n",
       "    <tr>\n",
       "      <th>1964-01-01</th>\n",
       "      <td>1.278912</td>\n",
       "      <td>0.031655</td>\n",
       "      <td>0.039242</td>\n",
       "    </tr>\n",
       "    <tr>\n",
       "      <th>1965-01-01</th>\n",
       "      <td>1.585169</td>\n",
       "      <td>0.239467</td>\n",
       "      <td>0.306258</td>\n",
       "    </tr>\n",
       "  </tbody>\n",
       "</table>\n",
       "</div>"
      ],
      "text/plain": [
       "            Inflation  Inflation pct_change  Difference in Inflation\n",
       "date                                                                \n",
       "1961-01-01   1.070724             -0.265609                -0.387252\n",
       "1962-01-01   1.198773              0.119591                 0.128049\n",
       "1963-01-01   1.239669              0.034115                 0.040896\n",
       "1964-01-01   1.278912              0.031655                 0.039242\n",
       "1965-01-01   1.585169              0.239467                 0.306258"
      ]
     },
     "metadata": {},
     "output_type": "display_data"
    },
    {
     "data": {
      "text/html": [
       "<div>\n",
       "<style scoped>\n",
       "    .dataframe tbody tr th:only-of-type {\n",
       "        vertical-align: middle;\n",
       "    }\n",
       "\n",
       "    .dataframe tbody tr th {\n",
       "        vertical-align: top;\n",
       "    }\n",
       "\n",
       "    .dataframe thead th {\n",
       "        text-align: right;\n",
       "    }\n",
       "</style>\n",
       "<table border=\"1\" class=\"dataframe\">\n",
       "  <thead>\n",
       "    <tr style=\"text-align: right;\">\n",
       "      <th></th>\n",
       "      <th>HPI</th>\n",
       "      <th>HPI pct_change</th>\n",
       "      <th>Difference in HPI</th>\n",
       "    </tr>\n",
       "    <tr>\n",
       "      <th>date</th>\n",
       "      <th></th>\n",
       "      <th></th>\n",
       "      <th></th>\n",
       "    </tr>\n",
       "  </thead>\n",
       "  <tbody>\n",
       "    <tr>\n",
       "      <th>1975-04-01</th>\n",
       "      <td>60.76</td>\n",
       "      <td>0.014188</td>\n",
       "      <td>0.85</td>\n",
       "    </tr>\n",
       "    <tr>\n",
       "      <th>1975-07-01</th>\n",
       "      <td>61.16</td>\n",
       "      <td>0.006583</td>\n",
       "      <td>0.40</td>\n",
       "    </tr>\n",
       "    <tr>\n",
       "      <th>1975-10-01</th>\n",
       "      <td>62.22</td>\n",
       "      <td>0.017332</td>\n",
       "      <td>1.06</td>\n",
       "    </tr>\n",
       "    <tr>\n",
       "      <th>1976-01-01</th>\n",
       "      <td>62.85</td>\n",
       "      <td>0.010125</td>\n",
       "      <td>0.63</td>\n",
       "    </tr>\n",
       "    <tr>\n",
       "      <th>1976-04-01</th>\n",
       "      <td>65.43</td>\n",
       "      <td>0.041050</td>\n",
       "      <td>2.58</td>\n",
       "    </tr>\n",
       "  </tbody>\n",
       "</table>\n",
       "</div>"
      ],
      "text/plain": [
       "              HPI  HPI pct_change  Difference in HPI\n",
       "date                                                \n",
       "1975-04-01  60.76        0.014188               0.85\n",
       "1975-07-01  61.16        0.006583               0.40\n",
       "1975-10-01  62.22        0.017332               1.06\n",
       "1976-01-01  62.85        0.010125               0.63\n",
       "1976-04-01  65.43        0.041050               2.58"
      ]
     },
     "execution_count": 59,
     "metadata": {},
     "output_type": "execute_result"
    }
   ],
   "source": [
    "# Rename Columns to 'Inflation in %', Inflation pct_change'\n",
    "dataframes[\"FPCPITOTLZGUSA\"].columns = ['Inflation','Inflation pct_change','Difference in Inflation'] \n",
    "display(dataframes[\"FPCPITOTLZGUSA\"].head())\n",
    "\n",
    "# Rename Columns to 'House Price Index', HPI pct_change'\n",
    "dataframes[\"USSTHPI\"].columns = ['HPI','HPI pct_change','Difference in HPI']\n",
    "dataframes[\"USSTHPI\"].head()"
   ]
  },
  {
   "cell_type": "markdown",
   "metadata": {
    "tags": []
   },
   "source": [
    "#### Combine Infaltion and Housing Price Index for the United States"
   ]
  },
  {
   "cell_type": "code",
   "execution_count": 60,
   "metadata": {
    "tags": []
   },
   "outputs": [
    {
     "data": {
      "text/html": [
       "<div>\n",
       "<style scoped>\n",
       "    .dataframe tbody tr th:only-of-type {\n",
       "        vertical-align: middle;\n",
       "    }\n",
       "\n",
       "    .dataframe tbody tr th {\n",
       "        vertical-align: top;\n",
       "    }\n",
       "\n",
       "    .dataframe thead th {\n",
       "        text-align: right;\n",
       "    }\n",
       "</style>\n",
       "<table border=\"1\" class=\"dataframe\">\n",
       "  <thead>\n",
       "    <tr style=\"text-align: right;\">\n",
       "      <th></th>\n",
       "      <th>Inflation</th>\n",
       "      <th>Inflation pct_change</th>\n",
       "      <th>Difference in Inflation</th>\n",
       "      <th>HPI</th>\n",
       "      <th>HPI pct_change</th>\n",
       "      <th>Difference in HPI</th>\n",
       "    </tr>\n",
       "    <tr>\n",
       "      <th>date</th>\n",
       "      <th></th>\n",
       "      <th></th>\n",
       "      <th></th>\n",
       "      <th></th>\n",
       "      <th></th>\n",
       "      <th></th>\n",
       "    </tr>\n",
       "  </thead>\n",
       "  <tbody>\n",
       "    <tr>\n",
       "      <th>1976-01-01</th>\n",
       "      <td>5.744813</td>\n",
       "      <td>-0.371681</td>\n",
       "      <td>-3.398334</td>\n",
       "      <td>62.85</td>\n",
       "      <td>0.010125</td>\n",
       "      <td>0.63</td>\n",
       "    </tr>\n",
       "    <tr>\n",
       "      <th>1977-01-01</th>\n",
       "      <td>6.501684</td>\n",
       "      <td>0.131749</td>\n",
       "      <td>0.756871</td>\n",
       "      <td>69.47</td>\n",
       "      <td>0.033934</td>\n",
       "      <td>2.28</td>\n",
       "    </tr>\n",
       "    <tr>\n",
       "      <th>1978-01-01</th>\n",
       "      <td>7.630964</td>\n",
       "      <td>0.173690</td>\n",
       "      <td>1.129280</td>\n",
       "      <td>79.59</td>\n",
       "      <td>0.031894</td>\n",
       "      <td>2.46</td>\n",
       "    </tr>\n",
       "    <tr>\n",
       "      <th>1979-01-01</th>\n",
       "      <td>11.254471</td>\n",
       "      <td>0.474843</td>\n",
       "      <td>3.623507</td>\n",
       "      <td>91.40</td>\n",
       "      <td>0.044691</td>\n",
       "      <td>3.91</td>\n",
       "    </tr>\n",
       "    <tr>\n",
       "      <th>1980-01-01</th>\n",
       "      <td>13.549202</td>\n",
       "      <td>0.203895</td>\n",
       "      <td>2.294731</td>\n",
       "      <td>100.00</td>\n",
       "      <td>0.017605</td>\n",
       "      <td>1.73</td>\n",
       "    </tr>\n",
       "  </tbody>\n",
       "</table>\n",
       "</div>"
      ],
      "text/plain": [
       "            Inflation  Inflation pct_change  Difference in Inflation     HPI  \\\n",
       "date                                                                           \n",
       "1976-01-01   5.744813             -0.371681                -3.398334   62.85   \n",
       "1977-01-01   6.501684              0.131749                 0.756871   69.47   \n",
       "1978-01-01   7.630964              0.173690                 1.129280   79.59   \n",
       "1979-01-01  11.254471              0.474843                 3.623507   91.40   \n",
       "1980-01-01  13.549202              0.203895                 2.294731  100.00   \n",
       "\n",
       "            HPI pct_change  Difference in HPI  \n",
       "date                                           \n",
       "1976-01-01        0.010125               0.63  \n",
       "1977-01-01        0.033934               2.28  \n",
       "1978-01-01        0.031894               2.46  \n",
       "1979-01-01        0.044691               3.91  \n",
       "1980-01-01        0.017605               1.73  "
      ]
     },
     "execution_count": 60,
     "metadata": {},
     "output_type": "execute_result"
    }
   ],
   "source": [
    "# Use 'concat' function to combine the two DataFrames by matching indexes.\n",
    "inflation_combined_df = pd.concat([dataframes[\"FPCPITOTLZGUSA\"], dataframes[\"USSTHPI\"]],axis=\"columns\", join=\"inner\")\n",
    "inflation_combined_df.head()"
   ]
  },
  {
   "cell_type": "code",
   "execution_count": 61,
   "metadata": {
    "tags": []
   },
   "outputs": [
    {
     "data": {
      "text/html": [
       "<div>\n",
       "<style scoped>\n",
       "    .dataframe tbody tr th:only-of-type {\n",
       "        vertical-align: middle;\n",
       "    }\n",
       "\n",
       "    .dataframe tbody tr th {\n",
       "        vertical-align: top;\n",
       "    }\n",
       "\n",
       "    .dataframe thead th {\n",
       "        text-align: right;\n",
       "    }\n",
       "</style>\n",
       "<table border=\"1\" class=\"dataframe\">\n",
       "  <thead>\n",
       "    <tr style=\"text-align: right;\">\n",
       "      <th></th>\n",
       "      <th>Difference in Inflation</th>\n",
       "      <th>Difference in HPI</th>\n",
       "    </tr>\n",
       "    <tr>\n",
       "      <th>date</th>\n",
       "      <th></th>\n",
       "      <th></th>\n",
       "    </tr>\n",
       "  </thead>\n",
       "  <tbody>\n",
       "    <tr>\n",
       "      <th>1976-01-01</th>\n",
       "      <td>-3.398334</td>\n",
       "      <td>0.63</td>\n",
       "    </tr>\n",
       "    <tr>\n",
       "      <th>1977-01-01</th>\n",
       "      <td>0.756871</td>\n",
       "      <td>2.28</td>\n",
       "    </tr>\n",
       "    <tr>\n",
       "      <th>1978-01-01</th>\n",
       "      <td>1.129280</td>\n",
       "      <td>2.46</td>\n",
       "    </tr>\n",
       "    <tr>\n",
       "      <th>1979-01-01</th>\n",
       "      <td>3.623507</td>\n",
       "      <td>3.91</td>\n",
       "    </tr>\n",
       "    <tr>\n",
       "      <th>1980-01-01</th>\n",
       "      <td>2.294731</td>\n",
       "      <td>1.73</td>\n",
       "    </tr>\n",
       "  </tbody>\n",
       "</table>\n",
       "</div>"
      ],
      "text/plain": [
       "            Difference in Inflation  Difference in HPI\n",
       "date                                                  \n",
       "1976-01-01                -3.398334               0.63\n",
       "1977-01-01                 0.756871               2.28\n",
       "1978-01-01                 1.129280               2.46\n",
       "1979-01-01                 3.623507               3.91\n",
       "1980-01-01                 2.294731               1.73"
      ]
     },
     "execution_count": 61,
     "metadata": {},
     "output_type": "execute_result"
    }
   ],
   "source": [
    "# Drop columns 'Inflation''Inflation pct_change','HPI and 'House Price Index'\n",
    "inflation_combined_df = inflation_combined_df.drop(columns=[\"Inflation\",\"Inflation pct_change\",\"HPI\",\"HPI pct_change\"])\n",
    "inflation_combined_df.head()"
   ]
  },
  {
   "cell_type": "markdown",
   "metadata": {},
   "source": [
    "#### Conduct House Price Index and Inflation Analysis"
   ]
  },
  {
   "cell_type": "code",
   "execution_count": 62,
   "metadata": {
    "tags": []
   },
   "outputs": [
    {
     "data": {},
     "metadata": {},
     "output_type": "display_data"
    },
    {
     "data": {
      "application/vnd.holoviews_exec.v0+json": "",
      "text/html": [
       "<div id='p3084'>\n",
       "  <div id=\"ff979ae4-f91f-4a9d-8bad-01f76ddf7deb\" data-root-id=\"p3084\" style=\"display: contents;\"></div>\n",
       "</div>\n",
       "<script type=\"application/javascript\">(function(root) {\n",
       "  var docs_json = {\"746167da-69dc-42c5-a6ca-50165eb35c97\":{\"version\":\"3.2.2\",\"title\":\"Bokeh Application\",\"roots\":[{\"type\":\"object\",\"name\":\"Row\",\"id\":\"p3084\",\"attributes\":{\"name\":\"Row04813\",\"tags\":[\"embedded\"],\"stylesheets\":[\"\\n:host(.pn-loading.pn-arc):before, .pn-loading.pn-arc:before {\\n  background-image: url(\\\"data:image/svg+xml;base64,PHN2ZyB4bWxucz0iaHR0cDovL3d3dy53My5vcmcvMjAwMC9zdmciIHN0eWxlPSJtYXJnaW46IGF1dG87IGJhY2tncm91bmQ6IG5vbmU7IGRpc3BsYXk6IGJsb2NrOyBzaGFwZS1yZW5kZXJpbmc6IGF1dG87IiB2aWV3Qm94PSIwIDAgMTAwIDEwMCIgcHJlc2VydmVBc3BlY3RSYXRpbz0ieE1pZFlNaWQiPiAgPGNpcmNsZSBjeD0iNTAiIGN5PSI1MCIgZmlsbD0ibm9uZSIgc3Ryb2tlPSIjYzNjM2MzIiBzdHJva2Utd2lkdGg9IjEwIiByPSIzNSIgc3Ryb2tlLWRhc2hhcnJheT0iMTY0LjkzMzYxNDMxMzQ2NDE1IDU2Ljk3Nzg3MTQzNzgyMTM4Ij4gICAgPGFuaW1hdGVUcmFuc2Zvcm0gYXR0cmlidXRlTmFtZT0idHJhbnNmb3JtIiB0eXBlPSJyb3RhdGUiIHJlcGVhdENvdW50PSJpbmRlZmluaXRlIiBkdXI9IjFzIiB2YWx1ZXM9IjAgNTAgNTA7MzYwIDUwIDUwIiBrZXlUaW1lcz0iMDsxIj48L2FuaW1hdGVUcmFuc2Zvcm0+ICA8L2NpcmNsZT48L3N2Zz4=\\\");\\n  background-size: auto calc(min(50%, 400px));\\n}\",{\"type\":\"object\",\"name\":\"ImportedStyleSheet\",\"id\":\"p3087\",\"attributes\":{\"url\":\"https://cdn.holoviz.org/panel/1.2.3/dist/css/loading.css\"}},{\"type\":\"object\",\"name\":\"ImportedStyleSheet\",\"id\":\"p3170\",\"attributes\":{\"url\":\"https://cdn.holoviz.org/panel/1.2.3/dist/css/listpanel.css\"}},{\"type\":\"object\",\"name\":\"ImportedStyleSheet\",\"id\":\"p3085\",\"attributes\":{\"url\":\"https://cdn.holoviz.org/panel/1.2.3/dist/bundled/theme/default.css\"}},{\"type\":\"object\",\"name\":\"ImportedStyleSheet\",\"id\":\"p3086\",\"attributes\":{\"url\":\"https://cdn.holoviz.org/panel/1.2.3/dist/bundled/theme/native.css\"}}],\"min_width\":700,\"margin\":0,\"sizing_mode\":\"stretch_width\",\"align\":\"start\",\"children\":[{\"type\":\"object\",\"name\":\"Spacer\",\"id\":\"p3088\",\"attributes\":{\"name\":\"HSpacer04824\",\"stylesheets\":[\"\\n:host(.pn-loading.pn-arc):before, .pn-loading.pn-arc:before {\\n  background-image: url(\\\"data:image/svg+xml;base64,PHN2ZyB4bWxucz0iaHR0cDovL3d3dy53My5vcmcvMjAwMC9zdmciIHN0eWxlPSJtYXJnaW46IGF1dG87IGJhY2tncm91bmQ6IG5vbmU7IGRpc3BsYXk6IGJsb2NrOyBzaGFwZS1yZW5kZXJpbmc6IGF1dG87IiB2aWV3Qm94PSIwIDAgMTAwIDEwMCIgcHJlc2VydmVBc3BlY3RSYXRpbz0ieE1pZFlNaWQiPiAgPGNpcmNsZSBjeD0iNTAiIGN5PSI1MCIgZmlsbD0ibm9uZSIgc3Ryb2tlPSIjYzNjM2MzIiBzdHJva2Utd2lkdGg9IjEwIiByPSIzNSIgc3Ryb2tlLWRhc2hhcnJheT0iMTY0LjkzMzYxNDMxMzQ2NDE1IDU2Ljk3Nzg3MTQzNzgyMTM4Ij4gICAgPGFuaW1hdGVUcmFuc2Zvcm0gYXR0cmlidXRlTmFtZT0idHJhbnNmb3JtIiB0eXBlPSJyb3RhdGUiIHJlcGVhdENvdW50PSJpbmRlZmluaXRlIiBkdXI9IjFzIiB2YWx1ZXM9IjAgNTAgNTA7MzYwIDUwIDUwIiBrZXlUaW1lcz0iMDsxIj48L2FuaW1hdGVUcmFuc2Zvcm0+ICA8L2NpcmNsZT48L3N2Zz4=\\\");\\n  background-size: auto calc(min(50%, 400px));\\n}\",{\"id\":\"p3087\"},{\"id\":\"p3085\"},{\"id\":\"p3086\"}],\"margin\":0,\"sizing_mode\":\"stretch_width\",\"align\":\"start\"}},{\"type\":\"object\",\"name\":\"Figure\",\"id\":\"p3099\",\"attributes\":{\"width\":700,\"height\":300,\"margin\":[5,10],\"sizing_mode\":\"fixed\",\"align\":\"start\",\"x_range\":{\"type\":\"object\",\"name\":\"Range1d\",\"id\":\"p3089\",\"attributes\":{\"tags\":[[[\"date\",\"date\",null]],[]],\"start\":189302400000.0,\"end\":1640995200000.0,\"reset_start\":189302400000.0,\"reset_end\":1640995200000.0}},\"y_range\":{\"type\":\"object\",\"name\":\"Range1d\",\"id\":\"p3090\",\"attributes\":{\"tags\":[[[\"value\",\"value\",null]],{\"type\":\"map\",\"entries\":[[\"invert_yaxis\",false],[\"autorange\",false]]}],\"start\":-11.959000000000003,\"end\":23.549000000000035,\"reset_start\":-11.959000000000003,\"reset_end\":23.549000000000035}},\"x_scale\":{\"type\":\"object\",\"name\":\"LinearScale\",\"id\":\"p3109\"},\"y_scale\":{\"type\":\"object\",\"name\":\"LinearScale\",\"id\":\"p3110\"},\"title\":{\"type\":\"object\",\"name\":\"Title\",\"id\":\"p3102\",\"attributes\":{\"text\":\"Housing Price Index, Inflation for the United States\",\"text_color\":\"black\",\"text_font_size\":\"12pt\"}},\"renderers\":[{\"type\":\"object\",\"name\":\"GlyphRenderer\",\"id\":\"p3147\",\"attributes\":{\"name\":\"Difference in Inflation\",\"data_source\":{\"type\":\"object\",\"name\":\"ColumnDataSource\",\"id\":\"p3138\",\"attributes\":{\"selected\":{\"type\":\"object\",\"name\":\"Selection\",\"id\":\"p3139\",\"attributes\":{\"indices\":[],\"line_indices\":[]}},\"selection_policy\":{\"type\":\"object\",\"name\":\"UnionRenderers\",\"id\":\"p3140\"},\"data\":{\"type\":\"map\",\"entries\":[[\"date\",{\"type\":\"ndarray\",\"array\":{\"type\":\"bytes\",\"data\":\"AAAAsqYJRkIAAAB2ErhJQgAAAAzrY01CAAAA0eGHUEIAAAAczl1SQgAAAP4DNVRCAAAASfAKVkIAAACU3OBXQgAAAN/ItllCAAAAwf6NW0IAAAAM62NdQgAAAFfXOV9CAAAA0eGHYEIAAADCfHNhQgAAgOdyXmJCAAAADWlJY0IAAIAyXzRkQgAAgCP6H2VCAAAASfAKZkIAAIBu5vVmQgAAAJTc4GdCAAAAhXfMaEIAAICqbbdpQgAAANBjompCAACA9VmNa0IAAIDm9HhsQgAAAAzrY21CAACAMeFObkIAAABX1zlvQgAAACS5EnBCAADANjSIcEIAAIBJr/1wQgAAQFwqc3FCAADA1PfocUIAAIDncl5yQgAAQPrt03JCAAAADWlJc0IAAICFNr9zQgAAQJixNHRCAAAAqyyqdEIAAMC9px91QgAAQDZ1lXVCAAAASfAKdkIAAMBba4B2QgAAgG7m9XZCAAAA57Nrd0IAAMD5LuF3Qg==\"},\"shape\":[47],\"dtype\":\"float64\",\"order\":\"little\"}],[\"value\",{\"type\":\"ndarray\",\"array\":{\"type\":\"bytes\",\"data\":\"KsND28kvC8CoieZISjjoP1z26L2HEfI/yn3pY/H8DECY2XrYm1sCQARty8REtwnAoN6P0SrQEMDHZAhbGFoHwI6dp8zbaPE/4Igd2REo6L8cluwSjlz6v3pnesClQ/w/CLgqrYFx2j/Izbwj9PnnP6gR1hVAReI/hPdy/52b8r+uwYTzXUzzvwBsf3vvwLO/4IvG658H1r+wdKSkWFfJP4AHZvW0GcA/xCh2nxH+4r/0xTHpFSLpvzyKTGUMWOQ/SG4pr3IF8z+gGP+QOJ/hv3TNIYKc1/O/mFHk0Njj5T/AIMUknA7aPxT2EIx15eY/YIzh1spZxb/oCUClruPXv+DWvRDRkO8/+pu4bVHHEMAT5nB57+3/P+zRrBzORPg/ACaT6Wpm8b9wBRUNGljjv6jYYLZdJcQ/F8Fyg7oO+L8EJeFNjEnyP4A4Hbb4yus/yI7d+4//0z/A02p2BCzkv9hu9/8ZhOK/uW8siNW2C0DaNmjihHAKQA==\"},\"shape\":[47],\"dtype\":\"float64\",\"order\":\"little\"}],[\"Variable\",[\"Difference in Inflation\",\"Difference in Inflation\",\"Difference in Inflation\",\"Difference in Inflation\",\"Difference in Inflation\",\"Difference in Inflation\",\"Difference in Inflation\",\"Difference in Inflation\",\"Difference in Inflation\",\"Difference in Inflation\",\"Difference in Inflation\",\"Difference in Inflation\",\"Difference in Inflation\",\"Difference in Inflation\",\"Difference in Inflation\",\"Difference in Inflation\",\"Difference in Inflation\",\"Difference in Inflation\",\"Difference in Inflation\",\"Difference in Inflation\",\"Difference in Inflation\",\"Difference in Inflation\",\"Difference in Inflation\",\"Difference in Inflation\",\"Difference in Inflation\",\"Difference in Inflation\",\"Difference in Inflation\",\"Difference in Inflation\",\"Difference in Inflation\",\"Difference in Inflation\",\"Difference in Inflation\",\"Difference in Inflation\",\"Difference in Inflation\",\"Difference in Inflation\",\"Difference in Inflation\",\"Difference in Inflation\",\"Difference in Inflation\",\"Difference in Inflation\",\"Difference in Inflation\",\"Difference in Inflation\",\"Difference in Inflation\",\"Difference in Inflation\",\"Difference in Inflation\",\"Difference in Inflation\",\"Difference in Inflation\",\"Difference in Inflation\",\"Difference in Inflation\"]]]}}},\"view\":{\"type\":\"object\",\"name\":\"CDSView\",\"id\":\"p3148\",\"attributes\":{\"filter\":{\"type\":\"object\",\"name\":\"AllIndices\",\"id\":\"p3149\"}}},\"glyph\":{\"type\":\"object\",\"name\":\"Line\",\"id\":\"p3144\",\"attributes\":{\"tags\":[\"apply_ranges\"],\"x\":{\"type\":\"field\",\"field\":\"date\"},\"y\":{\"type\":\"field\",\"field\":\"value\"},\"line_color\":\"#30a2da\",\"line_width\":2}},\"selection_glyph\":{\"type\":\"object\",\"name\":\"Line\",\"id\":\"p3152\",\"attributes\":{\"tags\":[\"apply_ranges\"],\"x\":{\"type\":\"field\",\"field\":\"date\"},\"y\":{\"type\":\"field\",\"field\":\"value\"},\"line_color\":\"#30a2da\",\"line_width\":2}},\"nonselection_glyph\":{\"type\":\"object\",\"name\":\"Line\",\"id\":\"p3145\",\"attributes\":{\"tags\":[\"apply_ranges\"],\"x\":{\"type\":\"field\",\"field\":\"date\"},\"y\":{\"type\":\"field\",\"field\":\"value\"},\"line_color\":\"#30a2da\",\"line_alpha\":0.1,\"line_width\":2}},\"muted_glyph\":{\"type\":\"object\",\"name\":\"Line\",\"id\":\"p3146\",\"attributes\":{\"tags\":[\"apply_ranges\"],\"x\":{\"type\":\"field\",\"field\":\"date\"},\"y\":{\"type\":\"field\",\"field\":\"value\"},\"line_color\":\"#30a2da\",\"line_alpha\":0.2,\"line_width\":2}}}},{\"type\":\"object\",\"name\":\"GlyphRenderer\",\"id\":\"p3162\",\"attributes\":{\"name\":\"Difference in HPI\",\"data_source\":{\"type\":\"object\",\"name\":\"ColumnDataSource\",\"id\":\"p3153\",\"attributes\":{\"selected\":{\"type\":\"object\",\"name\":\"Selection\",\"id\":\"p3154\",\"attributes\":{\"indices\":[],\"line_indices\":[]}},\"selection_policy\":{\"type\":\"object\",\"name\":\"UnionRenderers\",\"id\":\"p3155\"},\"data\":{\"type\":\"map\",\"entries\":[[\"date\",{\"type\":\"ndarray\",\"array\":{\"type\":\"bytes\",\"data\":\"AAAAsqYJRkIAAAB2ErhJQgAAAAzrY01CAAAA0eGHUEIAAAAczl1SQgAAAP4DNVRCAAAASfAKVkIAAACU3OBXQgAAAN/ItllCAAAAwf6NW0IAAAAM62NdQgAAAFfXOV9CAAAA0eGHYEIAAADCfHNhQgAAgOdyXmJCAAAADWlJY0IAAIAyXzRkQgAAgCP6H2VCAAAASfAKZkIAAIBu5vVmQgAAAJTc4GdCAAAAhXfMaEIAAICqbbdpQgAAANBjompCAACA9VmNa0IAAIDm9HhsQgAAAAzrY21CAACAMeFObkIAAABX1zlvQgAAACS5EnBCAADANjSIcEIAAIBJr/1wQgAAQFwqc3FCAADA1PfocUIAAIDncl5yQgAAQPrt03JCAAAADWlJc0IAAICFNr9zQgAAQJixNHRCAAAAqyyqdEIAAMC9px91QgAAQDZ1lXVCAAAASfAKdkIAAMBba4B2QgAAgG7m9XZCAAAA57Nrd0IAAMD5LuF3Qg==\"},\"shape\":[47],\"dtype\":\"float64\",\"order\":\"little\"}],[\"value\",{\"type\":\"ndarray\",\"array\":{\"type\":\"bytes\",\"data\":\"QFyPwvUo5D9ACtejcD0CQMBH4XoUrgNAYOF6FK5HD0DAR+F6FK77PwCF61G4HuU/QOF6FK5H9b+gR+F6FK4FQIAUrkfhevw/wKNwPQrX+z+AuB6F61EEQABcj8L1KAZAgGZmZmZmAkCAKFyPwvX8PwD2KFyPwu0/AFK4HoXr9T8A4XoUrkf1PwDYo3A9Crc/AK5H4XoU8j8AH4XrUbjuP0AzMzMzMwFAAK5H4XoU+j/AwvUoXI8IQACuR+F6FAJAYLgehetREUAAKVyPwvUXQID1KFyPwg1AgChcj8L1CkDAcD0K16MSQABSuB6F6x1AANejcD0KF0AAwvUoXI/2PwAAAAAAAAbAgB6F61G4BECA61G4HoUPwAAAAAAAACLAgArXo3A9CsAA4XoUrkf5P4BH4XoUrgVAgLgehetRDkAAexSuR+EKQIBcj8L1KAZAwEfhehSuFkDAUbgehesSQICZmZmZmRRAQOF6FK7HJkDgo3A9Cpc0QA==\"},\"shape\":[47],\"dtype\":\"float64\",\"order\":\"little\"}],[\"Variable\",[\"Difference in HPI\",\"Difference in HPI\",\"Difference in HPI\",\"Difference in HPI\",\"Difference in HPI\",\"Difference in HPI\",\"Difference in HPI\",\"Difference in HPI\",\"Difference in HPI\",\"Difference in HPI\",\"Difference in HPI\",\"Difference in HPI\",\"Difference in HPI\",\"Difference in HPI\",\"Difference in HPI\",\"Difference in HPI\",\"Difference in HPI\",\"Difference in HPI\",\"Difference in HPI\",\"Difference in HPI\",\"Difference in HPI\",\"Difference in HPI\",\"Difference in HPI\",\"Difference in HPI\",\"Difference in HPI\",\"Difference in HPI\",\"Difference in HPI\",\"Difference in HPI\",\"Difference in HPI\",\"Difference in HPI\",\"Difference in HPI\",\"Difference in HPI\",\"Difference in HPI\",\"Difference in HPI\",\"Difference in HPI\",\"Difference in HPI\",\"Difference in HPI\",\"Difference in HPI\",\"Difference in HPI\",\"Difference in HPI\",\"Difference in HPI\",\"Difference in HPI\",\"Difference in HPI\",\"Difference in HPI\",\"Difference in HPI\",\"Difference in HPI\",\"Difference in HPI\"]]]}}},\"view\":{\"type\":\"object\",\"name\":\"CDSView\",\"id\":\"p3163\",\"attributes\":{\"filter\":{\"type\":\"object\",\"name\":\"AllIndices\",\"id\":\"p3164\"}}},\"glyph\":{\"type\":\"object\",\"name\":\"Line\",\"id\":\"p3159\",\"attributes\":{\"tags\":[\"apply_ranges\"],\"x\":{\"type\":\"field\",\"field\":\"date\"},\"y\":{\"type\":\"field\",\"field\":\"value\"},\"line_color\":\"#fc4f30\",\"line_width\":2}},\"selection_glyph\":{\"type\":\"object\",\"name\":\"Line\",\"id\":\"p3166\",\"attributes\":{\"tags\":[\"apply_ranges\"],\"x\":{\"type\":\"field\",\"field\":\"date\"},\"y\":{\"type\":\"field\",\"field\":\"value\"},\"line_color\":\"#fc4f30\",\"line_width\":2}},\"nonselection_glyph\":{\"type\":\"object\",\"name\":\"Line\",\"id\":\"p3160\",\"attributes\":{\"tags\":[\"apply_ranges\"],\"x\":{\"type\":\"field\",\"field\":\"date\"},\"y\":{\"type\":\"field\",\"field\":\"value\"},\"line_color\":\"#fc4f30\",\"line_alpha\":0.1,\"line_width\":2}},\"muted_glyph\":{\"type\":\"object\",\"name\":\"Line\",\"id\":\"p3161\",\"attributes\":{\"tags\":[\"apply_ranges\"],\"x\":{\"type\":\"field\",\"field\":\"date\"},\"y\":{\"type\":\"field\",\"field\":\"value\"},\"line_color\":\"#fc4f30\",\"line_alpha\":0.2,\"line_width\":2}}}}],\"toolbar\":{\"type\":\"object\",\"name\":\"Toolbar\",\"id\":\"p3108\",\"attributes\":{\"tools\":[{\"type\":\"object\",\"name\":\"WheelZoomTool\",\"id\":\"p3094\",\"attributes\":{\"tags\":[\"hv_created\"],\"zoom_together\":\"none\"}},{\"type\":\"object\",\"name\":\"HoverTool\",\"id\":\"p3095\",\"attributes\":{\"tags\":[\"hv_created\"],\"renderers\":[{\"id\":\"p3147\"},{\"id\":\"p3162\"}],\"tooltips\":[[\"Variable\",\"@{Variable}\"],[\"date\",\"@{date}{%F %T}\"],[\"value\",\"@{value}\"]],\"formatters\":{\"type\":\"map\",\"entries\":[[\"@{date}\",\"datetime\"]]}}},{\"type\":\"object\",\"name\":\"SaveTool\",\"id\":\"p3133\"},{\"type\":\"object\",\"name\":\"PanTool\",\"id\":\"p3134\"},{\"type\":\"object\",\"name\":\"BoxZoomTool\",\"id\":\"p3135\",\"attributes\":{\"overlay\":{\"type\":\"object\",\"name\":\"BoxAnnotation\",\"id\":\"p3136\",\"attributes\":{\"syncable\":false,\"level\":\"overlay\",\"visible\":false,\"left_units\":\"canvas\",\"right_units\":\"canvas\",\"bottom_units\":\"canvas\",\"top_units\":\"canvas\",\"line_color\":\"black\",\"line_alpha\":1.0,\"line_width\":2,\"line_dash\":[4,4],\"fill_color\":\"lightgrey\",\"fill_alpha\":0.5}}}},{\"type\":\"object\",\"name\":\"ResetTool\",\"id\":\"p3137\"}],\"active_drag\":{\"id\":\"p3134\"},\"active_scroll\":{\"id\":\"p3094\"}}},\"left\":[{\"type\":\"object\",\"name\":\"LinearAxis\",\"id\":\"p3128\",\"attributes\":{\"ticker\":{\"type\":\"object\",\"name\":\"BasicTicker\",\"id\":\"p3129\",\"attributes\":{\"mantissas\":[1,2,5]}},\"formatter\":{\"type\":\"object\",\"name\":\"BasicTickFormatter\",\"id\":\"p3130\"},\"axis_label\":\"Difference\",\"major_label_policy\":{\"type\":\"object\",\"name\":\"AllLabels\",\"id\":\"p3131\"}}}],\"right\":[{\"type\":\"object\",\"name\":\"Legend\",\"id\":\"p3150\",\"attributes\":{\"location\":[0,0],\"title\":\"Variable\",\"click_policy\":\"mute\",\"items\":[{\"type\":\"object\",\"name\":\"LegendItem\",\"id\":\"p3151\",\"attributes\":{\"label\":{\"type\":\"value\",\"value\":\"Difference in Inflation\"},\"renderers\":[{\"id\":\"p3147\"}]}},{\"type\":\"object\",\"name\":\"LegendItem\",\"id\":\"p3165\",\"attributes\":{\"label\":{\"type\":\"value\",\"value\":\"Difference in HPI\"},\"renderers\":[{\"id\":\"p3162\"}]}}]}}],\"below\":[{\"type\":\"object\",\"name\":\"DatetimeAxis\",\"id\":\"p3111\",\"attributes\":{\"ticker\":{\"type\":\"object\",\"name\":\"DatetimeTicker\",\"id\":\"p3112\",\"attributes\":{\"num_minor_ticks\":5,\"tickers\":[{\"type\":\"object\",\"name\":\"AdaptiveTicker\",\"id\":\"p3113\",\"attributes\":{\"num_minor_ticks\":0,\"mantissas\":[1,2,5],\"max_interval\":500.0}},{\"type\":\"object\",\"name\":\"AdaptiveTicker\",\"id\":\"p3114\",\"attributes\":{\"num_minor_ticks\":0,\"base\":60,\"mantissas\":[1,2,5,10,15,20,30],\"min_interval\":1000.0,\"max_interval\":1800000.0}},{\"type\":\"object\",\"name\":\"AdaptiveTicker\",\"id\":\"p3115\",\"attributes\":{\"num_minor_ticks\":0,\"base\":24,\"mantissas\":[1,2,4,6,8,12],\"min_interval\":3600000.0,\"max_interval\":43200000.0}},{\"type\":\"object\",\"name\":\"DaysTicker\",\"id\":\"p3116\",\"attributes\":{\"days\":[1,2,3,4,5,6,7,8,9,10,11,12,13,14,15,16,17,18,19,20,21,22,23,24,25,26,27,28,29,30,31]}},{\"type\":\"object\",\"name\":\"DaysTicker\",\"id\":\"p3117\",\"attributes\":{\"days\":[1,4,7,10,13,16,19,22,25,28]}},{\"type\":\"object\",\"name\":\"DaysTicker\",\"id\":\"p3118\",\"attributes\":{\"days\":[1,8,15,22]}},{\"type\":\"object\",\"name\":\"DaysTicker\",\"id\":\"p3119\",\"attributes\":{\"days\":[1,15]}},{\"type\":\"object\",\"name\":\"MonthsTicker\",\"id\":\"p3120\",\"attributes\":{\"months\":[0,1,2,3,4,5,6,7,8,9,10,11]}},{\"type\":\"object\",\"name\":\"MonthsTicker\",\"id\":\"p3121\",\"attributes\":{\"months\":[0,2,4,6,8,10]}},{\"type\":\"object\",\"name\":\"MonthsTicker\",\"id\":\"p3122\",\"attributes\":{\"months\":[0,4,8]}},{\"type\":\"object\",\"name\":\"MonthsTicker\",\"id\":\"p3123\",\"attributes\":{\"months\":[0,6]}},{\"type\":\"object\",\"name\":\"YearsTicker\",\"id\":\"p3124\"}]}},\"formatter\":{\"type\":\"object\",\"name\":\"DatetimeTickFormatter\",\"id\":\"p3125\"},\"axis_label\":\"Date\",\"major_label_policy\":{\"type\":\"object\",\"name\":\"AllLabels\",\"id\":\"p3126\"}}}],\"center\":[{\"type\":\"object\",\"name\":\"Grid\",\"id\":\"p3127\",\"attributes\":{\"axis\":{\"id\":\"p3111\"},\"grid_line_color\":null}},{\"type\":\"object\",\"name\":\"Grid\",\"id\":\"p3132\",\"attributes\":{\"dimension\":1,\"axis\":{\"id\":\"p3128\"},\"grid_line_color\":null}}],\"min_border_top\":10,\"min_border_bottom\":10,\"min_border_left\":10,\"min_border_right\":10,\"output_backend\":\"webgl\"}},{\"type\":\"object\",\"name\":\"Spacer\",\"id\":\"p3168\",\"attributes\":{\"name\":\"HSpacer04827\",\"stylesheets\":[\"\\n:host(.pn-loading.pn-arc):before, .pn-loading.pn-arc:before {\\n  background-image: url(\\\"data:image/svg+xml;base64,PHN2ZyB4bWxucz0iaHR0cDovL3d3dy53My5vcmcvMjAwMC9zdmciIHN0eWxlPSJtYXJnaW46IGF1dG87IGJhY2tncm91bmQ6IG5vbmU7IGRpc3BsYXk6IGJsb2NrOyBzaGFwZS1yZW5kZXJpbmc6IGF1dG87IiB2aWV3Qm94PSIwIDAgMTAwIDEwMCIgcHJlc2VydmVBc3BlY3RSYXRpbz0ieE1pZFlNaWQiPiAgPGNpcmNsZSBjeD0iNTAiIGN5PSI1MCIgZmlsbD0ibm9uZSIgc3Ryb2tlPSIjYzNjM2MzIiBzdHJva2Utd2lkdGg9IjEwIiByPSIzNSIgc3Ryb2tlLWRhc2hhcnJheT0iMTY0LjkzMzYxNDMxMzQ2NDE1IDU2Ljk3Nzg3MTQzNzgyMTM4Ij4gICAgPGFuaW1hdGVUcmFuc2Zvcm0gYXR0cmlidXRlTmFtZT0idHJhbnNmb3JtIiB0eXBlPSJyb3RhdGUiIHJlcGVhdENvdW50PSJpbmRlZmluaXRlIiBkdXI9IjFzIiB2YWx1ZXM9IjAgNTAgNTA7MzYwIDUwIDUwIiBrZXlUaW1lcz0iMDsxIj48L2FuaW1hdGVUcmFuc2Zvcm0+ICA8L2NpcmNsZT48L3N2Zz4=\\\");\\n  background-size: auto calc(min(50%, 400px));\\n}\",{\"id\":\"p3087\"},{\"id\":\"p3085\"},{\"id\":\"p3086\"}],\"margin\":0,\"sizing_mode\":\"stretch_width\",\"align\":\"start\"}}]}}],\"defs\":[{\"type\":\"model\",\"name\":\"ReactiveHTML1\"},{\"type\":\"model\",\"name\":\"FlexBox1\",\"properties\":[{\"name\":\"align_content\",\"kind\":\"Any\",\"default\":\"flex-start\"},{\"name\":\"align_items\",\"kind\":\"Any\",\"default\":\"flex-start\"},{\"name\":\"flex_direction\",\"kind\":\"Any\",\"default\":\"row\"},{\"name\":\"flex_wrap\",\"kind\":\"Any\",\"default\":\"wrap\"},{\"name\":\"justify_content\",\"kind\":\"Any\",\"default\":\"flex-start\"}]},{\"type\":\"model\",\"name\":\"FloatPanel1\",\"properties\":[{\"name\":\"config\",\"kind\":\"Any\",\"default\":{\"type\":\"map\"}},{\"name\":\"contained\",\"kind\":\"Any\",\"default\":true},{\"name\":\"position\",\"kind\":\"Any\",\"default\":\"right-top\"},{\"name\":\"offsetx\",\"kind\":\"Any\",\"default\":null},{\"name\":\"offsety\",\"kind\":\"Any\",\"default\":null},{\"name\":\"theme\",\"kind\":\"Any\",\"default\":\"primary\"},{\"name\":\"status\",\"kind\":\"Any\",\"default\":\"normalized\"}]},{\"type\":\"model\",\"name\":\"GridStack1\",\"properties\":[{\"name\":\"mode\",\"kind\":\"Any\",\"default\":\"warn\"},{\"name\":\"ncols\",\"kind\":\"Any\",\"default\":null},{\"name\":\"nrows\",\"kind\":\"Any\",\"default\":null},{\"name\":\"allow_resize\",\"kind\":\"Any\",\"default\":true},{\"name\":\"allow_drag\",\"kind\":\"Any\",\"default\":true},{\"name\":\"state\",\"kind\":\"Any\",\"default\":[]}]},{\"type\":\"model\",\"name\":\"drag1\",\"properties\":[{\"name\":\"slider_width\",\"kind\":\"Any\",\"default\":5},{\"name\":\"slider_color\",\"kind\":\"Any\",\"default\":\"black\"},{\"name\":\"value\",\"kind\":\"Any\",\"default\":50}]},{\"type\":\"model\",\"name\":\"click1\",\"properties\":[{\"name\":\"terminal_output\",\"kind\":\"Any\",\"default\":\"\"},{\"name\":\"debug_name\",\"kind\":\"Any\",\"default\":\"\"},{\"name\":\"clears\",\"kind\":\"Any\",\"default\":0}]},{\"type\":\"model\",\"name\":\"FastWrapper1\",\"properties\":[{\"name\":\"object\",\"kind\":\"Any\",\"default\":null},{\"name\":\"style\",\"kind\":\"Any\",\"default\":null}]},{\"type\":\"model\",\"name\":\"NotificationAreaBase1\",\"properties\":[{\"name\":\"js_events\",\"kind\":\"Any\",\"default\":{\"type\":\"map\"}},{\"name\":\"position\",\"kind\":\"Any\",\"default\":\"bottom-right\"},{\"name\":\"_clear\",\"kind\":\"Any\",\"default\":0}]},{\"type\":\"model\",\"name\":\"NotificationArea1\",\"properties\":[{\"name\":\"js_events\",\"kind\":\"Any\",\"default\":{\"type\":\"map\"}},{\"name\":\"notifications\",\"kind\":\"Any\",\"default\":[]},{\"name\":\"position\",\"kind\":\"Any\",\"default\":\"bottom-right\"},{\"name\":\"_clear\",\"kind\":\"Any\",\"default\":0},{\"name\":\"types\",\"kind\":\"Any\",\"default\":[{\"type\":\"map\",\"entries\":[[\"type\",\"warning\"],[\"background\",\"#ffc107\"],[\"icon\",{\"type\":\"map\",\"entries\":[[\"className\",\"fas fa-exclamation-triangle\"],[\"tagName\",\"i\"],[\"color\",\"white\"]]}]]},{\"type\":\"map\",\"entries\":[[\"type\",\"info\"],[\"background\",\"#007bff\"],[\"icon\",{\"type\":\"map\",\"entries\":[[\"className\",\"fas fa-info-circle\"],[\"tagName\",\"i\"],[\"color\",\"white\"]]}]]}]}]},{\"type\":\"model\",\"name\":\"Notification\",\"properties\":[{\"name\":\"background\",\"kind\":\"Any\",\"default\":null},{\"name\":\"duration\",\"kind\":\"Any\",\"default\":3000},{\"name\":\"icon\",\"kind\":\"Any\",\"default\":null},{\"name\":\"message\",\"kind\":\"Any\",\"default\":\"\"},{\"name\":\"notification_type\",\"kind\":\"Any\",\"default\":null},{\"name\":\"_destroyed\",\"kind\":\"Any\",\"default\":false}]},{\"type\":\"model\",\"name\":\"TemplateActions1\",\"properties\":[{\"name\":\"open_modal\",\"kind\":\"Any\",\"default\":0},{\"name\":\"close_modal\",\"kind\":\"Any\",\"default\":0}]},{\"type\":\"model\",\"name\":\"BootstrapTemplateActions1\",\"properties\":[{\"name\":\"open_modal\",\"kind\":\"Any\",\"default\":0},{\"name\":\"close_modal\",\"kind\":\"Any\",\"default\":0}]},{\"type\":\"model\",\"name\":\"MaterialTemplateActions1\",\"properties\":[{\"name\":\"open_modal\",\"kind\":\"Any\",\"default\":0},{\"name\":\"close_modal\",\"kind\":\"Any\",\"default\":0}]}]}};\n",
       "  var render_items = [{\"docid\":\"746167da-69dc-42c5-a6ca-50165eb35c97\",\"roots\":{\"p3084\":\"ff979ae4-f91f-4a9d-8bad-01f76ddf7deb\"},\"root_ids\":[\"p3084\"]}];\n",
       "  var docs = Object.values(docs_json)\n",
       "  if (!docs) {\n",
       "    return\n",
       "  }\n",
       "  const py_version = docs[0].version.replace('rc', '-rc.').replace('.dev', '-dev.')\n",
       "  const is_dev = py_version.indexOf(\"+\") !== -1 || py_version.indexOf(\"-\") !== -1\n",
       "  function embed_document(root) {\n",
       "    var Bokeh = get_bokeh(root)\n",
       "    Bokeh.embed.embed_items_notebook(docs_json, render_items);\n",
       "    for (const render_item of render_items) {\n",
       "      for (const root_id of render_item.root_ids) {\n",
       "\tconst id_el = document.getElementById(root_id)\n",
       "\tif (id_el.children.length && (id_el.children[0].className === 'bk-root')) {\n",
       "\t  const root_el = id_el.children[0]\n",
       "\t  root_el.id = root_el.id + '-rendered'\n",
       "\t}\n",
       "      }\n",
       "    }\n",
       "  }\n",
       "  function get_bokeh(root) {\n",
       "    if (root.Bokeh === undefined) {\n",
       "      return null\n",
       "    } else if (root.Bokeh.version !== py_version && !is_dev) {\n",
       "      if (root.Bokeh.versions === undefined || !root.Bokeh.versions.has(py_version)) {\n",
       "\treturn null\n",
       "      }\n",
       "      return root.Bokeh.versions.get(py_version);\n",
       "    } else if (root.Bokeh.version === py_version) {\n",
       "      return root.Bokeh\n",
       "    }\n",
       "    return null\n",
       "  }\n",
       "  function is_loaded(root) {\n",
       "    var Bokeh = get_bokeh(root)\n",
       "    return (Bokeh != null && Bokeh.Panel !== undefined)\n",
       "  }\n",
       "  if (is_loaded(root)) {\n",
       "    embed_document(root);\n",
       "  } else {\n",
       "    var attempts = 0;\n",
       "    var timer = setInterval(function(root) {\n",
       "      if (is_loaded(root)) {\n",
       "        clearInterval(timer);\n",
       "        embed_document(root);\n",
       "      } else if (document.readyState == \"complete\") {\n",
       "        attempts++;\n",
       "        if (attempts > 200) {\n",
       "          clearInterval(timer);\n",
       "\t  var Bokeh = get_bokeh(root)\n",
       "\t  if (Bokeh == null || Bokeh.Panel == null) {\n",
       "            console.warn(\"Panel: ERROR: Unable to run Panel code because Bokeh or Panel library is missing\");\n",
       "\t  } else {\n",
       "\t    console.warn(\"Panel: WARNING: Attempting to render but not all required libraries could be resolved.\")\n",
       "\t    embed_document(root)\n",
       "\t  }\n",
       "        }\n",
       "      }\n",
       "    }, 25, root)\n",
       "  }\n",
       "})(window);</script>"
      ],
      "text/plain": [
       ":NdOverlay   [Variable]\n",
       "   :Curve   [date]   (value)"
      ]
     },
     "execution_count": 62,
     "metadata": {
      "application/vnd.holoviews_exec.v0+json": {
       "id": "p3084"
      }
     },
     "output_type": "execute_result"
    }
   ],
   "source": [
    "# Plot difference for combined dataframes\n",
    "inflation_combined_df.hvplot(title=\"Housing Price Index, Inflation for the United States\",xlabel=\"Date\", ylabel=\"Difference\")"
   ]
  },
  {
   "cell_type": "markdown",
   "metadata": {},
   "source": [
    "## Residential Real Estate Value vs Federal Funds Effective Rate"
   ]
  },
  {
   "cell_type": "code",
   "execution_count": 63,
   "metadata": {
    "tags": []
   },
   "outputs": [
    {
     "data": {},
     "metadata": {},
     "output_type": "display_data"
    },
    {
     "data": {
      "application/vnd.holoviews_exec.v0+json": "",
      "text/html": [
       "<div id='p3176'>\n",
       "  <div id=\"f153fd3b-5399-42fc-9c1e-d4baf5258290\" data-root-id=\"p3176\" style=\"display: contents;\"></div>\n",
       "</div>\n",
       "<script type=\"application/javascript\">(function(root) {\n",
       "  var docs_json = {\"be6b3b6b-4cba-4608-bec7-1919fa94fd3c\":{\"version\":\"3.2.2\",\"title\":\"Bokeh Application\",\"roots\":[{\"type\":\"object\",\"name\":\"Row\",\"id\":\"p3176\",\"attributes\":{\"name\":\"Row04958\",\"tags\":[\"embedded\"],\"stylesheets\":[\"\\n:host(.pn-loading.pn-arc):before, .pn-loading.pn-arc:before {\\n  background-image: url(\\\"data:image/svg+xml;base64,PHN2ZyB4bWxucz0iaHR0cDovL3d3dy53My5vcmcvMjAwMC9zdmciIHN0eWxlPSJtYXJnaW46IGF1dG87IGJhY2tncm91bmQ6IG5vbmU7IGRpc3BsYXk6IGJsb2NrOyBzaGFwZS1yZW5kZXJpbmc6IGF1dG87IiB2aWV3Qm94PSIwIDAgMTAwIDEwMCIgcHJlc2VydmVBc3BlY3RSYXRpbz0ieE1pZFlNaWQiPiAgPGNpcmNsZSBjeD0iNTAiIGN5PSI1MCIgZmlsbD0ibm9uZSIgc3Ryb2tlPSIjYzNjM2MzIiBzdHJva2Utd2lkdGg9IjEwIiByPSIzNSIgc3Ryb2tlLWRhc2hhcnJheT0iMTY0LjkzMzYxNDMxMzQ2NDE1IDU2Ljk3Nzg3MTQzNzgyMTM4Ij4gICAgPGFuaW1hdGVUcmFuc2Zvcm0gYXR0cmlidXRlTmFtZT0idHJhbnNmb3JtIiB0eXBlPSJyb3RhdGUiIHJlcGVhdENvdW50PSJpbmRlZmluaXRlIiBkdXI9IjFzIiB2YWx1ZXM9IjAgNTAgNTA7MzYwIDUwIDUwIiBrZXlUaW1lcz0iMDsxIj48L2FuaW1hdGVUcmFuc2Zvcm0+ICA8L2NpcmNsZT48L3N2Zz4=\\\");\\n  background-size: auto calc(min(50%, 400px));\\n}\",{\"type\":\"object\",\"name\":\"ImportedStyleSheet\",\"id\":\"p3179\",\"attributes\":{\"url\":\"https://cdn.holoviz.org/panel/1.2.3/dist/css/loading.css\"}},{\"type\":\"object\",\"name\":\"ImportedStyleSheet\",\"id\":\"p3243\",\"attributes\":{\"url\":\"https://cdn.holoviz.org/panel/1.2.3/dist/css/listpanel.css\"}},{\"type\":\"object\",\"name\":\"ImportedStyleSheet\",\"id\":\"p3177\",\"attributes\":{\"url\":\"https://cdn.holoviz.org/panel/1.2.3/dist/bundled/theme/default.css\"}},{\"type\":\"object\",\"name\":\"ImportedStyleSheet\",\"id\":\"p3178\",\"attributes\":{\"url\":\"https://cdn.holoviz.org/panel/1.2.3/dist/bundled/theme/native.css\"}}],\"min_width\":700,\"margin\":0,\"sizing_mode\":\"stretch_width\",\"align\":\"start\",\"children\":[{\"type\":\"object\",\"name\":\"Spacer\",\"id\":\"p3180\",\"attributes\":{\"name\":\"HSpacer04969\",\"stylesheets\":[\"\\n:host(.pn-loading.pn-arc):before, .pn-loading.pn-arc:before {\\n  background-image: url(\\\"data:image/svg+xml;base64,PHN2ZyB4bWxucz0iaHR0cDovL3d3dy53My5vcmcvMjAwMC9zdmciIHN0eWxlPSJtYXJnaW46IGF1dG87IGJhY2tncm91bmQ6IG5vbmU7IGRpc3BsYXk6IGJsb2NrOyBzaGFwZS1yZW5kZXJpbmc6IGF1dG87IiB2aWV3Qm94PSIwIDAgMTAwIDEwMCIgcHJlc2VydmVBc3BlY3RSYXRpbz0ieE1pZFlNaWQiPiAgPGNpcmNsZSBjeD0iNTAiIGN5PSI1MCIgZmlsbD0ibm9uZSIgc3Ryb2tlPSIjYzNjM2MzIiBzdHJva2Utd2lkdGg9IjEwIiByPSIzNSIgc3Ryb2tlLWRhc2hhcnJheT0iMTY0LjkzMzYxNDMxMzQ2NDE1IDU2Ljk3Nzg3MTQzNzgyMTM4Ij4gICAgPGFuaW1hdGVUcmFuc2Zvcm0gYXR0cmlidXRlTmFtZT0idHJhbnNmb3JtIiB0eXBlPSJyb3RhdGUiIHJlcGVhdENvdW50PSJpbmRlZmluaXRlIiBkdXI9IjFzIiB2YWx1ZXM9IjAgNTAgNTA7MzYwIDUwIDUwIiBrZXlUaW1lcz0iMDsxIj48L2FuaW1hdGVUcmFuc2Zvcm0+ICA8L2NpcmNsZT48L3N2Zz4=\\\");\\n  background-size: auto calc(min(50%, 400px));\\n}\",{\"id\":\"p3179\"},{\"id\":\"p3177\"},{\"id\":\"p3178\"}],\"margin\":0,\"sizing_mode\":\"stretch_width\",\"align\":\"start\"}},{\"type\":\"object\",\"name\":\"Figure\",\"id\":\"p3188\",\"attributes\":{\"width\":700,\"height\":300,\"margin\":[5,10],\"sizing_mode\":\"fixed\",\"align\":\"start\",\"x_range\":{\"type\":\"object\",\"name\":\"Range1d\",\"id\":\"p3181\",\"attributes\":{\"tags\":[[[\"date\",\"date\",null]],[]],\"start\":-486604800000.0,\"end\":1693526400000.0,\"reset_start\":-486604800000.0,\"reset_end\":1693526400000.0}},\"y_range\":{\"type\":\"object\",\"name\":\"Range1d\",\"id\":\"p3182\",\"attributes\":{\"tags\":[[[\"value\",\"value\",null]],{\"type\":\"map\",\"entries\":[[\"invert_yaxis\",false],[\"autorange\",false]]}],\"start\":-1.8550000000000002,\"end\":21.005000000000003,\"reset_start\":-1.8550000000000002,\"reset_end\":21.005000000000003}},\"x_scale\":{\"type\":\"object\",\"name\":\"LinearScale\",\"id\":\"p3198\"},\"y_scale\":{\"type\":\"object\",\"name\":\"LinearScale\",\"id\":\"p3199\"},\"title\":{\"type\":\"object\",\"name\":\"Title\",\"id\":\"p3191\",\"attributes\":{\"text\":\"Federal Effective Rate\",\"text_color\":\"black\",\"text_font_size\":\"12pt\"}},\"renderers\":[{\"type\":\"object\",\"name\":\"GlyphRenderer\",\"id\":\"p3236\",\"attributes\":{\"data_source\":{\"type\":\"object\",\"name\":\"ColumnDataSource\",\"id\":\"p3227\",\"attributes\":{\"selected\":{\"type\":\"object\",\"name\":\"Selection\",\"id\":\"p3228\",\"attributes\":{\"indices\":[],\"line_indices\":[]}},\"selection_policy\":{\"type\":\"object\",\"name\":\"UnionRenderers\",\"id\":\"p3229\"},\"data\":{\"type\":\"map\",\"entries\":[[\"date\",{\"type\":\"ndarray\",\"array\":{\"type\":\"bytes\",\"data\":\"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\"},\"shape\":[830],\"dtype\":\"float64\",\"order\":\"little\"}],[\"value\",{\"type\":\"ndarray\",\"array\":{\"type\":\"bytes\",\"data\":\"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\"},\"shape\":[830],\"dtype\":\"float64\",\"order\":\"little\"}]]}}},\"view\":{\"type\":\"object\",\"name\":\"CDSView\",\"id\":\"p3237\",\"attributes\":{\"filter\":{\"type\":\"object\",\"name\":\"AllIndices\",\"id\":\"p3238\"}}},\"glyph\":{\"type\":\"object\",\"name\":\"Line\",\"id\":\"p3233\",\"attributes\":{\"tags\":[\"apply_ranges\"],\"x\":{\"type\":\"field\",\"field\":\"date\"},\"y\":{\"type\":\"field\",\"field\":\"value\"},\"line_color\":\"#30a2da\",\"line_width\":2}},\"selection_glyph\":{\"type\":\"object\",\"name\":\"Line\",\"id\":\"p3239\",\"attributes\":{\"tags\":[\"apply_ranges\"],\"x\":{\"type\":\"field\",\"field\":\"date\"},\"y\":{\"type\":\"field\",\"field\":\"value\"},\"line_color\":\"#30a2da\",\"line_width\":2}},\"nonselection_glyph\":{\"type\":\"object\",\"name\":\"Line\",\"id\":\"p3234\",\"attributes\":{\"tags\":[\"apply_ranges\"],\"x\":{\"type\":\"field\",\"field\":\"date\"},\"y\":{\"type\":\"field\",\"field\":\"value\"},\"line_color\":\"#30a2da\",\"line_alpha\":0.1,\"line_width\":2}},\"muted_glyph\":{\"type\":\"object\",\"name\":\"Line\",\"id\":\"p3235\",\"attributes\":{\"tags\":[\"apply_ranges\"],\"x\":{\"type\":\"field\",\"field\":\"date\"},\"y\":{\"type\":\"field\",\"field\":\"value\"},\"line_color\":\"#30a2da\",\"line_alpha\":0.2,\"line_width\":2}}}}],\"toolbar\":{\"type\":\"object\",\"name\":\"Toolbar\",\"id\":\"p3197\",\"attributes\":{\"tools\":[{\"type\":\"object\",\"name\":\"WheelZoomTool\",\"id\":\"p3186\",\"attributes\":{\"tags\":[\"hv_created\"],\"zoom_together\":\"none\"}},{\"type\":\"object\",\"name\":\"HoverTool\",\"id\":\"p3187\",\"attributes\":{\"tags\":[\"hv_created\"],\"renderers\":[{\"id\":\"p3236\"}],\"tooltips\":[[\"date\",\"@{date}{%F %T}\"],[\"value\",\"@{value}\"]],\"formatters\":{\"type\":\"map\",\"entries\":[[\"@{date}\",\"datetime\"]]}}},{\"type\":\"object\",\"name\":\"SaveTool\",\"id\":\"p3222\"},{\"type\":\"object\",\"name\":\"PanTool\",\"id\":\"p3223\"},{\"type\":\"object\",\"name\":\"BoxZoomTool\",\"id\":\"p3224\",\"attributes\":{\"overlay\":{\"type\":\"object\",\"name\":\"BoxAnnotation\",\"id\":\"p3225\",\"attributes\":{\"syncable\":false,\"level\":\"overlay\",\"visible\":false,\"left_units\":\"canvas\",\"right_units\":\"canvas\",\"bottom_units\":\"canvas\",\"top_units\":\"canvas\",\"line_color\":\"black\",\"line_alpha\":1.0,\"line_width\":2,\"line_dash\":[4,4],\"fill_color\":\"lightgrey\",\"fill_alpha\":0.5}}}},{\"type\":\"object\",\"name\":\"ResetTool\",\"id\":\"p3226\"}],\"active_drag\":{\"id\":\"p3223\"},\"active_scroll\":{\"id\":\"p3186\"}}},\"left\":[{\"type\":\"object\",\"name\":\"LinearAxis\",\"id\":\"p3217\",\"attributes\":{\"ticker\":{\"type\":\"object\",\"name\":\"BasicTicker\",\"id\":\"p3218\",\"attributes\":{\"mantissas\":[1,2,5]}},\"formatter\":{\"type\":\"object\",\"name\":\"BasicTickFormatter\",\"id\":\"p3219\"},\"axis_label\":\"\",\"major_label_policy\":{\"type\":\"object\",\"name\":\"AllLabels\",\"id\":\"p3220\"}}}],\"below\":[{\"type\":\"object\",\"name\":\"DatetimeAxis\",\"id\":\"p3200\",\"attributes\":{\"ticker\":{\"type\":\"object\",\"name\":\"DatetimeTicker\",\"id\":\"p3201\",\"attributes\":{\"num_minor_ticks\":5,\"tickers\":[{\"type\":\"object\",\"name\":\"AdaptiveTicker\",\"id\":\"p3202\",\"attributes\":{\"num_minor_ticks\":0,\"mantissas\":[1,2,5],\"max_interval\":500.0}},{\"type\":\"object\",\"name\":\"AdaptiveTicker\",\"id\":\"p3203\",\"attributes\":{\"num_minor_ticks\":0,\"base\":60,\"mantissas\":[1,2,5,10,15,20,30],\"min_interval\":1000.0,\"max_interval\":1800000.0}},{\"type\":\"object\",\"name\":\"AdaptiveTicker\",\"id\":\"p3204\",\"attributes\":{\"num_minor_ticks\":0,\"base\":24,\"mantissas\":[1,2,4,6,8,12],\"min_interval\":3600000.0,\"max_interval\":43200000.0}},{\"type\":\"object\",\"name\":\"DaysTicker\",\"id\":\"p3205\",\"attributes\":{\"days\":[1,2,3,4,5,6,7,8,9,10,11,12,13,14,15,16,17,18,19,20,21,22,23,24,25,26,27,28,29,30,31]}},{\"type\":\"object\",\"name\":\"DaysTicker\",\"id\":\"p3206\",\"attributes\":{\"days\":[1,4,7,10,13,16,19,22,25,28]}},{\"type\":\"object\",\"name\":\"DaysTicker\",\"id\":\"p3207\",\"attributes\":{\"days\":[1,8,15,22]}},{\"type\":\"object\",\"name\":\"DaysTicker\",\"id\":\"p3208\",\"attributes\":{\"days\":[1,15]}},{\"type\":\"object\",\"name\":\"MonthsTicker\",\"id\":\"p3209\",\"attributes\":{\"months\":[0,1,2,3,4,5,6,7,8,9,10,11]}},{\"type\":\"object\",\"name\":\"MonthsTicker\",\"id\":\"p3210\",\"attributes\":{\"months\":[0,2,4,6,8,10]}},{\"type\":\"object\",\"name\":\"MonthsTicker\",\"id\":\"p3211\",\"attributes\":{\"months\":[0,4,8]}},{\"type\":\"object\",\"name\":\"MonthsTicker\",\"id\":\"p3212\",\"attributes\":{\"months\":[0,6]}},{\"type\":\"object\",\"name\":\"YearsTicker\",\"id\":\"p3213\"}]}},\"formatter\":{\"type\":\"object\",\"name\":\"DatetimeTickFormatter\",\"id\":\"p3214\"},\"axis_label\":\"date\",\"major_label_policy\":{\"type\":\"object\",\"name\":\"AllLabels\",\"id\":\"p3215\"}}}],\"center\":[{\"type\":\"object\",\"name\":\"Grid\",\"id\":\"p3216\",\"attributes\":{\"axis\":{\"id\":\"p3200\"},\"grid_line_color\":null}},{\"type\":\"object\",\"name\":\"Grid\",\"id\":\"p3221\",\"attributes\":{\"dimension\":1,\"axis\":{\"id\":\"p3217\"},\"grid_line_color\":null}}],\"min_border_top\":10,\"min_border_bottom\":10,\"min_border_left\":10,\"min_border_right\":10,\"output_backend\":\"webgl\"}},{\"type\":\"object\",\"name\":\"Spacer\",\"id\":\"p3241\",\"attributes\":{\"name\":\"HSpacer04972\",\"stylesheets\":[\"\\n:host(.pn-loading.pn-arc):before, .pn-loading.pn-arc:before {\\n  background-image: url(\\\"data:image/svg+xml;base64,PHN2ZyB4bWxucz0iaHR0cDovL3d3dy53My5vcmcvMjAwMC9zdmciIHN0eWxlPSJtYXJnaW46IGF1dG87IGJhY2tncm91bmQ6IG5vbmU7IGRpc3BsYXk6IGJsb2NrOyBzaGFwZS1yZW5kZXJpbmc6IGF1dG87IiB2aWV3Qm94PSIwIDAgMTAwIDEwMCIgcHJlc2VydmVBc3BlY3RSYXRpbz0ieE1pZFlNaWQiPiAgPGNpcmNsZSBjeD0iNTAiIGN5PSI1MCIgZmlsbD0ibm9uZSIgc3Ryb2tlPSIjYzNjM2MzIiBzdHJva2Utd2lkdGg9IjEwIiByPSIzNSIgc3Ryb2tlLWRhc2hhcnJheT0iMTY0LjkzMzYxNDMxMzQ2NDE1IDU2Ljk3Nzg3MTQzNzgyMTM4Ij4gICAgPGFuaW1hdGVUcmFuc2Zvcm0gYXR0cmlidXRlTmFtZT0idHJhbnNmb3JtIiB0eXBlPSJyb3RhdGUiIHJlcGVhdENvdW50PSJpbmRlZmluaXRlIiBkdXI9IjFzIiB2YWx1ZXM9IjAgNTAgNTA7MzYwIDUwIDUwIiBrZXlUaW1lcz0iMDsxIj48L2FuaW1hdGVUcmFuc2Zvcm0+ICA8L2NpcmNsZT48L3N2Zz4=\\\");\\n  background-size: auto calc(min(50%, 400px));\\n}\",{\"id\":\"p3179\"},{\"id\":\"p3177\"},{\"id\":\"p3178\"}],\"margin\":0,\"sizing_mode\":\"stretch_width\",\"align\":\"start\"}}]}}],\"defs\":[{\"type\":\"model\",\"name\":\"ReactiveHTML1\"},{\"type\":\"model\",\"name\":\"FlexBox1\",\"properties\":[{\"name\":\"align_content\",\"kind\":\"Any\",\"default\":\"flex-start\"},{\"name\":\"align_items\",\"kind\":\"Any\",\"default\":\"flex-start\"},{\"name\":\"flex_direction\",\"kind\":\"Any\",\"default\":\"row\"},{\"name\":\"flex_wrap\",\"kind\":\"Any\",\"default\":\"wrap\"},{\"name\":\"justify_content\",\"kind\":\"Any\",\"default\":\"flex-start\"}]},{\"type\":\"model\",\"name\":\"FloatPanel1\",\"properties\":[{\"name\":\"config\",\"kind\":\"Any\",\"default\":{\"type\":\"map\"}},{\"name\":\"contained\",\"kind\":\"Any\",\"default\":true},{\"name\":\"position\",\"kind\":\"Any\",\"default\":\"right-top\"},{\"name\":\"offsetx\",\"kind\":\"Any\",\"default\":null},{\"name\":\"offsety\",\"kind\":\"Any\",\"default\":null},{\"name\":\"theme\",\"kind\":\"Any\",\"default\":\"primary\"},{\"name\":\"status\",\"kind\":\"Any\",\"default\":\"normalized\"}]},{\"type\":\"model\",\"name\":\"GridStack1\",\"properties\":[{\"name\":\"mode\",\"kind\":\"Any\",\"default\":\"warn\"},{\"name\":\"ncols\",\"kind\":\"Any\",\"default\":null},{\"name\":\"nrows\",\"kind\":\"Any\",\"default\":null},{\"name\":\"allow_resize\",\"kind\":\"Any\",\"default\":true},{\"name\":\"allow_drag\",\"kind\":\"Any\",\"default\":true},{\"name\":\"state\",\"kind\":\"Any\",\"default\":[]}]},{\"type\":\"model\",\"name\":\"drag1\",\"properties\":[{\"name\":\"slider_width\",\"kind\":\"Any\",\"default\":5},{\"name\":\"slider_color\",\"kind\":\"Any\",\"default\":\"black\"},{\"name\":\"value\",\"kind\":\"Any\",\"default\":50}]},{\"type\":\"model\",\"name\":\"click1\",\"properties\":[{\"name\":\"terminal_output\",\"kind\":\"Any\",\"default\":\"\"},{\"name\":\"debug_name\",\"kind\":\"Any\",\"default\":\"\"},{\"name\":\"clears\",\"kind\":\"Any\",\"default\":0}]},{\"type\":\"model\",\"name\":\"FastWrapper1\",\"properties\":[{\"name\":\"object\",\"kind\":\"Any\",\"default\":null},{\"name\":\"style\",\"kind\":\"Any\",\"default\":null}]},{\"type\":\"model\",\"name\":\"NotificationAreaBase1\",\"properties\":[{\"name\":\"js_events\",\"kind\":\"Any\",\"default\":{\"type\":\"map\"}},{\"name\":\"position\",\"kind\":\"Any\",\"default\":\"bottom-right\"},{\"name\":\"_clear\",\"kind\":\"Any\",\"default\":0}]},{\"type\":\"model\",\"name\":\"NotificationArea1\",\"properties\":[{\"name\":\"js_events\",\"kind\":\"Any\",\"default\":{\"type\":\"map\"}},{\"name\":\"notifications\",\"kind\":\"Any\",\"default\":[]},{\"name\":\"position\",\"kind\":\"Any\",\"default\":\"bottom-right\"},{\"name\":\"_clear\",\"kind\":\"Any\",\"default\":0},{\"name\":\"types\",\"kind\":\"Any\",\"default\":[{\"type\":\"map\",\"entries\":[[\"type\",\"warning\"],[\"background\",\"#ffc107\"],[\"icon\",{\"type\":\"map\",\"entries\":[[\"className\",\"fas fa-exclamation-triangle\"],[\"tagName\",\"i\"],[\"color\",\"white\"]]}]]},{\"type\":\"map\",\"entries\":[[\"type\",\"info\"],[\"background\",\"#007bff\"],[\"icon\",{\"type\":\"map\",\"entries\":[[\"className\",\"fas fa-info-circle\"],[\"tagName\",\"i\"],[\"color\",\"white\"]]}]]}]}]},{\"type\":\"model\",\"name\":\"Notification\",\"properties\":[{\"name\":\"background\",\"kind\":\"Any\",\"default\":null},{\"name\":\"duration\",\"kind\":\"Any\",\"default\":3000},{\"name\":\"icon\",\"kind\":\"Any\",\"default\":null},{\"name\":\"message\",\"kind\":\"Any\",\"default\":\"\"},{\"name\":\"notification_type\",\"kind\":\"Any\",\"default\":null},{\"name\":\"_destroyed\",\"kind\":\"Any\",\"default\":false}]},{\"type\":\"model\",\"name\":\"TemplateActions1\",\"properties\":[{\"name\":\"open_modal\",\"kind\":\"Any\",\"default\":0},{\"name\":\"close_modal\",\"kind\":\"Any\",\"default\":0}]},{\"type\":\"model\",\"name\":\"BootstrapTemplateActions1\",\"properties\":[{\"name\":\"open_modal\",\"kind\":\"Any\",\"default\":0},{\"name\":\"close_modal\",\"kind\":\"Any\",\"default\":0}]},{\"type\":\"model\",\"name\":\"MaterialTemplateActions1\",\"properties\":[{\"name\":\"open_modal\",\"kind\":\"Any\",\"default\":0},{\"name\":\"close_modal\",\"kind\":\"Any\",\"default\":0}]}]}};\n",
       "  var render_items = [{\"docid\":\"be6b3b6b-4cba-4608-bec7-1919fa94fd3c\",\"roots\":{\"p3176\":\"f153fd3b-5399-42fc-9c1e-d4baf5258290\"},\"root_ids\":[\"p3176\"]}];\n",
       "  var docs = Object.values(docs_json)\n",
       "  if (!docs) {\n",
       "    return\n",
       "  }\n",
       "  const py_version = docs[0].version.replace('rc', '-rc.').replace('.dev', '-dev.')\n",
       "  const is_dev = py_version.indexOf(\"+\") !== -1 || py_version.indexOf(\"-\") !== -1\n",
       "  function embed_document(root) {\n",
       "    var Bokeh = get_bokeh(root)\n",
       "    Bokeh.embed.embed_items_notebook(docs_json, render_items);\n",
       "    for (const render_item of render_items) {\n",
       "      for (const root_id of render_item.root_ids) {\n",
       "\tconst id_el = document.getElementById(root_id)\n",
       "\tif (id_el.children.length && (id_el.children[0].className === 'bk-root')) {\n",
       "\t  const root_el = id_el.children[0]\n",
       "\t  root_el.id = root_el.id + '-rendered'\n",
       "\t}\n",
       "      }\n",
       "    }\n",
       "  }\n",
       "  function get_bokeh(root) {\n",
       "    if (root.Bokeh === undefined) {\n",
       "      return null\n",
       "    } else if (root.Bokeh.version !== py_version && !is_dev) {\n",
       "      if (root.Bokeh.versions === undefined || !root.Bokeh.versions.has(py_version)) {\n",
       "\treturn null\n",
       "      }\n",
       "      return root.Bokeh.versions.get(py_version);\n",
       "    } else if (root.Bokeh.version === py_version) {\n",
       "      return root.Bokeh\n",
       "    }\n",
       "    return null\n",
       "  }\n",
       "  function is_loaded(root) {\n",
       "    var Bokeh = get_bokeh(root)\n",
       "    return (Bokeh != null && Bokeh.Panel !== undefined)\n",
       "  }\n",
       "  if (is_loaded(root)) {\n",
       "    embed_document(root);\n",
       "  } else {\n",
       "    var attempts = 0;\n",
       "    var timer = setInterval(function(root) {\n",
       "      if (is_loaded(root)) {\n",
       "        clearInterval(timer);\n",
       "        embed_document(root);\n",
       "      } else if (document.readyState == \"complete\") {\n",
       "        attempts++;\n",
       "        if (attempts > 200) {\n",
       "          clearInterval(timer);\n",
       "\t  var Bokeh = get_bokeh(root)\n",
       "\t  if (Bokeh == null || Bokeh.Panel == null) {\n",
       "            console.warn(\"Panel: ERROR: Unable to run Panel code because Bokeh or Panel library is missing\");\n",
       "\t  } else {\n",
       "\t    console.warn(\"Panel: WARNING: Attempting to render but not all required libraries could be resolved.\")\n",
       "\t    embed_document(root)\n",
       "\t  }\n",
       "        }\n",
       "      }\n",
       "    }, 25, root)\n",
       "  }\n",
       "})(window);</script>"
      ],
      "text/plain": [
       ":Curve   [date]   (value)"
      ]
     },
     "metadata": {
      "application/vnd.holoviews_exec.v0+json": {
       "id": "p3176"
      }
     },
     "output_type": "display_data"
    },
    {
     "data": {},
     "metadata": {},
     "output_type": "display_data"
    },
    {
     "data": {
      "application/vnd.holoviews_exec.v0+json": "",
      "text/html": [
       "<div id='p3247'>\n",
       "  <div id=\"d68bde7d-1bac-4cca-8977-fae3df081a7f\" data-root-id=\"p3247\" style=\"display: contents;\"></div>\n",
       "</div>\n",
       "<script type=\"application/javascript\">(function(root) {\n",
       "  var docs_json = {\"7dbedb86-c90d-4951-9fdc-cbe105113f94\":{\"version\":\"3.2.2\",\"title\":\"Bokeh Application\",\"roots\":[{\"type\":\"object\",\"name\":\"Row\",\"id\":\"p3247\",\"attributes\":{\"name\":\"Row05080\",\"tags\":[\"embedded\"],\"stylesheets\":[\"\\n:host(.pn-loading.pn-arc):before, .pn-loading.pn-arc:before {\\n  background-image: url(\\\"data:image/svg+xml;base64,PHN2ZyB4bWxucz0iaHR0cDovL3d3dy53My5vcmcvMjAwMC9zdmciIHN0eWxlPSJtYXJnaW46IGF1dG87IGJhY2tncm91bmQ6IG5vbmU7IGRpc3BsYXk6IGJsb2NrOyBzaGFwZS1yZW5kZXJpbmc6IGF1dG87IiB2aWV3Qm94PSIwIDAgMTAwIDEwMCIgcHJlc2VydmVBc3BlY3RSYXRpbz0ieE1pZFlNaWQiPiAgPGNpcmNsZSBjeD0iNTAiIGN5PSI1MCIgZmlsbD0ibm9uZSIgc3Ryb2tlPSIjYzNjM2MzIiBzdHJva2Utd2lkdGg9IjEwIiByPSIzNSIgc3Ryb2tlLWRhc2hhcnJheT0iMTY0LjkzMzYxNDMxMzQ2NDE1IDU2Ljk3Nzg3MTQzNzgyMTM4Ij4gICAgPGFuaW1hdGVUcmFuc2Zvcm0gYXR0cmlidXRlTmFtZT0idHJhbnNmb3JtIiB0eXBlPSJyb3RhdGUiIHJlcGVhdENvdW50PSJpbmRlZmluaXRlIiBkdXI9IjFzIiB2YWx1ZXM9IjAgNTAgNTA7MzYwIDUwIDUwIiBrZXlUaW1lcz0iMDsxIj48L2FuaW1hdGVUcmFuc2Zvcm0+ICA8L2NpcmNsZT48L3N2Zz4=\\\");\\n  background-size: auto calc(min(50%, 400px));\\n}\",{\"type\":\"object\",\"name\":\"ImportedStyleSheet\",\"id\":\"p3250\",\"attributes\":{\"url\":\"https://cdn.holoviz.org/panel/1.2.3/dist/css/loading.css\"}},{\"type\":\"object\",\"name\":\"ImportedStyleSheet\",\"id\":\"p3314\",\"attributes\":{\"url\":\"https://cdn.holoviz.org/panel/1.2.3/dist/css/listpanel.css\"}},{\"type\":\"object\",\"name\":\"ImportedStyleSheet\",\"id\":\"p3248\",\"attributes\":{\"url\":\"https://cdn.holoviz.org/panel/1.2.3/dist/bundled/theme/default.css\"}},{\"type\":\"object\",\"name\":\"ImportedStyleSheet\",\"id\":\"p3249\",\"attributes\":{\"url\":\"https://cdn.holoviz.org/panel/1.2.3/dist/bundled/theme/native.css\"}}],\"min_width\":700,\"margin\":0,\"sizing_mode\":\"stretch_width\",\"align\":\"start\",\"children\":[{\"type\":\"object\",\"name\":\"Spacer\",\"id\":\"p3251\",\"attributes\":{\"name\":\"HSpacer05091\",\"stylesheets\":[\"\\n:host(.pn-loading.pn-arc):before, .pn-loading.pn-arc:before {\\n  background-image: url(\\\"data:image/svg+xml;base64,PHN2ZyB4bWxucz0iaHR0cDovL3d3dy53My5vcmcvMjAwMC9zdmciIHN0eWxlPSJtYXJnaW46IGF1dG87IGJhY2tncm91bmQ6IG5vbmU7IGRpc3BsYXk6IGJsb2NrOyBzaGFwZS1yZW5kZXJpbmc6IGF1dG87IiB2aWV3Qm94PSIwIDAgMTAwIDEwMCIgcHJlc2VydmVBc3BlY3RSYXRpbz0ieE1pZFlNaWQiPiAgPGNpcmNsZSBjeD0iNTAiIGN5PSI1MCIgZmlsbD0ibm9uZSIgc3Ryb2tlPSIjYzNjM2MzIiBzdHJva2Utd2lkdGg9IjEwIiByPSIzNSIgc3Ryb2tlLWRhc2hhcnJheT0iMTY0LjkzMzYxNDMxMzQ2NDE1IDU2Ljk3Nzg3MTQzNzgyMTM4Ij4gICAgPGFuaW1hdGVUcmFuc2Zvcm0gYXR0cmlidXRlTmFtZT0idHJhbnNmb3JtIiB0eXBlPSJyb3RhdGUiIHJlcGVhdENvdW50PSJpbmRlZmluaXRlIiBkdXI9IjFzIiB2YWx1ZXM9IjAgNTAgNTA7MzYwIDUwIDUwIiBrZXlUaW1lcz0iMDsxIj48L2FuaW1hdGVUcmFuc2Zvcm0+ICA8L2NpcmNsZT48L3N2Zz4=\\\");\\n  background-size: auto calc(min(50%, 400px));\\n}\",{\"id\":\"p3250\"},{\"id\":\"p3248\"},{\"id\":\"p3249\"}],\"margin\":0,\"sizing_mode\":\"stretch_width\",\"align\":\"start\"}},{\"type\":\"object\",\"name\":\"Figure\",\"id\":\"p3259\",\"attributes\":{\"width\":700,\"height\":300,\"margin\":[5,10],\"sizing_mode\":\"fixed\",\"align\":\"start\",\"x_range\":{\"type\":\"object\",\"name\":\"Range1d\",\"id\":\"p3252\",\"attributes\":{\"tags\":[[[\"date\",\"date\",null]],[]],\"start\":165542400000.0,\"end\":1680307200000.0,\"reset_start\":165542400000.0,\"reset_end\":1680307200000.0}},\"y_range\":{\"type\":\"object\",\"name\":\"Range1d\",\"id\":\"p3253\",\"attributes\":{\"tags\":[[[\"HPI\",\"HPI\",null]],{\"type\":\"map\",\"entries\":[[\"invert_yaxis\",false],[\"autorange\",false]]}],\"start\":2.317999999999998,\"end\":703.622,\"reset_start\":2.317999999999998,\"reset_end\":703.622}},\"x_scale\":{\"type\":\"object\",\"name\":\"LinearScale\",\"id\":\"p3269\"},\"y_scale\":{\"type\":\"object\",\"name\":\"LinearScale\",\"id\":\"p3270\"},\"title\":{\"type\":\"object\",\"name\":\"Title\",\"id\":\"p3262\",\"attributes\":{\"text\":\"All Transactions House Price Index for the United States\",\"text_color\":\"black\",\"text_font_size\":\"12pt\"}},\"renderers\":[{\"type\":\"object\",\"name\":\"GlyphRenderer\",\"id\":\"p3307\",\"attributes\":{\"data_source\":{\"type\":\"object\",\"name\":\"ColumnDataSource\",\"id\":\"p3298\",\"attributes\":{\"selected\":{\"type\":\"object\",\"name\":\"Selection\",\"id\":\"p3299\",\"attributes\":{\"indices\":[],\"line_indices\":[]}},\"selection_policy\":{\"type\":\"object\",\"name\":\"UnionRenderers\",\"id\":\"p3300\"},\"data\":{\"type\":\"map\",\"entries\":[[\"date\",{\"type\":\"ndarray\",\"array\":{\"type\":\"bytes\",\"data\":\"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\"},\"shape\":[193],\"dtype\":\"float64\",\"order\":\"little\"}],[\"HPI\",{\"type\":\"ndarray\",\"array\":{\"type\":\"bytes\",\"data\":\"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\"},\"shape\":[193],\"dtype\":\"float64\",\"order\":\"little\"}]]}}},\"view\":{\"type\":\"object\",\"name\":\"CDSView\",\"id\":\"p3308\",\"attributes\":{\"filter\":{\"type\":\"object\",\"name\":\"AllIndices\",\"id\":\"p3309\"}}},\"glyph\":{\"type\":\"object\",\"name\":\"Line\",\"id\":\"p3304\",\"attributes\":{\"tags\":[\"apply_ranges\"],\"x\":{\"type\":\"field\",\"field\":\"date\"},\"y\":{\"type\":\"field\",\"field\":\"HPI\"},\"line_color\":\"#30a2da\",\"line_width\":2}},\"selection_glyph\":{\"type\":\"object\",\"name\":\"Line\",\"id\":\"p3310\",\"attributes\":{\"tags\":[\"apply_ranges\"],\"x\":{\"type\":\"field\",\"field\":\"date\"},\"y\":{\"type\":\"field\",\"field\":\"HPI\"},\"line_color\":\"#30a2da\",\"line_width\":2}},\"nonselection_glyph\":{\"type\":\"object\",\"name\":\"Line\",\"id\":\"p3305\",\"attributes\":{\"tags\":[\"apply_ranges\"],\"x\":{\"type\":\"field\",\"field\":\"date\"},\"y\":{\"type\":\"field\",\"field\":\"HPI\"},\"line_color\":\"#30a2da\",\"line_alpha\":0.1,\"line_width\":2}},\"muted_glyph\":{\"type\":\"object\",\"name\":\"Line\",\"id\":\"p3306\",\"attributes\":{\"tags\":[\"apply_ranges\"],\"x\":{\"type\":\"field\",\"field\":\"date\"},\"y\":{\"type\":\"field\",\"field\":\"HPI\"},\"line_color\":\"#30a2da\",\"line_alpha\":0.2,\"line_width\":2}}}}],\"toolbar\":{\"type\":\"object\",\"name\":\"Toolbar\",\"id\":\"p3268\",\"attributes\":{\"tools\":[{\"type\":\"object\",\"name\":\"WheelZoomTool\",\"id\":\"p3257\",\"attributes\":{\"tags\":[\"hv_created\"],\"zoom_together\":\"none\"}},{\"type\":\"object\",\"name\":\"HoverTool\",\"id\":\"p3258\",\"attributes\":{\"tags\":[\"hv_created\"],\"renderers\":[{\"id\":\"p3307\"}],\"tooltips\":[[\"date\",\"@{date}{%F %T}\"],[\"HPI\",\"@{HPI}\"]],\"formatters\":{\"type\":\"map\",\"entries\":[[\"@{date}\",\"datetime\"]]}}},{\"type\":\"object\",\"name\":\"SaveTool\",\"id\":\"p3293\"},{\"type\":\"object\",\"name\":\"PanTool\",\"id\":\"p3294\"},{\"type\":\"object\",\"name\":\"BoxZoomTool\",\"id\":\"p3295\",\"attributes\":{\"overlay\":{\"type\":\"object\",\"name\":\"BoxAnnotation\",\"id\":\"p3296\",\"attributes\":{\"syncable\":false,\"level\":\"overlay\",\"visible\":false,\"left_units\":\"canvas\",\"right_units\":\"canvas\",\"bottom_units\":\"canvas\",\"top_units\":\"canvas\",\"line_color\":\"black\",\"line_alpha\":1.0,\"line_width\":2,\"line_dash\":[4,4],\"fill_color\":\"lightgrey\",\"fill_alpha\":0.5}}}},{\"type\":\"object\",\"name\":\"ResetTool\",\"id\":\"p3297\"}],\"active_drag\":{\"id\":\"p3294\"},\"active_scroll\":{\"id\":\"p3257\"}}},\"left\":[{\"type\":\"object\",\"name\":\"LinearAxis\",\"id\":\"p3288\",\"attributes\":{\"ticker\":{\"type\":\"object\",\"name\":\"BasicTicker\",\"id\":\"p3289\",\"attributes\":{\"mantissas\":[1,2,5]}},\"formatter\":{\"type\":\"object\",\"name\":\"BasicTickFormatter\",\"id\":\"p3290\"},\"axis_label\":\"\",\"major_label_policy\":{\"type\":\"object\",\"name\":\"AllLabels\",\"id\":\"p3291\"}}}],\"below\":[{\"type\":\"object\",\"name\":\"DatetimeAxis\",\"id\":\"p3271\",\"attributes\":{\"ticker\":{\"type\":\"object\",\"name\":\"DatetimeTicker\",\"id\":\"p3272\",\"attributes\":{\"num_minor_ticks\":5,\"tickers\":[{\"type\":\"object\",\"name\":\"AdaptiveTicker\",\"id\":\"p3273\",\"attributes\":{\"num_minor_ticks\":0,\"mantissas\":[1,2,5],\"max_interval\":500.0}},{\"type\":\"object\",\"name\":\"AdaptiveTicker\",\"id\":\"p3274\",\"attributes\":{\"num_minor_ticks\":0,\"base\":60,\"mantissas\":[1,2,5,10,15,20,30],\"min_interval\":1000.0,\"max_interval\":1800000.0}},{\"type\":\"object\",\"name\":\"AdaptiveTicker\",\"id\":\"p3275\",\"attributes\":{\"num_minor_ticks\":0,\"base\":24,\"mantissas\":[1,2,4,6,8,12],\"min_interval\":3600000.0,\"max_interval\":43200000.0}},{\"type\":\"object\",\"name\":\"DaysTicker\",\"id\":\"p3276\",\"attributes\":{\"days\":[1,2,3,4,5,6,7,8,9,10,11,12,13,14,15,16,17,18,19,20,21,22,23,24,25,26,27,28,29,30,31]}},{\"type\":\"object\",\"name\":\"DaysTicker\",\"id\":\"p3277\",\"attributes\":{\"days\":[1,4,7,10,13,16,19,22,25,28]}},{\"type\":\"object\",\"name\":\"DaysTicker\",\"id\":\"p3278\",\"attributes\":{\"days\":[1,8,15,22]}},{\"type\":\"object\",\"name\":\"DaysTicker\",\"id\":\"p3279\",\"attributes\":{\"days\":[1,15]}},{\"type\":\"object\",\"name\":\"MonthsTicker\",\"id\":\"p3280\",\"attributes\":{\"months\":[0,1,2,3,4,5,6,7,8,9,10,11]}},{\"type\":\"object\",\"name\":\"MonthsTicker\",\"id\":\"p3281\",\"attributes\":{\"months\":[0,2,4,6,8,10]}},{\"type\":\"object\",\"name\":\"MonthsTicker\",\"id\":\"p3282\",\"attributes\":{\"months\":[0,4,8]}},{\"type\":\"object\",\"name\":\"MonthsTicker\",\"id\":\"p3283\",\"attributes\":{\"months\":[0,6]}},{\"type\":\"object\",\"name\":\"YearsTicker\",\"id\":\"p3284\"}]}},\"formatter\":{\"type\":\"object\",\"name\":\"DatetimeTickFormatter\",\"id\":\"p3285\"},\"axis_label\":\"date\",\"major_label_policy\":{\"type\":\"object\",\"name\":\"AllLabels\",\"id\":\"p3286\"}}}],\"center\":[{\"type\":\"object\",\"name\":\"Grid\",\"id\":\"p3287\",\"attributes\":{\"axis\":{\"id\":\"p3271\"},\"grid_line_color\":null}},{\"type\":\"object\",\"name\":\"Grid\",\"id\":\"p3292\",\"attributes\":{\"dimension\":1,\"axis\":{\"id\":\"p3288\"},\"grid_line_color\":null}}],\"min_border_top\":10,\"min_border_bottom\":10,\"min_border_left\":10,\"min_border_right\":10,\"output_backend\":\"webgl\"}},{\"type\":\"object\",\"name\":\"Spacer\",\"id\":\"p3312\",\"attributes\":{\"name\":\"HSpacer05094\",\"stylesheets\":[\"\\n:host(.pn-loading.pn-arc):before, .pn-loading.pn-arc:before {\\n  background-image: url(\\\"data:image/svg+xml;base64,PHN2ZyB4bWxucz0iaHR0cDovL3d3dy53My5vcmcvMjAwMC9zdmciIHN0eWxlPSJtYXJnaW46IGF1dG87IGJhY2tncm91bmQ6IG5vbmU7IGRpc3BsYXk6IGJsb2NrOyBzaGFwZS1yZW5kZXJpbmc6IGF1dG87IiB2aWV3Qm94PSIwIDAgMTAwIDEwMCIgcHJlc2VydmVBc3BlY3RSYXRpbz0ieE1pZFlNaWQiPiAgPGNpcmNsZSBjeD0iNTAiIGN5PSI1MCIgZmlsbD0ibm9uZSIgc3Ryb2tlPSIjYzNjM2MzIiBzdHJva2Utd2lkdGg9IjEwIiByPSIzNSIgc3Ryb2tlLWRhc2hhcnJheT0iMTY0LjkzMzYxNDMxMzQ2NDE1IDU2Ljk3Nzg3MTQzNzgyMTM4Ij4gICAgPGFuaW1hdGVUcmFuc2Zvcm0gYXR0cmlidXRlTmFtZT0idHJhbnNmb3JtIiB0eXBlPSJyb3RhdGUiIHJlcGVhdENvdW50PSJpbmRlZmluaXRlIiBkdXI9IjFzIiB2YWx1ZXM9IjAgNTAgNTA7MzYwIDUwIDUwIiBrZXlUaW1lcz0iMDsxIj48L2FuaW1hdGVUcmFuc2Zvcm0+ICA8L2NpcmNsZT48L3N2Zz4=\\\");\\n  background-size: auto calc(min(50%, 400px));\\n}\",{\"id\":\"p3250\"},{\"id\":\"p3248\"},{\"id\":\"p3249\"}],\"margin\":0,\"sizing_mode\":\"stretch_width\",\"align\":\"start\"}}]}}],\"defs\":[{\"type\":\"model\",\"name\":\"ReactiveHTML1\"},{\"type\":\"model\",\"name\":\"FlexBox1\",\"properties\":[{\"name\":\"align_content\",\"kind\":\"Any\",\"default\":\"flex-start\"},{\"name\":\"align_items\",\"kind\":\"Any\",\"default\":\"flex-start\"},{\"name\":\"flex_direction\",\"kind\":\"Any\",\"default\":\"row\"},{\"name\":\"flex_wrap\",\"kind\":\"Any\",\"default\":\"wrap\"},{\"name\":\"justify_content\",\"kind\":\"Any\",\"default\":\"flex-start\"}]},{\"type\":\"model\",\"name\":\"FloatPanel1\",\"properties\":[{\"name\":\"config\",\"kind\":\"Any\",\"default\":{\"type\":\"map\"}},{\"name\":\"contained\",\"kind\":\"Any\",\"default\":true},{\"name\":\"position\",\"kind\":\"Any\",\"default\":\"right-top\"},{\"name\":\"offsetx\",\"kind\":\"Any\",\"default\":null},{\"name\":\"offsety\",\"kind\":\"Any\",\"default\":null},{\"name\":\"theme\",\"kind\":\"Any\",\"default\":\"primary\"},{\"name\":\"status\",\"kind\":\"Any\",\"default\":\"normalized\"}]},{\"type\":\"model\",\"name\":\"GridStack1\",\"properties\":[{\"name\":\"mode\",\"kind\":\"Any\",\"default\":\"warn\"},{\"name\":\"ncols\",\"kind\":\"Any\",\"default\":null},{\"name\":\"nrows\",\"kind\":\"Any\",\"default\":null},{\"name\":\"allow_resize\",\"kind\":\"Any\",\"default\":true},{\"name\":\"allow_drag\",\"kind\":\"Any\",\"default\":true},{\"name\":\"state\",\"kind\":\"Any\",\"default\":[]}]},{\"type\":\"model\",\"name\":\"drag1\",\"properties\":[{\"name\":\"slider_width\",\"kind\":\"Any\",\"default\":5},{\"name\":\"slider_color\",\"kind\":\"Any\",\"default\":\"black\"},{\"name\":\"value\",\"kind\":\"Any\",\"default\":50}]},{\"type\":\"model\",\"name\":\"click1\",\"properties\":[{\"name\":\"terminal_output\",\"kind\":\"Any\",\"default\":\"\"},{\"name\":\"debug_name\",\"kind\":\"Any\",\"default\":\"\"},{\"name\":\"clears\",\"kind\":\"Any\",\"default\":0}]},{\"type\":\"model\",\"name\":\"FastWrapper1\",\"properties\":[{\"name\":\"object\",\"kind\":\"Any\",\"default\":null},{\"name\":\"style\",\"kind\":\"Any\",\"default\":null}]},{\"type\":\"model\",\"name\":\"NotificationAreaBase1\",\"properties\":[{\"name\":\"js_events\",\"kind\":\"Any\",\"default\":{\"type\":\"map\"}},{\"name\":\"position\",\"kind\":\"Any\",\"default\":\"bottom-right\"},{\"name\":\"_clear\",\"kind\":\"Any\",\"default\":0}]},{\"type\":\"model\",\"name\":\"NotificationArea1\",\"properties\":[{\"name\":\"js_events\",\"kind\":\"Any\",\"default\":{\"type\":\"map\"}},{\"name\":\"notifications\",\"kind\":\"Any\",\"default\":[]},{\"name\":\"position\",\"kind\":\"Any\",\"default\":\"bottom-right\"},{\"name\":\"_clear\",\"kind\":\"Any\",\"default\":0},{\"name\":\"types\",\"kind\":\"Any\",\"default\":[{\"type\":\"map\",\"entries\":[[\"type\",\"warning\"],[\"background\",\"#ffc107\"],[\"icon\",{\"type\":\"map\",\"entries\":[[\"className\",\"fas fa-exclamation-triangle\"],[\"tagName\",\"i\"],[\"color\",\"white\"]]}]]},{\"type\":\"map\",\"entries\":[[\"type\",\"info\"],[\"background\",\"#007bff\"],[\"icon\",{\"type\":\"map\",\"entries\":[[\"className\",\"fas fa-info-circle\"],[\"tagName\",\"i\"],[\"color\",\"white\"]]}]]}]}]},{\"type\":\"model\",\"name\":\"Notification\",\"properties\":[{\"name\":\"background\",\"kind\":\"Any\",\"default\":null},{\"name\":\"duration\",\"kind\":\"Any\",\"default\":3000},{\"name\":\"icon\",\"kind\":\"Any\",\"default\":null},{\"name\":\"message\",\"kind\":\"Any\",\"default\":\"\"},{\"name\":\"notification_type\",\"kind\":\"Any\",\"default\":null},{\"name\":\"_destroyed\",\"kind\":\"Any\",\"default\":false}]},{\"type\":\"model\",\"name\":\"TemplateActions1\",\"properties\":[{\"name\":\"open_modal\",\"kind\":\"Any\",\"default\":0},{\"name\":\"close_modal\",\"kind\":\"Any\",\"default\":0}]},{\"type\":\"model\",\"name\":\"BootstrapTemplateActions1\",\"properties\":[{\"name\":\"open_modal\",\"kind\":\"Any\",\"default\":0},{\"name\":\"close_modal\",\"kind\":\"Any\",\"default\":0}]},{\"type\":\"model\",\"name\":\"MaterialTemplateActions1\",\"properties\":[{\"name\":\"open_modal\",\"kind\":\"Any\",\"default\":0},{\"name\":\"close_modal\",\"kind\":\"Any\",\"default\":0}]}]}};\n",
       "  var render_items = [{\"docid\":\"7dbedb86-c90d-4951-9fdc-cbe105113f94\",\"roots\":{\"p3247\":\"d68bde7d-1bac-4cca-8977-fae3df081a7f\"},\"root_ids\":[\"p3247\"]}];\n",
       "  var docs = Object.values(docs_json)\n",
       "  if (!docs) {\n",
       "    return\n",
       "  }\n",
       "  const py_version = docs[0].version.replace('rc', '-rc.').replace('.dev', '-dev.')\n",
       "  const is_dev = py_version.indexOf(\"+\") !== -1 || py_version.indexOf(\"-\") !== -1\n",
       "  function embed_document(root) {\n",
       "    var Bokeh = get_bokeh(root)\n",
       "    Bokeh.embed.embed_items_notebook(docs_json, render_items);\n",
       "    for (const render_item of render_items) {\n",
       "      for (const root_id of render_item.root_ids) {\n",
       "\tconst id_el = document.getElementById(root_id)\n",
       "\tif (id_el.children.length && (id_el.children[0].className === 'bk-root')) {\n",
       "\t  const root_el = id_el.children[0]\n",
       "\t  root_el.id = root_el.id + '-rendered'\n",
       "\t}\n",
       "      }\n",
       "    }\n",
       "  }\n",
       "  function get_bokeh(root) {\n",
       "    if (root.Bokeh === undefined) {\n",
       "      return null\n",
       "    } else if (root.Bokeh.version !== py_version && !is_dev) {\n",
       "      if (root.Bokeh.versions === undefined || !root.Bokeh.versions.has(py_version)) {\n",
       "\treturn null\n",
       "      }\n",
       "      return root.Bokeh.versions.get(py_version);\n",
       "    } else if (root.Bokeh.version === py_version) {\n",
       "      return root.Bokeh\n",
       "    }\n",
       "    return null\n",
       "  }\n",
       "  function is_loaded(root) {\n",
       "    var Bokeh = get_bokeh(root)\n",
       "    return (Bokeh != null && Bokeh.Panel !== undefined)\n",
       "  }\n",
       "  if (is_loaded(root)) {\n",
       "    embed_document(root);\n",
       "  } else {\n",
       "    var attempts = 0;\n",
       "    var timer = setInterval(function(root) {\n",
       "      if (is_loaded(root)) {\n",
       "        clearInterval(timer);\n",
       "        embed_document(root);\n",
       "      } else if (document.readyState == \"complete\") {\n",
       "        attempts++;\n",
       "        if (attempts > 200) {\n",
       "          clearInterval(timer);\n",
       "\t  var Bokeh = get_bokeh(root)\n",
       "\t  if (Bokeh == null || Bokeh.Panel == null) {\n",
       "            console.warn(\"Panel: ERROR: Unable to run Panel code because Bokeh or Panel library is missing\");\n",
       "\t  } else {\n",
       "\t    console.warn(\"Panel: WARNING: Attempting to render but not all required libraries could be resolved.\")\n",
       "\t    embed_document(root)\n",
       "\t  }\n",
       "        }\n",
       "      }\n",
       "    }, 25, root)\n",
       "  }\n",
       "})(window);</script>"
      ],
      "text/plain": [
       ":Curve   [date]   (HPI)"
      ]
     },
     "metadata": {
      "application/vnd.holoviews_exec.v0+json": {
       "id": "p3247"
      }
     },
     "output_type": "display_data"
    }
   ],
   "source": [
    "# Federal Effective Rate(Interest Rate)\n",
    "display(dataframes[\"FEDFUNDS\"][\"value\"].hvplot(title=\"Federal Effective Rate\"))\n",
    "\n",
    "# House price Index for the United States\n",
    "display(dataframes[\"USSTHPI\"][\"HPI\"].hvplot(title=\"All Transactions House Price Index for the United States\"))"
   ]
  },
  {
   "cell_type": "code",
   "execution_count": 64,
   "metadata": {
    "tags": []
   },
   "outputs": [
    {
     "data": {
      "text/html": [
       "<div>\n",
       "<style scoped>\n",
       "    .dataframe tbody tr th:only-of-type {\n",
       "        vertical-align: middle;\n",
       "    }\n",
       "\n",
       "    .dataframe tbody tr th {\n",
       "        vertical-align: top;\n",
       "    }\n",
       "\n",
       "    .dataframe thead th {\n",
       "        text-align: right;\n",
       "    }\n",
       "</style>\n",
       "<table border=\"1\" class=\"dataframe\">\n",
       "  <thead>\n",
       "    <tr style=\"text-align: right;\">\n",
       "      <th></th>\n",
       "      <th>Interest Rate</th>\n",
       "      <th>Interest Rate pct_change</th>\n",
       "      <th>Difference in Interest Rate</th>\n",
       "    </tr>\n",
       "    <tr>\n",
       "      <th>date</th>\n",
       "      <th></th>\n",
       "      <th></th>\n",
       "      <th></th>\n",
       "    </tr>\n",
       "  </thead>\n",
       "  <tbody>\n",
       "    <tr>\n",
       "      <th>1954-08-01</th>\n",
       "      <td>1.22</td>\n",
       "      <td>0.525000</td>\n",
       "      <td>0.42</td>\n",
       "    </tr>\n",
       "    <tr>\n",
       "      <th>1954-09-01</th>\n",
       "      <td>1.07</td>\n",
       "      <td>-0.122951</td>\n",
       "      <td>-0.15</td>\n",
       "    </tr>\n",
       "    <tr>\n",
       "      <th>1954-10-01</th>\n",
       "      <td>0.85</td>\n",
       "      <td>-0.205607</td>\n",
       "      <td>-0.22</td>\n",
       "    </tr>\n",
       "    <tr>\n",
       "      <th>1954-11-01</th>\n",
       "      <td>0.83</td>\n",
       "      <td>-0.023529</td>\n",
       "      <td>-0.02</td>\n",
       "    </tr>\n",
       "    <tr>\n",
       "      <th>1954-12-01</th>\n",
       "      <td>1.28</td>\n",
       "      <td>0.542169</td>\n",
       "      <td>0.45</td>\n",
       "    </tr>\n",
       "  </tbody>\n",
       "</table>\n",
       "</div>"
      ],
      "text/plain": [
       "            Interest Rate  Interest Rate pct_change  \\\n",
       "date                                                  \n",
       "1954-08-01           1.22                  0.525000   \n",
       "1954-09-01           1.07                 -0.122951   \n",
       "1954-10-01           0.85                 -0.205607   \n",
       "1954-11-01           0.83                 -0.023529   \n",
       "1954-12-01           1.28                  0.542169   \n",
       "\n",
       "            Difference in Interest Rate  \n",
       "date                                     \n",
       "1954-08-01                         0.42  \n",
       "1954-09-01                        -0.15  \n",
       "1954-10-01                        -0.22  \n",
       "1954-11-01                        -0.02  \n",
       "1954-12-01                         0.45  "
      ]
     },
     "metadata": {},
     "output_type": "display_data"
    },
    {
     "data": {
      "text/html": [
       "<div>\n",
       "<style scoped>\n",
       "    .dataframe tbody tr th:only-of-type {\n",
       "        vertical-align: middle;\n",
       "    }\n",
       "\n",
       "    .dataframe tbody tr th {\n",
       "        vertical-align: top;\n",
       "    }\n",
       "\n",
       "    .dataframe thead th {\n",
       "        text-align: right;\n",
       "    }\n",
       "</style>\n",
       "<table border=\"1\" class=\"dataframe\">\n",
       "  <thead>\n",
       "    <tr style=\"text-align: right;\">\n",
       "      <th></th>\n",
       "      <th>HPI</th>\n",
       "      <th>HPI pct_change</th>\n",
       "      <th>Difference in HPI</th>\n",
       "    </tr>\n",
       "    <tr>\n",
       "      <th>date</th>\n",
       "      <th></th>\n",
       "      <th></th>\n",
       "      <th></th>\n",
       "    </tr>\n",
       "  </thead>\n",
       "  <tbody>\n",
       "    <tr>\n",
       "      <th>1975-04-01</th>\n",
       "      <td>60.76</td>\n",
       "      <td>0.014188</td>\n",
       "      <td>0.85</td>\n",
       "    </tr>\n",
       "    <tr>\n",
       "      <th>1975-07-01</th>\n",
       "      <td>61.16</td>\n",
       "      <td>0.006583</td>\n",
       "      <td>0.40</td>\n",
       "    </tr>\n",
       "    <tr>\n",
       "      <th>1975-10-01</th>\n",
       "      <td>62.22</td>\n",
       "      <td>0.017332</td>\n",
       "      <td>1.06</td>\n",
       "    </tr>\n",
       "    <tr>\n",
       "      <th>1976-01-01</th>\n",
       "      <td>62.85</td>\n",
       "      <td>0.010125</td>\n",
       "      <td>0.63</td>\n",
       "    </tr>\n",
       "    <tr>\n",
       "      <th>1976-04-01</th>\n",
       "      <td>65.43</td>\n",
       "      <td>0.041050</td>\n",
       "      <td>2.58</td>\n",
       "    </tr>\n",
       "  </tbody>\n",
       "</table>\n",
       "</div>"
      ],
      "text/plain": [
       "              HPI  HPI pct_change  Difference in HPI\n",
       "date                                                \n",
       "1975-04-01  60.76        0.014188               0.85\n",
       "1975-07-01  61.16        0.006583               0.40\n",
       "1975-10-01  62.22        0.017332               1.06\n",
       "1976-01-01  62.85        0.010125               0.63\n",
       "1976-04-01  65.43        0.041050               2.58"
      ]
     },
     "metadata": {},
     "output_type": "display_data"
    }
   ],
   "source": [
    "# Rename columns to 'Interest Rate','Interest Rate pct_change','Difference in Interest Rate'\n",
    "dataframes[\"FEDFUNDS\"].columns=[\"Interest Rate\",\"Interest Rate pct_change\",\"Difference in Interest Rate\"]\n",
    "display(dataframes[\"FEDFUNDS\"].head())\n",
    "\n",
    "# Rename Columns to 'House Price Index', HPI pct_change'\n",
    "dataframes[\"USSTHPI\"].columns = ['HPI','HPI pct_change','Difference in HPI']\n",
    "display(dataframes[\"USSTHPI\"].head())"
   ]
  },
  {
   "cell_type": "markdown",
   "metadata": {},
   "source": [
    "#### Combine Interest Rate and Housing Price Index for the United States"
   ]
  },
  {
   "cell_type": "code",
   "execution_count": 65,
   "metadata": {
    "tags": []
   },
   "outputs": [
    {
     "data": {
      "text/html": [
       "<div>\n",
       "<style scoped>\n",
       "    .dataframe tbody tr th:only-of-type {\n",
       "        vertical-align: middle;\n",
       "    }\n",
       "\n",
       "    .dataframe tbody tr th {\n",
       "        vertical-align: top;\n",
       "    }\n",
       "\n",
       "    .dataframe thead th {\n",
       "        text-align: right;\n",
       "    }\n",
       "</style>\n",
       "<table border=\"1\" class=\"dataframe\">\n",
       "  <thead>\n",
       "    <tr style=\"text-align: right;\">\n",
       "      <th></th>\n",
       "      <th>Interest Rate</th>\n",
       "      <th>Interest Rate pct_change</th>\n",
       "      <th>Difference in Interest Rate</th>\n",
       "      <th>HPI</th>\n",
       "      <th>HPI pct_change</th>\n",
       "      <th>Difference in HPI</th>\n",
       "    </tr>\n",
       "    <tr>\n",
       "      <th>date</th>\n",
       "      <th></th>\n",
       "      <th></th>\n",
       "      <th></th>\n",
       "      <th></th>\n",
       "      <th></th>\n",
       "      <th></th>\n",
       "    </tr>\n",
       "  </thead>\n",
       "  <tbody>\n",
       "    <tr>\n",
       "      <th>1975-04-01</th>\n",
       "      <td>5.49</td>\n",
       "      <td>-0.009025</td>\n",
       "      <td>-0.05</td>\n",
       "      <td>60.76</td>\n",
       "      <td>0.014188</td>\n",
       "      <td>0.85</td>\n",
       "    </tr>\n",
       "    <tr>\n",
       "      <th>1975-07-01</th>\n",
       "      <td>6.10</td>\n",
       "      <td>0.099099</td>\n",
       "      <td>0.55</td>\n",
       "      <td>61.16</td>\n",
       "      <td>0.006583</td>\n",
       "      <td>0.40</td>\n",
       "    </tr>\n",
       "    <tr>\n",
       "      <th>1975-10-01</th>\n",
       "      <td>5.82</td>\n",
       "      <td>-0.067308</td>\n",
       "      <td>-0.42</td>\n",
       "      <td>62.22</td>\n",
       "      <td>0.017332</td>\n",
       "      <td>1.06</td>\n",
       "    </tr>\n",
       "    <tr>\n",
       "      <th>1976-01-01</th>\n",
       "      <td>4.87</td>\n",
       "      <td>-0.063462</td>\n",
       "      <td>-0.33</td>\n",
       "      <td>62.85</td>\n",
       "      <td>0.010125</td>\n",
       "      <td>0.63</td>\n",
       "    </tr>\n",
       "    <tr>\n",
       "      <th>1976-04-01</th>\n",
       "      <td>4.82</td>\n",
       "      <td>-0.004132</td>\n",
       "      <td>-0.02</td>\n",
       "      <td>65.43</td>\n",
       "      <td>0.041050</td>\n",
       "      <td>2.58</td>\n",
       "    </tr>\n",
       "  </tbody>\n",
       "</table>\n",
       "</div>"
      ],
      "text/plain": [
       "            Interest Rate  Interest Rate pct_change  \\\n",
       "date                                                  \n",
       "1975-04-01           5.49                 -0.009025   \n",
       "1975-07-01           6.10                  0.099099   \n",
       "1975-10-01           5.82                 -0.067308   \n",
       "1976-01-01           4.87                 -0.063462   \n",
       "1976-04-01           4.82                 -0.004132   \n",
       "\n",
       "            Difference in Interest Rate    HPI  HPI pct_change  \\\n",
       "date                                                             \n",
       "1975-04-01                        -0.05  60.76        0.014188   \n",
       "1975-07-01                         0.55  61.16        0.006583   \n",
       "1975-10-01                        -0.42  62.22        0.017332   \n",
       "1976-01-01                        -0.33  62.85        0.010125   \n",
       "1976-04-01                        -0.02  65.43        0.041050   \n",
       "\n",
       "            Difference in HPI  \n",
       "date                           \n",
       "1975-04-01               0.85  \n",
       "1975-07-01               0.40  \n",
       "1975-10-01               1.06  \n",
       "1976-01-01               0.63  \n",
       "1976-04-01               2.58  "
      ]
     },
     "execution_count": 65,
     "metadata": {},
     "output_type": "execute_result"
    }
   ],
   "source": [
    "# Use 'concat' function to combine the two DataFrames by matching indexes\n",
    "fed_rate_combined_df = pd.concat([dataframes[\"FEDFUNDS\"],dataframes[\"USSTHPI\"]],axis=\"columns\",join=\"inner\")\n",
    "fed_rate_combined_df.head()"
   ]
  },
  {
   "cell_type": "code",
   "execution_count": 66,
   "metadata": {
    "tags": []
   },
   "outputs": [
    {
     "data": {
      "text/html": [
       "<div>\n",
       "<style scoped>\n",
       "    .dataframe tbody tr th:only-of-type {\n",
       "        vertical-align: middle;\n",
       "    }\n",
       "\n",
       "    .dataframe tbody tr th {\n",
       "        vertical-align: top;\n",
       "    }\n",
       "\n",
       "    .dataframe thead th {\n",
       "        text-align: right;\n",
       "    }\n",
       "</style>\n",
       "<table border=\"1\" class=\"dataframe\">\n",
       "  <thead>\n",
       "    <tr style=\"text-align: right;\">\n",
       "      <th></th>\n",
       "      <th>Interest Rate</th>\n",
       "      <th>Difference in HPI</th>\n",
       "    </tr>\n",
       "    <tr>\n",
       "      <th>date</th>\n",
       "      <th></th>\n",
       "      <th></th>\n",
       "    </tr>\n",
       "  </thead>\n",
       "  <tbody>\n",
       "    <tr>\n",
       "      <th>1975-04-01</th>\n",
       "      <td>5.49</td>\n",
       "      <td>0.85</td>\n",
       "    </tr>\n",
       "    <tr>\n",
       "      <th>1975-07-01</th>\n",
       "      <td>6.10</td>\n",
       "      <td>0.40</td>\n",
       "    </tr>\n",
       "    <tr>\n",
       "      <th>1975-10-01</th>\n",
       "      <td>5.82</td>\n",
       "      <td>1.06</td>\n",
       "    </tr>\n",
       "    <tr>\n",
       "      <th>1976-01-01</th>\n",
       "      <td>4.87</td>\n",
       "      <td>0.63</td>\n",
       "    </tr>\n",
       "    <tr>\n",
       "      <th>1976-04-01</th>\n",
       "      <td>4.82</td>\n",
       "      <td>2.58</td>\n",
       "    </tr>\n",
       "  </tbody>\n",
       "</table>\n",
       "</div>"
      ],
      "text/plain": [
       "            Interest Rate  Difference in HPI\n",
       "date                                        \n",
       "1975-04-01           5.49               0.85\n",
       "1975-07-01           6.10               0.40\n",
       "1975-10-01           5.82               1.06\n",
       "1976-01-01           4.87               0.63\n",
       "1976-04-01           4.82               2.58"
      ]
     },
     "execution_count": 66,
     "metadata": {},
     "output_type": "execute_result"
    }
   ],
   "source": [
    "# Drop Columns 'Interest Rate','Interest Rate pct_change','HPI','HPI pct_change'\n",
    "fed_rate_combined_df = fed_rate_combined_df.drop(columns=[\"Difference in Interest Rate\",\"Interest Rate pct_change\",\"HPI\",\"HPI pct_change\"])\n",
    "fed_rate_combined_df.head()"
   ]
  },
  {
   "cell_type": "markdown",
   "metadata": {},
   "source": [
    "#### Conduct House Price Index and Interest Rate Analysis"
   ]
  },
  {
   "cell_type": "code",
   "execution_count": 67,
   "metadata": {
    "tags": []
   },
   "outputs": [
    {
     "data": {},
     "metadata": {},
     "output_type": "display_data"
    },
    {
     "data": {
      "application/vnd.holoviews_exec.v0+json": "",
      "text/html": [
       "<div id='p3318'>\n",
       "  <div id=\"dcf880b9-e42b-4620-885f-b58c820ae00b\" data-root-id=\"p3318\" style=\"display: contents;\"></div>\n",
       "</div>\n",
       "<script type=\"application/javascript\">(function(root) {\n",
       "  var docs_json = {\"169764a6-a292-4d04-ad12-a90a9b33d00c\":{\"version\":\"3.2.2\",\"title\":\"Bokeh Application\",\"roots\":[{\"type\":\"object\",\"name\":\"Row\",\"id\":\"p3318\",\"attributes\":{\"name\":\"Row05235\",\"tags\":[\"embedded\"],\"stylesheets\":[\"\\n:host(.pn-loading.pn-arc):before, .pn-loading.pn-arc:before {\\n  background-image: url(\\\"data:image/svg+xml;base64,PHN2ZyB4bWxucz0iaHR0cDovL3d3dy53My5vcmcvMjAwMC9zdmciIHN0eWxlPSJtYXJnaW46IGF1dG87IGJhY2tncm91bmQ6IG5vbmU7IGRpc3BsYXk6IGJsb2NrOyBzaGFwZS1yZW5kZXJpbmc6IGF1dG87IiB2aWV3Qm94PSIwIDAgMTAwIDEwMCIgcHJlc2VydmVBc3BlY3RSYXRpbz0ieE1pZFlNaWQiPiAgPGNpcmNsZSBjeD0iNTAiIGN5PSI1MCIgZmlsbD0ibm9uZSIgc3Ryb2tlPSIjYzNjM2MzIiBzdHJva2Utd2lkdGg9IjEwIiByPSIzNSIgc3Ryb2tlLWRhc2hhcnJheT0iMTY0LjkzMzYxNDMxMzQ2NDE1IDU2Ljk3Nzg3MTQzNzgyMTM4Ij4gICAgPGFuaW1hdGVUcmFuc2Zvcm0gYXR0cmlidXRlTmFtZT0idHJhbnNmb3JtIiB0eXBlPSJyb3RhdGUiIHJlcGVhdENvdW50PSJpbmRlZmluaXRlIiBkdXI9IjFzIiB2YWx1ZXM9IjAgNTAgNTA7MzYwIDUwIDUwIiBrZXlUaW1lcz0iMDsxIj48L2FuaW1hdGVUcmFuc2Zvcm0+ICA8L2NpcmNsZT48L3N2Zz4=\\\");\\n  background-size: auto calc(min(50%, 400px));\\n}\",{\"type\":\"object\",\"name\":\"ImportedStyleSheet\",\"id\":\"p3321\",\"attributes\":{\"url\":\"https://cdn.holoviz.org/panel/1.2.3/dist/css/loading.css\"}},{\"type\":\"object\",\"name\":\"ImportedStyleSheet\",\"id\":\"p3404\",\"attributes\":{\"url\":\"https://cdn.holoviz.org/panel/1.2.3/dist/css/listpanel.css\"}},{\"type\":\"object\",\"name\":\"ImportedStyleSheet\",\"id\":\"p3319\",\"attributes\":{\"url\":\"https://cdn.holoviz.org/panel/1.2.3/dist/bundled/theme/default.css\"}},{\"type\":\"object\",\"name\":\"ImportedStyleSheet\",\"id\":\"p3320\",\"attributes\":{\"url\":\"https://cdn.holoviz.org/panel/1.2.3/dist/bundled/theme/native.css\"}}],\"min_width\":700,\"margin\":0,\"sizing_mode\":\"stretch_width\",\"align\":\"start\",\"children\":[{\"type\":\"object\",\"name\":\"Spacer\",\"id\":\"p3322\",\"attributes\":{\"name\":\"HSpacer05246\",\"stylesheets\":[\"\\n:host(.pn-loading.pn-arc):before, .pn-loading.pn-arc:before {\\n  background-image: url(\\\"data:image/svg+xml;base64,PHN2ZyB4bWxucz0iaHR0cDovL3d3dy53My5vcmcvMjAwMC9zdmciIHN0eWxlPSJtYXJnaW46IGF1dG87IGJhY2tncm91bmQ6IG5vbmU7IGRpc3BsYXk6IGJsb2NrOyBzaGFwZS1yZW5kZXJpbmc6IGF1dG87IiB2aWV3Qm94PSIwIDAgMTAwIDEwMCIgcHJlc2VydmVBc3BlY3RSYXRpbz0ieE1pZFlNaWQiPiAgPGNpcmNsZSBjeD0iNTAiIGN5PSI1MCIgZmlsbD0ibm9uZSIgc3Ryb2tlPSIjYzNjM2MzIiBzdHJva2Utd2lkdGg9IjEwIiByPSIzNSIgc3Ryb2tlLWRhc2hhcnJheT0iMTY0LjkzMzYxNDMxMzQ2NDE1IDU2Ljk3Nzg3MTQzNzgyMTM4Ij4gICAgPGFuaW1hdGVUcmFuc2Zvcm0gYXR0cmlidXRlTmFtZT0idHJhbnNmb3JtIiB0eXBlPSJyb3RhdGUiIHJlcGVhdENvdW50PSJpbmRlZmluaXRlIiBkdXI9IjFzIiB2YWx1ZXM9IjAgNTAgNTA7MzYwIDUwIDUwIiBrZXlUaW1lcz0iMDsxIj48L2FuaW1hdGVUcmFuc2Zvcm0+ICA8L2NpcmNsZT48L3N2Zz4=\\\");\\n  background-size: auto calc(min(50%, 400px));\\n}\",{\"id\":\"p3321\"},{\"id\":\"p3319\"},{\"id\":\"p3320\"}],\"margin\":0,\"sizing_mode\":\"stretch_width\",\"align\":\"start\"}},{\"type\":\"object\",\"name\":\"Figure\",\"id\":\"p3333\",\"attributes\":{\"width\":700,\"height\":300,\"margin\":[5,10],\"sizing_mode\":\"fixed\",\"align\":\"start\",\"x_range\":{\"type\":\"object\",\"name\":\"Range1d\",\"id\":\"p3323\",\"attributes\":{\"tags\":[[[\"date\",\"date\",null]],[]],\"start\":165542400000.0,\"end\":1680307200000.0,\"reset_start\":165542400000.0,\"reset_end\":1680307200000.0}},\"y_range\":{\"type\":\"object\",\"name\":\"Range1d\",\"id\":\"p3324\",\"attributes\":{\"tags\":[[[\"value\",\"value\",null]],{\"type\":\"map\",\"entries\":[[\"invert_yaxis\",false],[\"autorange\",false]]}],\"start\":-16.467000000000002,\"end\":43.97699999999993,\"reset_start\":-16.467000000000002,\"reset_end\":43.97699999999993}},\"x_scale\":{\"type\":\"object\",\"name\":\"LinearScale\",\"id\":\"p3343\"},\"y_scale\":{\"type\":\"object\",\"name\":\"LinearScale\",\"id\":\"p3344\"},\"title\":{\"type\":\"object\",\"name\":\"Title\",\"id\":\"p3336\",\"attributes\":{\"text\":\"House Price Index and Fedral Interest Rate\",\"text_color\":\"black\",\"text_font_size\":\"12pt\"}},\"renderers\":[{\"type\":\"object\",\"name\":\"GlyphRenderer\",\"id\":\"p3381\",\"attributes\":{\"name\":\"Interest Rate\",\"data_source\":{\"type\":\"object\",\"name\":\"ColumnDataSource\",\"id\":\"p3372\",\"attributes\":{\"selected\":{\"type\":\"object\",\"name\":\"Selection\",\"id\":\"p3373\",\"attributes\":{\"indices\":[],\"line_indices\":[]}},\"selection_policy\":{\"type\":\"object\",\"name\":\"UnionRenderers\",\"id\":\"p3374\"},\"data\":{\"type\":\"map\",\"entries\":[[\"date\",{\"type\":\"ndarray\",\"array\":{\"type\":\"bytes\",\"data\":\"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\"},\"shape\":[193],\"dtype\":\"float64\",\"order\":\"little\"}],[\"value\",{\"type\":\"ndarray\",\"array\":{\"type\":\"bytes\",\"data\":\"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\"},\"shape\":[193],\"dtype\":\"float64\",\"order\":\"little\"}],[\"Variable\",[\"Interest Rate\",\"Interest Rate\",\"Interest Rate\",\"Interest Rate\",\"Interest Rate\",\"Interest Rate\",\"Interest Rate\",\"Interest Rate\",\"Interest Rate\",\"Interest Rate\",\"Interest Rate\",\"Interest Rate\",\"Interest Rate\",\"Interest Rate\",\"Interest Rate\",\"Interest Rate\",\"Interest Rate\",\"Interest Rate\",\"Interest Rate\",\"Interest Rate\",\"Interest Rate\",\"Interest Rate\",\"Interest Rate\",\"Interest Rate\",\"Interest Rate\",\"Interest Rate\",\"Interest Rate\",\"Interest Rate\",\"Interest Rate\",\"Interest Rate\",\"Interest Rate\",\"Interest Rate\",\"Interest Rate\",\"Interest Rate\",\"Interest Rate\",\"Interest Rate\",\"Interest Rate\",\"Interest Rate\",\"Interest Rate\",\"Interest Rate\",\"Interest Rate\",\"Interest Rate\",\"Interest Rate\",\"Interest Rate\",\"Interest Rate\",\"Interest Rate\",\"Interest Rate\",\"Interest Rate\",\"Interest Rate\",\"Interest Rate\",\"Interest Rate\",\"Interest Rate\",\"Interest Rate\",\"Interest Rate\",\"Interest Rate\",\"Interest Rate\",\"Interest Rate\",\"Interest Rate\",\"Interest Rate\",\"Interest Rate\",\"Interest Rate\",\"Interest Rate\",\"Interest Rate\",\"Interest Rate\",\"Interest Rate\",\"Interest Rate\",\"Interest Rate\",\"Interest Rate\",\"Interest Rate\",\"Interest Rate\",\"Interest Rate\",\"Interest Rate\",\"Interest Rate\",\"Interest Rate\",\"Interest Rate\",\"Interest Rate\",\"Interest Rate\",\"Interest Rate\",\"Interest Rate\",\"Interest Rate\",\"Interest Rate\",\"Interest Rate\",\"Interest Rate\",\"Interest Rate\",\"Interest Rate\",\"Interest Rate\",\"Interest Rate\",\"Interest Rate\",\"Interest Rate\",\"Interest Rate\",\"Interest Rate\",\"Interest Rate\",\"Interest Rate\",\"Interest Rate\",\"Interest Rate\",\"Interest Rate\",\"Interest Rate\",\"Interest Rate\",\"Interest Rate\",\"Interest Rate\",\"Interest Rate\",\"Interest Rate\",\"Interest Rate\",\"Interest Rate\",\"Interest Rate\",\"Interest Rate\",\"Interest Rate\",\"Interest Rate\",\"Interest Rate\",\"Interest Rate\",\"Interest Rate\",\"Interest Rate\",\"Interest Rate\",\"Interest Rate\",\"Interest Rate\",\"Interest Rate\",\"Interest Rate\",\"Interest Rate\",\"Interest Rate\",\"Interest Rate\",\"Interest Rate\",\"Interest Rate\",\"Interest Rate\",\"Interest Rate\",\"Interest Rate\",\"Interest Rate\",\"Interest Rate\",\"Interest Rate\",\"Interest Rate\",\"Interest Rate\",\"Interest Rate\",\"Interest Rate\",\"Interest Rate\",\"Interest Rate\",\"Interest Rate\",\"Interest Rate\",\"Interest Rate\",\"Interest Rate\",\"Interest Rate\",\"Interest Rate\",\"Interest Rate\",\"Interest Rate\",\"Interest Rate\",\"Interest Rate\",\"Interest Rate\",\"Interest Rate\",\"Interest Rate\",\"Interest Rate\",\"Interest Rate\",\"Interest Rate\",\"Interest Rate\",\"Interest Rate\",\"Interest Rate\",\"Interest Rate\",\"Interest Rate\",\"Interest Rate\",\"Interest Rate\",\"Interest Rate\",\"Interest Rate\",\"Interest Rate\",\"Interest Rate\",\"Interest Rate\",\"Interest Rate\",\"Interest Rate\",\"Interest Rate\",\"Interest Rate\",\"Interest Rate\",\"Interest Rate\",\"Interest Rate\",\"Interest Rate\",\"Interest Rate\",\"Interest Rate\",\"Interest Rate\",\"Interest Rate\",\"Interest Rate\",\"Interest Rate\",\"Interest Rate\",\"Interest Rate\",\"Interest Rate\",\"Interest Rate\",\"Interest Rate\",\"Interest Rate\",\"Interest Rate\",\"Interest Rate\",\"Interest Rate\",\"Interest Rate\",\"Interest Rate\",\"Interest Rate\",\"Interest Rate\",\"Interest Rate\",\"Interest Rate\",\"Interest Rate\",\"Interest Rate\"]]]}}},\"view\":{\"type\":\"object\",\"name\":\"CDSView\",\"id\":\"p3382\",\"attributes\":{\"filter\":{\"type\":\"object\",\"name\":\"AllIndices\",\"id\":\"p3383\"}}},\"glyph\":{\"type\":\"object\",\"name\":\"Line\",\"id\":\"p3378\",\"attributes\":{\"tags\":[\"apply_ranges\"],\"x\":{\"type\":\"field\",\"field\":\"date\"},\"y\":{\"type\":\"field\",\"field\":\"value\"},\"line_color\":\"#30a2da\",\"line_width\":2}},\"selection_glyph\":{\"type\":\"object\",\"name\":\"Line\",\"id\":\"p3386\",\"attributes\":{\"tags\":[\"apply_ranges\"],\"x\":{\"type\":\"field\",\"field\":\"date\"},\"y\":{\"type\":\"field\",\"field\":\"value\"},\"line_color\":\"#30a2da\",\"line_width\":2}},\"nonselection_glyph\":{\"type\":\"object\",\"name\":\"Line\",\"id\":\"p3379\",\"attributes\":{\"tags\":[\"apply_ranges\"],\"x\":{\"type\":\"field\",\"field\":\"date\"},\"y\":{\"type\":\"field\",\"field\":\"value\"},\"line_color\":\"#30a2da\",\"line_alpha\":0.1,\"line_width\":2}},\"muted_glyph\":{\"type\":\"object\",\"name\":\"Line\",\"id\":\"p3380\",\"attributes\":{\"tags\":[\"apply_ranges\"],\"x\":{\"type\":\"field\",\"field\":\"date\"},\"y\":{\"type\":\"field\",\"field\":\"value\"},\"line_color\":\"#30a2da\",\"line_alpha\":0.2,\"line_width\":2}}}},{\"type\":\"object\",\"name\":\"GlyphRenderer\",\"id\":\"p3396\",\"attributes\":{\"name\":\"Difference in HPI\",\"data_source\":{\"type\":\"object\",\"name\":\"ColumnDataSource\",\"id\":\"p3387\",\"attributes\":{\"selected\":{\"type\":\"object\",\"name\":\"Selection\",\"id\":\"p3388\",\"attributes\":{\"indices\":[],\"line_indices\":[]}},\"selection_policy\":{\"type\":\"object\",\"name\":\"UnionRenderers\",\"id\":\"p3389\"},\"data\":{\"type\":\"map\",\"entries\":[[\"date\",{\"type\":\"ndarray\",\"array\":{\"type\":\"bytes\",\"data\":\"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\"},\"shape\":[193],\"dtype\":\"float64\",\"order\":\"little\"}],[\"value\",{\"type\":\"ndarray\",\"array\":{\"type\":\"bytes\",\"data\":\"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\"},\"shape\":[193],\"dtype\":\"float64\",\"order\":\"little\"}],[\"Variable\",[\"Difference in HPI\",\"Difference in HPI\",\"Difference in HPI\",\"Difference in HPI\",\"Difference in HPI\",\"Difference in HPI\",\"Difference in HPI\",\"Difference in HPI\",\"Difference in HPI\",\"Difference in HPI\",\"Difference in HPI\",\"Difference in HPI\",\"Difference in HPI\",\"Difference in HPI\",\"Difference in HPI\",\"Difference in HPI\",\"Difference in HPI\",\"Difference in HPI\",\"Difference in HPI\",\"Difference in HPI\",\"Difference in HPI\",\"Difference in HPI\",\"Difference in HPI\",\"Difference in HPI\",\"Difference in HPI\",\"Difference in HPI\",\"Difference in HPI\",\"Difference in HPI\",\"Difference in HPI\",\"Difference in HPI\",\"Difference in HPI\",\"Difference in HPI\",\"Difference in HPI\",\"Difference in HPI\",\"Difference in HPI\",\"Difference in HPI\",\"Difference in HPI\",\"Difference in HPI\",\"Difference in HPI\",\"Difference in HPI\",\"Difference in HPI\",\"Difference in HPI\",\"Difference in HPI\",\"Difference in HPI\",\"Difference in HPI\",\"Difference in HPI\",\"Difference in HPI\",\"Difference in HPI\",\"Difference in HPI\",\"Difference in HPI\",\"Difference in HPI\",\"Difference in HPI\",\"Difference in HPI\",\"Difference in HPI\",\"Difference in HPI\",\"Difference in HPI\",\"Difference in HPI\",\"Difference in HPI\",\"Difference in HPI\",\"Difference in HPI\",\"Difference in HPI\",\"Difference in HPI\",\"Difference in HPI\",\"Difference in HPI\",\"Difference in HPI\",\"Difference in HPI\",\"Difference in HPI\",\"Difference in HPI\",\"Difference in HPI\",\"Difference in HPI\",\"Difference in HPI\",\"Difference in HPI\",\"Difference in HPI\",\"Difference in HPI\",\"Difference in HPI\",\"Difference in HPI\",\"Difference in HPI\",\"Difference in HPI\",\"Difference in HPI\",\"Difference in HPI\",\"Difference in HPI\",\"Difference in HPI\",\"Difference in HPI\",\"Difference in HPI\",\"Difference in HPI\",\"Difference in HPI\",\"Difference in HPI\",\"Difference in HPI\",\"Difference in HPI\",\"Difference in HPI\",\"Difference in HPI\",\"Difference in HPI\",\"Difference in HPI\",\"Difference in HPI\",\"Difference in HPI\",\"Difference in HPI\",\"Difference in HPI\",\"Difference in HPI\",\"Difference in HPI\",\"Difference in HPI\",\"Difference in HPI\",\"Difference in HPI\",\"Difference in HPI\",\"Difference in HPI\",\"Difference in HPI\",\"Difference in HPI\",\"Difference in HPI\",\"Difference in HPI\",\"Difference in HPI\",\"Difference in HPI\",\"Difference in HPI\",\"Difference in HPI\",\"Difference in HPI\",\"Difference in HPI\",\"Difference in HPI\",\"Difference in HPI\",\"Difference in HPI\",\"Difference in HPI\",\"Difference in HPI\",\"Difference in HPI\",\"Difference in HPI\",\"Difference in HPI\",\"Difference in HPI\",\"Difference in HPI\",\"Difference in HPI\",\"Difference in HPI\",\"Difference in HPI\",\"Difference in HPI\",\"Difference in HPI\",\"Difference in HPI\",\"Difference in HPI\",\"Difference in HPI\",\"Difference in HPI\",\"Difference in HPI\",\"Difference in HPI\",\"Difference in HPI\",\"Difference in HPI\",\"Difference in HPI\",\"Difference in HPI\",\"Difference in HPI\",\"Difference in HPI\",\"Difference in HPI\",\"Difference in HPI\",\"Difference in HPI\",\"Difference in HPI\",\"Difference in HPI\",\"Difference in HPI\",\"Difference in HPI\",\"Difference in HPI\",\"Difference in HPI\",\"Difference in HPI\",\"Difference in HPI\",\"Difference in HPI\",\"Difference in HPI\",\"Difference in HPI\",\"Difference in HPI\",\"Difference in HPI\",\"Difference in HPI\",\"Difference in HPI\",\"Difference in HPI\",\"Difference in HPI\",\"Difference in HPI\",\"Difference in HPI\",\"Difference in HPI\",\"Difference in HPI\",\"Difference in HPI\",\"Difference in HPI\",\"Difference in HPI\",\"Difference in HPI\",\"Difference in HPI\",\"Difference in HPI\",\"Difference in HPI\",\"Difference in HPI\",\"Difference in HPI\",\"Difference in HPI\",\"Difference in HPI\",\"Difference in HPI\",\"Difference in HPI\",\"Difference in HPI\",\"Difference in HPI\",\"Difference in HPI\",\"Difference in HPI\",\"Difference in HPI\",\"Difference in HPI\",\"Difference in HPI\",\"Difference in HPI\",\"Difference in HPI\",\"Difference in HPI\",\"Difference in HPI\",\"Difference in HPI\",\"Difference in HPI\",\"Difference in HPI\",\"Difference in HPI\"]]]}}},\"view\":{\"type\":\"object\",\"name\":\"CDSView\",\"id\":\"p3397\",\"attributes\":{\"filter\":{\"type\":\"object\",\"name\":\"AllIndices\",\"id\":\"p3398\"}}},\"glyph\":{\"type\":\"object\",\"name\":\"Line\",\"id\":\"p3393\",\"attributes\":{\"tags\":[\"apply_ranges\"],\"x\":{\"type\":\"field\",\"field\":\"date\"},\"y\":{\"type\":\"field\",\"field\":\"value\"},\"line_color\":\"#fc4f30\",\"line_width\":2}},\"selection_glyph\":{\"type\":\"object\",\"name\":\"Line\",\"id\":\"p3400\",\"attributes\":{\"tags\":[\"apply_ranges\"],\"x\":{\"type\":\"field\",\"field\":\"date\"},\"y\":{\"type\":\"field\",\"field\":\"value\"},\"line_color\":\"#fc4f30\",\"line_width\":2}},\"nonselection_glyph\":{\"type\":\"object\",\"name\":\"Line\",\"id\":\"p3394\",\"attributes\":{\"tags\":[\"apply_ranges\"],\"x\":{\"type\":\"field\",\"field\":\"date\"},\"y\":{\"type\":\"field\",\"field\":\"value\"},\"line_color\":\"#fc4f30\",\"line_alpha\":0.1,\"line_width\":2}},\"muted_glyph\":{\"type\":\"object\",\"name\":\"Line\",\"id\":\"p3395\",\"attributes\":{\"tags\":[\"apply_ranges\"],\"x\":{\"type\":\"field\",\"field\":\"date\"},\"y\":{\"type\":\"field\",\"field\":\"value\"},\"line_color\":\"#fc4f30\",\"line_alpha\":0.2,\"line_width\":2}}}}],\"toolbar\":{\"type\":\"object\",\"name\":\"Toolbar\",\"id\":\"p3342\",\"attributes\":{\"tools\":[{\"type\":\"object\",\"name\":\"WheelZoomTool\",\"id\":\"p3328\",\"attributes\":{\"tags\":[\"hv_created\"],\"zoom_together\":\"none\"}},{\"type\":\"object\",\"name\":\"HoverTool\",\"id\":\"p3329\",\"attributes\":{\"tags\":[\"hv_created\"],\"renderers\":[{\"id\":\"p3381\"},{\"id\":\"p3396\"}],\"tooltips\":[[\"Variable\",\"@{Variable}\"],[\"date\",\"@{date}{%F %T}\"],[\"value\",\"@{value}\"]],\"formatters\":{\"type\":\"map\",\"entries\":[[\"@{date}\",\"datetime\"]]}}},{\"type\":\"object\",\"name\":\"SaveTool\",\"id\":\"p3367\"},{\"type\":\"object\",\"name\":\"PanTool\",\"id\":\"p3368\"},{\"type\":\"object\",\"name\":\"BoxZoomTool\",\"id\":\"p3369\",\"attributes\":{\"overlay\":{\"type\":\"object\",\"name\":\"BoxAnnotation\",\"id\":\"p3370\",\"attributes\":{\"syncable\":false,\"level\":\"overlay\",\"visible\":false,\"left_units\":\"canvas\",\"right_units\":\"canvas\",\"bottom_units\":\"canvas\",\"top_units\":\"canvas\",\"line_color\":\"black\",\"line_alpha\":1.0,\"line_width\":2,\"line_dash\":[4,4],\"fill_color\":\"lightgrey\",\"fill_alpha\":0.5}}}},{\"type\":\"object\",\"name\":\"ResetTool\",\"id\":\"p3371\"}],\"active_drag\":{\"id\":\"p3368\"},\"active_scroll\":{\"id\":\"p3328\"}}},\"left\":[{\"type\":\"object\",\"name\":\"LinearAxis\",\"id\":\"p3362\",\"attributes\":{\"ticker\":{\"type\":\"object\",\"name\":\"BasicTicker\",\"id\":\"p3363\",\"attributes\":{\"mantissas\":[1,2,5]}},\"formatter\":{\"type\":\"object\",\"name\":\"BasicTickFormatter\",\"id\":\"p3364\"},\"axis_label\":\"Difference\",\"major_label_policy\":{\"type\":\"object\",\"name\":\"AllLabels\",\"id\":\"p3365\"}}}],\"right\":[{\"type\":\"object\",\"name\":\"Legend\",\"id\":\"p3384\",\"attributes\":{\"location\":[0,0],\"title\":\"Variable\",\"click_policy\":\"mute\",\"items\":[{\"type\":\"object\",\"name\":\"LegendItem\",\"id\":\"p3385\",\"attributes\":{\"label\":{\"type\":\"value\",\"value\":\"Interest Rate\"},\"renderers\":[{\"id\":\"p3381\"}]}},{\"type\":\"object\",\"name\":\"LegendItem\",\"id\":\"p3399\",\"attributes\":{\"label\":{\"type\":\"value\",\"value\":\"Difference in HPI\"},\"renderers\":[{\"id\":\"p3396\"}]}}]}}],\"below\":[{\"type\":\"object\",\"name\":\"DatetimeAxis\",\"id\":\"p3345\",\"attributes\":{\"ticker\":{\"type\":\"object\",\"name\":\"DatetimeTicker\",\"id\":\"p3346\",\"attributes\":{\"num_minor_ticks\":5,\"tickers\":[{\"type\":\"object\",\"name\":\"AdaptiveTicker\",\"id\":\"p3347\",\"attributes\":{\"num_minor_ticks\":0,\"mantissas\":[1,2,5],\"max_interval\":500.0}},{\"type\":\"object\",\"name\":\"AdaptiveTicker\",\"id\":\"p3348\",\"attributes\":{\"num_minor_ticks\":0,\"base\":60,\"mantissas\":[1,2,5,10,15,20,30],\"min_interval\":1000.0,\"max_interval\":1800000.0}},{\"type\":\"object\",\"name\":\"AdaptiveTicker\",\"id\":\"p3349\",\"attributes\":{\"num_minor_ticks\":0,\"base\":24,\"mantissas\":[1,2,4,6,8,12],\"min_interval\":3600000.0,\"max_interval\":43200000.0}},{\"type\":\"object\",\"name\":\"DaysTicker\",\"id\":\"p3350\",\"attributes\":{\"days\":[1,2,3,4,5,6,7,8,9,10,11,12,13,14,15,16,17,18,19,20,21,22,23,24,25,26,27,28,29,30,31]}},{\"type\":\"object\",\"name\":\"DaysTicker\",\"id\":\"p3351\",\"attributes\":{\"days\":[1,4,7,10,13,16,19,22,25,28]}},{\"type\":\"object\",\"name\":\"DaysTicker\",\"id\":\"p3352\",\"attributes\":{\"days\":[1,8,15,22]}},{\"type\":\"object\",\"name\":\"DaysTicker\",\"id\":\"p3353\",\"attributes\":{\"days\":[1,15]}},{\"type\":\"object\",\"name\":\"MonthsTicker\",\"id\":\"p3354\",\"attributes\":{\"months\":[0,1,2,3,4,5,6,7,8,9,10,11]}},{\"type\":\"object\",\"name\":\"MonthsTicker\",\"id\":\"p3355\",\"attributes\":{\"months\":[0,2,4,6,8,10]}},{\"type\":\"object\",\"name\":\"MonthsTicker\",\"id\":\"p3356\",\"attributes\":{\"months\":[0,4,8]}},{\"type\":\"object\",\"name\":\"MonthsTicker\",\"id\":\"p3357\",\"attributes\":{\"months\":[0,6]}},{\"type\":\"object\",\"name\":\"YearsTicker\",\"id\":\"p3358\"}]}},\"formatter\":{\"type\":\"object\",\"name\":\"DatetimeTickFormatter\",\"id\":\"p3359\"},\"axis_label\":\"Date\",\"major_label_policy\":{\"type\":\"object\",\"name\":\"AllLabels\",\"id\":\"p3360\"}}}],\"center\":[{\"type\":\"object\",\"name\":\"Grid\",\"id\":\"p3361\",\"attributes\":{\"axis\":{\"id\":\"p3345\"},\"grid_line_color\":null}},{\"type\":\"object\",\"name\":\"Grid\",\"id\":\"p3366\",\"attributes\":{\"dimension\":1,\"axis\":{\"id\":\"p3362\"},\"grid_line_color\":null}}],\"min_border_top\":10,\"min_border_bottom\":10,\"min_border_left\":10,\"min_border_right\":10,\"output_backend\":\"webgl\"}},{\"type\":\"object\",\"name\":\"Spacer\",\"id\":\"p3402\",\"attributes\":{\"name\":\"HSpacer05249\",\"stylesheets\":[\"\\n:host(.pn-loading.pn-arc):before, .pn-loading.pn-arc:before {\\n  background-image: url(\\\"data:image/svg+xml;base64,PHN2ZyB4bWxucz0iaHR0cDovL3d3dy53My5vcmcvMjAwMC9zdmciIHN0eWxlPSJtYXJnaW46IGF1dG87IGJhY2tncm91bmQ6IG5vbmU7IGRpc3BsYXk6IGJsb2NrOyBzaGFwZS1yZW5kZXJpbmc6IGF1dG87IiB2aWV3Qm94PSIwIDAgMTAwIDEwMCIgcHJlc2VydmVBc3BlY3RSYXRpbz0ieE1pZFlNaWQiPiAgPGNpcmNsZSBjeD0iNTAiIGN5PSI1MCIgZmlsbD0ibm9uZSIgc3Ryb2tlPSIjYzNjM2MzIiBzdHJva2Utd2lkdGg9IjEwIiByPSIzNSIgc3Ryb2tlLWRhc2hhcnJheT0iMTY0LjkzMzYxNDMxMzQ2NDE1IDU2Ljk3Nzg3MTQzNzgyMTM4Ij4gICAgPGFuaW1hdGVUcmFuc2Zvcm0gYXR0cmlidXRlTmFtZT0idHJhbnNmb3JtIiB0eXBlPSJyb3RhdGUiIHJlcGVhdENvdW50PSJpbmRlZmluaXRlIiBkdXI9IjFzIiB2YWx1ZXM9IjAgNTAgNTA7MzYwIDUwIDUwIiBrZXlUaW1lcz0iMDsxIj48L2FuaW1hdGVUcmFuc2Zvcm0+ICA8L2NpcmNsZT48L3N2Zz4=\\\");\\n  background-size: auto calc(min(50%, 400px));\\n}\",{\"id\":\"p3321\"},{\"id\":\"p3319\"},{\"id\":\"p3320\"}],\"margin\":0,\"sizing_mode\":\"stretch_width\",\"align\":\"start\"}}]}}],\"defs\":[{\"type\":\"model\",\"name\":\"ReactiveHTML1\"},{\"type\":\"model\",\"name\":\"FlexBox1\",\"properties\":[{\"name\":\"align_content\",\"kind\":\"Any\",\"default\":\"flex-start\"},{\"name\":\"align_items\",\"kind\":\"Any\",\"default\":\"flex-start\"},{\"name\":\"flex_direction\",\"kind\":\"Any\",\"default\":\"row\"},{\"name\":\"flex_wrap\",\"kind\":\"Any\",\"default\":\"wrap\"},{\"name\":\"justify_content\",\"kind\":\"Any\",\"default\":\"flex-start\"}]},{\"type\":\"model\",\"name\":\"FloatPanel1\",\"properties\":[{\"name\":\"config\",\"kind\":\"Any\",\"default\":{\"type\":\"map\"}},{\"name\":\"contained\",\"kind\":\"Any\",\"default\":true},{\"name\":\"position\",\"kind\":\"Any\",\"default\":\"right-top\"},{\"name\":\"offsetx\",\"kind\":\"Any\",\"default\":null},{\"name\":\"offsety\",\"kind\":\"Any\",\"default\":null},{\"name\":\"theme\",\"kind\":\"Any\",\"default\":\"primary\"},{\"name\":\"status\",\"kind\":\"Any\",\"default\":\"normalized\"}]},{\"type\":\"model\",\"name\":\"GridStack1\",\"properties\":[{\"name\":\"mode\",\"kind\":\"Any\",\"default\":\"warn\"},{\"name\":\"ncols\",\"kind\":\"Any\",\"default\":null},{\"name\":\"nrows\",\"kind\":\"Any\",\"default\":null},{\"name\":\"allow_resize\",\"kind\":\"Any\",\"default\":true},{\"name\":\"allow_drag\",\"kind\":\"Any\",\"default\":true},{\"name\":\"state\",\"kind\":\"Any\",\"default\":[]}]},{\"type\":\"model\",\"name\":\"drag1\",\"properties\":[{\"name\":\"slider_width\",\"kind\":\"Any\",\"default\":5},{\"name\":\"slider_color\",\"kind\":\"Any\",\"default\":\"black\"},{\"name\":\"value\",\"kind\":\"Any\",\"default\":50}]},{\"type\":\"model\",\"name\":\"click1\",\"properties\":[{\"name\":\"terminal_output\",\"kind\":\"Any\",\"default\":\"\"},{\"name\":\"debug_name\",\"kind\":\"Any\",\"default\":\"\"},{\"name\":\"clears\",\"kind\":\"Any\",\"default\":0}]},{\"type\":\"model\",\"name\":\"FastWrapper1\",\"properties\":[{\"name\":\"object\",\"kind\":\"Any\",\"default\":null},{\"name\":\"style\",\"kind\":\"Any\",\"default\":null}]},{\"type\":\"model\",\"name\":\"NotificationAreaBase1\",\"properties\":[{\"name\":\"js_events\",\"kind\":\"Any\",\"default\":{\"type\":\"map\"}},{\"name\":\"position\",\"kind\":\"Any\",\"default\":\"bottom-right\"},{\"name\":\"_clear\",\"kind\":\"Any\",\"default\":0}]},{\"type\":\"model\",\"name\":\"NotificationArea1\",\"properties\":[{\"name\":\"js_events\",\"kind\":\"Any\",\"default\":{\"type\":\"map\"}},{\"name\":\"notifications\",\"kind\":\"Any\",\"default\":[]},{\"name\":\"position\",\"kind\":\"Any\",\"default\":\"bottom-right\"},{\"name\":\"_clear\",\"kind\":\"Any\",\"default\":0},{\"name\":\"types\",\"kind\":\"Any\",\"default\":[{\"type\":\"map\",\"entries\":[[\"type\",\"warning\"],[\"background\",\"#ffc107\"],[\"icon\",{\"type\":\"map\",\"entries\":[[\"className\",\"fas fa-exclamation-triangle\"],[\"tagName\",\"i\"],[\"color\",\"white\"]]}]]},{\"type\":\"map\",\"entries\":[[\"type\",\"info\"],[\"background\",\"#007bff\"],[\"icon\",{\"type\":\"map\",\"entries\":[[\"className\",\"fas fa-info-circle\"],[\"tagName\",\"i\"],[\"color\",\"white\"]]}]]}]}]},{\"type\":\"model\",\"name\":\"Notification\",\"properties\":[{\"name\":\"background\",\"kind\":\"Any\",\"default\":null},{\"name\":\"duration\",\"kind\":\"Any\",\"default\":3000},{\"name\":\"icon\",\"kind\":\"Any\",\"default\":null},{\"name\":\"message\",\"kind\":\"Any\",\"default\":\"\"},{\"name\":\"notification_type\",\"kind\":\"Any\",\"default\":null},{\"name\":\"_destroyed\",\"kind\":\"Any\",\"default\":false}]},{\"type\":\"model\",\"name\":\"TemplateActions1\",\"properties\":[{\"name\":\"open_modal\",\"kind\":\"Any\",\"default\":0},{\"name\":\"close_modal\",\"kind\":\"Any\",\"default\":0}]},{\"type\":\"model\",\"name\":\"BootstrapTemplateActions1\",\"properties\":[{\"name\":\"open_modal\",\"kind\":\"Any\",\"default\":0},{\"name\":\"close_modal\",\"kind\":\"Any\",\"default\":0}]},{\"type\":\"model\",\"name\":\"MaterialTemplateActions1\",\"properties\":[{\"name\":\"open_modal\",\"kind\":\"Any\",\"default\":0},{\"name\":\"close_modal\",\"kind\":\"Any\",\"default\":0}]}]}};\n",
       "  var render_items = [{\"docid\":\"169764a6-a292-4d04-ad12-a90a9b33d00c\",\"roots\":{\"p3318\":\"dcf880b9-e42b-4620-885f-b58c820ae00b\"},\"root_ids\":[\"p3318\"]}];\n",
       "  var docs = Object.values(docs_json)\n",
       "  if (!docs) {\n",
       "    return\n",
       "  }\n",
       "  const py_version = docs[0].version.replace('rc', '-rc.').replace('.dev', '-dev.')\n",
       "  const is_dev = py_version.indexOf(\"+\") !== -1 || py_version.indexOf(\"-\") !== -1\n",
       "  function embed_document(root) {\n",
       "    var Bokeh = get_bokeh(root)\n",
       "    Bokeh.embed.embed_items_notebook(docs_json, render_items);\n",
       "    for (const render_item of render_items) {\n",
       "      for (const root_id of render_item.root_ids) {\n",
       "\tconst id_el = document.getElementById(root_id)\n",
       "\tif (id_el.children.length && (id_el.children[0].className === 'bk-root')) {\n",
       "\t  const root_el = id_el.children[0]\n",
       "\t  root_el.id = root_el.id + '-rendered'\n",
       "\t}\n",
       "      }\n",
       "    }\n",
       "  }\n",
       "  function get_bokeh(root) {\n",
       "    if (root.Bokeh === undefined) {\n",
       "      return null\n",
       "    } else if (root.Bokeh.version !== py_version && !is_dev) {\n",
       "      if (root.Bokeh.versions === undefined || !root.Bokeh.versions.has(py_version)) {\n",
       "\treturn null\n",
       "      }\n",
       "      return root.Bokeh.versions.get(py_version);\n",
       "    } else if (root.Bokeh.version === py_version) {\n",
       "      return root.Bokeh\n",
       "    }\n",
       "    return null\n",
       "  }\n",
       "  function is_loaded(root) {\n",
       "    var Bokeh = get_bokeh(root)\n",
       "    return (Bokeh != null && Bokeh.Panel !== undefined)\n",
       "  }\n",
       "  if (is_loaded(root)) {\n",
       "    embed_document(root);\n",
       "  } else {\n",
       "    var attempts = 0;\n",
       "    var timer = setInterval(function(root) {\n",
       "      if (is_loaded(root)) {\n",
       "        clearInterval(timer);\n",
       "        embed_document(root);\n",
       "      } else if (document.readyState == \"complete\") {\n",
       "        attempts++;\n",
       "        if (attempts > 200) {\n",
       "          clearInterval(timer);\n",
       "\t  var Bokeh = get_bokeh(root)\n",
       "\t  if (Bokeh == null || Bokeh.Panel == null) {\n",
       "            console.warn(\"Panel: ERROR: Unable to run Panel code because Bokeh or Panel library is missing\");\n",
       "\t  } else {\n",
       "\t    console.warn(\"Panel: WARNING: Attempting to render but not all required libraries could be resolved.\")\n",
       "\t    embed_document(root)\n",
       "\t  }\n",
       "        }\n",
       "      }\n",
       "    }, 25, root)\n",
       "  }\n",
       "})(window);</script>"
      ],
      "text/plain": [
       ":NdOverlay   [Variable]\n",
       "   :Curve   [date]   (value)"
      ]
     },
     "execution_count": 67,
     "metadata": {
      "application/vnd.holoviews_exec.v0+json": {
       "id": "p3318"
      }
     },
     "output_type": "execute_result"
    }
   ],
   "source": [
    "# Plot difference for combined dataframes\n",
    "fed_rate_combined_df.hvplot(title=\"House Price Index and Fedral Interest Rate\", xlabel=\"Date\",ylabel=\"Difference\")"
   ]
  },
  {
   "cell_type": "markdown",
   "metadata": {},
   "source": [
    "## Residential Real Estate Value vs Monthly Supply of New Houses"
   ]
  },
  {
   "cell_type": "code",
   "execution_count": 68,
   "metadata": {
    "tags": []
   },
   "outputs": [
    {
     "data": {},
     "metadata": {},
     "output_type": "display_data"
    },
    {
     "data": {
      "application/vnd.holoviews_exec.v0+json": "",
      "text/html": [
       "<div id='p3410'>\n",
       "  <div id=\"efd9238d-d370-4cd6-957c-5becbd14bce4\" data-root-id=\"p3410\" style=\"display: contents;\"></div>\n",
       "</div>\n",
       "<script type=\"application/javascript\">(function(root) {\n",
       "  var docs_json = {\"336c50d8-13d3-4cd0-b024-5ef54e64339b\":{\"version\":\"3.2.2\",\"title\":\"Bokeh Application\",\"roots\":[{\"type\":\"object\",\"name\":\"Row\",\"id\":\"p3410\",\"attributes\":{\"name\":\"Row05380\",\"tags\":[\"embedded\"],\"stylesheets\":[\"\\n:host(.pn-loading.pn-arc):before, .pn-loading.pn-arc:before {\\n  background-image: url(\\\"data:image/svg+xml;base64,PHN2ZyB4bWxucz0iaHR0cDovL3d3dy53My5vcmcvMjAwMC9zdmciIHN0eWxlPSJtYXJnaW46IGF1dG87IGJhY2tncm91bmQ6IG5vbmU7IGRpc3BsYXk6IGJsb2NrOyBzaGFwZS1yZW5kZXJpbmc6IGF1dG87IiB2aWV3Qm94PSIwIDAgMTAwIDEwMCIgcHJlc2VydmVBc3BlY3RSYXRpbz0ieE1pZFlNaWQiPiAgPGNpcmNsZSBjeD0iNTAiIGN5PSI1MCIgZmlsbD0ibm9uZSIgc3Ryb2tlPSIjYzNjM2MzIiBzdHJva2Utd2lkdGg9IjEwIiByPSIzNSIgc3Ryb2tlLWRhc2hhcnJheT0iMTY0LjkzMzYxNDMxMzQ2NDE1IDU2Ljk3Nzg3MTQzNzgyMTM4Ij4gICAgPGFuaW1hdGVUcmFuc2Zvcm0gYXR0cmlidXRlTmFtZT0idHJhbnNmb3JtIiB0eXBlPSJyb3RhdGUiIHJlcGVhdENvdW50PSJpbmRlZmluaXRlIiBkdXI9IjFzIiB2YWx1ZXM9IjAgNTAgNTA7MzYwIDUwIDUwIiBrZXlUaW1lcz0iMDsxIj48L2FuaW1hdGVUcmFuc2Zvcm0+ICA8L2NpcmNsZT48L3N2Zz4=\\\");\\n  background-size: auto calc(min(50%, 400px));\\n}\",{\"type\":\"object\",\"name\":\"ImportedStyleSheet\",\"id\":\"p3413\",\"attributes\":{\"url\":\"https://cdn.holoviz.org/panel/1.2.3/dist/css/loading.css\"}},{\"type\":\"object\",\"name\":\"ImportedStyleSheet\",\"id\":\"p3477\",\"attributes\":{\"url\":\"https://cdn.holoviz.org/panel/1.2.3/dist/css/listpanel.css\"}},{\"type\":\"object\",\"name\":\"ImportedStyleSheet\",\"id\":\"p3411\",\"attributes\":{\"url\":\"https://cdn.holoviz.org/panel/1.2.3/dist/bundled/theme/default.css\"}},{\"type\":\"object\",\"name\":\"ImportedStyleSheet\",\"id\":\"p3412\",\"attributes\":{\"url\":\"https://cdn.holoviz.org/panel/1.2.3/dist/bundled/theme/native.css\"}}],\"min_width\":700,\"margin\":0,\"sizing_mode\":\"stretch_width\",\"align\":\"start\",\"children\":[{\"type\":\"object\",\"name\":\"Spacer\",\"id\":\"p3414\",\"attributes\":{\"name\":\"HSpacer05391\",\"stylesheets\":[\"\\n:host(.pn-loading.pn-arc):before, .pn-loading.pn-arc:before {\\n  background-image: url(\\\"data:image/svg+xml;base64,PHN2ZyB4bWxucz0iaHR0cDovL3d3dy53My5vcmcvMjAwMC9zdmciIHN0eWxlPSJtYXJnaW46IGF1dG87IGJhY2tncm91bmQ6IG5vbmU7IGRpc3BsYXk6IGJsb2NrOyBzaGFwZS1yZW5kZXJpbmc6IGF1dG87IiB2aWV3Qm94PSIwIDAgMTAwIDEwMCIgcHJlc2VydmVBc3BlY3RSYXRpbz0ieE1pZFlNaWQiPiAgPGNpcmNsZSBjeD0iNTAiIGN5PSI1MCIgZmlsbD0ibm9uZSIgc3Ryb2tlPSIjYzNjM2MzIiBzdHJva2Utd2lkdGg9IjEwIiByPSIzNSIgc3Ryb2tlLWRhc2hhcnJheT0iMTY0LjkzMzYxNDMxMzQ2NDE1IDU2Ljk3Nzg3MTQzNzgyMTM4Ij4gICAgPGFuaW1hdGVUcmFuc2Zvcm0gYXR0cmlidXRlTmFtZT0idHJhbnNmb3JtIiB0eXBlPSJyb3RhdGUiIHJlcGVhdENvdW50PSJpbmRlZmluaXRlIiBkdXI9IjFzIiB2YWx1ZXM9IjAgNTAgNTA7MzYwIDUwIDUwIiBrZXlUaW1lcz0iMDsxIj48L2FuaW1hdGVUcmFuc2Zvcm0+ICA8L2NpcmNsZT48L3N2Zz4=\\\");\\n  background-size: auto calc(min(50%, 400px));\\n}\",{\"id\":\"p3413\"},{\"id\":\"p3411\"},{\"id\":\"p3412\"}],\"margin\":0,\"sizing_mode\":\"stretch_width\",\"align\":\"start\"}},{\"type\":\"object\",\"name\":\"Figure\",\"id\":\"p3422\",\"attributes\":{\"width\":700,\"height\":300,\"margin\":[5,10],\"sizing_mode\":\"fixed\",\"align\":\"start\",\"x_range\":{\"type\":\"object\",\"name\":\"Range1d\",\"id\":\"p3415\",\"attributes\":{\"tags\":[[[\"date\",\"date\",null]],[]],\"start\":-218246400000.0,\"end\":1690848000000.0,\"reset_start\":-218246400000.0,\"reset_end\":1690848000000.0}},\"y_range\":{\"type\":\"object\",\"name\":\"Range1d\",\"id\":\"p3416\",\"attributes\":{\"tags\":[[[\"value\",\"value\",null]],{\"type\":\"map\",\"entries\":[[\"invert_yaxis\",false],[\"autorange\",false]]}],\"start\":2.41,\"end\":13.09,\"reset_start\":2.41,\"reset_end\":13.09}},\"x_scale\":{\"type\":\"object\",\"name\":\"LinearScale\",\"id\":\"p3432\"},\"y_scale\":{\"type\":\"object\",\"name\":\"LinearScale\",\"id\":\"p3433\"},\"title\":{\"type\":\"object\",\"name\":\"Title\",\"id\":\"p3425\",\"attributes\":{\"text\":\"Monthly Supply of New Houses in the United States\",\"text_color\":\"black\",\"text_font_size\":\"12pt\"}},\"renderers\":[{\"type\":\"object\",\"name\":\"GlyphRenderer\",\"id\":\"p3470\",\"attributes\":{\"data_source\":{\"type\":\"object\",\"name\":\"ColumnDataSource\",\"id\":\"p3461\",\"attributes\":{\"selected\":{\"type\":\"object\",\"name\":\"Selection\",\"id\":\"p3462\",\"attributes\":{\"indices\":[],\"line_indices\":[]}},\"selection_policy\":{\"type\":\"object\",\"name\":\"UnionRenderers\",\"id\":\"p3463\"},\"data\":{\"type\":\"map\",\"entries\":[[\"date\",{\"type\":\"ndarray\",\"array\":{\"type\":\"bytes\",\"data\":\"AAAA5D9oScIAAADcJiBJwgAAAEpU0EjCAAAA5hSDSMIAAABUQjNIwgAAAPAC5kfCAAAAXjCWR8IAAADMXUZHwgAAAGge+UbCAAAA1kupRsIAAAByDFxGwgAAAOA5DEbCAAAATme8RcIAAAAYu3FFwgAAAIboIUXCAAAAIqnURMIAAACQ1oREwgAAACyXN0TCAAAAmsTnQ8IAAAAI8pdDwgAAAKSySkPCAAAAEuD6QsIAAACuoK1CwgAAABzOXULCAAAAivsNQsIAAACC4sVBwgAAAPAPdkHCAAAAjNAoQcIAAAD6/dhAwgAAAJa+i0DCAAAABOw7QMIAAADkMtg/wgAAABy0PT/CAAAA+A6ePsIAAAAwkAM+wgAAAAzrYz3CAAAA6EXEPMIAAADYEzQ8wgAAALRulDvCAAAA7O/5OsIAAADISlo6wgAAAADMvznCAAAA3CYgOcIAAAC4gYA4wgAAAPAC5jfCAAAAzF1GN8IAAAAE36s2wgAAAOA5DDbCAAAAvJRsNcIAAACsYtw0wgAAAIi9PDTCAAAAwD6iM8IAAACcmQIzwgAAANQaaDLCAAAAsHXIMcIAAACM0CgxwgAAAMRRjjDCAAAAQFndL8IAAACwW6guwgAAAGgRaS3CAAAAIMcpLMIAAABIFv8qwgAAAADMvynCAAAAcM6KKMIAAAAohEsnwgAAAJiGFibCAAAAUDzXJMIAAAAI8pcjwgAAAHj0YiLCAAAAMKojIcIAAABAWd0fwgAAALDEXh3CAAAAIDDgGsIAAADgZ58YwgAAAFDTIBbCAAAAMNi2E8IAAACgQzgRwgAAAACRnA3CAAAA4GefCMIAAADAPqIDwgAAAACRnP3BAAAAwD6i88EAAACApPTjwQAAAAAAAAAAAAAAgKT040EAAABAc/3yQQAAAIDF9/xBAAAAANlPA0IAAAAgAk0IQgAAAGD4IA1CAAAAwBAPEUIAAABQpY0TQgAAAHCg9xVCAAAAADV2GEIAAAAgMOAaQgAAALDEXh1CAAAAQFndH0IAAADAEA8hQgAAAAhbTiJCAAAAmFiDI0IAAADgosIkQgAAAHCg9yVCAAAAuOo2J0IAAAAANXYoQgAAAJAyqylCAAAA2HzqKkIAAABoeh8sQgAAALDEXi1CAAAA+A6eLkIAAADQv8gvQgAAAAwFhDBCAAAA1IMeMUIAAAD4KL4xQgAAAMCnWDJCAAAA5Ez4MkIAAAAI8pczQgAAANBwMjRCAAAA9BXSNEIAAAC8lGw1QgAAAOA5DDZCAAAABN+rNkIAAAAUETw3QgAAADi22zdCAAAAADV2OEIAAAAk2hU5QgAAAOxYsDlCAAAAEP5POkIAAAA0o+86QgAAAPwhijtCAAAAIMcpPEIAAADoRcQ8QgAAAAzrYz1CAAAAMJADPkIAAABAwpM+QgAAAGRnMz9CAAAALObNP0IAAACoxTZAQgAAAAwFhEBCAAAAntfTQEIAAAAwqiNBQgAAAJTpcEFCAAAAJrzAQUIAAACK+w1CQgAAABzOXUJCAAAArqCtQkIAAAC2ufVCQgAAAEiMRUNCAAAArMuSQ0IAAAA+nuJDQgAAAKLdL0RCAAAANLB/REIAAADGgs9EQgAAACrCHEVCAAAAvJRsRUIAAAAg1LlFQgAAALKmCUZCAAAARHlZRkIAAAB6JaRGQgAAAAz480ZCAAAAcDdBR0IAAAACCpFHQgAAAGZJ3kdCAAAA+BsuSEIAAACK7n1IQgAAAO4ty0hCAAAAgAAbSUIAAADkP2hJQgAAAHYSuElCAAAACOUHSkIAAAAQ/k9KQgAAAKLQn0pCAAAABhDtSkIAAACY4jxLQgAAAPwhiktCAAAAjvTZS0IAAAAgxylMQgAAAIQGd0xCAAAAFtnGTEIAAAB6GBRNQgAAAAzrY01CAAAAnr2zTUIAAACm1vtNQgAAADipS05CAAAAnOiYTkIAAAAuu+hOQgAAAJL6NU9CAAAAJM2FT0IAAAC2n9VPQgAAAI1vEVBCAAAA1lg5UEIAAACI+F9QQgAAANHhh1BCAAAAGsuvUEIAAACe19NQQgAAAOfA+1BCAAAAmWAiUUIAAADiSUpRQgAAAJTpcFFCAAAA3dKYUUIAAAAmvMBRQgAAANhb51FCAAAAIUUPUkIAAADT5DVSQgAAABzOXVJCAAAAZbeFUkIAAACADatSQgAAAMn20lJCAAAAe5b5UkIAAADEfyFTQgAAAHYfSFNCAAAAvwhwU0IAAAAI8pdTQgAAALqRvlNCAAAAA3vmU0IAAAC1Gg1UQgAAAP4DNVRCAAAAR+1cVEIAAADL+YBUQgAAABTjqFRCAAAAxoLPVEIAAAAPbPdUQgAAAMELHlVCAAAACvVFVUIAAABT3m1VQgAAAAV+lFVCAAAATme8VUIAAAAAB+NVQgAAAEnwClZCAAAAktkyVkIAAAAW5lZWQgAAAF/PflZCAAAAEW+lVkIAAABaWM1WQgAAAAz481ZCAAAAVeEbV0IAAACeykNXQgAAAFBqaldCAAAAmVOSV0IAAABL87hXQgAAAJTc4FdCAAAA3cUIWEIAAABh0ixYQgAAAKq7VFhCAAAAXFt7WEIAAAClRKNYQgAAAFfkyVhCAAAAoM3xWEIAAADpthlZQgAAAJtWQFlCAAAA5D9oWUIAAACW345ZQgAAAN/ItllCAAAAKLLeWUIAAABDCARaQgAAAIzxK1pCAAAAPpFSWkIAAACHenpaQgAAADkaoVpCAAAAggPJWkIAAADL7PBaQgAAAH2MF1tCAAAAxnU/W0IAAAB4FWZbQgAAAMH+jVtCAAAACui1W0IAAACO9NlbQgAAANfdAVxCAAAAiX0oXEIAAADSZlBcQgAAAIQGd1xCAAAAze+eXEIAAAAW2cZcQgAAAMh47VxCAAAAEWIVXUIAAADDATxdQgAAAAzrY11CAAAAVdSLXUIAAADZ4K9dQgAAACLK111CAAAA1Gn+XUIAAAAdUyZeQgAAAM/yTF5CAAAAGNx0XkIAAABhxZxeQgAAABNlw15CAAAAXE7rXkIAAAAO7hFfQgAAAFfXOV9CAAAAoMBhX0IAAAAkzYVfQgAAAG22rV9CAAAAH1bUX0IAAABoP/xfQgAAAI1vEWBCAACAMWQlYEIAAADWWDlgQgAAAK+oTGBCAACAU51gYEIAAIAs7XNgQgAAANHhh2BCAACAddabYEIAAACDga5gQgAAgCd2wmBCAACAAMbVYEIAAACluulgQgAAAH4K/WBCAACAIv8QYUIAAADH8yRhQgAAAKBDOGFCAACARDhMYUIAAIAdiF9hQgAAAMJ8c2FCAACAZnGHYUIAAICod5lhQgAAAE1srWFCAAAAJrzAYUIAAIDKsNRhQgAAgKMA6GFCAAAASPX7YUIAAIDs6Q9iQgAAgMU5I2JCAAAAai43YkIAAABDfkpiQgAAgOdyXmJCAAAAjGdyYkIAAADObYRiQgAAgHJimGJCAACAS7KrYkIAAADwpr9iQgAAAMn20mJCAACAbevmYkIAAAAS4PpiQgAAAOsvDmNCAACAjyQiY0IAAIBodDVjQgAAAA1pSWNCAACAsV1dY0IAAIDzY29jQgAAAJhYg2NCAAAAcaiWY0IAAIAVnapjQgAAgO7svWNCAAAAk+HRY0IAAIA31uVjQgAAgBAm+WNCAAAAtRoNZEIAAACOaiBkQgAAgDJfNGRCAAAA11NIZEIAAIDk/lpkQgAAAInzbmRCAAAAYkOCZEIAAIAGOJZkQgAAgN+HqWRCAAAAhHy9ZEIAAIAocdFkQgAAgAHB5GRCAAAAprX4ZEIAAAB/BQxlQgAAgCP6H2VCAAAAyO4zZUIAAAAK9UVlQgAAgK7pWWVCAACAhzltZUIAAAAsLoFlQgAAAAV+lGVCAACAqXKoZUIAAABOZ7xlQgAAACe3z2VCAACAy6vjZUIAAICk+/ZlQgAAAEnwCmZCAACA7eQeZkIAAIAv6zBmQgAAANTfRGZCAAAArS9YZkIAAIBRJGxmQgAAgCp0f2ZCAAAAz2iTZkIAAIBzXadmQgAAgEytumZCAAAA8aHOZkIAAADK8eFmQgAAgG7m9WZCAAAAE9sJZ0IAAABV4RtnQgAAgPnVL2dCAACA0iVDZ0IAAAB3GldnQgAAAFBqamdCAACA9F5+Z0IAAACZU5JnQgAAAHKjpWdCAACAFpi5Z0IAAIDv58xnQgAAAJTc4GdCAACAONH0Z0IAAABGfAdoQgAAgOpwG2hCAACAw8AuaEIAAABotUJoQgAAAEEFVmhCAACA5flpaEIAAACK7n1oQgAAAGM+kWhCAACABzOlaEIAAIDggrhoQgAAAIV3zGhCAACAKWzgaEIAAIBrcvJoQgAAABBnBmlCAAAA6bYZaUIAAICNqy1pQgAAgGb7QGlCAAAAC/BUaUIAAICv5GhpQgAAgIg0fGlCAAAALSmQaUIAAAAGeaNpQgAAgKptt2lCAAAAT2LLaUIAAACRaN1pQgAAgDVd8WlCAACADq0EakIAAACzoRhqQgAAAIzxK2pCAACAMOY/akIAAADV2lNqQgAAAK4qZ2pCAACAUh97akIAAIArb45qQgAAANBjompCAACAdFi2akIAAIC2XshqQgAAAFtT3GpCAAAANKPvakIAAIDYlwNrQgAAgLHnFmtCAAAAVtwqa0IAAID60D5rQgAAgNMgUmtCAAAAeBVma0IAAABRZXlrQgAAgPVZjWtCAAAAmk6ha0IAAICn+bNrQgAAAEzux2tCAAAAJT7ba0IAAIDJMu9rQgAAgKKCAmxCAAAAR3cWbEIAAIDraypsQgAAgMS7PWxCAAAAabBRbEIAAABCAGVsQgAAgOb0eGxCAAAAi+mMbEIAAADN755sQgAAgHHksmxCAACASjTGbEIAAADvKNpsQgAAAMh47WxCAACAbG0BbUIAAAARYhVtQgAAAOqxKG1CAACAjqY8bUIAAIBn9k9tQgAAAAzrY21CAACAsN93bUIAAIDy5YltQgAAAJfanW1CAAAAcCqxbUIAAIAUH8VtQgAAgO1u2G1CAAAAkmPsbUIAAIA2WABuQgAAgA+oE25CAAAAtJwnbkIAAACN7DpuQgAAgDHhTm5CAAAA1tVibkIAAAAY3HRuQgAAgLzQiG5CAACAlSCcbkIAAAA6FbBuQgAAABNlw25CAACAt1nXbkIAAABcTutuQgAAADWe/m5CAACA2ZISb0IAAICy4iVvQgAAAFfXOW9CAACA+8tNb0IAAAAJd2BvQgAAgK1rdG9CAACAhruHb0IAAAArsJtvQgAAAAQAr29CAACAqPTCb0IAAABN6dZvQgAAACY56m9CAACAyi3+b0IAAMDRvghwQgAAACS5EnBCAABAdrMccEIAAECXtiVwQgAAgOmwL3BCAAAA1lg5cEIAAEAoU0NwQgAAwBT7THBCAAAAZ/VWcEIAAEC572BwQgAAwKWXanBCAAAA+JF0cEIAAIDkOX5wQgAAwDY0iHBCAAAAiS6ScEIAAACqMZtwQgAAQPwrpXBCAADA6NOucEIAAAA7zrhwQgAAgCd2wnBCAADAeXDMcEIAAADMatZwQgAAgLgS4HBCAADACg3qcEIAAED3tPNwQgAAgEmv/XBCAADAm6kHcUIAAMC8rBBxQgAAAA+nGnFCAACA+04kcUIAAMBNSS5xQgAAQDrxN3FCAACAjOtBcUIAAMDe5UtxQgAAQMuNVXFCAACAHYhfcUIAAAAKMGlxQgAAQFwqc3FCAACAriR9cUIAAEA1eoZxQgAAgId0kHFCAAAAdByacUIAAEDGFqRxQgAAwLK+rXFCAAAABbm3cUIAAEBXs8FxQgAAwENby3FCAAAAllXVcUIAAICC/d5xQgAAwNT36HFCAAAAJ/LycUIAAABI9ftxQgAAQJrvBXJCAADAhpcPckIAAADZkRlyQgAAgMU5I3JCAADAFzQtckIAAABqLjdyQgAAgFbWQHJCAADAqNBKckIAAECVeFRyQgAAgOdyXnJCAADAOW1ockIAAMBacHFyQgAAAK1qe3JCAACAmRKFckIAAMDrDI9yQgAAQNi0mHJCAACAKq+ickIAAMB8qaxyQgAAQGlRtnJCAACAu0vAckIAAACo88lyQgAAQPrt03JCAACATOjdckIAAIBt6+ZyQgAAwL/l8HJCAABArI36ckIAAID+hwRzQgAAAOsvDnNCAABAPSoYc0IAAICPJCJzQgAAAHzMK3NCAABAzsY1c0IAAMC6bj9zQgAAAA1pSXNCAABAX2NTc0IAAADmuFxzQgAAQDizZnNCAADAJFtwc0IAAAB3VXpzQgAAgGP9g3NCAADAtfeNc0IAAAAI8pdzQgAAgPSZoXNCAADARpSrc0IAAEAzPLVzQgAAgIU2v3NCAADA1zDJc0IAAMD4M9JzQgAAAEsu3HNCAACAN9blc0IAAMCJ0O9zQgAAQHZ4+XNCAACAyHIDdEIAAMAabQ10QgAAQAcVF3RCAACAWQ8hdEIAAABGtyp0QgAAQJixNHRCAACA6qs+dEIAAIALr0d0QgAAwF2pUXRCAABASlFbdEIAAICcS2V0QgAAAInzbnRCAABA2+14dEIAAIAt6IJ0QgAAABqQjHRCAABAbIqWdEIAAMBYMqB0QgAAAKssqnRCAABA/Sa0dEIAAEAeKr10QgAAgHAkx3RCAAAAXczQdEIAAECvxtp0QgAAwJtu5HRCAAAA7mjudEIAAEBAY/h0QgAAwCwLAnVCAAAAfwUMdUIAAIBrrRV1QgAAwL2nH3VCAAAAEKIpdUIAAMCW9zJ1QgAAAOnxPHVCAACA1ZlGdUIAAMAnlFB1QgAAQBQ8WnVCAACAZjZkdUIAAMC4MG51QgAAQKXYd3VCAACA99KBdUIAAADkeot1QgAAQDZ1lXVCAACAiG+fdUIAAICpcqh1QgAAwPtssnVCAABA6BS8dUIAAIA6D8Z1QgAAACe3z3VCAABAebHZdUIAAIDLq+N1QgAAALhT7XVCAABACk73dUIAAMD29QB2QgAAAEnwCnZCAABAm+oUdkIAAEC87R12QgAAgA7oJ3ZCAAAA+48xdkIAAEBNijt2QgAAwDkyRXZCAAAAjCxPdkIAAEDeJll2QgAAwMrOYnZCAAAAHclsdkIAAIAJcXZ2QgAAwFtrgHZCAAAArmWKdkIAAADPaJN2QgAAQCFjnXZCAADADQundkIAAABgBbF2QgAAgEytunZCAADAnqfEdkIAAADxoc52QgAAgN1J2HZCAADAL0TidkIAAEAc7Ot2QgAAgG7m9XZCAADAwOD/dkIAAIBHNgl3QgAAwJkwE3dCAABAhtgcd0IAAIDY0iZ3QgAAAMV6MHdCAABAF3U6d0IAAIBpb0R3QgAAAFYXTndCAABAqBFYd0IAAMCUuWF3QgAAAOeza3dCAABAOa51d0IAAEBasX53QgAAgKyriHdCAAAAmVOSd0IAAEDrTZx3QgAAwNf1pXdCAAAAKvCvd0IAAEB86rl3QgAAwGiSw3dCAAAAu4zNd0IAAICnNNd3QgAAwPku4XdCAAAATCnrd0IAAABtLPR3QgAAQL8m/ndCAADAq84HeEIAAAD+yBF4QgAAgOpwG3hCAADAPGsleEIAAACPZS94QgAAgHsNOXhCAADAzQdDeEIAAEC6r0x4QgAAgAyqVnhCAADAXqRgeEIAAMB/p2l4QgAAANKhc3hCAACAvkl9eEIAAMAQRId4QgAAQP3rkHhCAACAT+aaeEI=\"},\"shape\":[727],\"dtype\":\"float64\",\"order\":\"little\"}],[\"value\",{\"type\":\"ndarray\",\"array\":{\"type\":\"bytes\",\"data\":\"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\"},\"shape\":[727],\"dtype\":\"float64\",\"order\":\"little\"}]]}}},\"view\":{\"type\":\"object\",\"name\":\"CDSView\",\"id\":\"p3471\",\"attributes\":{\"filter\":{\"type\":\"object\",\"name\":\"AllIndices\",\"id\":\"p3472\"}}},\"glyph\":{\"type\":\"object\",\"name\":\"Line\",\"id\":\"p3467\",\"attributes\":{\"tags\":[\"apply_ranges\"],\"x\":{\"type\":\"field\",\"field\":\"date\"},\"y\":{\"type\":\"field\",\"field\":\"value\"},\"line_color\":\"#30a2da\",\"line_width\":2}},\"selection_glyph\":{\"type\":\"object\",\"name\":\"Line\",\"id\":\"p3473\",\"attributes\":{\"tags\":[\"apply_ranges\"],\"x\":{\"type\":\"field\",\"field\":\"date\"},\"y\":{\"type\":\"field\",\"field\":\"value\"},\"line_color\":\"#30a2da\",\"line_width\":2}},\"nonselection_glyph\":{\"type\":\"object\",\"name\":\"Line\",\"id\":\"p3468\",\"attributes\":{\"tags\":[\"apply_ranges\"],\"x\":{\"type\":\"field\",\"field\":\"date\"},\"y\":{\"type\":\"field\",\"field\":\"value\"},\"line_color\":\"#30a2da\",\"line_alpha\":0.1,\"line_width\":2}},\"muted_glyph\":{\"type\":\"object\",\"name\":\"Line\",\"id\":\"p3469\",\"attributes\":{\"tags\":[\"apply_ranges\"],\"x\":{\"type\":\"field\",\"field\":\"date\"},\"y\":{\"type\":\"field\",\"field\":\"value\"},\"line_color\":\"#30a2da\",\"line_alpha\":0.2,\"line_width\":2}}}}],\"toolbar\":{\"type\":\"object\",\"name\":\"Toolbar\",\"id\":\"p3431\",\"attributes\":{\"tools\":[{\"type\":\"object\",\"name\":\"WheelZoomTool\",\"id\":\"p3420\",\"attributes\":{\"tags\":[\"hv_created\"],\"zoom_together\":\"none\"}},{\"type\":\"object\",\"name\":\"HoverTool\",\"id\":\"p3421\",\"attributes\":{\"tags\":[\"hv_created\"],\"renderers\":[{\"id\":\"p3470\"}],\"tooltips\":[[\"date\",\"@{date}{%F %T}\"],[\"value\",\"@{value}\"]],\"formatters\":{\"type\":\"map\",\"entries\":[[\"@{date}\",\"datetime\"]]}}},{\"type\":\"object\",\"name\":\"SaveTool\",\"id\":\"p3456\"},{\"type\":\"object\",\"name\":\"PanTool\",\"id\":\"p3457\"},{\"type\":\"object\",\"name\":\"BoxZoomTool\",\"id\":\"p3458\",\"attributes\":{\"overlay\":{\"type\":\"object\",\"name\":\"BoxAnnotation\",\"id\":\"p3459\",\"attributes\":{\"syncable\":false,\"level\":\"overlay\",\"visible\":false,\"left_units\":\"canvas\",\"right_units\":\"canvas\",\"bottom_units\":\"canvas\",\"top_units\":\"canvas\",\"line_color\":\"black\",\"line_alpha\":1.0,\"line_width\":2,\"line_dash\":[4,4],\"fill_color\":\"lightgrey\",\"fill_alpha\":0.5}}}},{\"type\":\"object\",\"name\":\"ResetTool\",\"id\":\"p3460\"}],\"active_drag\":{\"id\":\"p3457\"},\"active_scroll\":{\"id\":\"p3420\"}}},\"left\":[{\"type\":\"object\",\"name\":\"LinearAxis\",\"id\":\"p3451\",\"attributes\":{\"ticker\":{\"type\":\"object\",\"name\":\"BasicTicker\",\"id\":\"p3452\",\"attributes\":{\"mantissas\":[1,2,5]}},\"formatter\":{\"type\":\"object\",\"name\":\"BasicTickFormatter\",\"id\":\"p3453\"},\"axis_label\":\"\",\"major_label_policy\":{\"type\":\"object\",\"name\":\"AllLabels\",\"id\":\"p3454\"}}}],\"below\":[{\"type\":\"object\",\"name\":\"DatetimeAxis\",\"id\":\"p3434\",\"attributes\":{\"ticker\":{\"type\":\"object\",\"name\":\"DatetimeTicker\",\"id\":\"p3435\",\"attributes\":{\"num_minor_ticks\":5,\"tickers\":[{\"type\":\"object\",\"name\":\"AdaptiveTicker\",\"id\":\"p3436\",\"attributes\":{\"num_minor_ticks\":0,\"mantissas\":[1,2,5],\"max_interval\":500.0}},{\"type\":\"object\",\"name\":\"AdaptiveTicker\",\"id\":\"p3437\",\"attributes\":{\"num_minor_ticks\":0,\"base\":60,\"mantissas\":[1,2,5,10,15,20,30],\"min_interval\":1000.0,\"max_interval\":1800000.0}},{\"type\":\"object\",\"name\":\"AdaptiveTicker\",\"id\":\"p3438\",\"attributes\":{\"num_minor_ticks\":0,\"base\":24,\"mantissas\":[1,2,4,6,8,12],\"min_interval\":3600000.0,\"max_interval\":43200000.0}},{\"type\":\"object\",\"name\":\"DaysTicker\",\"id\":\"p3439\",\"attributes\":{\"days\":[1,2,3,4,5,6,7,8,9,10,11,12,13,14,15,16,17,18,19,20,21,22,23,24,25,26,27,28,29,30,31]}},{\"type\":\"object\",\"name\":\"DaysTicker\",\"id\":\"p3440\",\"attributes\":{\"days\":[1,4,7,10,13,16,19,22,25,28]}},{\"type\":\"object\",\"name\":\"DaysTicker\",\"id\":\"p3441\",\"attributes\":{\"days\":[1,8,15,22]}},{\"type\":\"object\",\"name\":\"DaysTicker\",\"id\":\"p3442\",\"attributes\":{\"days\":[1,15]}},{\"type\":\"object\",\"name\":\"MonthsTicker\",\"id\":\"p3443\",\"attributes\":{\"months\":[0,1,2,3,4,5,6,7,8,9,10,11]}},{\"type\":\"object\",\"name\":\"MonthsTicker\",\"id\":\"p3444\",\"attributes\":{\"months\":[0,2,4,6,8,10]}},{\"type\":\"object\",\"name\":\"MonthsTicker\",\"id\":\"p3445\",\"attributes\":{\"months\":[0,4,8]}},{\"type\":\"object\",\"name\":\"MonthsTicker\",\"id\":\"p3446\",\"attributes\":{\"months\":[0,6]}},{\"type\":\"object\",\"name\":\"YearsTicker\",\"id\":\"p3447\"}]}},\"formatter\":{\"type\":\"object\",\"name\":\"DatetimeTickFormatter\",\"id\":\"p3448\"},\"axis_label\":\"date\",\"major_label_policy\":{\"type\":\"object\",\"name\":\"AllLabels\",\"id\":\"p3449\"}}}],\"center\":[{\"type\":\"object\",\"name\":\"Grid\",\"id\":\"p3450\",\"attributes\":{\"axis\":{\"id\":\"p3434\"},\"grid_line_color\":null}},{\"type\":\"object\",\"name\":\"Grid\",\"id\":\"p3455\",\"attributes\":{\"dimension\":1,\"axis\":{\"id\":\"p3451\"},\"grid_line_color\":null}}],\"min_border_top\":10,\"min_border_bottom\":10,\"min_border_left\":10,\"min_border_right\":10,\"output_backend\":\"webgl\"}},{\"type\":\"object\",\"name\":\"Spacer\",\"id\":\"p3475\",\"attributes\":{\"name\":\"HSpacer05394\",\"stylesheets\":[\"\\n:host(.pn-loading.pn-arc):before, .pn-loading.pn-arc:before {\\n  background-image: url(\\\"data:image/svg+xml;base64,PHN2ZyB4bWxucz0iaHR0cDovL3d3dy53My5vcmcvMjAwMC9zdmciIHN0eWxlPSJtYXJnaW46IGF1dG87IGJhY2tncm91bmQ6IG5vbmU7IGRpc3BsYXk6IGJsb2NrOyBzaGFwZS1yZW5kZXJpbmc6IGF1dG87IiB2aWV3Qm94PSIwIDAgMTAwIDEwMCIgcHJlc2VydmVBc3BlY3RSYXRpbz0ieE1pZFlNaWQiPiAgPGNpcmNsZSBjeD0iNTAiIGN5PSI1MCIgZmlsbD0ibm9uZSIgc3Ryb2tlPSIjYzNjM2MzIiBzdHJva2Utd2lkdGg9IjEwIiByPSIzNSIgc3Ryb2tlLWRhc2hhcnJheT0iMTY0LjkzMzYxNDMxMzQ2NDE1IDU2Ljk3Nzg3MTQzNzgyMTM4Ij4gICAgPGFuaW1hdGVUcmFuc2Zvcm0gYXR0cmlidXRlTmFtZT0idHJhbnNmb3JtIiB0eXBlPSJyb3RhdGUiIHJlcGVhdENvdW50PSJpbmRlZmluaXRlIiBkdXI9IjFzIiB2YWx1ZXM9IjAgNTAgNTA7MzYwIDUwIDUwIiBrZXlUaW1lcz0iMDsxIj48L2FuaW1hdGVUcmFuc2Zvcm0+ICA8L2NpcmNsZT48L3N2Zz4=\\\");\\n  background-size: auto calc(min(50%, 400px));\\n}\",{\"id\":\"p3413\"},{\"id\":\"p3411\"},{\"id\":\"p3412\"}],\"margin\":0,\"sizing_mode\":\"stretch_width\",\"align\":\"start\"}}]}}],\"defs\":[{\"type\":\"model\",\"name\":\"ReactiveHTML1\"},{\"type\":\"model\",\"name\":\"FlexBox1\",\"properties\":[{\"name\":\"align_content\",\"kind\":\"Any\",\"default\":\"flex-start\"},{\"name\":\"align_items\",\"kind\":\"Any\",\"default\":\"flex-start\"},{\"name\":\"flex_direction\",\"kind\":\"Any\",\"default\":\"row\"},{\"name\":\"flex_wrap\",\"kind\":\"Any\",\"default\":\"wrap\"},{\"name\":\"justify_content\",\"kind\":\"Any\",\"default\":\"flex-start\"}]},{\"type\":\"model\",\"name\":\"FloatPanel1\",\"properties\":[{\"name\":\"config\",\"kind\":\"Any\",\"default\":{\"type\":\"map\"}},{\"name\":\"contained\",\"kind\":\"Any\",\"default\":true},{\"name\":\"position\",\"kind\":\"Any\",\"default\":\"right-top\"},{\"name\":\"offsetx\",\"kind\":\"Any\",\"default\":null},{\"name\":\"offsety\",\"kind\":\"Any\",\"default\":null},{\"name\":\"theme\",\"kind\":\"Any\",\"default\":\"primary\"},{\"name\":\"status\",\"kind\":\"Any\",\"default\":\"normalized\"}]},{\"type\":\"model\",\"name\":\"GridStack1\",\"properties\":[{\"name\":\"mode\",\"kind\":\"Any\",\"default\":\"warn\"},{\"name\":\"ncols\",\"kind\":\"Any\",\"default\":null},{\"name\":\"nrows\",\"kind\":\"Any\",\"default\":null},{\"name\":\"allow_resize\",\"kind\":\"Any\",\"default\":true},{\"name\":\"allow_drag\",\"kind\":\"Any\",\"default\":true},{\"name\":\"state\",\"kind\":\"Any\",\"default\":[]}]},{\"type\":\"model\",\"name\":\"drag1\",\"properties\":[{\"name\":\"slider_width\",\"kind\":\"Any\",\"default\":5},{\"name\":\"slider_color\",\"kind\":\"Any\",\"default\":\"black\"},{\"name\":\"value\",\"kind\":\"Any\",\"default\":50}]},{\"type\":\"model\",\"name\":\"click1\",\"properties\":[{\"name\":\"terminal_output\",\"kind\":\"Any\",\"default\":\"\"},{\"name\":\"debug_name\",\"kind\":\"Any\",\"default\":\"\"},{\"name\":\"clears\",\"kind\":\"Any\",\"default\":0}]},{\"type\":\"model\",\"name\":\"FastWrapper1\",\"properties\":[{\"name\":\"object\",\"kind\":\"Any\",\"default\":null},{\"name\":\"style\",\"kind\":\"Any\",\"default\":null}]},{\"type\":\"model\",\"name\":\"NotificationAreaBase1\",\"properties\":[{\"name\":\"js_events\",\"kind\":\"Any\",\"default\":{\"type\":\"map\"}},{\"name\":\"position\",\"kind\":\"Any\",\"default\":\"bottom-right\"},{\"name\":\"_clear\",\"kind\":\"Any\",\"default\":0}]},{\"type\":\"model\",\"name\":\"NotificationArea1\",\"properties\":[{\"name\":\"js_events\",\"kind\":\"Any\",\"default\":{\"type\":\"map\"}},{\"name\":\"notifications\",\"kind\":\"Any\",\"default\":[]},{\"name\":\"position\",\"kind\":\"Any\",\"default\":\"bottom-right\"},{\"name\":\"_clear\",\"kind\":\"Any\",\"default\":0},{\"name\":\"types\",\"kind\":\"Any\",\"default\":[{\"type\":\"map\",\"entries\":[[\"type\",\"warning\"],[\"background\",\"#ffc107\"],[\"icon\",{\"type\":\"map\",\"entries\":[[\"className\",\"fas fa-exclamation-triangle\"],[\"tagName\",\"i\"],[\"color\",\"white\"]]}]]},{\"type\":\"map\",\"entries\":[[\"type\",\"info\"],[\"background\",\"#007bff\"],[\"icon\",{\"type\":\"map\",\"entries\":[[\"className\",\"fas fa-info-circle\"],[\"tagName\",\"i\"],[\"color\",\"white\"]]}]]}]}]},{\"type\":\"model\",\"name\":\"Notification\",\"properties\":[{\"name\":\"background\",\"kind\":\"Any\",\"default\":null},{\"name\":\"duration\",\"kind\":\"Any\",\"default\":3000},{\"name\":\"icon\",\"kind\":\"Any\",\"default\":null},{\"name\":\"message\",\"kind\":\"Any\",\"default\":\"\"},{\"name\":\"notification_type\",\"kind\":\"Any\",\"default\":null},{\"name\":\"_destroyed\",\"kind\":\"Any\",\"default\":false}]},{\"type\":\"model\",\"name\":\"TemplateActions1\",\"properties\":[{\"name\":\"open_modal\",\"kind\":\"Any\",\"default\":0},{\"name\":\"close_modal\",\"kind\":\"Any\",\"default\":0}]},{\"type\":\"model\",\"name\":\"BootstrapTemplateActions1\",\"properties\":[{\"name\":\"open_modal\",\"kind\":\"Any\",\"default\":0},{\"name\":\"close_modal\",\"kind\":\"Any\",\"default\":0}]},{\"type\":\"model\",\"name\":\"MaterialTemplateActions1\",\"properties\":[{\"name\":\"open_modal\",\"kind\":\"Any\",\"default\":0},{\"name\":\"close_modal\",\"kind\":\"Any\",\"default\":0}]}]}};\n",
       "  var render_items = [{\"docid\":\"336c50d8-13d3-4cd0-b024-5ef54e64339b\",\"roots\":{\"p3410\":\"efd9238d-d370-4cd6-957c-5becbd14bce4\"},\"root_ids\":[\"p3410\"]}];\n",
       "  var docs = Object.values(docs_json)\n",
       "  if (!docs) {\n",
       "    return\n",
       "  }\n",
       "  const py_version = docs[0].version.replace('rc', '-rc.').replace('.dev', '-dev.')\n",
       "  const is_dev = py_version.indexOf(\"+\") !== -1 || py_version.indexOf(\"-\") !== -1\n",
       "  function embed_document(root) {\n",
       "    var Bokeh = get_bokeh(root)\n",
       "    Bokeh.embed.embed_items_notebook(docs_json, render_items);\n",
       "    for (const render_item of render_items) {\n",
       "      for (const root_id of render_item.root_ids) {\n",
       "\tconst id_el = document.getElementById(root_id)\n",
       "\tif (id_el.children.length && (id_el.children[0].className === 'bk-root')) {\n",
       "\t  const root_el = id_el.children[0]\n",
       "\t  root_el.id = root_el.id + '-rendered'\n",
       "\t}\n",
       "      }\n",
       "    }\n",
       "  }\n",
       "  function get_bokeh(root) {\n",
       "    if (root.Bokeh === undefined) {\n",
       "      return null\n",
       "    } else if (root.Bokeh.version !== py_version && !is_dev) {\n",
       "      if (root.Bokeh.versions === undefined || !root.Bokeh.versions.has(py_version)) {\n",
       "\treturn null\n",
       "      }\n",
       "      return root.Bokeh.versions.get(py_version);\n",
       "    } else if (root.Bokeh.version === py_version) {\n",
       "      return root.Bokeh\n",
       "    }\n",
       "    return null\n",
       "  }\n",
       "  function is_loaded(root) {\n",
       "    var Bokeh = get_bokeh(root)\n",
       "    return (Bokeh != null && Bokeh.Panel !== undefined)\n",
       "  }\n",
       "  if (is_loaded(root)) {\n",
       "    embed_document(root);\n",
       "  } else {\n",
       "    var attempts = 0;\n",
       "    var timer = setInterval(function(root) {\n",
       "      if (is_loaded(root)) {\n",
       "        clearInterval(timer);\n",
       "        embed_document(root);\n",
       "      } else if (document.readyState == \"complete\") {\n",
       "        attempts++;\n",
       "        if (attempts > 200) {\n",
       "          clearInterval(timer);\n",
       "\t  var Bokeh = get_bokeh(root)\n",
       "\t  if (Bokeh == null || Bokeh.Panel == null) {\n",
       "            console.warn(\"Panel: ERROR: Unable to run Panel code because Bokeh or Panel library is missing\");\n",
       "\t  } else {\n",
       "\t    console.warn(\"Panel: WARNING: Attempting to render but not all required libraries could be resolved.\")\n",
       "\t    embed_document(root)\n",
       "\t  }\n",
       "        }\n",
       "      }\n",
       "    }, 25, root)\n",
       "  }\n",
       "})(window);</script>"
      ],
      "text/plain": [
       ":Curve   [date]   (value)"
      ]
     },
     "metadata": {
      "application/vnd.holoviews_exec.v0+json": {
       "id": "p3410"
      }
     },
     "output_type": "display_data"
    },
    {
     "data": {},
     "metadata": {},
     "output_type": "display_data"
    },
    {
     "data": {
      "application/vnd.holoviews_exec.v0+json": "",
      "text/html": [
       "<div id='p3481'>\n",
       "  <div id=\"cb49efb9-d6d9-4b18-9650-5f27a77e016e\" data-root-id=\"p3481\" style=\"display: contents;\"></div>\n",
       "</div>\n",
       "<script type=\"application/javascript\">(function(root) {\n",
       "  var docs_json = {\"4f1d1c35-6000-452f-b9f3-63c0216bb07e\":{\"version\":\"3.2.2\",\"title\":\"Bokeh Application\",\"roots\":[{\"type\":\"object\",\"name\":\"Row\",\"id\":\"p3481\",\"attributes\":{\"name\":\"Row05502\",\"tags\":[\"embedded\"],\"stylesheets\":[\"\\n:host(.pn-loading.pn-arc):before, .pn-loading.pn-arc:before {\\n  background-image: url(\\\"data:image/svg+xml;base64,PHN2ZyB4bWxucz0iaHR0cDovL3d3dy53My5vcmcvMjAwMC9zdmciIHN0eWxlPSJtYXJnaW46IGF1dG87IGJhY2tncm91bmQ6IG5vbmU7IGRpc3BsYXk6IGJsb2NrOyBzaGFwZS1yZW5kZXJpbmc6IGF1dG87IiB2aWV3Qm94PSIwIDAgMTAwIDEwMCIgcHJlc2VydmVBc3BlY3RSYXRpbz0ieE1pZFlNaWQiPiAgPGNpcmNsZSBjeD0iNTAiIGN5PSI1MCIgZmlsbD0ibm9uZSIgc3Ryb2tlPSIjYzNjM2MzIiBzdHJva2Utd2lkdGg9IjEwIiByPSIzNSIgc3Ryb2tlLWRhc2hhcnJheT0iMTY0LjkzMzYxNDMxMzQ2NDE1IDU2Ljk3Nzg3MTQzNzgyMTM4Ij4gICAgPGFuaW1hdGVUcmFuc2Zvcm0gYXR0cmlidXRlTmFtZT0idHJhbnNmb3JtIiB0eXBlPSJyb3RhdGUiIHJlcGVhdENvdW50PSJpbmRlZmluaXRlIiBkdXI9IjFzIiB2YWx1ZXM9IjAgNTAgNTA7MzYwIDUwIDUwIiBrZXlUaW1lcz0iMDsxIj48L2FuaW1hdGVUcmFuc2Zvcm0+ICA8L2NpcmNsZT48L3N2Zz4=\\\");\\n  background-size: auto calc(min(50%, 400px));\\n}\",{\"type\":\"object\",\"name\":\"ImportedStyleSheet\",\"id\":\"p3484\",\"attributes\":{\"url\":\"https://cdn.holoviz.org/panel/1.2.3/dist/css/loading.css\"}},{\"type\":\"object\",\"name\":\"ImportedStyleSheet\",\"id\":\"p3548\",\"attributes\":{\"url\":\"https://cdn.holoviz.org/panel/1.2.3/dist/css/listpanel.css\"}},{\"type\":\"object\",\"name\":\"ImportedStyleSheet\",\"id\":\"p3482\",\"attributes\":{\"url\":\"https://cdn.holoviz.org/panel/1.2.3/dist/bundled/theme/default.css\"}},{\"type\":\"object\",\"name\":\"ImportedStyleSheet\",\"id\":\"p3483\",\"attributes\":{\"url\":\"https://cdn.holoviz.org/panel/1.2.3/dist/bundled/theme/native.css\"}}],\"min_width\":700,\"margin\":0,\"sizing_mode\":\"stretch_width\",\"align\":\"start\",\"children\":[{\"type\":\"object\",\"name\":\"Spacer\",\"id\":\"p3485\",\"attributes\":{\"name\":\"HSpacer05513\",\"stylesheets\":[\"\\n:host(.pn-loading.pn-arc):before, .pn-loading.pn-arc:before {\\n  background-image: url(\\\"data:image/svg+xml;base64,PHN2ZyB4bWxucz0iaHR0cDovL3d3dy53My5vcmcvMjAwMC9zdmciIHN0eWxlPSJtYXJnaW46IGF1dG87IGJhY2tncm91bmQ6IG5vbmU7IGRpc3BsYXk6IGJsb2NrOyBzaGFwZS1yZW5kZXJpbmc6IGF1dG87IiB2aWV3Qm94PSIwIDAgMTAwIDEwMCIgcHJlc2VydmVBc3BlY3RSYXRpbz0ieE1pZFlNaWQiPiAgPGNpcmNsZSBjeD0iNTAiIGN5PSI1MCIgZmlsbD0ibm9uZSIgc3Ryb2tlPSIjYzNjM2MzIiBzdHJva2Utd2lkdGg9IjEwIiByPSIzNSIgc3Ryb2tlLWRhc2hhcnJheT0iMTY0LjkzMzYxNDMxMzQ2NDE1IDU2Ljk3Nzg3MTQzNzgyMTM4Ij4gICAgPGFuaW1hdGVUcmFuc2Zvcm0gYXR0cmlidXRlTmFtZT0idHJhbnNmb3JtIiB0eXBlPSJyb3RhdGUiIHJlcGVhdENvdW50PSJpbmRlZmluaXRlIiBkdXI9IjFzIiB2YWx1ZXM9IjAgNTAgNTA7MzYwIDUwIDUwIiBrZXlUaW1lcz0iMDsxIj48L2FuaW1hdGVUcmFuc2Zvcm0+ICA8L2NpcmNsZT48L3N2Zz4=\\\");\\n  background-size: auto calc(min(50%, 400px));\\n}\",{\"id\":\"p3484\"},{\"id\":\"p3482\"},{\"id\":\"p3483\"}],\"margin\":0,\"sizing_mode\":\"stretch_width\",\"align\":\"start\"}},{\"type\":\"object\",\"name\":\"Figure\",\"id\":\"p3493\",\"attributes\":{\"width\":700,\"height\":300,\"margin\":[5,10],\"sizing_mode\":\"fixed\",\"align\":\"start\",\"x_range\":{\"type\":\"object\",\"name\":\"Range1d\",\"id\":\"p3486\",\"attributes\":{\"tags\":[[[\"date\",\"date\",null]],[]],\"start\":165542400000.0,\"end\":1680307200000.0,\"reset_start\":165542400000.0,\"reset_end\":1680307200000.0}},\"y_range\":{\"type\":\"object\",\"name\":\"Range1d\",\"id\":\"p3487\",\"attributes\":{\"tags\":[[[\"HPI\",\"HPI\",null]],{\"type\":\"map\",\"entries\":[[\"invert_yaxis\",false],[\"autorange\",false]]}],\"start\":2.317999999999998,\"end\":703.622,\"reset_start\":2.317999999999998,\"reset_end\":703.622}},\"x_scale\":{\"type\":\"object\",\"name\":\"LinearScale\",\"id\":\"p3503\"},\"y_scale\":{\"type\":\"object\",\"name\":\"LinearScale\",\"id\":\"p3504\"},\"title\":{\"type\":\"object\",\"name\":\"Title\",\"id\":\"p3496\",\"attributes\":{\"text\":\"All Transactions House Price Index for the United States\",\"text_color\":\"black\",\"text_font_size\":\"12pt\"}},\"renderers\":[{\"type\":\"object\",\"name\":\"GlyphRenderer\",\"id\":\"p3541\",\"attributes\":{\"data_source\":{\"type\":\"object\",\"name\":\"ColumnDataSource\",\"id\":\"p3532\",\"attributes\":{\"selected\":{\"type\":\"object\",\"name\":\"Selection\",\"id\":\"p3533\",\"attributes\":{\"indices\":[],\"line_indices\":[]}},\"selection_policy\":{\"type\":\"object\",\"name\":\"UnionRenderers\",\"id\":\"p3534\"},\"data\":{\"type\":\"map\",\"entries\":[[\"date\",{\"type\":\"ndarray\",\"array\":{\"type\":\"bytes\",\"data\":\"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\"},\"shape\":[193],\"dtype\":\"float64\",\"order\":\"little\"}],[\"HPI\",{\"type\":\"ndarray\",\"array\":{\"type\":\"bytes\",\"data\":\"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\"},\"shape\":[193],\"dtype\":\"float64\",\"order\":\"little\"}]]}}},\"view\":{\"type\":\"object\",\"name\":\"CDSView\",\"id\":\"p3542\",\"attributes\":{\"filter\":{\"type\":\"object\",\"name\":\"AllIndices\",\"id\":\"p3543\"}}},\"glyph\":{\"type\":\"object\",\"name\":\"Line\",\"id\":\"p3538\",\"attributes\":{\"tags\":[\"apply_ranges\"],\"x\":{\"type\":\"field\",\"field\":\"date\"},\"y\":{\"type\":\"field\",\"field\":\"HPI\"},\"line_color\":\"#30a2da\",\"line_width\":2}},\"selection_glyph\":{\"type\":\"object\",\"name\":\"Line\",\"id\":\"p3544\",\"attributes\":{\"tags\":[\"apply_ranges\"],\"x\":{\"type\":\"field\",\"field\":\"date\"},\"y\":{\"type\":\"field\",\"field\":\"HPI\"},\"line_color\":\"#30a2da\",\"line_width\":2}},\"nonselection_glyph\":{\"type\":\"object\",\"name\":\"Line\",\"id\":\"p3539\",\"attributes\":{\"tags\":[\"apply_ranges\"],\"x\":{\"type\":\"field\",\"field\":\"date\"},\"y\":{\"type\":\"field\",\"field\":\"HPI\"},\"line_color\":\"#30a2da\",\"line_alpha\":0.1,\"line_width\":2}},\"muted_glyph\":{\"type\":\"object\",\"name\":\"Line\",\"id\":\"p3540\",\"attributes\":{\"tags\":[\"apply_ranges\"],\"x\":{\"type\":\"field\",\"field\":\"date\"},\"y\":{\"type\":\"field\",\"field\":\"HPI\"},\"line_color\":\"#30a2da\",\"line_alpha\":0.2,\"line_width\":2}}}}],\"toolbar\":{\"type\":\"object\",\"name\":\"Toolbar\",\"id\":\"p3502\",\"attributes\":{\"tools\":[{\"type\":\"object\",\"name\":\"WheelZoomTool\",\"id\":\"p3491\",\"attributes\":{\"tags\":[\"hv_created\"],\"zoom_together\":\"none\"}},{\"type\":\"object\",\"name\":\"HoverTool\",\"id\":\"p3492\",\"attributes\":{\"tags\":[\"hv_created\"],\"renderers\":[{\"id\":\"p3541\"}],\"tooltips\":[[\"date\",\"@{date}{%F %T}\"],[\"HPI\",\"@{HPI}\"]],\"formatters\":{\"type\":\"map\",\"entries\":[[\"@{date}\",\"datetime\"]]}}},{\"type\":\"object\",\"name\":\"SaveTool\",\"id\":\"p3527\"},{\"type\":\"object\",\"name\":\"PanTool\",\"id\":\"p3528\"},{\"type\":\"object\",\"name\":\"BoxZoomTool\",\"id\":\"p3529\",\"attributes\":{\"overlay\":{\"type\":\"object\",\"name\":\"BoxAnnotation\",\"id\":\"p3530\",\"attributes\":{\"syncable\":false,\"level\":\"overlay\",\"visible\":false,\"left_units\":\"canvas\",\"right_units\":\"canvas\",\"bottom_units\":\"canvas\",\"top_units\":\"canvas\",\"line_color\":\"black\",\"line_alpha\":1.0,\"line_width\":2,\"line_dash\":[4,4],\"fill_color\":\"lightgrey\",\"fill_alpha\":0.5}}}},{\"type\":\"object\",\"name\":\"ResetTool\",\"id\":\"p3531\"}],\"active_drag\":{\"id\":\"p3528\"},\"active_scroll\":{\"id\":\"p3491\"}}},\"left\":[{\"type\":\"object\",\"name\":\"LinearAxis\",\"id\":\"p3522\",\"attributes\":{\"ticker\":{\"type\":\"object\",\"name\":\"BasicTicker\",\"id\":\"p3523\",\"attributes\":{\"mantissas\":[1,2,5]}},\"formatter\":{\"type\":\"object\",\"name\":\"BasicTickFormatter\",\"id\":\"p3524\"},\"axis_label\":\"\",\"major_label_policy\":{\"type\":\"object\",\"name\":\"AllLabels\",\"id\":\"p3525\"}}}],\"below\":[{\"type\":\"object\",\"name\":\"DatetimeAxis\",\"id\":\"p3505\",\"attributes\":{\"ticker\":{\"type\":\"object\",\"name\":\"DatetimeTicker\",\"id\":\"p3506\",\"attributes\":{\"num_minor_ticks\":5,\"tickers\":[{\"type\":\"object\",\"name\":\"AdaptiveTicker\",\"id\":\"p3507\",\"attributes\":{\"num_minor_ticks\":0,\"mantissas\":[1,2,5],\"max_interval\":500.0}},{\"type\":\"object\",\"name\":\"AdaptiveTicker\",\"id\":\"p3508\",\"attributes\":{\"num_minor_ticks\":0,\"base\":60,\"mantissas\":[1,2,5,10,15,20,30],\"min_interval\":1000.0,\"max_interval\":1800000.0}},{\"type\":\"object\",\"name\":\"AdaptiveTicker\",\"id\":\"p3509\",\"attributes\":{\"num_minor_ticks\":0,\"base\":24,\"mantissas\":[1,2,4,6,8,12],\"min_interval\":3600000.0,\"max_interval\":43200000.0}},{\"type\":\"object\",\"name\":\"DaysTicker\",\"id\":\"p3510\",\"attributes\":{\"days\":[1,2,3,4,5,6,7,8,9,10,11,12,13,14,15,16,17,18,19,20,21,22,23,24,25,26,27,28,29,30,31]}},{\"type\":\"object\",\"name\":\"DaysTicker\",\"id\":\"p3511\",\"attributes\":{\"days\":[1,4,7,10,13,16,19,22,25,28]}},{\"type\":\"object\",\"name\":\"DaysTicker\",\"id\":\"p3512\",\"attributes\":{\"days\":[1,8,15,22]}},{\"type\":\"object\",\"name\":\"DaysTicker\",\"id\":\"p3513\",\"attributes\":{\"days\":[1,15]}},{\"type\":\"object\",\"name\":\"MonthsTicker\",\"id\":\"p3514\",\"attributes\":{\"months\":[0,1,2,3,4,5,6,7,8,9,10,11]}},{\"type\":\"object\",\"name\":\"MonthsTicker\",\"id\":\"p3515\",\"attributes\":{\"months\":[0,2,4,6,8,10]}},{\"type\":\"object\",\"name\":\"MonthsTicker\",\"id\":\"p3516\",\"attributes\":{\"months\":[0,4,8]}},{\"type\":\"object\",\"name\":\"MonthsTicker\",\"id\":\"p3517\",\"attributes\":{\"months\":[0,6]}},{\"type\":\"object\",\"name\":\"YearsTicker\",\"id\":\"p3518\"}]}},\"formatter\":{\"type\":\"object\",\"name\":\"DatetimeTickFormatter\",\"id\":\"p3519\"},\"axis_label\":\"date\",\"major_label_policy\":{\"type\":\"object\",\"name\":\"AllLabels\",\"id\":\"p3520\"}}}],\"center\":[{\"type\":\"object\",\"name\":\"Grid\",\"id\":\"p3521\",\"attributes\":{\"axis\":{\"id\":\"p3505\"},\"grid_line_color\":null}},{\"type\":\"object\",\"name\":\"Grid\",\"id\":\"p3526\",\"attributes\":{\"dimension\":1,\"axis\":{\"id\":\"p3522\"},\"grid_line_color\":null}}],\"min_border_top\":10,\"min_border_bottom\":10,\"min_border_left\":10,\"min_border_right\":10,\"output_backend\":\"webgl\"}},{\"type\":\"object\",\"name\":\"Spacer\",\"id\":\"p3546\",\"attributes\":{\"name\":\"HSpacer05516\",\"stylesheets\":[\"\\n:host(.pn-loading.pn-arc):before, .pn-loading.pn-arc:before {\\n  background-image: url(\\\"data:image/svg+xml;base64,PHN2ZyB4bWxucz0iaHR0cDovL3d3dy53My5vcmcvMjAwMC9zdmciIHN0eWxlPSJtYXJnaW46IGF1dG87IGJhY2tncm91bmQ6IG5vbmU7IGRpc3BsYXk6IGJsb2NrOyBzaGFwZS1yZW5kZXJpbmc6IGF1dG87IiB2aWV3Qm94PSIwIDAgMTAwIDEwMCIgcHJlc2VydmVBc3BlY3RSYXRpbz0ieE1pZFlNaWQiPiAgPGNpcmNsZSBjeD0iNTAiIGN5PSI1MCIgZmlsbD0ibm9uZSIgc3Ryb2tlPSIjYzNjM2MzIiBzdHJva2Utd2lkdGg9IjEwIiByPSIzNSIgc3Ryb2tlLWRhc2hhcnJheT0iMTY0LjkzMzYxNDMxMzQ2NDE1IDU2Ljk3Nzg3MTQzNzgyMTM4Ij4gICAgPGFuaW1hdGVUcmFuc2Zvcm0gYXR0cmlidXRlTmFtZT0idHJhbnNmb3JtIiB0eXBlPSJyb3RhdGUiIHJlcGVhdENvdW50PSJpbmRlZmluaXRlIiBkdXI9IjFzIiB2YWx1ZXM9IjAgNTAgNTA7MzYwIDUwIDUwIiBrZXlUaW1lcz0iMDsxIj48L2FuaW1hdGVUcmFuc2Zvcm0+ICA8L2NpcmNsZT48L3N2Zz4=\\\");\\n  background-size: auto calc(min(50%, 400px));\\n}\",{\"id\":\"p3484\"},{\"id\":\"p3482\"},{\"id\":\"p3483\"}],\"margin\":0,\"sizing_mode\":\"stretch_width\",\"align\":\"start\"}}]}}],\"defs\":[{\"type\":\"model\",\"name\":\"ReactiveHTML1\"},{\"type\":\"model\",\"name\":\"FlexBox1\",\"properties\":[{\"name\":\"align_content\",\"kind\":\"Any\",\"default\":\"flex-start\"},{\"name\":\"align_items\",\"kind\":\"Any\",\"default\":\"flex-start\"},{\"name\":\"flex_direction\",\"kind\":\"Any\",\"default\":\"row\"},{\"name\":\"flex_wrap\",\"kind\":\"Any\",\"default\":\"wrap\"},{\"name\":\"justify_content\",\"kind\":\"Any\",\"default\":\"flex-start\"}]},{\"type\":\"model\",\"name\":\"FloatPanel1\",\"properties\":[{\"name\":\"config\",\"kind\":\"Any\",\"default\":{\"type\":\"map\"}},{\"name\":\"contained\",\"kind\":\"Any\",\"default\":true},{\"name\":\"position\",\"kind\":\"Any\",\"default\":\"right-top\"},{\"name\":\"offsetx\",\"kind\":\"Any\",\"default\":null},{\"name\":\"offsety\",\"kind\":\"Any\",\"default\":null},{\"name\":\"theme\",\"kind\":\"Any\",\"default\":\"primary\"},{\"name\":\"status\",\"kind\":\"Any\",\"default\":\"normalized\"}]},{\"type\":\"model\",\"name\":\"GridStack1\",\"properties\":[{\"name\":\"mode\",\"kind\":\"Any\",\"default\":\"warn\"},{\"name\":\"ncols\",\"kind\":\"Any\",\"default\":null},{\"name\":\"nrows\",\"kind\":\"Any\",\"default\":null},{\"name\":\"allow_resize\",\"kind\":\"Any\",\"default\":true},{\"name\":\"allow_drag\",\"kind\":\"Any\",\"default\":true},{\"name\":\"state\",\"kind\":\"Any\",\"default\":[]}]},{\"type\":\"model\",\"name\":\"drag1\",\"properties\":[{\"name\":\"slider_width\",\"kind\":\"Any\",\"default\":5},{\"name\":\"slider_color\",\"kind\":\"Any\",\"default\":\"black\"},{\"name\":\"value\",\"kind\":\"Any\",\"default\":50}]},{\"type\":\"model\",\"name\":\"click1\",\"properties\":[{\"name\":\"terminal_output\",\"kind\":\"Any\",\"default\":\"\"},{\"name\":\"debug_name\",\"kind\":\"Any\",\"default\":\"\"},{\"name\":\"clears\",\"kind\":\"Any\",\"default\":0}]},{\"type\":\"model\",\"name\":\"FastWrapper1\",\"properties\":[{\"name\":\"object\",\"kind\":\"Any\",\"default\":null},{\"name\":\"style\",\"kind\":\"Any\",\"default\":null}]},{\"type\":\"model\",\"name\":\"NotificationAreaBase1\",\"properties\":[{\"name\":\"js_events\",\"kind\":\"Any\",\"default\":{\"type\":\"map\"}},{\"name\":\"position\",\"kind\":\"Any\",\"default\":\"bottom-right\"},{\"name\":\"_clear\",\"kind\":\"Any\",\"default\":0}]},{\"type\":\"model\",\"name\":\"NotificationArea1\",\"properties\":[{\"name\":\"js_events\",\"kind\":\"Any\",\"default\":{\"type\":\"map\"}},{\"name\":\"notifications\",\"kind\":\"Any\",\"default\":[]},{\"name\":\"position\",\"kind\":\"Any\",\"default\":\"bottom-right\"},{\"name\":\"_clear\",\"kind\":\"Any\",\"default\":0},{\"name\":\"types\",\"kind\":\"Any\",\"default\":[{\"type\":\"map\",\"entries\":[[\"type\",\"warning\"],[\"background\",\"#ffc107\"],[\"icon\",{\"type\":\"map\",\"entries\":[[\"className\",\"fas fa-exclamation-triangle\"],[\"tagName\",\"i\"],[\"color\",\"white\"]]}]]},{\"type\":\"map\",\"entries\":[[\"type\",\"info\"],[\"background\",\"#007bff\"],[\"icon\",{\"type\":\"map\",\"entries\":[[\"className\",\"fas fa-info-circle\"],[\"tagName\",\"i\"],[\"color\",\"white\"]]}]]}]}]},{\"type\":\"model\",\"name\":\"Notification\",\"properties\":[{\"name\":\"background\",\"kind\":\"Any\",\"default\":null},{\"name\":\"duration\",\"kind\":\"Any\",\"default\":3000},{\"name\":\"icon\",\"kind\":\"Any\",\"default\":null},{\"name\":\"message\",\"kind\":\"Any\",\"default\":\"\"},{\"name\":\"notification_type\",\"kind\":\"Any\",\"default\":null},{\"name\":\"_destroyed\",\"kind\":\"Any\",\"default\":false}]},{\"type\":\"model\",\"name\":\"TemplateActions1\",\"properties\":[{\"name\":\"open_modal\",\"kind\":\"Any\",\"default\":0},{\"name\":\"close_modal\",\"kind\":\"Any\",\"default\":0}]},{\"type\":\"model\",\"name\":\"BootstrapTemplateActions1\",\"properties\":[{\"name\":\"open_modal\",\"kind\":\"Any\",\"default\":0},{\"name\":\"close_modal\",\"kind\":\"Any\",\"default\":0}]},{\"type\":\"model\",\"name\":\"MaterialTemplateActions1\",\"properties\":[{\"name\":\"open_modal\",\"kind\":\"Any\",\"default\":0},{\"name\":\"close_modal\",\"kind\":\"Any\",\"default\":0}]}]}};\n",
       "  var render_items = [{\"docid\":\"4f1d1c35-6000-452f-b9f3-63c0216bb07e\",\"roots\":{\"p3481\":\"cb49efb9-d6d9-4b18-9650-5f27a77e016e\"},\"root_ids\":[\"p3481\"]}];\n",
       "  var docs = Object.values(docs_json)\n",
       "  if (!docs) {\n",
       "    return\n",
       "  }\n",
       "  const py_version = docs[0].version.replace('rc', '-rc.').replace('.dev', '-dev.')\n",
       "  const is_dev = py_version.indexOf(\"+\") !== -1 || py_version.indexOf(\"-\") !== -1\n",
       "  function embed_document(root) {\n",
       "    var Bokeh = get_bokeh(root)\n",
       "    Bokeh.embed.embed_items_notebook(docs_json, render_items);\n",
       "    for (const render_item of render_items) {\n",
       "      for (const root_id of render_item.root_ids) {\n",
       "\tconst id_el = document.getElementById(root_id)\n",
       "\tif (id_el.children.length && (id_el.children[0].className === 'bk-root')) {\n",
       "\t  const root_el = id_el.children[0]\n",
       "\t  root_el.id = root_el.id + '-rendered'\n",
       "\t}\n",
       "      }\n",
       "    }\n",
       "  }\n",
       "  function get_bokeh(root) {\n",
       "    if (root.Bokeh === undefined) {\n",
       "      return null\n",
       "    } else if (root.Bokeh.version !== py_version && !is_dev) {\n",
       "      if (root.Bokeh.versions === undefined || !root.Bokeh.versions.has(py_version)) {\n",
       "\treturn null\n",
       "      }\n",
       "      return root.Bokeh.versions.get(py_version);\n",
       "    } else if (root.Bokeh.version === py_version) {\n",
       "      return root.Bokeh\n",
       "    }\n",
       "    return null\n",
       "  }\n",
       "  function is_loaded(root) {\n",
       "    var Bokeh = get_bokeh(root)\n",
       "    return (Bokeh != null && Bokeh.Panel !== undefined)\n",
       "  }\n",
       "  if (is_loaded(root)) {\n",
       "    embed_document(root);\n",
       "  } else {\n",
       "    var attempts = 0;\n",
       "    var timer = setInterval(function(root) {\n",
       "      if (is_loaded(root)) {\n",
       "        clearInterval(timer);\n",
       "        embed_document(root);\n",
       "      } else if (document.readyState == \"complete\") {\n",
       "        attempts++;\n",
       "        if (attempts > 200) {\n",
       "          clearInterval(timer);\n",
       "\t  var Bokeh = get_bokeh(root)\n",
       "\t  if (Bokeh == null || Bokeh.Panel == null) {\n",
       "            console.warn(\"Panel: ERROR: Unable to run Panel code because Bokeh or Panel library is missing\");\n",
       "\t  } else {\n",
       "\t    console.warn(\"Panel: WARNING: Attempting to render but not all required libraries could be resolved.\")\n",
       "\t    embed_document(root)\n",
       "\t  }\n",
       "        }\n",
       "      }\n",
       "    }, 25, root)\n",
       "  }\n",
       "})(window);</script>"
      ],
      "text/plain": [
       ":Curve   [date]   (HPI)"
      ]
     },
     "metadata": {
      "application/vnd.holoviews_exec.v0+json": {
       "id": "p3481"
      }
     },
     "output_type": "display_data"
    }
   ],
   "source": [
    "# Plot Monthly Supply of New Houses in the United States\n",
    "display(dataframes[\"MSACSR\"][\"value\"].hvplot(title=\"Monthly Supply of New Houses in the United States\"))\n",
    "\n",
    "# Plot House price Index for the United States\n",
    "display(dataframes[\"USSTHPI\"][\"HPI\"].hvplot(title=\"All Transactions House Price Index for the United States\"))"
   ]
  },
  {
   "cell_type": "code",
   "execution_count": 69,
   "metadata": {
    "tags": []
   },
   "outputs": [
    {
     "data": {
      "text/html": [
       "<div>\n",
       "<style scoped>\n",
       "    .dataframe tbody tr th:only-of-type {\n",
       "        vertical-align: middle;\n",
       "    }\n",
       "\n",
       "    .dataframe tbody tr th {\n",
       "        vertical-align: top;\n",
       "    }\n",
       "\n",
       "    .dataframe thead th {\n",
       "        text-align: right;\n",
       "    }\n",
       "</style>\n",
       "<table border=\"1\" class=\"dataframe\">\n",
       "  <thead>\n",
       "    <tr style=\"text-align: right;\">\n",
       "      <th></th>\n",
       "      <th>Monthly Supply</th>\n",
       "      <th>MS pct_change</th>\n",
       "      <th>Difference in MS</th>\n",
       "    </tr>\n",
       "    <tr>\n",
       "      <th>date</th>\n",
       "      <th></th>\n",
       "      <th></th>\n",
       "      <th></th>\n",
       "    </tr>\n",
       "  </thead>\n",
       "  <tbody>\n",
       "    <tr>\n",
       "      <th>1963-02-01</th>\n",
       "      <td>6.6</td>\n",
       "      <td>0.404255</td>\n",
       "      <td>1.9</td>\n",
       "    </tr>\n",
       "    <tr>\n",
       "      <th>1963-03-01</th>\n",
       "      <td>6.4</td>\n",
       "      <td>-0.030303</td>\n",
       "      <td>-0.2</td>\n",
       "    </tr>\n",
       "    <tr>\n",
       "      <th>1963-04-01</th>\n",
       "      <td>5.3</td>\n",
       "      <td>-0.171875</td>\n",
       "      <td>-1.1</td>\n",
       "    </tr>\n",
       "    <tr>\n",
       "      <th>1963-05-01</th>\n",
       "      <td>5.1</td>\n",
       "      <td>-0.037736</td>\n",
       "      <td>-0.2</td>\n",
       "    </tr>\n",
       "    <tr>\n",
       "      <th>1963-06-01</th>\n",
       "      <td>6.0</td>\n",
       "      <td>0.176471</td>\n",
       "      <td>0.9</td>\n",
       "    </tr>\n",
       "  </tbody>\n",
       "</table>\n",
       "</div>"
      ],
      "text/plain": [
       "            Monthly Supply  MS pct_change  Difference in MS\n",
       "date                                                       \n",
       "1963-02-01             6.6       0.404255               1.9\n",
       "1963-03-01             6.4      -0.030303              -0.2\n",
       "1963-04-01             5.3      -0.171875              -1.1\n",
       "1963-05-01             5.1      -0.037736              -0.2\n",
       "1963-06-01             6.0       0.176471               0.9"
      ]
     },
     "metadata": {},
     "output_type": "display_data"
    },
    {
     "data": {
      "text/html": [
       "<div>\n",
       "<style scoped>\n",
       "    .dataframe tbody tr th:only-of-type {\n",
       "        vertical-align: middle;\n",
       "    }\n",
       "\n",
       "    .dataframe tbody tr th {\n",
       "        vertical-align: top;\n",
       "    }\n",
       "\n",
       "    .dataframe thead th {\n",
       "        text-align: right;\n",
       "    }\n",
       "</style>\n",
       "<table border=\"1\" class=\"dataframe\">\n",
       "  <thead>\n",
       "    <tr style=\"text-align: right;\">\n",
       "      <th></th>\n",
       "      <th>HPI</th>\n",
       "      <th>HPI pct_change</th>\n",
       "      <th>Difference in HPI</th>\n",
       "    </tr>\n",
       "    <tr>\n",
       "      <th>date</th>\n",
       "      <th></th>\n",
       "      <th></th>\n",
       "      <th></th>\n",
       "    </tr>\n",
       "  </thead>\n",
       "  <tbody>\n",
       "    <tr>\n",
       "      <th>1975-04-01</th>\n",
       "      <td>60.76</td>\n",
       "      <td>0.014188</td>\n",
       "      <td>0.85</td>\n",
       "    </tr>\n",
       "    <tr>\n",
       "      <th>1975-07-01</th>\n",
       "      <td>61.16</td>\n",
       "      <td>0.006583</td>\n",
       "      <td>0.40</td>\n",
       "    </tr>\n",
       "    <tr>\n",
       "      <th>1975-10-01</th>\n",
       "      <td>62.22</td>\n",
       "      <td>0.017332</td>\n",
       "      <td>1.06</td>\n",
       "    </tr>\n",
       "    <tr>\n",
       "      <th>1976-01-01</th>\n",
       "      <td>62.85</td>\n",
       "      <td>0.010125</td>\n",
       "      <td>0.63</td>\n",
       "    </tr>\n",
       "    <tr>\n",
       "      <th>1976-04-01</th>\n",
       "      <td>65.43</td>\n",
       "      <td>0.041050</td>\n",
       "      <td>2.58</td>\n",
       "    </tr>\n",
       "  </tbody>\n",
       "</table>\n",
       "</div>"
      ],
      "text/plain": [
       "              HPI  HPI pct_change  Difference in HPI\n",
       "date                                                \n",
       "1975-04-01  60.76        0.014188               0.85\n",
       "1975-07-01  61.16        0.006583               0.40\n",
       "1975-10-01  62.22        0.017332               1.06\n",
       "1976-01-01  62.85        0.010125               0.63\n",
       "1976-04-01  65.43        0.041050               2.58"
      ]
     },
     "execution_count": 69,
     "metadata": {},
     "output_type": "execute_result"
    }
   ],
   "source": [
    "# Rename Columns to 'Monthly Supply', 'MS pct_change','Difference in MS'\n",
    "dataframes[\"MSACSR\"].columns=[\"Monthly Supply\",\"MS pct_change\",\"Difference in MS\"]\n",
    "display(dataframes[\"MSACSR\"].head())\n",
    "\n",
    "# Rename Columns to 'House Price Index', HPI pct_change'\n",
    "dataframes[\"USSTHPI\"].columns = ['HPI','HPI pct_change','Difference in HPI']\n",
    "dataframes[\"USSTHPI\"].head()"
   ]
  },
  {
   "cell_type": "markdown",
   "metadata": {},
   "source": [
    "#### Combine Monthly Suppky of New Houses and Housing Price Index for the United States"
   ]
  },
  {
   "cell_type": "code",
   "execution_count": 70,
   "metadata": {
    "tags": []
   },
   "outputs": [
    {
     "data": {
      "text/html": [
       "<div>\n",
       "<style scoped>\n",
       "    .dataframe tbody tr th:only-of-type {\n",
       "        vertical-align: middle;\n",
       "    }\n",
       "\n",
       "    .dataframe tbody tr th {\n",
       "        vertical-align: top;\n",
       "    }\n",
       "\n",
       "    .dataframe thead th {\n",
       "        text-align: right;\n",
       "    }\n",
       "</style>\n",
       "<table border=\"1\" class=\"dataframe\">\n",
       "  <thead>\n",
       "    <tr style=\"text-align: right;\">\n",
       "      <th></th>\n",
       "      <th>Monthly Supply</th>\n",
       "      <th>MS pct_change</th>\n",
       "      <th>Difference in MS</th>\n",
       "      <th>HPI</th>\n",
       "      <th>HPI pct_change</th>\n",
       "      <th>Difference in HPI</th>\n",
       "    </tr>\n",
       "    <tr>\n",
       "      <th>date</th>\n",
       "      <th></th>\n",
       "      <th></th>\n",
       "      <th></th>\n",
       "      <th></th>\n",
       "      <th></th>\n",
       "      <th></th>\n",
       "    </tr>\n",
       "  </thead>\n",
       "  <tbody>\n",
       "    <tr>\n",
       "      <th>1975-04-01</th>\n",
       "      <td>7.2</td>\n",
       "      <td>-0.191011</td>\n",
       "      <td>-1.7</td>\n",
       "      <td>60.76</td>\n",
       "      <td>0.014188</td>\n",
       "      <td>0.85</td>\n",
       "    </tr>\n",
       "    <tr>\n",
       "      <th>1975-07-01</th>\n",
       "      <td>7.0</td>\n",
       "      <td>-0.027778</td>\n",
       "      <td>-0.2</td>\n",
       "      <td>61.16</td>\n",
       "      <td>0.006583</td>\n",
       "      <td>0.40</td>\n",
       "    </tr>\n",
       "    <tr>\n",
       "      <th>1975-10-01</th>\n",
       "      <td>6.6</td>\n",
       "      <td>-0.095890</td>\n",
       "      <td>-0.7</td>\n",
       "      <td>62.22</td>\n",
       "      <td>0.017332</td>\n",
       "      <td>1.06</td>\n",
       "    </tr>\n",
       "    <tr>\n",
       "      <th>1976-01-01</th>\n",
       "      <td>6.4</td>\n",
       "      <td>0.103448</td>\n",
       "      <td>0.6</td>\n",
       "      <td>62.85</td>\n",
       "      <td>0.010125</td>\n",
       "      <td>0.63</td>\n",
       "    </tr>\n",
       "    <tr>\n",
       "      <th>1976-04-01</th>\n",
       "      <td>6.4</td>\n",
       "      <td>-0.058824</td>\n",
       "      <td>-0.4</td>\n",
       "      <td>65.43</td>\n",
       "      <td>0.041050</td>\n",
       "      <td>2.58</td>\n",
       "    </tr>\n",
       "  </tbody>\n",
       "</table>\n",
       "</div>"
      ],
      "text/plain": [
       "            Monthly Supply  MS pct_change  Difference in MS    HPI  \\\n",
       "date                                                                 \n",
       "1975-04-01             7.2      -0.191011              -1.7  60.76   \n",
       "1975-07-01             7.0      -0.027778              -0.2  61.16   \n",
       "1975-10-01             6.6      -0.095890              -0.7  62.22   \n",
       "1976-01-01             6.4       0.103448               0.6  62.85   \n",
       "1976-04-01             6.4      -0.058824              -0.4  65.43   \n",
       "\n",
       "            HPI pct_change  Difference in HPI  \n",
       "date                                           \n",
       "1975-04-01        0.014188               0.85  \n",
       "1975-07-01        0.006583               0.40  \n",
       "1975-10-01        0.017332               1.06  \n",
       "1976-01-01        0.010125               0.63  \n",
       "1976-04-01        0.041050               2.58  "
      ]
     },
     "execution_count": 70,
     "metadata": {},
     "output_type": "execute_result"
    }
   ],
   "source": [
    "# Use 'concat' function to combine the two DataFrames by matching indexes\n",
    "monthly_supply_df = pd.concat([dataframes[\"MSACSR\"],dataframes[\"USSTHPI\"]],axis=\"columns\",join=\"inner\")\n",
    "monthly_supply_df.head()"
   ]
  },
  {
   "cell_type": "code",
   "execution_count": 71,
   "metadata": {
    "tags": []
   },
   "outputs": [
    {
     "data": {
      "text/html": [
       "<div>\n",
       "<style scoped>\n",
       "    .dataframe tbody tr th:only-of-type {\n",
       "        vertical-align: middle;\n",
       "    }\n",
       "\n",
       "    .dataframe tbody tr th {\n",
       "        vertical-align: top;\n",
       "    }\n",
       "\n",
       "    .dataframe thead th {\n",
       "        text-align: right;\n",
       "    }\n",
       "</style>\n",
       "<table border=\"1\" class=\"dataframe\">\n",
       "  <thead>\n",
       "    <tr style=\"text-align: right;\">\n",
       "      <th></th>\n",
       "      <th>Monthly Supply</th>\n",
       "      <th>Difference in HPI</th>\n",
       "    </tr>\n",
       "    <tr>\n",
       "      <th>date</th>\n",
       "      <th></th>\n",
       "      <th></th>\n",
       "    </tr>\n",
       "  </thead>\n",
       "  <tbody>\n",
       "    <tr>\n",
       "      <th>1975-04-01</th>\n",
       "      <td>7.2</td>\n",
       "      <td>0.85</td>\n",
       "    </tr>\n",
       "    <tr>\n",
       "      <th>1975-07-01</th>\n",
       "      <td>7.0</td>\n",
       "      <td>0.40</td>\n",
       "    </tr>\n",
       "    <tr>\n",
       "      <th>1975-10-01</th>\n",
       "      <td>6.6</td>\n",
       "      <td>1.06</td>\n",
       "    </tr>\n",
       "    <tr>\n",
       "      <th>1976-01-01</th>\n",
       "      <td>6.4</td>\n",
       "      <td>0.63</td>\n",
       "    </tr>\n",
       "    <tr>\n",
       "      <th>1976-04-01</th>\n",
       "      <td>6.4</td>\n",
       "      <td>2.58</td>\n",
       "    </tr>\n",
       "  </tbody>\n",
       "</table>\n",
       "</div>"
      ],
      "text/plain": [
       "            Monthly Supply  Difference in HPI\n",
       "date                                         \n",
       "1975-04-01             7.2               0.85\n",
       "1975-07-01             7.0               0.40\n",
       "1975-10-01             6.6               1.06\n",
       "1976-01-01             6.4               0.63\n",
       "1976-04-01             6.4               2.58"
      ]
     },
     "execution_count": 71,
     "metadata": {},
     "output_type": "execute_result"
    }
   ],
   "source": [
    "# Drop columns 'Monthly Supply','MS pct_change','HPI','HPI pct_change'\n",
    "monthly_supply_df = monthly_supply_df.drop(columns=[\"Difference in MS\",\"MS pct_change\",\"HPI\",\"HPI pct_change\"])\n",
    "monthly_supply_df.head()"
   ]
  },
  {
   "cell_type": "markdown",
   "metadata": {
    "tags": []
   },
   "source": [
    "#### Conduct House Price Index and Monthly Supply of New Houses Analysis"
   ]
  },
  {
   "cell_type": "code",
   "execution_count": 72,
   "metadata": {
    "tags": []
   },
   "outputs": [
    {
     "data": {},
     "metadata": {},
     "output_type": "display_data"
    },
    {
     "data": {
      "application/vnd.holoviews_exec.v0+json": "",
      "text/html": [
       "<div id='p3552'>\n",
       "  <div id=\"b670a98c-236e-4f33-8755-80609f87e733\" data-root-id=\"p3552\" style=\"display: contents;\"></div>\n",
       "</div>\n",
       "<script type=\"application/javascript\">(function(root) {\n",
       "  var docs_json = {\"ff0256b8-2d6e-4df0-bc1f-bd1512c376f9\":{\"version\":\"3.2.2\",\"title\":\"Bokeh Application\",\"roots\":[{\"type\":\"object\",\"name\":\"Row\",\"id\":\"p3552\",\"attributes\":{\"name\":\"Row05657\",\"tags\":[\"embedded\"],\"stylesheets\":[\"\\n:host(.pn-loading.pn-arc):before, .pn-loading.pn-arc:before {\\n  background-image: url(\\\"data:image/svg+xml;base64,PHN2ZyB4bWxucz0iaHR0cDovL3d3dy53My5vcmcvMjAwMC9zdmciIHN0eWxlPSJtYXJnaW46IGF1dG87IGJhY2tncm91bmQ6IG5vbmU7IGRpc3BsYXk6IGJsb2NrOyBzaGFwZS1yZW5kZXJpbmc6IGF1dG87IiB2aWV3Qm94PSIwIDAgMTAwIDEwMCIgcHJlc2VydmVBc3BlY3RSYXRpbz0ieE1pZFlNaWQiPiAgPGNpcmNsZSBjeD0iNTAiIGN5PSI1MCIgZmlsbD0ibm9uZSIgc3Ryb2tlPSIjYzNjM2MzIiBzdHJva2Utd2lkdGg9IjEwIiByPSIzNSIgc3Ryb2tlLWRhc2hhcnJheT0iMTY0LjkzMzYxNDMxMzQ2NDE1IDU2Ljk3Nzg3MTQzNzgyMTM4Ij4gICAgPGFuaW1hdGVUcmFuc2Zvcm0gYXR0cmlidXRlTmFtZT0idHJhbnNmb3JtIiB0eXBlPSJyb3RhdGUiIHJlcGVhdENvdW50PSJpbmRlZmluaXRlIiBkdXI9IjFzIiB2YWx1ZXM9IjAgNTAgNTA7MzYwIDUwIDUwIiBrZXlUaW1lcz0iMDsxIj48L2FuaW1hdGVUcmFuc2Zvcm0+ICA8L2NpcmNsZT48L3N2Zz4=\\\");\\n  background-size: auto calc(min(50%, 400px));\\n}\",{\"type\":\"object\",\"name\":\"ImportedStyleSheet\",\"id\":\"p3555\",\"attributes\":{\"url\":\"https://cdn.holoviz.org/panel/1.2.3/dist/css/loading.css\"}},{\"type\":\"object\",\"name\":\"ImportedStyleSheet\",\"id\":\"p3638\",\"attributes\":{\"url\":\"https://cdn.holoviz.org/panel/1.2.3/dist/css/listpanel.css\"}},{\"type\":\"object\",\"name\":\"ImportedStyleSheet\",\"id\":\"p3553\",\"attributes\":{\"url\":\"https://cdn.holoviz.org/panel/1.2.3/dist/bundled/theme/default.css\"}},{\"type\":\"object\",\"name\":\"ImportedStyleSheet\",\"id\":\"p3554\",\"attributes\":{\"url\":\"https://cdn.holoviz.org/panel/1.2.3/dist/bundled/theme/native.css\"}}],\"min_width\":700,\"margin\":0,\"sizing_mode\":\"stretch_width\",\"align\":\"start\",\"children\":[{\"type\":\"object\",\"name\":\"Spacer\",\"id\":\"p3556\",\"attributes\":{\"name\":\"HSpacer05668\",\"stylesheets\":[\"\\n:host(.pn-loading.pn-arc):before, .pn-loading.pn-arc:before {\\n  background-image: url(\\\"data:image/svg+xml;base64,PHN2ZyB4bWxucz0iaHR0cDovL3d3dy53My5vcmcvMjAwMC9zdmciIHN0eWxlPSJtYXJnaW46IGF1dG87IGJhY2tncm91bmQ6IG5vbmU7IGRpc3BsYXk6IGJsb2NrOyBzaGFwZS1yZW5kZXJpbmc6IGF1dG87IiB2aWV3Qm94PSIwIDAgMTAwIDEwMCIgcHJlc2VydmVBc3BlY3RSYXRpbz0ieE1pZFlNaWQiPiAgPGNpcmNsZSBjeD0iNTAiIGN5PSI1MCIgZmlsbD0ibm9uZSIgc3Ryb2tlPSIjYzNjM2MzIiBzdHJva2Utd2lkdGg9IjEwIiByPSIzNSIgc3Ryb2tlLWRhc2hhcnJheT0iMTY0LjkzMzYxNDMxMzQ2NDE1IDU2Ljk3Nzg3MTQzNzgyMTM4Ij4gICAgPGFuaW1hdGVUcmFuc2Zvcm0gYXR0cmlidXRlTmFtZT0idHJhbnNmb3JtIiB0eXBlPSJyb3RhdGUiIHJlcGVhdENvdW50PSJpbmRlZmluaXRlIiBkdXI9IjFzIiB2YWx1ZXM9IjAgNTAgNTA7MzYwIDUwIDUwIiBrZXlUaW1lcz0iMDsxIj48L2FuaW1hdGVUcmFuc2Zvcm0+ICA8L2NpcmNsZT48L3N2Zz4=\\\");\\n  background-size: auto calc(min(50%, 400px));\\n}\",{\"id\":\"p3555\"},{\"id\":\"p3553\"},{\"id\":\"p3554\"}],\"margin\":0,\"sizing_mode\":\"stretch_width\",\"align\":\"start\"}},{\"type\":\"object\",\"name\":\"Figure\",\"id\":\"p3567\",\"attributes\":{\"width\":700,\"height\":300,\"margin\":[5,10],\"sizing_mode\":\"fixed\",\"align\":\"start\",\"x_range\":{\"type\":\"object\",\"name\":\"Range1d\",\"id\":\"p3557\",\"attributes\":{\"tags\":[[[\"date\",\"date\",null]],[]],\"start\":165542400000.0,\"end\":1680307200000.0,\"reset_start\":165542400000.0,\"reset_end\":1680307200000.0}},\"y_range\":{\"type\":\"object\",\"name\":\"Range1d\",\"id\":\"p3558\",\"attributes\":{\"tags\":[[[\"value\",\"value\",null]],{\"type\":\"map\",\"entries\":[[\"invert_yaxis\",false],[\"autorange\",false]]}],\"start\":-16.467000000000002,\"end\":43.97699999999993,\"reset_start\":-16.467000000000002,\"reset_end\":43.97699999999993}},\"x_scale\":{\"type\":\"object\",\"name\":\"LinearScale\",\"id\":\"p3577\"},\"y_scale\":{\"type\":\"object\",\"name\":\"LinearScale\",\"id\":\"p3578\"},\"title\":{\"type\":\"object\",\"name\":\"Title\",\"id\":\"p3570\",\"attributes\":{\"text\":\"House Price Inde and Monthly Supply of New Houses in the United States\",\"text_color\":\"black\",\"text_font_size\":\"12pt\"}},\"renderers\":[{\"type\":\"object\",\"name\":\"GlyphRenderer\",\"id\":\"p3615\",\"attributes\":{\"name\":\"Monthly Supply\",\"data_source\":{\"type\":\"object\",\"name\":\"ColumnDataSource\",\"id\":\"p3606\",\"attributes\":{\"selected\":{\"type\":\"object\",\"name\":\"Selection\",\"id\":\"p3607\",\"attributes\":{\"indices\":[],\"line_indices\":[]}},\"selection_policy\":{\"type\":\"object\",\"name\":\"UnionRenderers\",\"id\":\"p3608\"},\"data\":{\"type\":\"map\",\"entries\":[[\"date\",{\"type\":\"ndarray\",\"array\":{\"type\":\"bytes\",\"data\":\"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\"},\"shape\":[193],\"dtype\":\"float64\",\"order\":\"little\"}],[\"value\",{\"type\":\"ndarray\",\"array\":{\"type\":\"bytes\",\"data\":\"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\"},\"shape\":[193],\"dtype\":\"float64\",\"order\":\"little\"}],[\"Variable\",[\"Monthly Supply\",\"Monthly Supply\",\"Monthly Supply\",\"Monthly Supply\",\"Monthly Supply\",\"Monthly Supply\",\"Monthly Supply\",\"Monthly Supply\",\"Monthly Supply\",\"Monthly Supply\",\"Monthly Supply\",\"Monthly Supply\",\"Monthly Supply\",\"Monthly Supply\",\"Monthly Supply\",\"Monthly Supply\",\"Monthly Supply\",\"Monthly Supply\",\"Monthly Supply\",\"Monthly Supply\",\"Monthly Supply\",\"Monthly Supply\",\"Monthly Supply\",\"Monthly Supply\",\"Monthly Supply\",\"Monthly Supply\",\"Monthly Supply\",\"Monthly Supply\",\"Monthly Supply\",\"Monthly Supply\",\"Monthly Supply\",\"Monthly Supply\",\"Monthly Supply\",\"Monthly Supply\",\"Monthly Supply\",\"Monthly Supply\",\"Monthly Supply\",\"Monthly Supply\",\"Monthly Supply\",\"Monthly Supply\",\"Monthly Supply\",\"Monthly Supply\",\"Monthly Supply\",\"Monthly Supply\",\"Monthly Supply\",\"Monthly Supply\",\"Monthly Supply\",\"Monthly Supply\",\"Monthly Supply\",\"Monthly Supply\",\"Monthly Supply\",\"Monthly Supply\",\"Monthly Supply\",\"Monthly Supply\",\"Monthly Supply\",\"Monthly Supply\",\"Monthly Supply\",\"Monthly Supply\",\"Monthly Supply\",\"Monthly Supply\",\"Monthly Supply\",\"Monthly Supply\",\"Monthly Supply\",\"Monthly Supply\",\"Monthly Supply\",\"Monthly Supply\",\"Monthly Supply\",\"Monthly Supply\",\"Monthly Supply\",\"Monthly Supply\",\"Monthly Supply\",\"Monthly Supply\",\"Monthly Supply\",\"Monthly Supply\",\"Monthly Supply\",\"Monthly Supply\",\"Monthly Supply\",\"Monthly Supply\",\"Monthly Supply\",\"Monthly Supply\",\"Monthly Supply\",\"Monthly Supply\",\"Monthly Supply\",\"Monthly Supply\",\"Monthly Supply\",\"Monthly Supply\",\"Monthly Supply\",\"Monthly Supply\",\"Monthly Supply\",\"Monthly Supply\",\"Monthly Supply\",\"Monthly Supply\",\"Monthly Supply\",\"Monthly Supply\",\"Monthly Supply\",\"Monthly Supply\",\"Monthly Supply\",\"Monthly Supply\",\"Monthly Supply\",\"Monthly Supply\",\"Monthly Supply\",\"Monthly Supply\",\"Monthly Supply\",\"Monthly Supply\",\"Monthly Supply\",\"Monthly Supply\",\"Monthly Supply\",\"Monthly Supply\",\"Monthly Supply\",\"Monthly Supply\",\"Monthly Supply\",\"Monthly Supply\",\"Monthly Supply\",\"Monthly Supply\",\"Monthly Supply\",\"Monthly Supply\",\"Monthly Supply\",\"Monthly Supply\",\"Monthly Supply\",\"Monthly Supply\",\"Monthly Supply\",\"Monthly Supply\",\"Monthly Supply\",\"Monthly Supply\",\"Monthly Supply\",\"Monthly Supply\",\"Monthly Supply\",\"Monthly Supply\",\"Monthly Supply\",\"Monthly Supply\",\"Monthly Supply\",\"Monthly Supply\",\"Monthly Supply\",\"Monthly Supply\",\"Monthly Supply\",\"Monthly Supply\",\"Monthly Supply\",\"Monthly Supply\",\"Monthly Supply\",\"Monthly Supply\",\"Monthly Supply\",\"Monthly Supply\",\"Monthly Supply\",\"Monthly Supply\",\"Monthly Supply\",\"Monthly Supply\",\"Monthly Supply\",\"Monthly Supply\",\"Monthly Supply\",\"Monthly Supply\",\"Monthly Supply\",\"Monthly Supply\",\"Monthly Supply\",\"Monthly Supply\",\"Monthly Supply\",\"Monthly Supply\",\"Monthly Supply\",\"Monthly Supply\",\"Monthly Supply\",\"Monthly Supply\",\"Monthly Supply\",\"Monthly Supply\",\"Monthly Supply\",\"Monthly Supply\",\"Monthly Supply\",\"Monthly Supply\",\"Monthly Supply\",\"Monthly Supply\",\"Monthly Supply\",\"Monthly Supply\",\"Monthly Supply\",\"Monthly Supply\",\"Monthly Supply\",\"Monthly Supply\",\"Monthly Supply\",\"Monthly Supply\",\"Monthly Supply\",\"Monthly Supply\",\"Monthly Supply\",\"Monthly Supply\",\"Monthly Supply\",\"Monthly Supply\",\"Monthly Supply\",\"Monthly Supply\",\"Monthly Supply\",\"Monthly Supply\",\"Monthly Supply\",\"Monthly Supply\",\"Monthly Supply\",\"Monthly Supply\",\"Monthly Supply\",\"Monthly Supply\",\"Monthly Supply\"]]]}}},\"view\":{\"type\":\"object\",\"name\":\"CDSView\",\"id\":\"p3616\",\"attributes\":{\"filter\":{\"type\":\"object\",\"name\":\"AllIndices\",\"id\":\"p3617\"}}},\"glyph\":{\"type\":\"object\",\"name\":\"Line\",\"id\":\"p3612\",\"attributes\":{\"tags\":[\"apply_ranges\"],\"x\":{\"type\":\"field\",\"field\":\"date\"},\"y\":{\"type\":\"field\",\"field\":\"value\"},\"line_color\":\"#30a2da\",\"line_width\":2}},\"selection_glyph\":{\"type\":\"object\",\"name\":\"Line\",\"id\":\"p3620\",\"attributes\":{\"tags\":[\"apply_ranges\"],\"x\":{\"type\":\"field\",\"field\":\"date\"},\"y\":{\"type\":\"field\",\"field\":\"value\"},\"line_color\":\"#30a2da\",\"line_width\":2}},\"nonselection_glyph\":{\"type\":\"object\",\"name\":\"Line\",\"id\":\"p3613\",\"attributes\":{\"tags\":[\"apply_ranges\"],\"x\":{\"type\":\"field\",\"field\":\"date\"},\"y\":{\"type\":\"field\",\"field\":\"value\"},\"line_color\":\"#30a2da\",\"line_alpha\":0.1,\"line_width\":2}},\"muted_glyph\":{\"type\":\"object\",\"name\":\"Line\",\"id\":\"p3614\",\"attributes\":{\"tags\":[\"apply_ranges\"],\"x\":{\"type\":\"field\",\"field\":\"date\"},\"y\":{\"type\":\"field\",\"field\":\"value\"},\"line_color\":\"#30a2da\",\"line_alpha\":0.2,\"line_width\":2}}}},{\"type\":\"object\",\"name\":\"GlyphRenderer\",\"id\":\"p3630\",\"attributes\":{\"name\":\"Difference in HPI\",\"data_source\":{\"type\":\"object\",\"name\":\"ColumnDataSource\",\"id\":\"p3621\",\"attributes\":{\"selected\":{\"type\":\"object\",\"name\":\"Selection\",\"id\":\"p3622\",\"attributes\":{\"indices\":[],\"line_indices\":[]}},\"selection_policy\":{\"type\":\"object\",\"name\":\"UnionRenderers\",\"id\":\"p3623\"},\"data\":{\"type\":\"map\",\"entries\":[[\"date\",{\"type\":\"ndarray\",\"array\":{\"type\":\"bytes\",\"data\":\"AAAASIxFQ0IAAACi3S9EQgAAACrCHEVCAAAAsqYJRkIAAAAM+PNGQgAAAGZJ3kdCAAAA7i3LSEIAAAB2ErhJQgAAAKLQn0pCAAAA/CGKS0IAAACEBndMQgAAAAzrY01CAAAAOKlLTkIAAACS+jVPQgAAAI1vEVBCAAAA0eGHUEIAAADnwPtQQgAAAJTpcFFCAAAA2FvnUUIAAAAczl1SQgAAAMn20lJCAAAAdh9IU0IAAAC6kb5TQgAAAP4DNVRCAAAAFOOoVEIAAADBCx5VQgAAAAV+lFVCAAAASfAKVkIAAABfz35WQgAAAAz481ZCAAAAUGpqV0IAAACU3OBXQgAAAKq7VFhCAAAAV+TJWEIAAACbVkBZQgAAAN/ItllCAAAAjPErWkIAAAA5GqFaQgAAAH2MF1tCAAAAwf6NW0IAAADX3QFcQgAAAIQGd1xCAAAAyHjtXEIAAAAM62NdQgAAACLK111CAAAAz/JMXkIAAAATZcNeQgAAAFfXOV9CAAAAbbatX0IAAACNbxFgQgAAAK+oTGBCAAAA0eGHYEIAAIAndsJgQgAAAH4K/WBCAAAAoEM4YUIAAADCfHNhQgAAAE1srWFCAACAowDoYUIAAIDFOSNiQgAAgOdyXmJCAACAcmKYYkIAAADJ9tJiQgAAAOsvDmNCAAAADWlJY0IAAACYWINjQgAAgO7svWNCAACAECb5Y0IAAIAyXzRkQgAAAInzbmRCAACA34epZEIAAIABweRkQgAAgCP6H2VCAACArulZZUIAAAAFfpRlQgAAACe3z2VCAAAASfAKZkIAAADU30RmQgAAgCp0f2ZCAACATK26ZkIAAIBu5vVmQgAAgPnVL2dCAAAAUGpqZ0IAAAByo6VnQgAAAJTc4GdCAACA6nAbaEIAAABBBVZoQgAAAGM+kWhCAAAAhXfMaEIAAAAQZwZpQgAAgGb7QGlCAACAiDR8aUIAAICqbbdpQgAAgDVd8WlCAAAAjPErakIAAACuKmdqQgAAANBjompCAAAAW1PcakIAAICx5xZrQgAAgNMgUmtCAACA9VmNa0IAAABM7sdrQgAAgKKCAmxCAACAxLs9bEIAAIDm9HhsQgAAgHHksmxCAAAAyHjtbEIAAADqsShtQgAAAAzrY21CAAAAl9qdbUIAAIDtbthtQgAAgA+oE25CAACAMeFObkIAAIC80IhuQgAAABNlw25CAAAANZ7+bkIAAABX1zlvQgAAgK1rdG9CAAAABACvb0IAAAAmOepvQgAAACS5EnBCAACA6bAvcEIAAMAU+0xwQgAAwKWXanBCAADANjSIcEIAAED8K6VwQgAAgCd2wnBCAACAuBLgcEIAAIBJr/1wQgAAAA+nGnFCAABAOvE3cUIAAEDLjVVxQgAAQFwqc3FCAACAh3SQcUIAAMCyvq1xQgAAwENby3FCAADA1PfocUIAAECa7wVyQgAAgMU5I3JCAACAVtZAckIAAIDncl5yQgAAAK1qe3JCAABA2LSYckIAAEBpUbZyQgAAQPrt03JCAADAv+XwckIAAADrLw5zQgAAAHzMK3NCAAAADWlJc0IAAEA4s2ZzQgAAgGP9g3NCAACA9Jmhc0IAAICFNr9zQgAAAEsu3HNCAABAdnj5c0IAAEAHFRd0QgAAQJixNHRCAADAXalRdEIAAACJ8250QgAAABqQjHRCAAAAqyyqdEIAAIBwJMd0QgAAwJtu5HRCAADALAsCdUIAAMC9px91QgAAAOnxPHVCAABAFDxadUIAAECl2Hd1QgAAQDZ1lXVCAADA+2yydUIAAAAnt891QgAAALhT7XVCAAAASfAKdkIAAIAO6Cd2QgAAwDkyRXZCAADAys5idkIAAMBba4B2QgAAQCFjnXZCAACATK26dkIAAIDdSdh2QgAAgG7m9XZCAADAmTATd0IAAADFejB3QgAAAFYXTndCAAAA57Nrd0IAAICsq4h3QgAAwNf1pXdCAADAaJLDd0IAAMD5LuF3QgAAQL8m/ndCAACA6nAbeEIAAIB7DTl4QgAAgAyqVnhCAAAA0qFzeEI=\"},\"shape\":[193],\"dtype\":\"float64\",\"order\":\"little\"}],[\"value\",{\"type\":\"ndarray\",\"array\":{\"type\":\"bytes\",\"data\":\"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\"},\"shape\":[193],\"dtype\":\"float64\",\"order\":\"little\"}],[\"Variable\",[\"Difference in HPI\",\"Difference in HPI\",\"Difference in HPI\",\"Difference in HPI\",\"Difference in HPI\",\"Difference in HPI\",\"Difference in HPI\",\"Difference in HPI\",\"Difference in HPI\",\"Difference in HPI\",\"Difference in HPI\",\"Difference in HPI\",\"Difference in HPI\",\"Difference in HPI\",\"Difference in HPI\",\"Difference in HPI\",\"Difference in HPI\",\"Difference in HPI\",\"Difference in HPI\",\"Difference in HPI\",\"Difference in HPI\",\"Difference in HPI\",\"Difference in HPI\",\"Difference in HPI\",\"Difference in HPI\",\"Difference in HPI\",\"Difference in HPI\",\"Difference in HPI\",\"Difference in HPI\",\"Difference in HPI\",\"Difference in HPI\",\"Difference in HPI\",\"Difference in HPI\",\"Difference in HPI\",\"Difference in HPI\",\"Difference in HPI\",\"Difference in HPI\",\"Difference in HPI\",\"Difference in HPI\",\"Difference in HPI\",\"Difference in HPI\",\"Difference in HPI\",\"Difference in HPI\",\"Difference in HPI\",\"Difference in HPI\",\"Difference in HPI\",\"Difference in HPI\",\"Difference in HPI\",\"Difference in HPI\",\"Difference in HPI\",\"Difference in HPI\",\"Difference in HPI\",\"Difference in HPI\",\"Difference in HPI\",\"Difference in HPI\",\"Difference in HPI\",\"Difference in HPI\",\"Difference in HPI\",\"Difference in HPI\",\"Difference in HPI\",\"Difference in HPI\",\"Difference in HPI\",\"Difference in HPI\",\"Difference in HPI\",\"Difference in HPI\",\"Difference in HPI\",\"Difference in HPI\",\"Difference in HPI\",\"Difference in HPI\",\"Difference in HPI\",\"Difference in HPI\",\"Difference in HPI\",\"Difference in HPI\",\"Difference in HPI\",\"Difference in HPI\",\"Difference in HPI\",\"Difference in HPI\",\"Difference in HPI\",\"Difference in HPI\",\"Difference in HPI\",\"Difference in HPI\",\"Difference in HPI\",\"Difference in HPI\",\"Difference in HPI\",\"Difference in HPI\",\"Difference in HPI\",\"Difference in HPI\",\"Difference in HPI\",\"Difference in HPI\",\"Difference in HPI\",\"Difference in HPI\",\"Difference in HPI\",\"Difference in HPI\",\"Difference in HPI\",\"Difference in HPI\",\"Difference in HPI\",\"Difference in HPI\",\"Difference in HPI\",\"Difference in HPI\",\"Difference in HPI\",\"Difference in HPI\",\"Difference in HPI\",\"Difference in HPI\",\"Difference in HPI\",\"Difference in HPI\",\"Difference in HPI\",\"Difference in HPI\",\"Difference in HPI\",\"Difference in HPI\",\"Difference in HPI\",\"Difference in HPI\",\"Difference in HPI\",\"Difference in HPI\",\"Difference in HPI\",\"Difference in HPI\",\"Difference in HPI\",\"Difference in HPI\",\"Difference in HPI\",\"Difference in HPI\",\"Difference in HPI\",\"Difference in HPI\",\"Difference in HPI\",\"Difference in HPI\",\"Difference in HPI\",\"Difference in HPI\",\"Difference in HPI\",\"Difference in HPI\",\"Difference in HPI\",\"Difference in HPI\",\"Difference in HPI\",\"Difference in HPI\",\"Difference in HPI\",\"Difference in HPI\",\"Difference in HPI\",\"Difference in HPI\",\"Difference in HPI\",\"Difference in HPI\",\"Difference in HPI\",\"Difference in HPI\",\"Difference in HPI\",\"Difference in HPI\",\"Difference in HPI\",\"Difference in HPI\",\"Difference in HPI\",\"Difference in HPI\",\"Difference in HPI\",\"Difference in HPI\",\"Difference in HPI\",\"Difference in HPI\",\"Difference in HPI\",\"Difference in HPI\",\"Difference in HPI\",\"Difference in HPI\",\"Difference in HPI\",\"Difference in HPI\",\"Difference in HPI\",\"Difference in HPI\",\"Difference in HPI\",\"Difference in HPI\",\"Difference in HPI\",\"Difference in HPI\",\"Difference in HPI\",\"Difference in HPI\",\"Difference in HPI\",\"Difference in HPI\",\"Difference in HPI\",\"Difference in HPI\",\"Difference in HPI\",\"Difference in HPI\",\"Difference in HPI\",\"Difference in HPI\",\"Difference in HPI\",\"Difference in HPI\",\"Difference in HPI\",\"Difference in HPI\",\"Difference in HPI\",\"Difference in HPI\",\"Difference in HPI\",\"Difference in HPI\",\"Difference in HPI\",\"Difference in HPI\",\"Difference in HPI\",\"Difference in HPI\",\"Difference in HPI\",\"Difference in HPI\",\"Difference in HPI\",\"Difference in HPI\",\"Difference in HPI\",\"Difference in HPI\",\"Difference in HPI\",\"Difference in HPI\",\"Difference in HPI\",\"Difference in HPI\"]]]}}},\"view\":{\"type\":\"object\",\"name\":\"CDSView\",\"id\":\"p3631\",\"attributes\":{\"filter\":{\"type\":\"object\",\"name\":\"AllIndices\",\"id\":\"p3632\"}}},\"glyph\":{\"type\":\"object\",\"name\":\"Line\",\"id\":\"p3627\",\"attributes\":{\"tags\":[\"apply_ranges\"],\"x\":{\"type\":\"field\",\"field\":\"date\"},\"y\":{\"type\":\"field\",\"field\":\"value\"},\"line_color\":\"#fc4f30\",\"line_width\":2}},\"selection_glyph\":{\"type\":\"object\",\"name\":\"Line\",\"id\":\"p3634\",\"attributes\":{\"tags\":[\"apply_ranges\"],\"x\":{\"type\":\"field\",\"field\":\"date\"},\"y\":{\"type\":\"field\",\"field\":\"value\"},\"line_color\":\"#fc4f30\",\"line_width\":2}},\"nonselection_glyph\":{\"type\":\"object\",\"name\":\"Line\",\"id\":\"p3628\",\"attributes\":{\"tags\":[\"apply_ranges\"],\"x\":{\"type\":\"field\",\"field\":\"date\"},\"y\":{\"type\":\"field\",\"field\":\"value\"},\"line_color\":\"#fc4f30\",\"line_alpha\":0.1,\"line_width\":2}},\"muted_glyph\":{\"type\":\"object\",\"name\":\"Line\",\"id\":\"p3629\",\"attributes\":{\"tags\":[\"apply_ranges\"],\"x\":{\"type\":\"field\",\"field\":\"date\"},\"y\":{\"type\":\"field\",\"field\":\"value\"},\"line_color\":\"#fc4f30\",\"line_alpha\":0.2,\"line_width\":2}}}}],\"toolbar\":{\"type\":\"object\",\"name\":\"Toolbar\",\"id\":\"p3576\",\"attributes\":{\"tools\":[{\"type\":\"object\",\"name\":\"WheelZoomTool\",\"id\":\"p3562\",\"attributes\":{\"tags\":[\"hv_created\"],\"zoom_together\":\"none\"}},{\"type\":\"object\",\"name\":\"HoverTool\",\"id\":\"p3563\",\"attributes\":{\"tags\":[\"hv_created\"],\"renderers\":[{\"id\":\"p3615\"},{\"id\":\"p3630\"}],\"tooltips\":[[\"Variable\",\"@{Variable}\"],[\"date\",\"@{date}{%F %T}\"],[\"value\",\"@{value}\"]],\"formatters\":{\"type\":\"map\",\"entries\":[[\"@{date}\",\"datetime\"]]}}},{\"type\":\"object\",\"name\":\"SaveTool\",\"id\":\"p3601\"},{\"type\":\"object\",\"name\":\"PanTool\",\"id\":\"p3602\"},{\"type\":\"object\",\"name\":\"BoxZoomTool\",\"id\":\"p3603\",\"attributes\":{\"overlay\":{\"type\":\"object\",\"name\":\"BoxAnnotation\",\"id\":\"p3604\",\"attributes\":{\"syncable\":false,\"level\":\"overlay\",\"visible\":false,\"left_units\":\"canvas\",\"right_units\":\"canvas\",\"bottom_units\":\"canvas\",\"top_units\":\"canvas\",\"line_color\":\"black\",\"line_alpha\":1.0,\"line_width\":2,\"line_dash\":[4,4],\"fill_color\":\"lightgrey\",\"fill_alpha\":0.5}}}},{\"type\":\"object\",\"name\":\"ResetTool\",\"id\":\"p3605\"}],\"active_drag\":{\"id\":\"p3602\"},\"active_scroll\":{\"id\":\"p3562\"}}},\"left\":[{\"type\":\"object\",\"name\":\"LinearAxis\",\"id\":\"p3596\",\"attributes\":{\"ticker\":{\"type\":\"object\",\"name\":\"BasicTicker\",\"id\":\"p3597\",\"attributes\":{\"mantissas\":[1,2,5]}},\"formatter\":{\"type\":\"object\",\"name\":\"BasicTickFormatter\",\"id\":\"p3598\"},\"axis_label\":\"Difference\",\"major_label_policy\":{\"type\":\"object\",\"name\":\"AllLabels\",\"id\":\"p3599\"}}}],\"right\":[{\"type\":\"object\",\"name\":\"Legend\",\"id\":\"p3618\",\"attributes\":{\"location\":[0,0],\"title\":\"Variable\",\"click_policy\":\"mute\",\"items\":[{\"type\":\"object\",\"name\":\"LegendItem\",\"id\":\"p3619\",\"attributes\":{\"label\":{\"type\":\"value\",\"value\":\"Monthly Supply\"},\"renderers\":[{\"id\":\"p3615\"}]}},{\"type\":\"object\",\"name\":\"LegendItem\",\"id\":\"p3633\",\"attributes\":{\"label\":{\"type\":\"value\",\"value\":\"Difference in HPI\"},\"renderers\":[{\"id\":\"p3630\"}]}}]}}],\"below\":[{\"type\":\"object\",\"name\":\"DatetimeAxis\",\"id\":\"p3579\",\"attributes\":{\"ticker\":{\"type\":\"object\",\"name\":\"DatetimeTicker\",\"id\":\"p3580\",\"attributes\":{\"num_minor_ticks\":5,\"tickers\":[{\"type\":\"object\",\"name\":\"AdaptiveTicker\",\"id\":\"p3581\",\"attributes\":{\"num_minor_ticks\":0,\"mantissas\":[1,2,5],\"max_interval\":500.0}},{\"type\":\"object\",\"name\":\"AdaptiveTicker\",\"id\":\"p3582\",\"attributes\":{\"num_minor_ticks\":0,\"base\":60,\"mantissas\":[1,2,5,10,15,20,30],\"min_interval\":1000.0,\"max_interval\":1800000.0}},{\"type\":\"object\",\"name\":\"AdaptiveTicker\",\"id\":\"p3583\",\"attributes\":{\"num_minor_ticks\":0,\"base\":24,\"mantissas\":[1,2,4,6,8,12],\"min_interval\":3600000.0,\"max_interval\":43200000.0}},{\"type\":\"object\",\"name\":\"DaysTicker\",\"id\":\"p3584\",\"attributes\":{\"days\":[1,2,3,4,5,6,7,8,9,10,11,12,13,14,15,16,17,18,19,20,21,22,23,24,25,26,27,28,29,30,31]}},{\"type\":\"object\",\"name\":\"DaysTicker\",\"id\":\"p3585\",\"attributes\":{\"days\":[1,4,7,10,13,16,19,22,25,28]}},{\"type\":\"object\",\"name\":\"DaysTicker\",\"id\":\"p3586\",\"attributes\":{\"days\":[1,8,15,22]}},{\"type\":\"object\",\"name\":\"DaysTicker\",\"id\":\"p3587\",\"attributes\":{\"days\":[1,15]}},{\"type\":\"object\",\"name\":\"MonthsTicker\",\"id\":\"p3588\",\"attributes\":{\"months\":[0,1,2,3,4,5,6,7,8,9,10,11]}},{\"type\":\"object\",\"name\":\"MonthsTicker\",\"id\":\"p3589\",\"attributes\":{\"months\":[0,2,4,6,8,10]}},{\"type\":\"object\",\"name\":\"MonthsTicker\",\"id\":\"p3590\",\"attributes\":{\"months\":[0,4,8]}},{\"type\":\"object\",\"name\":\"MonthsTicker\",\"id\":\"p3591\",\"attributes\":{\"months\":[0,6]}},{\"type\":\"object\",\"name\":\"YearsTicker\",\"id\":\"p3592\"}]}},\"formatter\":{\"type\":\"object\",\"name\":\"DatetimeTickFormatter\",\"id\":\"p3593\"},\"axis_label\":\"Date(in Months)\",\"major_label_policy\":{\"type\":\"object\",\"name\":\"AllLabels\",\"id\":\"p3594\"}}}],\"center\":[{\"type\":\"object\",\"name\":\"Grid\",\"id\":\"p3595\",\"attributes\":{\"axis\":{\"id\":\"p3579\"},\"grid_line_color\":null}},{\"type\":\"object\",\"name\":\"Grid\",\"id\":\"p3600\",\"attributes\":{\"dimension\":1,\"axis\":{\"id\":\"p3596\"},\"grid_line_color\":null}}],\"min_border_top\":10,\"min_border_bottom\":10,\"min_border_left\":10,\"min_border_right\":10,\"output_backend\":\"webgl\"}},{\"type\":\"object\",\"name\":\"Spacer\",\"id\":\"p3636\",\"attributes\":{\"name\":\"HSpacer05671\",\"stylesheets\":[\"\\n:host(.pn-loading.pn-arc):before, .pn-loading.pn-arc:before {\\n  background-image: url(\\\"data:image/svg+xml;base64,PHN2ZyB4bWxucz0iaHR0cDovL3d3dy53My5vcmcvMjAwMC9zdmciIHN0eWxlPSJtYXJnaW46IGF1dG87IGJhY2tncm91bmQ6IG5vbmU7IGRpc3BsYXk6IGJsb2NrOyBzaGFwZS1yZW5kZXJpbmc6IGF1dG87IiB2aWV3Qm94PSIwIDAgMTAwIDEwMCIgcHJlc2VydmVBc3BlY3RSYXRpbz0ieE1pZFlNaWQiPiAgPGNpcmNsZSBjeD0iNTAiIGN5PSI1MCIgZmlsbD0ibm9uZSIgc3Ryb2tlPSIjYzNjM2MzIiBzdHJva2Utd2lkdGg9IjEwIiByPSIzNSIgc3Ryb2tlLWRhc2hhcnJheT0iMTY0LjkzMzYxNDMxMzQ2NDE1IDU2Ljk3Nzg3MTQzNzgyMTM4Ij4gICAgPGFuaW1hdGVUcmFuc2Zvcm0gYXR0cmlidXRlTmFtZT0idHJhbnNmb3JtIiB0eXBlPSJyb3RhdGUiIHJlcGVhdENvdW50PSJpbmRlZmluaXRlIiBkdXI9IjFzIiB2YWx1ZXM9IjAgNTAgNTA7MzYwIDUwIDUwIiBrZXlUaW1lcz0iMDsxIj48L2FuaW1hdGVUcmFuc2Zvcm0+ICA8L2NpcmNsZT48L3N2Zz4=\\\");\\n  background-size: auto calc(min(50%, 400px));\\n}\",{\"id\":\"p3555\"},{\"id\":\"p3553\"},{\"id\":\"p3554\"}],\"margin\":0,\"sizing_mode\":\"stretch_width\",\"align\":\"start\"}}]}}],\"defs\":[{\"type\":\"model\",\"name\":\"ReactiveHTML1\"},{\"type\":\"model\",\"name\":\"FlexBox1\",\"properties\":[{\"name\":\"align_content\",\"kind\":\"Any\",\"default\":\"flex-start\"},{\"name\":\"align_items\",\"kind\":\"Any\",\"default\":\"flex-start\"},{\"name\":\"flex_direction\",\"kind\":\"Any\",\"default\":\"row\"},{\"name\":\"flex_wrap\",\"kind\":\"Any\",\"default\":\"wrap\"},{\"name\":\"justify_content\",\"kind\":\"Any\",\"default\":\"flex-start\"}]},{\"type\":\"model\",\"name\":\"FloatPanel1\",\"properties\":[{\"name\":\"config\",\"kind\":\"Any\",\"default\":{\"type\":\"map\"}},{\"name\":\"contained\",\"kind\":\"Any\",\"default\":true},{\"name\":\"position\",\"kind\":\"Any\",\"default\":\"right-top\"},{\"name\":\"offsetx\",\"kind\":\"Any\",\"default\":null},{\"name\":\"offsety\",\"kind\":\"Any\",\"default\":null},{\"name\":\"theme\",\"kind\":\"Any\",\"default\":\"primary\"},{\"name\":\"status\",\"kind\":\"Any\",\"default\":\"normalized\"}]},{\"type\":\"model\",\"name\":\"GridStack1\",\"properties\":[{\"name\":\"mode\",\"kind\":\"Any\",\"default\":\"warn\"},{\"name\":\"ncols\",\"kind\":\"Any\",\"default\":null},{\"name\":\"nrows\",\"kind\":\"Any\",\"default\":null},{\"name\":\"allow_resize\",\"kind\":\"Any\",\"default\":true},{\"name\":\"allow_drag\",\"kind\":\"Any\",\"default\":true},{\"name\":\"state\",\"kind\":\"Any\",\"default\":[]}]},{\"type\":\"model\",\"name\":\"drag1\",\"properties\":[{\"name\":\"slider_width\",\"kind\":\"Any\",\"default\":5},{\"name\":\"slider_color\",\"kind\":\"Any\",\"default\":\"black\"},{\"name\":\"value\",\"kind\":\"Any\",\"default\":50}]},{\"type\":\"model\",\"name\":\"click1\",\"properties\":[{\"name\":\"terminal_output\",\"kind\":\"Any\",\"default\":\"\"},{\"name\":\"debug_name\",\"kind\":\"Any\",\"default\":\"\"},{\"name\":\"clears\",\"kind\":\"Any\",\"default\":0}]},{\"type\":\"model\",\"name\":\"FastWrapper1\",\"properties\":[{\"name\":\"object\",\"kind\":\"Any\",\"default\":null},{\"name\":\"style\",\"kind\":\"Any\",\"default\":null}]},{\"type\":\"model\",\"name\":\"NotificationAreaBase1\",\"properties\":[{\"name\":\"js_events\",\"kind\":\"Any\",\"default\":{\"type\":\"map\"}},{\"name\":\"position\",\"kind\":\"Any\",\"default\":\"bottom-right\"},{\"name\":\"_clear\",\"kind\":\"Any\",\"default\":0}]},{\"type\":\"model\",\"name\":\"NotificationArea1\",\"properties\":[{\"name\":\"js_events\",\"kind\":\"Any\",\"default\":{\"type\":\"map\"}},{\"name\":\"notifications\",\"kind\":\"Any\",\"default\":[]},{\"name\":\"position\",\"kind\":\"Any\",\"default\":\"bottom-right\"},{\"name\":\"_clear\",\"kind\":\"Any\",\"default\":0},{\"name\":\"types\",\"kind\":\"Any\",\"default\":[{\"type\":\"map\",\"entries\":[[\"type\",\"warning\"],[\"background\",\"#ffc107\"],[\"icon\",{\"type\":\"map\",\"entries\":[[\"className\",\"fas fa-exclamation-triangle\"],[\"tagName\",\"i\"],[\"color\",\"white\"]]}]]},{\"type\":\"map\",\"entries\":[[\"type\",\"info\"],[\"background\",\"#007bff\"],[\"icon\",{\"type\":\"map\",\"entries\":[[\"className\",\"fas fa-info-circle\"],[\"tagName\",\"i\"],[\"color\",\"white\"]]}]]}]}]},{\"type\":\"model\",\"name\":\"Notification\",\"properties\":[{\"name\":\"background\",\"kind\":\"Any\",\"default\":null},{\"name\":\"duration\",\"kind\":\"Any\",\"default\":3000},{\"name\":\"icon\",\"kind\":\"Any\",\"default\":null},{\"name\":\"message\",\"kind\":\"Any\",\"default\":\"\"},{\"name\":\"notification_type\",\"kind\":\"Any\",\"default\":null},{\"name\":\"_destroyed\",\"kind\":\"Any\",\"default\":false}]},{\"type\":\"model\",\"name\":\"TemplateActions1\",\"properties\":[{\"name\":\"open_modal\",\"kind\":\"Any\",\"default\":0},{\"name\":\"close_modal\",\"kind\":\"Any\",\"default\":0}]},{\"type\":\"model\",\"name\":\"BootstrapTemplateActions1\",\"properties\":[{\"name\":\"open_modal\",\"kind\":\"Any\",\"default\":0},{\"name\":\"close_modal\",\"kind\":\"Any\",\"default\":0}]},{\"type\":\"model\",\"name\":\"MaterialTemplateActions1\",\"properties\":[{\"name\":\"open_modal\",\"kind\":\"Any\",\"default\":0},{\"name\":\"close_modal\",\"kind\":\"Any\",\"default\":0}]}]}};\n",
       "  var render_items = [{\"docid\":\"ff0256b8-2d6e-4df0-bc1f-bd1512c376f9\",\"roots\":{\"p3552\":\"b670a98c-236e-4f33-8755-80609f87e733\"},\"root_ids\":[\"p3552\"]}];\n",
       "  var docs = Object.values(docs_json)\n",
       "  if (!docs) {\n",
       "    return\n",
       "  }\n",
       "  const py_version = docs[0].version.replace('rc', '-rc.').replace('.dev', '-dev.')\n",
       "  const is_dev = py_version.indexOf(\"+\") !== -1 || py_version.indexOf(\"-\") !== -1\n",
       "  function embed_document(root) {\n",
       "    var Bokeh = get_bokeh(root)\n",
       "    Bokeh.embed.embed_items_notebook(docs_json, render_items);\n",
       "    for (const render_item of render_items) {\n",
       "      for (const root_id of render_item.root_ids) {\n",
       "\tconst id_el = document.getElementById(root_id)\n",
       "\tif (id_el.children.length && (id_el.children[0].className === 'bk-root')) {\n",
       "\t  const root_el = id_el.children[0]\n",
       "\t  root_el.id = root_el.id + '-rendered'\n",
       "\t}\n",
       "      }\n",
       "    }\n",
       "  }\n",
       "  function get_bokeh(root) {\n",
       "    if (root.Bokeh === undefined) {\n",
       "      return null\n",
       "    } else if (root.Bokeh.version !== py_version && !is_dev) {\n",
       "      if (root.Bokeh.versions === undefined || !root.Bokeh.versions.has(py_version)) {\n",
       "\treturn null\n",
       "      }\n",
       "      return root.Bokeh.versions.get(py_version);\n",
       "    } else if (root.Bokeh.version === py_version) {\n",
       "      return root.Bokeh\n",
       "    }\n",
       "    return null\n",
       "  }\n",
       "  function is_loaded(root) {\n",
       "    var Bokeh = get_bokeh(root)\n",
       "    return (Bokeh != null && Bokeh.Panel !== undefined)\n",
       "  }\n",
       "  if (is_loaded(root)) {\n",
       "    embed_document(root);\n",
       "  } else {\n",
       "    var attempts = 0;\n",
       "    var timer = setInterval(function(root) {\n",
       "      if (is_loaded(root)) {\n",
       "        clearInterval(timer);\n",
       "        embed_document(root);\n",
       "      } else if (document.readyState == \"complete\") {\n",
       "        attempts++;\n",
       "        if (attempts > 200) {\n",
       "          clearInterval(timer);\n",
       "\t  var Bokeh = get_bokeh(root)\n",
       "\t  if (Bokeh == null || Bokeh.Panel == null) {\n",
       "            console.warn(\"Panel: ERROR: Unable to run Panel code because Bokeh or Panel library is missing\");\n",
       "\t  } else {\n",
       "\t    console.warn(\"Panel: WARNING: Attempting to render but not all required libraries could be resolved.\")\n",
       "\t    embed_document(root)\n",
       "\t  }\n",
       "        }\n",
       "      }\n",
       "    }, 25, root)\n",
       "  }\n",
       "})(window);</script>"
      ],
      "text/plain": [
       ":NdOverlay   [Variable]\n",
       "   :Curve   [date]   (value)"
      ]
     },
     "execution_count": 72,
     "metadata": {
      "application/vnd.holoviews_exec.v0+json": {
       "id": "p3552"
      }
     },
     "output_type": "execute_result"
    }
   ],
   "source": [
    "# Plot difference for combined dataframes\n",
    "monthly_supply_df.hvplot(title=\"House Price Inde and Monthly Supply of New Houses in the United States\", xlabel=\"Date(in Months)\",ylabel=\"Difference\")"
   ]
  },
  {
   "cell_type": "markdown",
   "metadata": {
    "tags": []
   },
   "source": [
    "## Residential Real Estate vs S&P500"
   ]
  },
  {
   "cell_type": "code",
   "execution_count": 73,
   "metadata": {},
   "outputs": [
    {
     "name": "stdout",
     "output_type": "stream",
     "text": [
      "[*********************100%%**********************]  1 of 1 completed\n"
     ]
    }
   ],
   "source": [
    "# Download the S&P500 Dataframe from the yfinance library in quarters since HPI is a quarterly report \n",
    "\n",
    "sp500_df = yf.download(\"^GSPC\", interval=\"3mo\", start=\"1975-01-01\", end=\"2023-10-01\")\n",
    "\n",
    "# Get Closing cloumns and then calculate the returns and drop NaN Values\n",
    "\n",
    "sp500_close = sp500_df['Close']\n",
    "\n",
    "\n",
    "sp500_returns = sp500_close.pct_change().dropna()\n",
    "\n"
   ]
  },
  {
   "cell_type": "code",
   "execution_count": 74,
   "metadata": {},
   "outputs": [
    {
     "data": {},
     "metadata": {},
     "output_type": "display_data"
    },
    {
     "data": {
      "application/vnd.holoviews_exec.v0+json": "",
      "text/html": [
       "<div id='p3644'>\n",
       "  <div id=\"a3486754-e3cd-485b-9193-5bf4ec383392\" data-root-id=\"p3644\" style=\"display: contents;\"></div>\n",
       "</div>\n",
       "<script type=\"application/javascript\">(function(root) {\n",
       "  var docs_json = {\"9b93478c-8a53-403f-81bc-a544f44c92eb\":{\"version\":\"3.2.2\",\"title\":\"Bokeh Application\",\"roots\":[{\"type\":\"object\",\"name\":\"Row\",\"id\":\"p3644\",\"attributes\":{\"name\":\"Row05802\",\"tags\":[\"embedded\"],\"stylesheets\":[\"\\n:host(.pn-loading.pn-arc):before, .pn-loading.pn-arc:before {\\n  background-image: url(\\\"data:image/svg+xml;base64,PHN2ZyB4bWxucz0iaHR0cDovL3d3dy53My5vcmcvMjAwMC9zdmciIHN0eWxlPSJtYXJnaW46IGF1dG87IGJhY2tncm91bmQ6IG5vbmU7IGRpc3BsYXk6IGJsb2NrOyBzaGFwZS1yZW5kZXJpbmc6IGF1dG87IiB2aWV3Qm94PSIwIDAgMTAwIDEwMCIgcHJlc2VydmVBc3BlY3RSYXRpbz0ieE1pZFlNaWQiPiAgPGNpcmNsZSBjeD0iNTAiIGN5PSI1MCIgZmlsbD0ibm9uZSIgc3Ryb2tlPSIjYzNjM2MzIiBzdHJva2Utd2lkdGg9IjEwIiByPSIzNSIgc3Ryb2tlLWRhc2hhcnJheT0iMTY0LjkzMzYxNDMxMzQ2NDE1IDU2Ljk3Nzg3MTQzNzgyMTM4Ij4gICAgPGFuaW1hdGVUcmFuc2Zvcm0gYXR0cmlidXRlTmFtZT0idHJhbnNmb3JtIiB0eXBlPSJyb3RhdGUiIHJlcGVhdENvdW50PSJpbmRlZmluaXRlIiBkdXI9IjFzIiB2YWx1ZXM9IjAgNTAgNTA7MzYwIDUwIDUwIiBrZXlUaW1lcz0iMDsxIj48L2FuaW1hdGVUcmFuc2Zvcm0+ICA8L2NpcmNsZT48L3N2Zz4=\\\");\\n  background-size: auto calc(min(50%, 400px));\\n}\",{\"type\":\"object\",\"name\":\"ImportedStyleSheet\",\"id\":\"p3647\",\"attributes\":{\"url\":\"https://cdn.holoviz.org/panel/1.2.3/dist/css/loading.css\"}},{\"type\":\"object\",\"name\":\"ImportedStyleSheet\",\"id\":\"p3711\",\"attributes\":{\"url\":\"https://cdn.holoviz.org/panel/1.2.3/dist/css/listpanel.css\"}},{\"type\":\"object\",\"name\":\"ImportedStyleSheet\",\"id\":\"p3645\",\"attributes\":{\"url\":\"https://cdn.holoviz.org/panel/1.2.3/dist/bundled/theme/default.css\"}},{\"type\":\"object\",\"name\":\"ImportedStyleSheet\",\"id\":\"p3646\",\"attributes\":{\"url\":\"https://cdn.holoviz.org/panel/1.2.3/dist/bundled/theme/native.css\"}}],\"min_width\":700,\"margin\":0,\"sizing_mode\":\"stretch_width\",\"align\":\"start\",\"children\":[{\"type\":\"object\",\"name\":\"Spacer\",\"id\":\"p3648\",\"attributes\":{\"name\":\"HSpacer05813\",\"stylesheets\":[\"\\n:host(.pn-loading.pn-arc):before, .pn-loading.pn-arc:before {\\n  background-image: url(\\\"data:image/svg+xml;base64,PHN2ZyB4bWxucz0iaHR0cDovL3d3dy53My5vcmcvMjAwMC9zdmciIHN0eWxlPSJtYXJnaW46IGF1dG87IGJhY2tncm91bmQ6IG5vbmU7IGRpc3BsYXk6IGJsb2NrOyBzaGFwZS1yZW5kZXJpbmc6IGF1dG87IiB2aWV3Qm94PSIwIDAgMTAwIDEwMCIgcHJlc2VydmVBc3BlY3RSYXRpbz0ieE1pZFlNaWQiPiAgPGNpcmNsZSBjeD0iNTAiIGN5PSI1MCIgZmlsbD0ibm9uZSIgc3Ryb2tlPSIjYzNjM2MzIiBzdHJva2Utd2lkdGg9IjEwIiByPSIzNSIgc3Ryb2tlLWRhc2hhcnJheT0iMTY0LjkzMzYxNDMxMzQ2NDE1IDU2Ljk3Nzg3MTQzNzgyMTM4Ij4gICAgPGFuaW1hdGVUcmFuc2Zvcm0gYXR0cmlidXRlTmFtZT0idHJhbnNmb3JtIiB0eXBlPSJyb3RhdGUiIHJlcGVhdENvdW50PSJpbmRlZmluaXRlIiBkdXI9IjFzIiB2YWx1ZXM9IjAgNTAgNTA7MzYwIDUwIDUwIiBrZXlUaW1lcz0iMDsxIj48L2FuaW1hdGVUcmFuc2Zvcm0+ICA8L2NpcmNsZT48L3N2Zz4=\\\");\\n  background-size: auto calc(min(50%, 400px));\\n}\",{\"id\":\"p3647\"},{\"id\":\"p3645\"},{\"id\":\"p3646\"}],\"margin\":0,\"sizing_mode\":\"stretch_width\",\"align\":\"start\"}},{\"type\":\"object\",\"name\":\"Figure\",\"id\":\"p3656\",\"attributes\":{\"width\":700,\"height\":300,\"margin\":[5,10],\"sizing_mode\":\"fixed\",\"align\":\"start\",\"x_range\":{\"type\":\"object\",\"name\":\"Range1d\",\"id\":\"p3649\",\"attributes\":{\"tags\":[[[\"Date\",\"Date\",null]],[]],\"start\":481161600000.0,\"end\":1688169600000.0,\"reset_start\":481161600000.0,\"reset_end\":1688169600000.0}},\"y_range\":{\"type\":\"object\",\"name\":\"Range1d\",\"id\":\"p3650\",\"attributes\":{\"tags\":[[[\"Close\",\"Close\",null]],{\"type\":\"map\",\"entries\":[[\"invert_yaxis\",false],[\"autorange\",false]]}],\"start\":-0.27635903683347496,\"end\":0.2527640765160921,\"reset_start\":-0.27635903683347496,\"reset_end\":0.2527640765160921}},\"x_scale\":{\"type\":\"object\",\"name\":\"LinearScale\",\"id\":\"p3666\"},\"y_scale\":{\"type\":\"object\",\"name\":\"LinearScale\",\"id\":\"p3667\"},\"title\":{\"type\":\"object\",\"name\":\"Title\",\"id\":\"p3659\",\"attributes\":{\"text\":\"Quarterly Returns of the S&P 500 Index\",\"text_color\":\"black\",\"text_font_size\":\"12pt\"}},\"renderers\":[{\"type\":\"object\",\"name\":\"GlyphRenderer\",\"id\":\"p3704\",\"attributes\":{\"data_source\":{\"type\":\"object\",\"name\":\"ColumnDataSource\",\"id\":\"p3695\",\"attributes\":{\"selected\":{\"type\":\"object\",\"name\":\"Selection\",\"id\":\"p3696\",\"attributes\":{\"indices\":[],\"line_indices\":[]}},\"selection_policy\":{\"type\":\"object\",\"name\":\"UnionRenderers\",\"id\":\"p3697\"},\"data\":{\"type\":\"map\",\"entries\":[[\"Date\",{\"type\":\"ndarray\",\"array\":{\"type\":\"bytes\",\"data\":\"AAAA190BXEIAAACEBndcQgAAAMh47VxCAAAADOtjXUIAAAAiytddQgAAAM/yTF5CAAAAE2XDXkIAAABX1zlfQgAAAG22rV9CAAAAjW8RYEIAAACvqExgQgAAANHhh2BCAACAJ3bCYEIAAAB+Cv1gQgAAAKBDOGFCAAAAwnxzYUIAAABNbK1hQgAAgKMA6GFCAACAxTkjYkIAAIDncl5iQgAAgHJimGJCAAAAyfbSYkIAAADrLw5jQgAAAA1pSWNCAAAAmFiDY0IAAIDu7L1jQgAAgBAm+WNCAACAMl80ZEIAAACJ825kQgAAgN+HqWRCAACAAcHkZEIAAIAj+h9lQgAAgK7pWWVCAAAABX6UZUIAAAAnt89lQgAAAEnwCmZCAAAA1N9EZkIAAIAqdH9mQgAAgEytumZCAACAbub1ZkIAAID51S9nQgAAAFBqamdCAAAAcqOlZ0IAAACU3OBnQgAAgOpwG2hCAAAAQQVWaEIAAABjPpFoQgAAAIV3zGhCAAAAEGcGaUIAAIBm+0BpQgAAgIg0fGlCAACAqm23aUIAAIA1XfFpQgAAAIzxK2pCAAAAripnakIAAADQY6JqQgAAAFtT3GpCAACAsecWa0IAAIDTIFJrQgAAgPVZjWtCAAAATO7Ha0IAAICiggJsQgAAgMS7PWxCAACA5vR4bEIAAIBx5LJsQgAAAMh47WxCAAAA6rEobUIAAAAM62NtQgAAAJfanW1CAACA7W7YbUIAAIAPqBNuQgAAgDHhTm5CAACAvNCIbkIAAAATZcNuQgAAADWe/m5CAAAAV9c5b0IAAICta3RvQgAAAAQAr29CAAAAJjnqb0IAAAAkuRJwQgAAgOmwL3BCAADAFPtMcEIAAMCll2pwQgAAwDY0iHBCAABA/CulcEIAAIAndsJwQgAAgLgS4HBCAACASa/9cEIAAAAPpxpxQgAAQDrxN3FCAABAy41VcUIAAEBcKnNxQgAAgId0kHFCAADAsr6tcUIAAMBDW8txQgAAwNT36HFCAABAmu8FckIAAIDFOSNyQgAAgFbWQHJCAACA53JeckIAAACtantyQgAAQNi0mHJCAABAaVG2ckIAAED67dNyQgAAwL/l8HJCAAAA6y8Oc0IAAAB8zCtzQgAAAA1pSXNCAABAOLNmc0IAAIBj/YNzQgAAgPSZoXNCAACAhTa/c0IAAABLLtxzQgAAQHZ4+XNCAABABxUXdEIAAECYsTR0QgAAwF2pUXRCAAAAifNudEIAAAAakIx0QgAAAKssqnRCAACAcCTHdEIAAMCbbuR0QgAAwCwLAnVCAADAvacfdUIAAADp8Tx1QgAAQBQ8WnVCAABApdh3dUIAAEA2dZV1QgAAwPtssnVCAAAAJ7fPdUIAAAC4U+11QgAAAEnwCnZCAACADugndkIAAMA5MkV2QgAAwMrOYnZCAADAW2uAdkIAAEAhY512QgAAgEytunZCAACA3UnYdkIAAIBu5vV2QgAAwJkwE3dCAAAAxXowd0IAAABWF053QgAAAOeza3dCAACArKuId0IAAMDX9aV3QgAAwGiSw3dCAADA+S7hd0IAAEC/Jv53QgAAgOpwG3hCAACAew05eEIAAIAMqlZ4QgAAANKhc3hCAABA/euQeEI=\"},\"shape\":[154],\"dtype\":\"float64\",\"order\":\"little\"}],[\"Close\",{\"type\":\"ndarray\",\"array\":{\"type\":\"bytes\",\"data\":\"AA0b/4q2rz9QXXrr3hKqv0iU4Rj5hsQ/+AcnWam7wD+goWK325apP3g5BpHp67O/QM5r4uMDqD+wnb7P5i3KP8AkNCvblqU/wIbyGooHrj9gJxrD37rNv+BqXP8Feag/QFkQHc/krD8ASyCJ6c93v4DilupS4ZU/oEPM4BCerz9QN0loShC0PxCMojEqGLk/gKI4atrtiD/AYCwCKICjv6C/fNwrO6s/VG1bHJaUwr9gl6ULpTe0P8jzd/5iccE/gGpouPUohr+AwWXhdAmnPzB9rivxSrM/cKa9yf5yoL+AIxGrZ5OGPwDgPox/PJg/IO7vnbfypT8A480lKMGiPwAV7qA1rWS/AN5HOZgXkz/AwRnGfMeQPzAniwARs6a/AHpTVdeQa7/AZMA+UEClP4BuirOac36/ULYzzlIZtz/whOAVOoS2P2AN2kBIo7I/oAGUsFadqz+g+YsnmZSoP2C2OObF7qM/QGsRUOd/mT9w1Q3WkeSzP4Bca0HMpJY/mEHYNa6kxT9AuMXx3PixP8BS9RReBpk/YCIttzZSwT+ADS/aTNOdP1i838/GYLq/SDel47a1yj+gZGaLzcynP7AXij23LrE/iAhQCsnIsL9Q0WwGVp3CP4BofR0PcZQ/ACQ6iFcNnr8ASbliP3iJv/iS1GKbtrS/uFk4LpgDv78Ag9zhJ0OsP/S4OuVkLcO/oNnicV9Zuj8AbGB0J7FDv+gSHsP/k8G/OE2CwiWSxr/gawcIBkS0P6AmZriZaaK/KHsd8CgQwz/A04/Nf4+WP9B6Htemzb0/gHsMX+xRij8A4shXwJqKPyAqh/kQkpe/wOxdx3tbtj8A/RLW13iavwCYCj2FoYI/4L97tp4boD8AM0/1sTuQP8BWdfzzGqM/wPx1cmeCk79gjqzybXaqP4AWcAfnma8/APy7BXCSXT+gGPnskLmtP4CNfAut4I8/gKJUZ82Uo79AcGA+HWW5v+BvFilSh6C/aGZmZl66tr984wIs4N/Mv7DVmG/t3b2/sKP+a997wz9IMw+ARy7DPyDr5GQoGqw/ACCOXRzyqD+QZCNbAl6+v8B4LxZTcbs/IOdzz9Ueuj/gam/5y8KrPwDbTI2iCHC/1LRpTfdWwr+A7AH5zYy8P+C4DZYhtr4/wCPHeZjVoL/gp/TjhIKtP0CnaquXlYS/sPLAnxuruT9AadipJzSYP4CUcjID/qc/ADhDii1luT8AK5kv7pGKP2CLX6GvCKg/AF9oCTozeT/gaV6Gz3umPwBEANeB4nE/ACEwKWzvYr/gbciDB8GxvwDTNGZkhbA/AAH7srGpfz+ASBuR1XKTPyBwwsqW7qA/AISyqVupoD+AMxXlHVWsP0CmSPyNTZo/wJdDYYpFpD9AvHgZ/1ivP0BvmCE6FIm/wB2cyPoMnj9QfSZ332uyPyRb7H034sG/wOJxfIe5wD/AJ7N6r2SjPwDLWL84Wog/wOPvEPTYtT9sQ2S28ZnJvzis2TYoisk/0LYxp1axtT9g+Ese5uu9PyAaW6gnjq0/ULlCIrTqtD8A6PVAeSNjP/DoC93dQbs/wCsz1sZTqb+ESzKXugzFvwC5hBXaBKu/8C/IA0cgsj9ALDClW/2xP7DpawtxP7U/sA5mi+ysor8=\"},\"shape\":[154],\"dtype\":\"float64\",\"order\":\"little\"}]]}}},\"view\":{\"type\":\"object\",\"name\":\"CDSView\",\"id\":\"p3705\",\"attributes\":{\"filter\":{\"type\":\"object\",\"name\":\"AllIndices\",\"id\":\"p3706\"}}},\"glyph\":{\"type\":\"object\",\"name\":\"Line\",\"id\":\"p3701\",\"attributes\":{\"tags\":[\"apply_ranges\"],\"x\":{\"type\":\"field\",\"field\":\"Date\"},\"y\":{\"type\":\"field\",\"field\":\"Close\"},\"line_color\":\"#30a2da\",\"line_width\":2}},\"selection_glyph\":{\"type\":\"object\",\"name\":\"Line\",\"id\":\"p3707\",\"attributes\":{\"tags\":[\"apply_ranges\"],\"x\":{\"type\":\"field\",\"field\":\"Date\"},\"y\":{\"type\":\"field\",\"field\":\"Close\"},\"line_color\":\"#30a2da\",\"line_width\":2}},\"nonselection_glyph\":{\"type\":\"object\",\"name\":\"Line\",\"id\":\"p3702\",\"attributes\":{\"tags\":[\"apply_ranges\"],\"x\":{\"type\":\"field\",\"field\":\"Date\"},\"y\":{\"type\":\"field\",\"field\":\"Close\"},\"line_color\":\"#30a2da\",\"line_alpha\":0.1,\"line_width\":2}},\"muted_glyph\":{\"type\":\"object\",\"name\":\"Line\",\"id\":\"p3703\",\"attributes\":{\"tags\":[\"apply_ranges\"],\"x\":{\"type\":\"field\",\"field\":\"Date\"},\"y\":{\"type\":\"field\",\"field\":\"Close\"},\"line_color\":\"#30a2da\",\"line_alpha\":0.2,\"line_width\":2}}}}],\"toolbar\":{\"type\":\"object\",\"name\":\"Toolbar\",\"id\":\"p3665\",\"attributes\":{\"tools\":[{\"type\":\"object\",\"name\":\"WheelZoomTool\",\"id\":\"p3654\",\"attributes\":{\"tags\":[\"hv_created\"],\"zoom_together\":\"none\"}},{\"type\":\"object\",\"name\":\"HoverTool\",\"id\":\"p3655\",\"attributes\":{\"tags\":[\"hv_created\"],\"renderers\":[{\"id\":\"p3704\"}],\"tooltips\":[[\"Date\",\"@{Date}{%F %T}\"],[\"Close\",\"@{Close}\"]],\"formatters\":{\"type\":\"map\",\"entries\":[[\"@{Date}\",\"datetime\"]]}}},{\"type\":\"object\",\"name\":\"SaveTool\",\"id\":\"p3690\"},{\"type\":\"object\",\"name\":\"PanTool\",\"id\":\"p3691\"},{\"type\":\"object\",\"name\":\"BoxZoomTool\",\"id\":\"p3692\",\"attributes\":{\"overlay\":{\"type\":\"object\",\"name\":\"BoxAnnotation\",\"id\":\"p3693\",\"attributes\":{\"syncable\":false,\"level\":\"overlay\",\"visible\":false,\"left_units\":\"canvas\",\"right_units\":\"canvas\",\"bottom_units\":\"canvas\",\"top_units\":\"canvas\",\"line_color\":\"black\",\"line_alpha\":1.0,\"line_width\":2,\"line_dash\":[4,4],\"fill_color\":\"lightgrey\",\"fill_alpha\":0.5}}}},{\"type\":\"object\",\"name\":\"ResetTool\",\"id\":\"p3694\"}],\"active_drag\":{\"id\":\"p3691\"},\"active_scroll\":{\"id\":\"p3654\"}}},\"left\":[{\"type\":\"object\",\"name\":\"LinearAxis\",\"id\":\"p3685\",\"attributes\":{\"ticker\":{\"type\":\"object\",\"name\":\"BasicTicker\",\"id\":\"p3686\",\"attributes\":{\"mantissas\":[1,2,5]}},\"formatter\":{\"type\":\"object\",\"name\":\"BasicTickFormatter\",\"id\":\"p3687\"},\"axis_label\":\"Rate of Return\",\"major_label_policy\":{\"type\":\"object\",\"name\":\"AllLabels\",\"id\":\"p3688\"}}}],\"below\":[{\"type\":\"object\",\"name\":\"DatetimeAxis\",\"id\":\"p3668\",\"attributes\":{\"ticker\":{\"type\":\"object\",\"name\":\"DatetimeTicker\",\"id\":\"p3669\",\"attributes\":{\"num_minor_ticks\":5,\"tickers\":[{\"type\":\"object\",\"name\":\"AdaptiveTicker\",\"id\":\"p3670\",\"attributes\":{\"num_minor_ticks\":0,\"mantissas\":[1,2,5],\"max_interval\":500.0}},{\"type\":\"object\",\"name\":\"AdaptiveTicker\",\"id\":\"p3671\",\"attributes\":{\"num_minor_ticks\":0,\"base\":60,\"mantissas\":[1,2,5,10,15,20,30],\"min_interval\":1000.0,\"max_interval\":1800000.0}},{\"type\":\"object\",\"name\":\"AdaptiveTicker\",\"id\":\"p3672\",\"attributes\":{\"num_minor_ticks\":0,\"base\":24,\"mantissas\":[1,2,4,6,8,12],\"min_interval\":3600000.0,\"max_interval\":43200000.0}},{\"type\":\"object\",\"name\":\"DaysTicker\",\"id\":\"p3673\",\"attributes\":{\"days\":[1,2,3,4,5,6,7,8,9,10,11,12,13,14,15,16,17,18,19,20,21,22,23,24,25,26,27,28,29,30,31]}},{\"type\":\"object\",\"name\":\"DaysTicker\",\"id\":\"p3674\",\"attributes\":{\"days\":[1,4,7,10,13,16,19,22,25,28]}},{\"type\":\"object\",\"name\":\"DaysTicker\",\"id\":\"p3675\",\"attributes\":{\"days\":[1,8,15,22]}},{\"type\":\"object\",\"name\":\"DaysTicker\",\"id\":\"p3676\",\"attributes\":{\"days\":[1,15]}},{\"type\":\"object\",\"name\":\"MonthsTicker\",\"id\":\"p3677\",\"attributes\":{\"months\":[0,1,2,3,4,5,6,7,8,9,10,11]}},{\"type\":\"object\",\"name\":\"MonthsTicker\",\"id\":\"p3678\",\"attributes\":{\"months\":[0,2,4,6,8,10]}},{\"type\":\"object\",\"name\":\"MonthsTicker\",\"id\":\"p3679\",\"attributes\":{\"months\":[0,4,8]}},{\"type\":\"object\",\"name\":\"MonthsTicker\",\"id\":\"p3680\",\"attributes\":{\"months\":[0,6]}},{\"type\":\"object\",\"name\":\"YearsTicker\",\"id\":\"p3681\"}]}},\"formatter\":{\"type\":\"object\",\"name\":\"DatetimeTickFormatter\",\"id\":\"p3682\"},\"axis_label\":\"Date(in Qtrs.)\",\"major_label_orientation\":1.5707963267948966,\"major_label_policy\":{\"type\":\"object\",\"name\":\"AllLabels\",\"id\":\"p3683\"}}}],\"center\":[{\"type\":\"object\",\"name\":\"Grid\",\"id\":\"p3684\",\"attributes\":{\"axis\":{\"id\":\"p3668\"},\"grid_line_color\":null}},{\"type\":\"object\",\"name\":\"Grid\",\"id\":\"p3689\",\"attributes\":{\"dimension\":1,\"axis\":{\"id\":\"p3685\"},\"grid_line_color\":null}}],\"min_border_top\":10,\"min_border_bottom\":10,\"min_border_left\":10,\"min_border_right\":10,\"output_backend\":\"webgl\"}},{\"type\":\"object\",\"name\":\"Spacer\",\"id\":\"p3709\",\"attributes\":{\"name\":\"HSpacer05816\",\"stylesheets\":[\"\\n:host(.pn-loading.pn-arc):before, .pn-loading.pn-arc:before {\\n  background-image: url(\\\"data:image/svg+xml;base64,PHN2ZyB4bWxucz0iaHR0cDovL3d3dy53My5vcmcvMjAwMC9zdmciIHN0eWxlPSJtYXJnaW46IGF1dG87IGJhY2tncm91bmQ6IG5vbmU7IGRpc3BsYXk6IGJsb2NrOyBzaGFwZS1yZW5kZXJpbmc6IGF1dG87IiB2aWV3Qm94PSIwIDAgMTAwIDEwMCIgcHJlc2VydmVBc3BlY3RSYXRpbz0ieE1pZFlNaWQiPiAgPGNpcmNsZSBjeD0iNTAiIGN5PSI1MCIgZmlsbD0ibm9uZSIgc3Ryb2tlPSIjYzNjM2MzIiBzdHJva2Utd2lkdGg9IjEwIiByPSIzNSIgc3Ryb2tlLWRhc2hhcnJheT0iMTY0LjkzMzYxNDMxMzQ2NDE1IDU2Ljk3Nzg3MTQzNzgyMTM4Ij4gICAgPGFuaW1hdGVUcmFuc2Zvcm0gYXR0cmlidXRlTmFtZT0idHJhbnNmb3JtIiB0eXBlPSJyb3RhdGUiIHJlcGVhdENvdW50PSJpbmRlZmluaXRlIiBkdXI9IjFzIiB2YWx1ZXM9IjAgNTAgNTA7MzYwIDUwIDUwIiBrZXlUaW1lcz0iMDsxIj48L2FuaW1hdGVUcmFuc2Zvcm0+ICA8L2NpcmNsZT48L3N2Zz4=\\\");\\n  background-size: auto calc(min(50%, 400px));\\n}\",{\"id\":\"p3647\"},{\"id\":\"p3645\"},{\"id\":\"p3646\"}],\"margin\":0,\"sizing_mode\":\"stretch_width\",\"align\":\"start\"}}]}}],\"defs\":[{\"type\":\"model\",\"name\":\"ReactiveHTML1\"},{\"type\":\"model\",\"name\":\"FlexBox1\",\"properties\":[{\"name\":\"align_content\",\"kind\":\"Any\",\"default\":\"flex-start\"},{\"name\":\"align_items\",\"kind\":\"Any\",\"default\":\"flex-start\"},{\"name\":\"flex_direction\",\"kind\":\"Any\",\"default\":\"row\"},{\"name\":\"flex_wrap\",\"kind\":\"Any\",\"default\":\"wrap\"},{\"name\":\"justify_content\",\"kind\":\"Any\",\"default\":\"flex-start\"}]},{\"type\":\"model\",\"name\":\"FloatPanel1\",\"properties\":[{\"name\":\"config\",\"kind\":\"Any\",\"default\":{\"type\":\"map\"}},{\"name\":\"contained\",\"kind\":\"Any\",\"default\":true},{\"name\":\"position\",\"kind\":\"Any\",\"default\":\"right-top\"},{\"name\":\"offsetx\",\"kind\":\"Any\",\"default\":null},{\"name\":\"offsety\",\"kind\":\"Any\",\"default\":null},{\"name\":\"theme\",\"kind\":\"Any\",\"default\":\"primary\"},{\"name\":\"status\",\"kind\":\"Any\",\"default\":\"normalized\"}]},{\"type\":\"model\",\"name\":\"GridStack1\",\"properties\":[{\"name\":\"mode\",\"kind\":\"Any\",\"default\":\"warn\"},{\"name\":\"ncols\",\"kind\":\"Any\",\"default\":null},{\"name\":\"nrows\",\"kind\":\"Any\",\"default\":null},{\"name\":\"allow_resize\",\"kind\":\"Any\",\"default\":true},{\"name\":\"allow_drag\",\"kind\":\"Any\",\"default\":true},{\"name\":\"state\",\"kind\":\"Any\",\"default\":[]}]},{\"type\":\"model\",\"name\":\"drag1\",\"properties\":[{\"name\":\"slider_width\",\"kind\":\"Any\",\"default\":5},{\"name\":\"slider_color\",\"kind\":\"Any\",\"default\":\"black\"},{\"name\":\"value\",\"kind\":\"Any\",\"default\":50}]},{\"type\":\"model\",\"name\":\"click1\",\"properties\":[{\"name\":\"terminal_output\",\"kind\":\"Any\",\"default\":\"\"},{\"name\":\"debug_name\",\"kind\":\"Any\",\"default\":\"\"},{\"name\":\"clears\",\"kind\":\"Any\",\"default\":0}]},{\"type\":\"model\",\"name\":\"FastWrapper1\",\"properties\":[{\"name\":\"object\",\"kind\":\"Any\",\"default\":null},{\"name\":\"style\",\"kind\":\"Any\",\"default\":null}]},{\"type\":\"model\",\"name\":\"NotificationAreaBase1\",\"properties\":[{\"name\":\"js_events\",\"kind\":\"Any\",\"default\":{\"type\":\"map\"}},{\"name\":\"position\",\"kind\":\"Any\",\"default\":\"bottom-right\"},{\"name\":\"_clear\",\"kind\":\"Any\",\"default\":0}]},{\"type\":\"model\",\"name\":\"NotificationArea1\",\"properties\":[{\"name\":\"js_events\",\"kind\":\"Any\",\"default\":{\"type\":\"map\"}},{\"name\":\"notifications\",\"kind\":\"Any\",\"default\":[]},{\"name\":\"position\",\"kind\":\"Any\",\"default\":\"bottom-right\"},{\"name\":\"_clear\",\"kind\":\"Any\",\"default\":0},{\"name\":\"types\",\"kind\":\"Any\",\"default\":[{\"type\":\"map\",\"entries\":[[\"type\",\"warning\"],[\"background\",\"#ffc107\"],[\"icon\",{\"type\":\"map\",\"entries\":[[\"className\",\"fas fa-exclamation-triangle\"],[\"tagName\",\"i\"],[\"color\",\"white\"]]}]]},{\"type\":\"map\",\"entries\":[[\"type\",\"info\"],[\"background\",\"#007bff\"],[\"icon\",{\"type\":\"map\",\"entries\":[[\"className\",\"fas fa-info-circle\"],[\"tagName\",\"i\"],[\"color\",\"white\"]]}]]}]}]},{\"type\":\"model\",\"name\":\"Notification\",\"properties\":[{\"name\":\"background\",\"kind\":\"Any\",\"default\":null},{\"name\":\"duration\",\"kind\":\"Any\",\"default\":3000},{\"name\":\"icon\",\"kind\":\"Any\",\"default\":null},{\"name\":\"message\",\"kind\":\"Any\",\"default\":\"\"},{\"name\":\"notification_type\",\"kind\":\"Any\",\"default\":null},{\"name\":\"_destroyed\",\"kind\":\"Any\",\"default\":false}]},{\"type\":\"model\",\"name\":\"TemplateActions1\",\"properties\":[{\"name\":\"open_modal\",\"kind\":\"Any\",\"default\":0},{\"name\":\"close_modal\",\"kind\":\"Any\",\"default\":0}]},{\"type\":\"model\",\"name\":\"BootstrapTemplateActions1\",\"properties\":[{\"name\":\"open_modal\",\"kind\":\"Any\",\"default\":0},{\"name\":\"close_modal\",\"kind\":\"Any\",\"default\":0}]},{\"type\":\"model\",\"name\":\"MaterialTemplateActions1\",\"properties\":[{\"name\":\"open_modal\",\"kind\":\"Any\",\"default\":0},{\"name\":\"close_modal\",\"kind\":\"Any\",\"default\":0}]}]}};\n",
       "  var render_items = [{\"docid\":\"9b93478c-8a53-403f-81bc-a544f44c92eb\",\"roots\":{\"p3644\":\"a3486754-e3cd-485b-9193-5bf4ec383392\"},\"root_ids\":[\"p3644\"]}];\n",
       "  var docs = Object.values(docs_json)\n",
       "  if (!docs) {\n",
       "    return\n",
       "  }\n",
       "  const py_version = docs[0].version.replace('rc', '-rc.').replace('.dev', '-dev.')\n",
       "  const is_dev = py_version.indexOf(\"+\") !== -1 || py_version.indexOf(\"-\") !== -1\n",
       "  function embed_document(root) {\n",
       "    var Bokeh = get_bokeh(root)\n",
       "    Bokeh.embed.embed_items_notebook(docs_json, render_items);\n",
       "    for (const render_item of render_items) {\n",
       "      for (const root_id of render_item.root_ids) {\n",
       "\tconst id_el = document.getElementById(root_id)\n",
       "\tif (id_el.children.length && (id_el.children[0].className === 'bk-root')) {\n",
       "\t  const root_el = id_el.children[0]\n",
       "\t  root_el.id = root_el.id + '-rendered'\n",
       "\t}\n",
       "      }\n",
       "    }\n",
       "  }\n",
       "  function get_bokeh(root) {\n",
       "    if (root.Bokeh === undefined) {\n",
       "      return null\n",
       "    } else if (root.Bokeh.version !== py_version && !is_dev) {\n",
       "      if (root.Bokeh.versions === undefined || !root.Bokeh.versions.has(py_version)) {\n",
       "\treturn null\n",
       "      }\n",
       "      return root.Bokeh.versions.get(py_version);\n",
       "    } else if (root.Bokeh.version === py_version) {\n",
       "      return root.Bokeh\n",
       "    }\n",
       "    return null\n",
       "  }\n",
       "  function is_loaded(root) {\n",
       "    var Bokeh = get_bokeh(root)\n",
       "    return (Bokeh != null && Bokeh.Panel !== undefined)\n",
       "  }\n",
       "  if (is_loaded(root)) {\n",
       "    embed_document(root);\n",
       "  } else {\n",
       "    var attempts = 0;\n",
       "    var timer = setInterval(function(root) {\n",
       "      if (is_loaded(root)) {\n",
       "        clearInterval(timer);\n",
       "        embed_document(root);\n",
       "      } else if (document.readyState == \"complete\") {\n",
       "        attempts++;\n",
       "        if (attempts > 200) {\n",
       "          clearInterval(timer);\n",
       "\t  var Bokeh = get_bokeh(root)\n",
       "\t  if (Bokeh == null || Bokeh.Panel == null) {\n",
       "            console.warn(\"Panel: ERROR: Unable to run Panel code because Bokeh or Panel library is missing\");\n",
       "\t  } else {\n",
       "\t    console.warn(\"Panel: WARNING: Attempting to render but not all required libraries could be resolved.\")\n",
       "\t    embed_document(root)\n",
       "\t  }\n",
       "        }\n",
       "      }\n",
       "    }, 25, root)\n",
       "  }\n",
       "})(window);</script>"
      ],
      "text/plain": [
       ":Curve   [Date]   (Close)"
      ]
     },
     "execution_count": 74,
     "metadata": {
      "application/vnd.holoviews_exec.v0+json": {
       "id": "p3644"
      }
     },
     "output_type": "execute_result"
    }
   ],
   "source": [
    "#  Save a Plot in variable containing the Monthly Returns\n",
    "\n",
    "sp500_plot = sp500_returns.hvplot(\n",
    "    title='Quarterly Returns of the S&P 500 Index',\n",
    "    rot=90,\n",
    "    label='Quarterly Returns of the S&P 500 Index',\n",
    "    ylabel='Rate of Return',\n",
    "    xlabel='Date(in Qtrs.)'\n",
    "\n",
    ")\n",
    "\n",
    "sp500_plot"
   ]
  },
  {
   "cell_type": "code",
   "execution_count": 75,
   "metadata": {},
   "outputs": [],
   "source": [
    "# Get Residential Housing Price Index Data (HPI)\n",
    "hpi_df = dataframes['USSTHPI']\n",
    "\n",
    "\n",
    "# Calculate HPI Returns \n",
    "hpi_returns = hpi_df['HPI pct_change']\n"
   ]
  },
  {
   "cell_type": "code",
   "execution_count": 76,
   "metadata": {},
   "outputs": [
    {
     "data": {},
     "metadata": {},
     "output_type": "display_data"
    },
    {
     "data": {
      "application/vnd.holoviews_exec.v0+json": "",
      "text/html": [
       "<div id='p3715'>\n",
       "  <div id=\"ceb081ab-6b28-429f-bf91-ef2d3df43805\" data-root-id=\"p3715\" style=\"display: contents;\"></div>\n",
       "</div>\n",
       "<script type=\"application/javascript\">(function(root) {\n",
       "  var docs_json = {\"c2ac888d-7be0-4de3-9406-c73f0a3d2a94\":{\"version\":\"3.2.2\",\"title\":\"Bokeh Application\",\"roots\":[{\"type\":\"object\",\"name\":\"Row\",\"id\":\"p3715\",\"attributes\":{\"name\":\"Row05924\",\"tags\":[\"embedded\"],\"stylesheets\":[\"\\n:host(.pn-loading.pn-arc):before, .pn-loading.pn-arc:before {\\n  background-image: url(\\\"data:image/svg+xml;base64,PHN2ZyB4bWxucz0iaHR0cDovL3d3dy53My5vcmcvMjAwMC9zdmciIHN0eWxlPSJtYXJnaW46IGF1dG87IGJhY2tncm91bmQ6IG5vbmU7IGRpc3BsYXk6IGJsb2NrOyBzaGFwZS1yZW5kZXJpbmc6IGF1dG87IiB2aWV3Qm94PSIwIDAgMTAwIDEwMCIgcHJlc2VydmVBc3BlY3RSYXRpbz0ieE1pZFlNaWQiPiAgPGNpcmNsZSBjeD0iNTAiIGN5PSI1MCIgZmlsbD0ibm9uZSIgc3Ryb2tlPSIjYzNjM2MzIiBzdHJva2Utd2lkdGg9IjEwIiByPSIzNSIgc3Ryb2tlLWRhc2hhcnJheT0iMTY0LjkzMzYxNDMxMzQ2NDE1IDU2Ljk3Nzg3MTQzNzgyMTM4Ij4gICAgPGFuaW1hdGVUcmFuc2Zvcm0gYXR0cmlidXRlTmFtZT0idHJhbnNmb3JtIiB0eXBlPSJyb3RhdGUiIHJlcGVhdENvdW50PSJpbmRlZmluaXRlIiBkdXI9IjFzIiB2YWx1ZXM9IjAgNTAgNTA7MzYwIDUwIDUwIiBrZXlUaW1lcz0iMDsxIj48L2FuaW1hdGVUcmFuc2Zvcm0+ICA8L2NpcmNsZT48L3N2Zz4=\\\");\\n  background-size: auto calc(min(50%, 400px));\\n}\",{\"type\":\"object\",\"name\":\"ImportedStyleSheet\",\"id\":\"p3718\",\"attributes\":{\"url\":\"https://cdn.holoviz.org/panel/1.2.3/dist/css/loading.css\"}},{\"type\":\"object\",\"name\":\"ImportedStyleSheet\",\"id\":\"p3782\",\"attributes\":{\"url\":\"https://cdn.holoviz.org/panel/1.2.3/dist/css/listpanel.css\"}},{\"type\":\"object\",\"name\":\"ImportedStyleSheet\",\"id\":\"p3716\",\"attributes\":{\"url\":\"https://cdn.holoviz.org/panel/1.2.3/dist/bundled/theme/default.css\"}},{\"type\":\"object\",\"name\":\"ImportedStyleSheet\",\"id\":\"p3717\",\"attributes\":{\"url\":\"https://cdn.holoviz.org/panel/1.2.3/dist/bundled/theme/native.css\"}}],\"min_width\":700,\"margin\":0,\"sizing_mode\":\"stretch_width\",\"align\":\"start\",\"children\":[{\"type\":\"object\",\"name\":\"Spacer\",\"id\":\"p3719\",\"attributes\":{\"name\":\"HSpacer05935\",\"stylesheets\":[\"\\n:host(.pn-loading.pn-arc):before, .pn-loading.pn-arc:before {\\n  background-image: url(\\\"data:image/svg+xml;base64,PHN2ZyB4bWxucz0iaHR0cDovL3d3dy53My5vcmcvMjAwMC9zdmciIHN0eWxlPSJtYXJnaW46IGF1dG87IGJhY2tncm91bmQ6IG5vbmU7IGRpc3BsYXk6IGJsb2NrOyBzaGFwZS1yZW5kZXJpbmc6IGF1dG87IiB2aWV3Qm94PSIwIDAgMTAwIDEwMCIgcHJlc2VydmVBc3BlY3RSYXRpbz0ieE1pZFlNaWQiPiAgPGNpcmNsZSBjeD0iNTAiIGN5PSI1MCIgZmlsbD0ibm9uZSIgc3Ryb2tlPSIjYzNjM2MzIiBzdHJva2Utd2lkdGg9IjEwIiByPSIzNSIgc3Ryb2tlLWRhc2hhcnJheT0iMTY0LjkzMzYxNDMxMzQ2NDE1IDU2Ljk3Nzg3MTQzNzgyMTM4Ij4gICAgPGFuaW1hdGVUcmFuc2Zvcm0gYXR0cmlidXRlTmFtZT0idHJhbnNmb3JtIiB0eXBlPSJyb3RhdGUiIHJlcGVhdENvdW50PSJpbmRlZmluaXRlIiBkdXI9IjFzIiB2YWx1ZXM9IjAgNTAgNTA7MzYwIDUwIDUwIiBrZXlUaW1lcz0iMDsxIj48L2FuaW1hdGVUcmFuc2Zvcm0+ICA8L2NpcmNsZT48L3N2Zz4=\\\");\\n  background-size: auto calc(min(50%, 400px));\\n}\",{\"id\":\"p3718\"},{\"id\":\"p3716\"},{\"id\":\"p3717\"}],\"margin\":0,\"sizing_mode\":\"stretch_width\",\"align\":\"start\"}},{\"type\":\"object\",\"name\":\"Figure\",\"id\":\"p3727\",\"attributes\":{\"width\":700,\"height\":300,\"margin\":[5,10],\"sizing_mode\":\"fixed\",\"align\":\"start\",\"x_range\":{\"type\":\"object\",\"name\":\"Range1d\",\"id\":\"p3720\",\"attributes\":{\"tags\":[[[\"date\",\"date\",null]],[]],\"start\":165542400000.0,\"end\":1680307200000.0,\"reset_start\":165542400000.0,\"reset_end\":1680307200000.0}},\"y_range\":{\"type\":\"object\",\"name\":\"Range1d\",\"id\":\"p3721\",\"attributes\":{\"tags\":[[[\"HPI pct_change\",\"HPI pct_change\",null]],{\"type\":\"map\",\"entries\":[[\"invert_yaxis\",false],[\"autorange\",false]]}],\"start\":-0.04136726342362146,\"end\":0.07716783859322002,\"reset_start\":-0.04136726342362146,\"reset_end\":0.07716783859322002}},\"x_scale\":{\"type\":\"object\",\"name\":\"LinearScale\",\"id\":\"p3737\"},\"y_scale\":{\"type\":\"object\",\"name\":\"LinearScale\",\"id\":\"p3738\"},\"title\":{\"type\":\"object\",\"name\":\"Title\",\"id\":\"p3730\",\"attributes\":{\"text\":\"Quarterly Returns of the Housing Price Index\",\"text_color\":\"black\",\"text_font_size\":\"12pt\"}},\"renderers\":[{\"type\":\"object\",\"name\":\"GlyphRenderer\",\"id\":\"p3775\",\"attributes\":{\"data_source\":{\"type\":\"object\",\"name\":\"ColumnDataSource\",\"id\":\"p3766\",\"attributes\":{\"selected\":{\"type\":\"object\",\"name\":\"Selection\",\"id\":\"p3767\",\"attributes\":{\"indices\":[],\"line_indices\":[]}},\"selection_policy\":{\"type\":\"object\",\"name\":\"UnionRenderers\",\"id\":\"p3768\"},\"data\":{\"type\":\"map\",\"entries\":[[\"date\",{\"type\":\"ndarray\",\"array\":{\"type\":\"bytes\",\"data\":\"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\"},\"shape\":[193],\"dtype\":\"float64\",\"order\":\"little\"}],[\"HPI pct_change\",{\"type\":\"ndarray\",\"array\":{\"type\":\"bytes\",\"data\":\"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\"},\"shape\":[193],\"dtype\":\"float64\",\"order\":\"little\"}],[\"HPI_pct_change\",{\"type\":\"ndarray\",\"array\":{\"type\":\"bytes\",\"data\":\"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\"},\"shape\":[193],\"dtype\":\"float64\",\"order\":\"little\"}]]}}},\"view\":{\"type\":\"object\",\"name\":\"CDSView\",\"id\":\"p3776\",\"attributes\":{\"filter\":{\"type\":\"object\",\"name\":\"AllIndices\",\"id\":\"p3777\"}}},\"glyph\":{\"type\":\"object\",\"name\":\"Line\",\"id\":\"p3772\",\"attributes\":{\"tags\":[\"apply_ranges\"],\"x\":{\"type\":\"field\",\"field\":\"date\"},\"y\":{\"type\":\"field\",\"field\":\"HPI pct_change\"},\"line_color\":\"#30a2da\",\"line_width\":2}},\"selection_glyph\":{\"type\":\"object\",\"name\":\"Line\",\"id\":\"p3778\",\"attributes\":{\"tags\":[\"apply_ranges\"],\"x\":{\"type\":\"field\",\"field\":\"date\"},\"y\":{\"type\":\"field\",\"field\":\"HPI pct_change\"},\"line_color\":\"#30a2da\",\"line_width\":2}},\"nonselection_glyph\":{\"type\":\"object\",\"name\":\"Line\",\"id\":\"p3773\",\"attributes\":{\"tags\":[\"apply_ranges\"],\"x\":{\"type\":\"field\",\"field\":\"date\"},\"y\":{\"type\":\"field\",\"field\":\"HPI pct_change\"},\"line_color\":\"#30a2da\",\"line_alpha\":0.1,\"line_width\":2}},\"muted_glyph\":{\"type\":\"object\",\"name\":\"Line\",\"id\":\"p3774\",\"attributes\":{\"tags\":[\"apply_ranges\"],\"x\":{\"type\":\"field\",\"field\":\"date\"},\"y\":{\"type\":\"field\",\"field\":\"HPI pct_change\"},\"line_color\":\"#30a2da\",\"line_alpha\":0.2,\"line_width\":2}}}}],\"toolbar\":{\"type\":\"object\",\"name\":\"Toolbar\",\"id\":\"p3736\",\"attributes\":{\"tools\":[{\"type\":\"object\",\"name\":\"WheelZoomTool\",\"id\":\"p3725\",\"attributes\":{\"tags\":[\"hv_created\"],\"zoom_together\":\"none\"}},{\"type\":\"object\",\"name\":\"HoverTool\",\"id\":\"p3726\",\"attributes\":{\"tags\":[\"hv_created\"],\"renderers\":[{\"id\":\"p3775\"}],\"tooltips\":[[\"date\",\"@{date}{%F %T}\"],[\"HPI pct_change\",\"@{HPI_pct_change}\"]],\"formatters\":{\"type\":\"map\",\"entries\":[[\"@{date}\",\"datetime\"]]}}},{\"type\":\"object\",\"name\":\"SaveTool\",\"id\":\"p3761\"},{\"type\":\"object\",\"name\":\"PanTool\",\"id\":\"p3762\"},{\"type\":\"object\",\"name\":\"BoxZoomTool\",\"id\":\"p3763\",\"attributes\":{\"overlay\":{\"type\":\"object\",\"name\":\"BoxAnnotation\",\"id\":\"p3764\",\"attributes\":{\"syncable\":false,\"level\":\"overlay\",\"visible\":false,\"left_units\":\"canvas\",\"right_units\":\"canvas\",\"bottom_units\":\"canvas\",\"top_units\":\"canvas\",\"line_color\":\"black\",\"line_alpha\":1.0,\"line_width\":2,\"line_dash\":[4,4],\"fill_color\":\"lightgrey\",\"fill_alpha\":0.5}}}},{\"type\":\"object\",\"name\":\"ResetTool\",\"id\":\"p3765\"}],\"active_drag\":{\"id\":\"p3762\"},\"active_scroll\":{\"id\":\"p3725\"}}},\"left\":[{\"type\":\"object\",\"name\":\"LinearAxis\",\"id\":\"p3756\",\"attributes\":{\"ticker\":{\"type\":\"object\",\"name\":\"BasicTicker\",\"id\":\"p3757\",\"attributes\":{\"mantissas\":[1,2,5]}},\"formatter\":{\"type\":\"object\",\"name\":\"BasicTickFormatter\",\"id\":\"p3758\"},\"axis_label\":\"Rate of Return\",\"major_label_policy\":{\"type\":\"object\",\"name\":\"AllLabels\",\"id\":\"p3759\"}}}],\"below\":[{\"type\":\"object\",\"name\":\"DatetimeAxis\",\"id\":\"p3739\",\"attributes\":{\"ticker\":{\"type\":\"object\",\"name\":\"DatetimeTicker\",\"id\":\"p3740\",\"attributes\":{\"num_minor_ticks\":5,\"tickers\":[{\"type\":\"object\",\"name\":\"AdaptiveTicker\",\"id\":\"p3741\",\"attributes\":{\"num_minor_ticks\":0,\"mantissas\":[1,2,5],\"max_interval\":500.0}},{\"type\":\"object\",\"name\":\"AdaptiveTicker\",\"id\":\"p3742\",\"attributes\":{\"num_minor_ticks\":0,\"base\":60,\"mantissas\":[1,2,5,10,15,20,30],\"min_interval\":1000.0,\"max_interval\":1800000.0}},{\"type\":\"object\",\"name\":\"AdaptiveTicker\",\"id\":\"p3743\",\"attributes\":{\"num_minor_ticks\":0,\"base\":24,\"mantissas\":[1,2,4,6,8,12],\"min_interval\":3600000.0,\"max_interval\":43200000.0}},{\"type\":\"object\",\"name\":\"DaysTicker\",\"id\":\"p3744\",\"attributes\":{\"days\":[1,2,3,4,5,6,7,8,9,10,11,12,13,14,15,16,17,18,19,20,21,22,23,24,25,26,27,28,29,30,31]}},{\"type\":\"object\",\"name\":\"DaysTicker\",\"id\":\"p3745\",\"attributes\":{\"days\":[1,4,7,10,13,16,19,22,25,28]}},{\"type\":\"object\",\"name\":\"DaysTicker\",\"id\":\"p3746\",\"attributes\":{\"days\":[1,8,15,22]}},{\"type\":\"object\",\"name\":\"DaysTicker\",\"id\":\"p3747\",\"attributes\":{\"days\":[1,15]}},{\"type\":\"object\",\"name\":\"MonthsTicker\",\"id\":\"p3748\",\"attributes\":{\"months\":[0,1,2,3,4,5,6,7,8,9,10,11]}},{\"type\":\"object\",\"name\":\"MonthsTicker\",\"id\":\"p3749\",\"attributes\":{\"months\":[0,2,4,6,8,10]}},{\"type\":\"object\",\"name\":\"MonthsTicker\",\"id\":\"p3750\",\"attributes\":{\"months\":[0,4,8]}},{\"type\":\"object\",\"name\":\"MonthsTicker\",\"id\":\"p3751\",\"attributes\":{\"months\":[0,6]}},{\"type\":\"object\",\"name\":\"YearsTicker\",\"id\":\"p3752\"}]}},\"formatter\":{\"type\":\"object\",\"name\":\"DatetimeTickFormatter\",\"id\":\"p3753\"},\"axis_label\":\"Date(in Qtrs.)\",\"major_label_orientation\":1.5707963267948966,\"major_label_policy\":{\"type\":\"object\",\"name\":\"AllLabels\",\"id\":\"p3754\"}}}],\"center\":[{\"type\":\"object\",\"name\":\"Grid\",\"id\":\"p3755\",\"attributes\":{\"axis\":{\"id\":\"p3739\"},\"grid_line_color\":null}},{\"type\":\"object\",\"name\":\"Grid\",\"id\":\"p3760\",\"attributes\":{\"dimension\":1,\"axis\":{\"id\":\"p3756\"},\"grid_line_color\":null}}],\"min_border_top\":10,\"min_border_bottom\":10,\"min_border_left\":10,\"min_border_right\":10,\"output_backend\":\"webgl\"}},{\"type\":\"object\",\"name\":\"Spacer\",\"id\":\"p3780\",\"attributes\":{\"name\":\"HSpacer05938\",\"stylesheets\":[\"\\n:host(.pn-loading.pn-arc):before, .pn-loading.pn-arc:before {\\n  background-image: url(\\\"data:image/svg+xml;base64,PHN2ZyB4bWxucz0iaHR0cDovL3d3dy53My5vcmcvMjAwMC9zdmciIHN0eWxlPSJtYXJnaW46IGF1dG87IGJhY2tncm91bmQ6IG5vbmU7IGRpc3BsYXk6IGJsb2NrOyBzaGFwZS1yZW5kZXJpbmc6IGF1dG87IiB2aWV3Qm94PSIwIDAgMTAwIDEwMCIgcHJlc2VydmVBc3BlY3RSYXRpbz0ieE1pZFlNaWQiPiAgPGNpcmNsZSBjeD0iNTAiIGN5PSI1MCIgZmlsbD0ibm9uZSIgc3Ryb2tlPSIjYzNjM2MzIiBzdHJva2Utd2lkdGg9IjEwIiByPSIzNSIgc3Ryb2tlLWRhc2hhcnJheT0iMTY0LjkzMzYxNDMxMzQ2NDE1IDU2Ljk3Nzg3MTQzNzgyMTM4Ij4gICAgPGFuaW1hdGVUcmFuc2Zvcm0gYXR0cmlidXRlTmFtZT0idHJhbnNmb3JtIiB0eXBlPSJyb3RhdGUiIHJlcGVhdENvdW50PSJpbmRlZmluaXRlIiBkdXI9IjFzIiB2YWx1ZXM9IjAgNTAgNTA7MzYwIDUwIDUwIiBrZXlUaW1lcz0iMDsxIj48L2FuaW1hdGVUcmFuc2Zvcm0+ICA8L2NpcmNsZT48L3N2Zz4=\\\");\\n  background-size: auto calc(min(50%, 400px));\\n}\",{\"id\":\"p3718\"},{\"id\":\"p3716\"},{\"id\":\"p3717\"}],\"margin\":0,\"sizing_mode\":\"stretch_width\",\"align\":\"start\"}}]}}],\"defs\":[{\"type\":\"model\",\"name\":\"ReactiveHTML1\"},{\"type\":\"model\",\"name\":\"FlexBox1\",\"properties\":[{\"name\":\"align_content\",\"kind\":\"Any\",\"default\":\"flex-start\"},{\"name\":\"align_items\",\"kind\":\"Any\",\"default\":\"flex-start\"},{\"name\":\"flex_direction\",\"kind\":\"Any\",\"default\":\"row\"},{\"name\":\"flex_wrap\",\"kind\":\"Any\",\"default\":\"wrap\"},{\"name\":\"justify_content\",\"kind\":\"Any\",\"default\":\"flex-start\"}]},{\"type\":\"model\",\"name\":\"FloatPanel1\",\"properties\":[{\"name\":\"config\",\"kind\":\"Any\",\"default\":{\"type\":\"map\"}},{\"name\":\"contained\",\"kind\":\"Any\",\"default\":true},{\"name\":\"position\",\"kind\":\"Any\",\"default\":\"right-top\"},{\"name\":\"offsetx\",\"kind\":\"Any\",\"default\":null},{\"name\":\"offsety\",\"kind\":\"Any\",\"default\":null},{\"name\":\"theme\",\"kind\":\"Any\",\"default\":\"primary\"},{\"name\":\"status\",\"kind\":\"Any\",\"default\":\"normalized\"}]},{\"type\":\"model\",\"name\":\"GridStack1\",\"properties\":[{\"name\":\"mode\",\"kind\":\"Any\",\"default\":\"warn\"},{\"name\":\"ncols\",\"kind\":\"Any\",\"default\":null},{\"name\":\"nrows\",\"kind\":\"Any\",\"default\":null},{\"name\":\"allow_resize\",\"kind\":\"Any\",\"default\":true},{\"name\":\"allow_drag\",\"kind\":\"Any\",\"default\":true},{\"name\":\"state\",\"kind\":\"Any\",\"default\":[]}]},{\"type\":\"model\",\"name\":\"drag1\",\"properties\":[{\"name\":\"slider_width\",\"kind\":\"Any\",\"default\":5},{\"name\":\"slider_color\",\"kind\":\"Any\",\"default\":\"black\"},{\"name\":\"value\",\"kind\":\"Any\",\"default\":50}]},{\"type\":\"model\",\"name\":\"click1\",\"properties\":[{\"name\":\"terminal_output\",\"kind\":\"Any\",\"default\":\"\"},{\"name\":\"debug_name\",\"kind\":\"Any\",\"default\":\"\"},{\"name\":\"clears\",\"kind\":\"Any\",\"default\":0}]},{\"type\":\"model\",\"name\":\"FastWrapper1\",\"properties\":[{\"name\":\"object\",\"kind\":\"Any\",\"default\":null},{\"name\":\"style\",\"kind\":\"Any\",\"default\":null}]},{\"type\":\"model\",\"name\":\"NotificationAreaBase1\",\"properties\":[{\"name\":\"js_events\",\"kind\":\"Any\",\"default\":{\"type\":\"map\"}},{\"name\":\"position\",\"kind\":\"Any\",\"default\":\"bottom-right\"},{\"name\":\"_clear\",\"kind\":\"Any\",\"default\":0}]},{\"type\":\"model\",\"name\":\"NotificationArea1\",\"properties\":[{\"name\":\"js_events\",\"kind\":\"Any\",\"default\":{\"type\":\"map\"}},{\"name\":\"notifications\",\"kind\":\"Any\",\"default\":[]},{\"name\":\"position\",\"kind\":\"Any\",\"default\":\"bottom-right\"},{\"name\":\"_clear\",\"kind\":\"Any\",\"default\":0},{\"name\":\"types\",\"kind\":\"Any\",\"default\":[{\"type\":\"map\",\"entries\":[[\"type\",\"warning\"],[\"background\",\"#ffc107\"],[\"icon\",{\"type\":\"map\",\"entries\":[[\"className\",\"fas fa-exclamation-triangle\"],[\"tagName\",\"i\"],[\"color\",\"white\"]]}]]},{\"type\":\"map\",\"entries\":[[\"type\",\"info\"],[\"background\",\"#007bff\"],[\"icon\",{\"type\":\"map\",\"entries\":[[\"className\",\"fas fa-info-circle\"],[\"tagName\",\"i\"],[\"color\",\"white\"]]}]]}]}]},{\"type\":\"model\",\"name\":\"Notification\",\"properties\":[{\"name\":\"background\",\"kind\":\"Any\",\"default\":null},{\"name\":\"duration\",\"kind\":\"Any\",\"default\":3000},{\"name\":\"icon\",\"kind\":\"Any\",\"default\":null},{\"name\":\"message\",\"kind\":\"Any\",\"default\":\"\"},{\"name\":\"notification_type\",\"kind\":\"Any\",\"default\":null},{\"name\":\"_destroyed\",\"kind\":\"Any\",\"default\":false}]},{\"type\":\"model\",\"name\":\"TemplateActions1\",\"properties\":[{\"name\":\"open_modal\",\"kind\":\"Any\",\"default\":0},{\"name\":\"close_modal\",\"kind\":\"Any\",\"default\":0}]},{\"type\":\"model\",\"name\":\"BootstrapTemplateActions1\",\"properties\":[{\"name\":\"open_modal\",\"kind\":\"Any\",\"default\":0},{\"name\":\"close_modal\",\"kind\":\"Any\",\"default\":0}]},{\"type\":\"model\",\"name\":\"MaterialTemplateActions1\",\"properties\":[{\"name\":\"open_modal\",\"kind\":\"Any\",\"default\":0},{\"name\":\"close_modal\",\"kind\":\"Any\",\"default\":0}]}]}};\n",
       "  var render_items = [{\"docid\":\"c2ac888d-7be0-4de3-9406-c73f0a3d2a94\",\"roots\":{\"p3715\":\"ceb081ab-6b28-429f-bf91-ef2d3df43805\"},\"root_ids\":[\"p3715\"]}];\n",
       "  var docs = Object.values(docs_json)\n",
       "  if (!docs) {\n",
       "    return\n",
       "  }\n",
       "  const py_version = docs[0].version.replace('rc', '-rc.').replace('.dev', '-dev.')\n",
       "  const is_dev = py_version.indexOf(\"+\") !== -1 || py_version.indexOf(\"-\") !== -1\n",
       "  function embed_document(root) {\n",
       "    var Bokeh = get_bokeh(root)\n",
       "    Bokeh.embed.embed_items_notebook(docs_json, render_items);\n",
       "    for (const render_item of render_items) {\n",
       "      for (const root_id of render_item.root_ids) {\n",
       "\tconst id_el = document.getElementById(root_id)\n",
       "\tif (id_el.children.length && (id_el.children[0].className === 'bk-root')) {\n",
       "\t  const root_el = id_el.children[0]\n",
       "\t  root_el.id = root_el.id + '-rendered'\n",
       "\t}\n",
       "      }\n",
       "    }\n",
       "  }\n",
       "  function get_bokeh(root) {\n",
       "    if (root.Bokeh === undefined) {\n",
       "      return null\n",
       "    } else if (root.Bokeh.version !== py_version && !is_dev) {\n",
       "      if (root.Bokeh.versions === undefined || !root.Bokeh.versions.has(py_version)) {\n",
       "\treturn null\n",
       "      }\n",
       "      return root.Bokeh.versions.get(py_version);\n",
       "    } else if (root.Bokeh.version === py_version) {\n",
       "      return root.Bokeh\n",
       "    }\n",
       "    return null\n",
       "  }\n",
       "  function is_loaded(root) {\n",
       "    var Bokeh = get_bokeh(root)\n",
       "    return (Bokeh != null && Bokeh.Panel !== undefined)\n",
       "  }\n",
       "  if (is_loaded(root)) {\n",
       "    embed_document(root);\n",
       "  } else {\n",
       "    var attempts = 0;\n",
       "    var timer = setInterval(function(root) {\n",
       "      if (is_loaded(root)) {\n",
       "        clearInterval(timer);\n",
       "        embed_document(root);\n",
       "      } else if (document.readyState == \"complete\") {\n",
       "        attempts++;\n",
       "        if (attempts > 200) {\n",
       "          clearInterval(timer);\n",
       "\t  var Bokeh = get_bokeh(root)\n",
       "\t  if (Bokeh == null || Bokeh.Panel == null) {\n",
       "            console.warn(\"Panel: ERROR: Unable to run Panel code because Bokeh or Panel library is missing\");\n",
       "\t  } else {\n",
       "\t    console.warn(\"Panel: WARNING: Attempting to render but not all required libraries could be resolved.\")\n",
       "\t    embed_document(root)\n",
       "\t  }\n",
       "        }\n",
       "      }\n",
       "    }, 25, root)\n",
       "  }\n",
       "})(window);</script>"
      ],
      "text/plain": [
       ":Curve   [date]   (HPI pct_change)"
      ]
     },
     "execution_count": 76,
     "metadata": {
      "application/vnd.holoviews_exec.v0+json": {
       "id": "p3715"
      }
     },
     "output_type": "execute_result"
    }
   ],
   "source": [
    "#  Save a Plot in variable containing the Returns and plot ## HPI is a quarterly report\n",
    "\n",
    "hpi_plot = hpi_returns.hvplot(\n",
    "    title='Quarterly Returns of the Housing Price Index',\n",
    "    rot=90,\n",
    "    label='Quarterly Returns of the Housing Price Index',\n",
    "    ylabel='Rate of Return',\n",
    "    xlabel='Date(in Qtrs.)'\n",
    "\n",
    ")\n",
    "\n",
    "hpi_plot"
   ]
  },
  {
   "cell_type": "code",
   "execution_count": 77,
   "metadata": {},
   "outputs": [],
   "source": [
    "# Slice the HPI returns data to start from 1985 for comparison, since yfinace library only lets us pull SP500 data fromn 1985\n",
    "hpi_1985_returns = hpi_returns.iloc[40:]\n",
    "\n"
   ]
  },
  {
   "cell_type": "code",
   "execution_count": 78,
   "metadata": {},
   "outputs": [],
   "source": [
    "# Save a Plot in variable containing the Returns\n",
    "\n",
    "hpi_1985_plot = hpi_1985_returns.hvplot(\n",
    "    title='Quarterly Returns of the Housing Price Index',\n",
    "    rot=90,\n",
    "    label='Quarterly Returns of the Housing Price Index',\n",
    "    ylabel='Rate of Return',\n",
    "    xlabel='Date(in Qtrs.)'\n",
    "\n",
    ")"
   ]
  },
  {
   "cell_type": "code",
   "execution_count": 79,
   "metadata": {},
   "outputs": [
    {
     "data": {},
     "metadata": {},
     "output_type": "display_data"
    },
    {
     "data": {
      "application/vnd.holoviews_exec.v0+json": "",
      "text/html": [
       "<div id='p3787'>\n",
       "  <div id=\"e659a0f1-0066-48c7-b80b-a8e6697791f5\" data-root-id=\"p3787\" style=\"display: contents;\"></div>\n",
       "</div>\n",
       "<script type=\"application/javascript\">(function(root) {\n",
       "  var docs_json = {\"8d914703-aeaa-44d0-ba52-e9e1146d284d\":{\"version\":\"3.2.2\",\"title\":\"Bokeh Application\",\"roots\":[{\"type\":\"object\",\"name\":\"Row\",\"id\":\"p3787\",\"attributes\":{\"name\":\"Row06089\",\"tags\":[\"embedded\"],\"stylesheets\":[\"\\n:host(.pn-loading.pn-arc):before, .pn-loading.pn-arc:before {\\n  background-image: url(\\\"data:image/svg+xml;base64,PHN2ZyB4bWxucz0iaHR0cDovL3d3dy53My5vcmcvMjAwMC9zdmciIHN0eWxlPSJtYXJnaW46IGF1dG87IGJhY2tncm91bmQ6IG5vbmU7IGRpc3BsYXk6IGJsb2NrOyBzaGFwZS1yZW5kZXJpbmc6IGF1dG87IiB2aWV3Qm94PSIwIDAgMTAwIDEwMCIgcHJlc2VydmVBc3BlY3RSYXRpbz0ieE1pZFlNaWQiPiAgPGNpcmNsZSBjeD0iNTAiIGN5PSI1MCIgZmlsbD0ibm9uZSIgc3Ryb2tlPSIjYzNjM2MzIiBzdHJva2Utd2lkdGg9IjEwIiByPSIzNSIgc3Ryb2tlLWRhc2hhcnJheT0iMTY0LjkzMzYxNDMxMzQ2NDE1IDU2Ljk3Nzg3MTQzNzgyMTM4Ij4gICAgPGFuaW1hdGVUcmFuc2Zvcm0gYXR0cmlidXRlTmFtZT0idHJhbnNmb3JtIiB0eXBlPSJyb3RhdGUiIHJlcGVhdENvdW50PSJpbmRlZmluaXRlIiBkdXI9IjFzIiB2YWx1ZXM9IjAgNTAgNTA7MzYwIDUwIDUwIiBrZXlUaW1lcz0iMDsxIj48L2FuaW1hdGVUcmFuc2Zvcm0+ICA8L2NpcmNsZT48L3N2Zz4=\\\");\\n  background-size: auto calc(min(50%, 400px));\\n}\",{\"type\":\"object\",\"name\":\"ImportedStyleSheet\",\"id\":\"p3790\",\"attributes\":{\"url\":\"https://cdn.holoviz.org/panel/1.2.3/dist/css/loading.css\"}},{\"type\":\"object\",\"name\":\"ImportedStyleSheet\",\"id\":\"p3873\",\"attributes\":{\"url\":\"https://cdn.holoviz.org/panel/1.2.3/dist/css/listpanel.css\"}},{\"type\":\"object\",\"name\":\"ImportedStyleSheet\",\"id\":\"p3788\",\"attributes\":{\"url\":\"https://cdn.holoviz.org/panel/1.2.3/dist/bundled/theme/default.css\"}},{\"type\":\"object\",\"name\":\"ImportedStyleSheet\",\"id\":\"p3789\",\"attributes\":{\"url\":\"https://cdn.holoviz.org/panel/1.2.3/dist/bundled/theme/native.css\"}}],\"min_width\":1000,\"margin\":0,\"sizing_mode\":\"stretch_width\",\"align\":\"start\",\"children\":[{\"type\":\"object\",\"name\":\"Spacer\",\"id\":\"p3791\",\"attributes\":{\"name\":\"HSpacer06100\",\"stylesheets\":[\"\\n:host(.pn-loading.pn-arc):before, .pn-loading.pn-arc:before {\\n  background-image: url(\\\"data:image/svg+xml;base64,PHN2ZyB4bWxucz0iaHR0cDovL3d3dy53My5vcmcvMjAwMC9zdmciIHN0eWxlPSJtYXJnaW46IGF1dG87IGJhY2tncm91bmQ6IG5vbmU7IGRpc3BsYXk6IGJsb2NrOyBzaGFwZS1yZW5kZXJpbmc6IGF1dG87IiB2aWV3Qm94PSIwIDAgMTAwIDEwMCIgcHJlc2VydmVBc3BlY3RSYXRpbz0ieE1pZFlNaWQiPiAgPGNpcmNsZSBjeD0iNTAiIGN5PSI1MCIgZmlsbD0ibm9uZSIgc3Ryb2tlPSIjYzNjM2MzIiBzdHJva2Utd2lkdGg9IjEwIiByPSIzNSIgc3Ryb2tlLWRhc2hhcnJheT0iMTY0LjkzMzYxNDMxMzQ2NDE1IDU2Ljk3Nzg3MTQzNzgyMTM4Ij4gICAgPGFuaW1hdGVUcmFuc2Zvcm0gYXR0cmlidXRlTmFtZT0idHJhbnNmb3JtIiB0eXBlPSJyb3RhdGUiIHJlcGVhdENvdW50PSJpbmRlZmluaXRlIiBkdXI9IjFzIiB2YWx1ZXM9IjAgNTAgNTA7MzYwIDUwIDUwIiBrZXlUaW1lcz0iMDsxIj48L2FuaW1hdGVUcmFuc2Zvcm0+ICA8L2NpcmNsZT48L3N2Zz4=\\\");\\n  background-size: auto calc(min(50%, 400px));\\n}\",{\"id\":\"p3790\"},{\"id\":\"p3788\"},{\"id\":\"p3789\"}],\"margin\":0,\"sizing_mode\":\"stretch_width\",\"align\":\"start\"}},{\"type\":\"object\",\"name\":\"Figure\",\"id\":\"p3802\",\"attributes\":{\"width\":1000,\"height\":500,\"margin\":[5,10],\"sizing_mode\":\"fixed\",\"align\":\"start\",\"x_range\":{\"type\":\"object\",\"name\":\"Range1d\",\"id\":\"p3792\",\"attributes\":{\"tags\":[[[\"Date\",\"Date\",null]],[]],\"start\":481161600000.0,\"end\":1688169600000.0,\"reset_start\":481161600000.0,\"reset_end\":1688169600000.0}},\"y_range\":{\"type\":\"object\",\"name\":\"Range1d\",\"id\":\"p3793\",\"attributes\":{\"tags\":[[[\"Close\",\"Close\",null]],{\"type\":\"map\",\"entries\":[[\"invert_yaxis\",false],[\"autorange\",false]]}],\"start\":-0.27635903683347496,\"end\":0.2527640765160921,\"reset_start\":-0.27635903683347496,\"reset_end\":0.2527640765160921}},\"x_scale\":{\"type\":\"object\",\"name\":\"LinearScale\",\"id\":\"p3812\"},\"y_scale\":{\"type\":\"object\",\"name\":\"LinearScale\",\"id\":\"p3813\"},\"title\":{\"type\":\"object\",\"name\":\"Title\",\"id\":\"p3805\",\"attributes\":{\"text\":\"Comparative view at Quartlely Returns of the HPI with Monthly Returns of the S&P500\",\"text_color\":\"black\",\"text_font_size\":\"12pt\"}},\"renderers\":[{\"type\":\"object\",\"name\":\"GlyphRenderer\",\"id\":\"p3850\",\"attributes\":{\"name\":\"Quarterly Returns of the S&P 500 Index\",\"data_source\":{\"type\":\"object\",\"name\":\"ColumnDataSource\",\"id\":\"p3841\",\"attributes\":{\"selected\":{\"type\":\"object\",\"name\":\"Selection\",\"id\":\"p3842\",\"attributes\":{\"indices\":[],\"line_indices\":[]}},\"selection_policy\":{\"type\":\"object\",\"name\":\"UnionRenderers\",\"id\":\"p3843\"},\"data\":{\"type\":\"map\",\"entries\":[[\"Date\",{\"type\":\"ndarray\",\"array\":{\"type\":\"bytes\",\"data\":\"AAAA190BXEIAAACEBndcQgAAAMh47VxCAAAADOtjXUIAAAAiytddQgAAAM/yTF5CAAAAE2XDXkIAAABX1zlfQgAAAG22rV9CAAAAjW8RYEIAAACvqExgQgAAANHhh2BCAACAJ3bCYEIAAAB+Cv1gQgAAAKBDOGFCAAAAwnxzYUIAAABNbK1hQgAAgKMA6GFCAACAxTkjYkIAAIDncl5iQgAAgHJimGJCAAAAyfbSYkIAAADrLw5jQgAAAA1pSWNCAAAAmFiDY0IAAIDu7L1jQgAAgBAm+WNCAACAMl80ZEIAAACJ825kQgAAgN+HqWRCAACAAcHkZEIAAIAj+h9lQgAAgK7pWWVCAAAABX6UZUIAAAAnt89lQgAAAEnwCmZCAAAA1N9EZkIAAIAqdH9mQgAAgEytumZCAACAbub1ZkIAAID51S9nQgAAAFBqamdCAAAAcqOlZ0IAAACU3OBnQgAAgOpwG2hCAAAAQQVWaEIAAABjPpFoQgAAAIV3zGhCAAAAEGcGaUIAAIBm+0BpQgAAgIg0fGlCAACAqm23aUIAAIA1XfFpQgAAAIzxK2pCAAAAripnakIAAADQY6JqQgAAAFtT3GpCAACAsecWa0IAAIDTIFJrQgAAgPVZjWtCAAAATO7Ha0IAAICiggJsQgAAgMS7PWxCAACA5vR4bEIAAIBx5LJsQgAAAMh47WxCAAAA6rEobUIAAAAM62NtQgAAAJfanW1CAACA7W7YbUIAAIAPqBNuQgAAgDHhTm5CAACAvNCIbkIAAAATZcNuQgAAADWe/m5CAAAAV9c5b0IAAICta3RvQgAAAAQAr29CAAAAJjnqb0IAAAAkuRJwQgAAgOmwL3BCAADAFPtMcEIAAMCll2pwQgAAwDY0iHBCAABA/CulcEIAAIAndsJwQgAAgLgS4HBCAACASa/9cEIAAAAPpxpxQgAAQDrxN3FCAABAy41VcUIAAEBcKnNxQgAAgId0kHFCAADAsr6tcUIAAMBDW8txQgAAwNT36HFCAABAmu8FckIAAIDFOSNyQgAAgFbWQHJCAACA53JeckIAAACtantyQgAAQNi0mHJCAABAaVG2ckIAAED67dNyQgAAwL/l8HJCAAAA6y8Oc0IAAAB8zCtzQgAAAA1pSXNCAABAOLNmc0IAAIBj/YNzQgAAgPSZoXNCAACAhTa/c0IAAABLLtxzQgAAQHZ4+XNCAABABxUXdEIAAECYsTR0QgAAwF2pUXRCAAAAifNudEIAAAAakIx0QgAAAKssqnRCAACAcCTHdEIAAMCbbuR0QgAAwCwLAnVCAADAvacfdUIAAADp8Tx1QgAAQBQ8WnVCAABApdh3dUIAAEA2dZV1QgAAwPtssnVCAAAAJ7fPdUIAAAC4U+11QgAAAEnwCnZCAACADugndkIAAMA5MkV2QgAAwMrOYnZCAADAW2uAdkIAAEAhY512QgAAgEytunZCAACA3UnYdkIAAIBu5vV2QgAAwJkwE3dCAAAAxXowd0IAAABWF053QgAAAOeza3dCAACArKuId0IAAMDX9aV3QgAAwGiSw3dCAADA+S7hd0IAAEC/Jv53QgAAgOpwG3hCAACAew05eEIAAIAMqlZ4QgAAANKhc3hCAABA/euQeEI=\"},\"shape\":[154],\"dtype\":\"float64\",\"order\":\"little\"}],[\"Close\",{\"type\":\"ndarray\",\"array\":{\"type\":\"bytes\",\"data\":\"AA0b/4q2rz9QXXrr3hKqv0iU4Rj5hsQ/+AcnWam7wD+goWK325apP3g5BpHp67O/QM5r4uMDqD+wnb7P5i3KP8AkNCvblqU/wIbyGooHrj9gJxrD37rNv+BqXP8Feag/QFkQHc/krD8ASyCJ6c93v4DilupS4ZU/oEPM4BCerz9QN0loShC0PxCMojEqGLk/gKI4atrtiD/AYCwCKICjv6C/fNwrO6s/VG1bHJaUwr9gl6ULpTe0P8jzd/5iccE/gGpouPUohr+AwWXhdAmnPzB9rivxSrM/cKa9yf5yoL+AIxGrZ5OGPwDgPox/PJg/IO7vnbfypT8A480lKMGiPwAV7qA1rWS/AN5HOZgXkz/AwRnGfMeQPzAniwARs6a/AHpTVdeQa7/AZMA+UEClP4BuirOac36/ULYzzlIZtz/whOAVOoS2P2AN2kBIo7I/oAGUsFadqz+g+YsnmZSoP2C2OObF7qM/QGsRUOd/mT9w1Q3WkeSzP4Bca0HMpJY/mEHYNa6kxT9AuMXx3PixP8BS9RReBpk/YCIttzZSwT+ADS/aTNOdP1i838/GYLq/SDel47a1yj+gZGaLzcynP7AXij23LrE/iAhQCsnIsL9Q0WwGVp3CP4BofR0PcZQ/ACQ6iFcNnr8ASbliP3iJv/iS1GKbtrS/uFk4LpgDv78Ag9zhJ0OsP/S4OuVkLcO/oNnicV9Zuj8AbGB0J7FDv+gSHsP/k8G/OE2CwiWSxr/gawcIBkS0P6AmZriZaaK/KHsd8CgQwz/A04/Nf4+WP9B6Htemzb0/gHsMX+xRij8A4shXwJqKPyAqh/kQkpe/wOxdx3tbtj8A/RLW13iavwCYCj2FoYI/4L97tp4boD8AM0/1sTuQP8BWdfzzGqM/wPx1cmeCk79gjqzybXaqP4AWcAfnma8/APy7BXCSXT+gGPnskLmtP4CNfAut4I8/gKJUZ82Uo79AcGA+HWW5v+BvFilSh6C/aGZmZl66tr984wIs4N/Mv7DVmG/t3b2/sKP+a997wz9IMw+ARy7DPyDr5GQoGqw/ACCOXRzyqD+QZCNbAl6+v8B4LxZTcbs/IOdzz9Ueuj/gam/5y8KrPwDbTI2iCHC/1LRpTfdWwr+A7AH5zYy8P+C4DZYhtr4/wCPHeZjVoL/gp/TjhIKtP0CnaquXlYS/sPLAnxuruT9AadipJzSYP4CUcjID/qc/ADhDii1luT8AK5kv7pGKP2CLX6GvCKg/AF9oCTozeT/gaV6Gz3umPwBEANeB4nE/ACEwKWzvYr/gbciDB8GxvwDTNGZkhbA/AAH7srGpfz+ASBuR1XKTPyBwwsqW7qA/AISyqVupoD+AMxXlHVWsP0CmSPyNTZo/wJdDYYpFpD9AvHgZ/1ivP0BvmCE6FIm/wB2cyPoMnj9QfSZ332uyPyRb7H034sG/wOJxfIe5wD/AJ7N6r2SjPwDLWL84Wog/wOPvEPTYtT9sQ2S28ZnJvzis2TYoisk/0LYxp1axtT9g+Ese5uu9PyAaW6gnjq0/ULlCIrTqtD8A6PVAeSNjP/DoC93dQbs/wCsz1sZTqb+ESzKXugzFvwC5hBXaBKu/8C/IA0cgsj9ALDClW/2xP7DpawtxP7U/sA5mi+ysor8=\"},\"shape\":[154],\"dtype\":\"float64\",\"order\":\"little\"}]]}}},\"view\":{\"type\":\"object\",\"name\":\"CDSView\",\"id\":\"p3851\",\"attributes\":{\"filter\":{\"type\":\"object\",\"name\":\"AllIndices\",\"id\":\"p3852\"}}},\"glyph\":{\"type\":\"object\",\"name\":\"Line\",\"id\":\"p3847\",\"attributes\":{\"tags\":[\"apply_ranges\"],\"x\":{\"type\":\"field\",\"field\":\"Date\"},\"y\":{\"type\":\"field\",\"field\":\"Close\"},\"line_color\":\"#30a2da\",\"line_width\":2}},\"selection_glyph\":{\"type\":\"object\",\"name\":\"Line\",\"id\":\"p3855\",\"attributes\":{\"tags\":[\"apply_ranges\"],\"x\":{\"type\":\"field\",\"field\":\"Date\"},\"y\":{\"type\":\"field\",\"field\":\"Close\"},\"line_color\":\"#30a2da\",\"line_width\":2}},\"nonselection_glyph\":{\"type\":\"object\",\"name\":\"Line\",\"id\":\"p3848\",\"attributes\":{\"tags\":[\"apply_ranges\"],\"x\":{\"type\":\"field\",\"field\":\"Date\"},\"y\":{\"type\":\"field\",\"field\":\"Close\"},\"line_color\":\"#30a2da\",\"line_alpha\":0.1,\"line_width\":2}},\"muted_glyph\":{\"type\":\"object\",\"name\":\"Line\",\"id\":\"p3849\",\"attributes\":{\"tags\":[\"apply_ranges\"],\"x\":{\"type\":\"field\",\"field\":\"Date\"},\"y\":{\"type\":\"field\",\"field\":\"Close\"},\"line_color\":\"#30a2da\",\"line_alpha\":0.2,\"line_width\":2}}}},{\"type\":\"object\",\"name\":\"GlyphRenderer\",\"id\":\"p3865\",\"attributes\":{\"name\":\"Quarterly Returns of the Housing Price Index\",\"data_source\":{\"type\":\"object\",\"name\":\"ColumnDataSource\",\"id\":\"p3856\",\"attributes\":{\"selected\":{\"type\":\"object\",\"name\":\"Selection\",\"id\":\"p3857\",\"attributes\":{\"indices\":[],\"line_indices\":[]}},\"selection_policy\":{\"type\":\"object\",\"name\":\"UnionRenderers\",\"id\":\"p3858\"},\"data\":{\"type\":\"map\",\"entries\":[[\"date\",{\"type\":\"ndarray\",\"array\":{\"type\":\"bytes\",\"data\":\"AAAA190BXEIAAACEBndcQgAAAMh47VxCAAAADOtjXUIAAAAiytddQgAAAM/yTF5CAAAAE2XDXkIAAABX1zlfQgAAAG22rV9CAAAAjW8RYEIAAACvqExgQgAAANHhh2BCAACAJ3bCYEIAAAB+Cv1gQgAAAKBDOGFCAAAAwnxzYUIAAABNbK1hQgAAgKMA6GFCAACAxTkjYkIAAIDncl5iQgAAgHJimGJCAAAAyfbSYkIAAADrLw5jQgAAAA1pSWNCAAAAmFiDY0IAAIDu7L1jQgAAgBAm+WNCAACAMl80ZEIAAACJ825kQgAAgN+HqWRCAACAAcHkZEIAAIAj+h9lQgAAgK7pWWVCAAAABX6UZUIAAAAnt89lQgAAAEnwCmZCAAAA1N9EZkIAAIAqdH9mQgAAgEytumZCAACAbub1ZkIAAID51S9nQgAAAFBqamdCAAAAcqOlZ0IAAACU3OBnQgAAgOpwG2hCAAAAQQVWaEIAAABjPpFoQgAAAIV3zGhCAAAAEGcGaUIAAIBm+0BpQgAAgIg0fGlCAACAqm23aUIAAIA1XfFpQgAAAIzxK2pCAAAAripnakIAAADQY6JqQgAAAFtT3GpCAACAsecWa0IAAIDTIFJrQgAAgPVZjWtCAAAATO7Ha0IAAICiggJsQgAAgMS7PWxCAACA5vR4bEIAAIBx5LJsQgAAAMh47WxCAAAA6rEobUIAAAAM62NtQgAAAJfanW1CAACA7W7YbUIAAIAPqBNuQgAAgDHhTm5CAACAvNCIbkIAAAATZcNuQgAAADWe/m5CAAAAV9c5b0IAAICta3RvQgAAAAQAr29CAAAAJjnqb0IAAAAkuRJwQgAAgOmwL3BCAADAFPtMcEIAAMCll2pwQgAAwDY0iHBCAABA/CulcEIAAIAndsJwQgAAgLgS4HBCAACASa/9cEIAAAAPpxpxQgAAQDrxN3FCAABAy41VcUIAAEBcKnNxQgAAgId0kHFCAADAsr6tcUIAAMBDW8txQgAAwNT36HFCAABAmu8FckIAAIDFOSNyQgAAgFbWQHJCAACA53JeckIAAACtantyQgAAQNi0mHJCAABAaVG2ckIAAED67dNyQgAAwL/l8HJCAAAA6y8Oc0IAAAB8zCtzQgAAAA1pSXNCAABAOLNmc0IAAIBj/YNzQgAAgPSZoXNCAACAhTa/c0IAAABLLtxzQgAAQHZ4+XNCAABABxUXdEIAAECYsTR0QgAAwF2pUXRCAAAAifNudEIAAAAakIx0QgAAAKssqnRCAACAcCTHdEIAAMCbbuR0QgAAwCwLAnVCAADAvacfdUIAAADp8Tx1QgAAQBQ8WnVCAABApdh3dUIAAEA2dZV1QgAAwPtssnVCAAAAJ7fPdUIAAAC4U+11QgAAAEnwCnZCAACADugndkIAAMA5MkV2QgAAwMrOYnZCAADAW2uAdkIAAEAhY512QgAAgEytunZCAACA3UnYdkIAAIBu5vV2QgAAwJkwE3dCAAAAxXowd0IAAABWF053QgAAAOeza3dCAACArKuId0IAAMDX9aV3QgAAwGiSw3dCAADA+S7hd0IAAEC/Jv53QgAAgOpwG3hCAACAew05eEIAAIAMqlZ4QgAAANKhc3hC\"},\"shape\":[153],\"dtype\":\"float64\",\"order\":\"little\"}],[\"HPI pct_change\",{\"type\":\"ndarray\",\"array\":{\"type\":\"bytes\",\"data\":\"AAT1YVfSjj+ApaLhe9GPP4DsEmhBvoY/wIHp0QX6kz+AfKosInKVPwA42nI8SI8/ACMhtUeOjz/ATV30eE2UP4BUZG4A6Y8/AAF62N6ihz8AiCvDrZV6P4CV/8FT+Y8/wKilz6x2lD+AAeIraFaFP4C6EroSuoI/AH2BuVTShz+AaoHLMTuMPwBmGAnf0JU/AD/ba4f2gD8AgMIl5C13PwDn0V/KGXE/AMHF78preT8A5dh0DuNvv4CJJGEc3oA/AEe/L5haez8AartoJwNgP4BKV0Z+kow/AB6onN3Cfz8AAO2Z+1QuvwCTMLHHWIc/AGtdeXtjdD8AaLw1LcpAP4DAgqj4k4M/ACT07EufgD8AFi6qqbeAPwBosZULq3k/AJBICS5heD8AsMQYgtRwPwAMaVxn0Uq/ANqsW9J4dT+A0FSlt9qQP4D4YO5qhY8/AGh/jnp5fz+A7nDtff+GPwDM4zRgFFs/ABKgIgEqcj8A6/bEU/Z/P4Dd+9JDAYE/gEezpWrdgD8AJ7i8aM+LPwCh0ZOYuoo/AAGmApmujj8A51DtkVCCP4BHI1RHsYw/AEkTo1MoiD8AZlTvcH+FP4AiHSuUTIs/ACEZ2p8TjT+AnsWMLxGFPwCsmnDwoJM/wNPMqgCukD/ACNcf+qSSPwAe8NnJYI8/gIT2H9NbmT8AXVwL/CSRP4BbhPUjxo8/gGUWie9diT8AOlVlaGeNPwDrYxt6dJE/gGbybcRNlD+AFtzDHhONPwDCEuq/9og/gJaP/3YHiT+AgFSv9IWPPwCqunL/+pw/AILbflgikD/AYOvhGPyYPyDt3reYf6M/QB91uJ/slT8AY92jH3mXP2CeMmi6ZaA/gCTsjh4nnz9ABNKoSiqXP8BauULBP5A/gMCxdGX+hD8AilJRjtKAPwAaA49G8IQ/AHAcPzpxbj8API8BpoJFv8CeIq/h0Ia/AG2vwUKOar+AGsJ95AZ+v2DfvydP2Zm/kOb1214foL/Ah55y7O6CvwBowc1VdX4/wFH0MCrZmr9g+X+/aLuav4BBg+KsQ3+/QBQwOlJviL8AxsToLJSCvwBX/Y/O84M/AKz7lEkbfb+AeUMBL26cv6CTt6IQAJK/AA3LESyPfj8AnEpFDcdyP8Ar9AjTb4W/gDogVurBcr8AB8lhMWeLPwBTxc6w838/AFCUw6+HdD+Ac0FcJzmPP4Ajj/Ace40/gFk5AQxigD8ASAjVLeCAP4CQRPlX25M/gMXQ1SywjT+AN5eYUpqAPwDycD7oc4Y/wCepD+6ckD8A0xhN0h6NPwDMNyGGi4A/gEzcWk/zgj9ArAot0iOTP4BjJ1B7PZI/AGdUuPABgD8ASnygr6B9P8BTDR689pY/gEGClqaFjz+As/KX/hSBPwDlGqM1wow/wPt7KsXhkj8AZnghlf+IPwBsyEtRJGw/ANzrkSHfhj9A+DmaRQyRP4AtfOALG4o/AJ1flcFAgj+AK75FPbWHP4BsjjkuhoQ/APIftC/jkT9ApDFjQIqWP0DPU5cOrZg/gHl9xwh0rD+AFX5F/o6sP8CyBDJ0s6E/YFnwqaTjoj8g/oJp6TmxPwBjp8DQbJE/gAkLKkagf78Atz+o3ERyP4BhyL2dQZ8/\"},\"shape\":[153],\"dtype\":\"float64\",\"order\":\"little\"}],[\"HPI_pct_change\",{\"type\":\"ndarray\",\"array\":{\"type\":\"bytes\",\"data\":\"AAT1YVfSjj+ApaLhe9GPP4DsEmhBvoY/wIHp0QX6kz+AfKosInKVPwA42nI8SI8/ACMhtUeOjz/ATV30eE2UP4BUZG4A6Y8/AAF62N6ihz8AiCvDrZV6P4CV/8FT+Y8/wKilz6x2lD+AAeIraFaFP4C6EroSuoI/AH2BuVTShz+AaoHLMTuMPwBmGAnf0JU/AD/ba4f2gD8AgMIl5C13PwDn0V/KGXE/AMHF78preT8A5dh0DuNvv4CJJGEc3oA/AEe/L5haez8AartoJwNgP4BKV0Z+kow/AB6onN3Cfz8AAO2Z+1QuvwCTMLHHWIc/AGtdeXtjdD8AaLw1LcpAP4DAgqj4k4M/ACT07EufgD8AFi6qqbeAPwBosZULq3k/AJBICS5heD8AsMQYgtRwPwAMaVxn0Uq/ANqsW9J4dT+A0FSlt9qQP4D4YO5qhY8/AGh/jnp5fz+A7nDtff+GPwDM4zRgFFs/ABKgIgEqcj8A6/bEU/Z/P4Dd+9JDAYE/gEezpWrdgD8AJ7i8aM+LPwCh0ZOYuoo/AAGmApmujj8A51DtkVCCP4BHI1RHsYw/AEkTo1MoiD8AZlTvcH+FP4AiHSuUTIs/ACEZ2p8TjT+AnsWMLxGFPwCsmnDwoJM/wNPMqgCukD/ACNcf+qSSPwAe8NnJYI8/gIT2H9NbmT8AXVwL/CSRP4BbhPUjxo8/gGUWie9diT8AOlVlaGeNPwDrYxt6dJE/gGbybcRNlD+AFtzDHhONPwDCEuq/9og/gJaP/3YHiT+AgFSv9IWPPwCqunL/+pw/AILbflgikD/AYOvhGPyYPyDt3reYf6M/QB91uJ/slT8AY92jH3mXP2CeMmi6ZaA/gCTsjh4nnz9ABNKoSiqXP8BauULBP5A/gMCxdGX+hD8AilJRjtKAPwAaA49G8IQ/AHAcPzpxbj8API8BpoJFv8CeIq/h0Ia/AG2vwUKOar+AGsJ95AZ+v2DfvydP2Zm/kOb1214foL/Ah55y7O6CvwBowc1VdX4/wFH0MCrZmr9g+X+/aLuav4BBg+KsQ3+/QBQwOlJviL8AxsToLJSCvwBX/Y/O84M/AKz7lEkbfb+AeUMBL26cv6CTt6IQAJK/AA3LESyPfj8AnEpFDcdyP8Ar9AjTb4W/gDogVurBcr8AB8lhMWeLPwBTxc6w838/AFCUw6+HdD+Ac0FcJzmPP4Ajj/Ace40/gFk5AQxigD8ASAjVLeCAP4CQRPlX25M/gMXQ1SywjT+AN5eYUpqAPwDycD7oc4Y/wCepD+6ckD8A0xhN0h6NPwDMNyGGi4A/gEzcWk/zgj9ArAot0iOTP4BjJ1B7PZI/AGdUuPABgD8ASnygr6B9P8BTDR689pY/gEGClqaFjz+As/KX/hSBPwDlGqM1wow/wPt7KsXhkj8AZnghlf+IPwBsyEtRJGw/ANzrkSHfhj9A+DmaRQyRP4AtfOALG4o/AJ1flcFAgj+AK75FPbWHP4BsjjkuhoQ/APIftC/jkT9ApDFjQIqWP0DPU5cOrZg/gHl9xwh0rD+AFX5F/o6sP8CyBDJ0s6E/YFnwqaTjoj8g/oJp6TmxPwBjp8DQbJE/gAkLKkagf78Atz+o3ERyP4BhyL2dQZ8/\"},\"shape\":[153],\"dtype\":\"float64\",\"order\":\"little\"}]]}}},\"view\":{\"type\":\"object\",\"name\":\"CDSView\",\"id\":\"p3866\",\"attributes\":{\"filter\":{\"type\":\"object\",\"name\":\"AllIndices\",\"id\":\"p3867\"}}},\"glyph\":{\"type\":\"object\",\"name\":\"Line\",\"id\":\"p3862\",\"attributes\":{\"tags\":[\"apply_ranges\"],\"x\":{\"type\":\"field\",\"field\":\"date\"},\"y\":{\"type\":\"field\",\"field\":\"HPI pct_change\"},\"line_color\":\"#fc4f30\",\"line_width\":2}},\"selection_glyph\":{\"type\":\"object\",\"name\":\"Line\",\"id\":\"p3869\",\"attributes\":{\"tags\":[\"apply_ranges\"],\"x\":{\"type\":\"field\",\"field\":\"date\"},\"y\":{\"type\":\"field\",\"field\":\"HPI pct_change\"},\"line_color\":\"#fc4f30\",\"line_width\":2}},\"nonselection_glyph\":{\"type\":\"object\",\"name\":\"Line\",\"id\":\"p3863\",\"attributes\":{\"tags\":[\"apply_ranges\"],\"x\":{\"type\":\"field\",\"field\":\"date\"},\"y\":{\"type\":\"field\",\"field\":\"HPI pct_change\"},\"line_color\":\"#fc4f30\",\"line_alpha\":0.1,\"line_width\":2}},\"muted_glyph\":{\"type\":\"object\",\"name\":\"Line\",\"id\":\"p3864\",\"attributes\":{\"tags\":[\"apply_ranges\"],\"x\":{\"type\":\"field\",\"field\":\"date\"},\"y\":{\"type\":\"field\",\"field\":\"HPI pct_change\"},\"line_color\":\"#fc4f30\",\"line_alpha\":0.2,\"line_width\":2}}}}],\"toolbar\":{\"type\":\"object\",\"name\":\"Toolbar\",\"id\":\"p3811\",\"attributes\":{\"tools\":[{\"type\":\"object\",\"name\":\"WheelZoomTool\",\"id\":\"p3797\",\"attributes\":{\"tags\":[\"hv_created\"],\"zoom_together\":\"none\"}},{\"type\":\"object\",\"name\":\"HoverTool\",\"id\":\"p3798\",\"attributes\":{\"tags\":[\"hv_created\"],\"renderers\":[{\"id\":\"p3850\"}],\"tooltips\":[[\"Date\",\"@{Date}{%F %T}\"],[\"Close\",\"@{Close}\"]],\"formatters\":{\"type\":\"map\",\"entries\":[[\"@{Date}\",\"datetime\"]]}}},{\"type\":\"object\",\"name\":\"HoverTool\",\"id\":\"p3801\",\"attributes\":{\"tags\":[\"hv_created\"],\"renderers\":[{\"id\":\"p3865\"}],\"tooltips\":[[\"date\",\"@{date}{%F %T}\"],[\"HPI pct_change\",\"@{HPI_pct_change}\"]],\"formatters\":{\"type\":\"map\",\"entries\":[[\"@{date}\",\"datetime\"]]}}},{\"type\":\"object\",\"name\":\"SaveTool\",\"id\":\"p3836\"},{\"type\":\"object\",\"name\":\"PanTool\",\"id\":\"p3837\"},{\"type\":\"object\",\"name\":\"BoxZoomTool\",\"id\":\"p3838\",\"attributes\":{\"overlay\":{\"type\":\"object\",\"name\":\"BoxAnnotation\",\"id\":\"p3839\",\"attributes\":{\"syncable\":false,\"level\":\"overlay\",\"visible\":false,\"left_units\":\"canvas\",\"right_units\":\"canvas\",\"bottom_units\":\"canvas\",\"top_units\":\"canvas\",\"line_color\":\"black\",\"line_alpha\":1.0,\"line_width\":2,\"line_dash\":[4,4],\"fill_color\":\"lightgrey\",\"fill_alpha\":0.5}}}},{\"type\":\"object\",\"name\":\"ResetTool\",\"id\":\"p3840\"}],\"active_drag\":{\"id\":\"p3837\"},\"active_scroll\":{\"id\":\"p3797\"}}},\"left\":[{\"type\":\"object\",\"name\":\"LinearAxis\",\"id\":\"p3831\",\"attributes\":{\"ticker\":{\"type\":\"object\",\"name\":\"BasicTicker\",\"id\":\"p3832\",\"attributes\":{\"mantissas\":[1,2,5]}},\"formatter\":{\"type\":\"object\",\"name\":\"BasicTickFormatter\",\"id\":\"p3833\"},\"axis_label\":\"Rate of Return\",\"major_label_policy\":{\"type\":\"object\",\"name\":\"AllLabels\",\"id\":\"p3834\"}}}],\"below\":[{\"type\":\"object\",\"name\":\"DatetimeAxis\",\"id\":\"p3814\",\"attributes\":{\"ticker\":{\"type\":\"object\",\"name\":\"DatetimeTicker\",\"id\":\"p3815\",\"attributes\":{\"num_minor_ticks\":5,\"tickers\":[{\"type\":\"object\",\"name\":\"AdaptiveTicker\",\"id\":\"p3816\",\"attributes\":{\"num_minor_ticks\":0,\"mantissas\":[1,2,5],\"max_interval\":500.0}},{\"type\":\"object\",\"name\":\"AdaptiveTicker\",\"id\":\"p3817\",\"attributes\":{\"num_minor_ticks\":0,\"base\":60,\"mantissas\":[1,2,5,10,15,20,30],\"min_interval\":1000.0,\"max_interval\":1800000.0}},{\"type\":\"object\",\"name\":\"AdaptiveTicker\",\"id\":\"p3818\",\"attributes\":{\"num_minor_ticks\":0,\"base\":24,\"mantissas\":[1,2,4,6,8,12],\"min_interval\":3600000.0,\"max_interval\":43200000.0}},{\"type\":\"object\",\"name\":\"DaysTicker\",\"id\":\"p3819\",\"attributes\":{\"days\":[1,2,3,4,5,6,7,8,9,10,11,12,13,14,15,16,17,18,19,20,21,22,23,24,25,26,27,28,29,30,31]}},{\"type\":\"object\",\"name\":\"DaysTicker\",\"id\":\"p3820\",\"attributes\":{\"days\":[1,4,7,10,13,16,19,22,25,28]}},{\"type\":\"object\",\"name\":\"DaysTicker\",\"id\":\"p3821\",\"attributes\":{\"days\":[1,8,15,22]}},{\"type\":\"object\",\"name\":\"DaysTicker\",\"id\":\"p3822\",\"attributes\":{\"days\":[1,15]}},{\"type\":\"object\",\"name\":\"MonthsTicker\",\"id\":\"p3823\",\"attributes\":{\"months\":[0,1,2,3,4,5,6,7,8,9,10,11]}},{\"type\":\"object\",\"name\":\"MonthsTicker\",\"id\":\"p3824\",\"attributes\":{\"months\":[0,2,4,6,8,10]}},{\"type\":\"object\",\"name\":\"MonthsTicker\",\"id\":\"p3825\",\"attributes\":{\"months\":[0,4,8]}},{\"type\":\"object\",\"name\":\"MonthsTicker\",\"id\":\"p3826\",\"attributes\":{\"months\":[0,6]}},{\"type\":\"object\",\"name\":\"YearsTicker\",\"id\":\"p3827\"}]}},\"formatter\":{\"type\":\"object\",\"name\":\"DatetimeTickFormatter\",\"id\":\"p3828\"},\"axis_label\":\"Date\",\"major_label_orientation\":1.5707963267948966,\"major_label_policy\":{\"type\":\"object\",\"name\":\"AllLabels\",\"id\":\"p3829\"}}}],\"center\":[{\"type\":\"object\",\"name\":\"Grid\",\"id\":\"p3830\",\"attributes\":{\"axis\":{\"id\":\"p3814\"},\"grid_line_color\":null}},{\"type\":\"object\",\"name\":\"Grid\",\"id\":\"p3835\",\"attributes\":{\"dimension\":1,\"axis\":{\"id\":\"p3831\"},\"grid_line_color\":null}},{\"type\":\"object\",\"name\":\"Legend\",\"id\":\"p3853\",\"attributes\":{\"click_policy\":\"mute\",\"items\":[{\"type\":\"object\",\"name\":\"LegendItem\",\"id\":\"p3854\",\"attributes\":{\"label\":{\"type\":\"value\",\"value\":\"Quarterly Returns of the S&P 500 Index\"},\"renderers\":[{\"id\":\"p3850\"}]}},{\"type\":\"object\",\"name\":\"LegendItem\",\"id\":\"p3868\",\"attributes\":{\"label\":{\"type\":\"value\",\"value\":\"Quarterly Returns of the Housing Price Index\"},\"renderers\":[{\"id\":\"p3865\"}]}}]}}],\"background_fill_color\":\"lightgrey\",\"min_border_top\":10,\"min_border_bottom\":10,\"min_border_left\":10,\"min_border_right\":10,\"output_backend\":\"webgl\"}},{\"type\":\"object\",\"name\":\"Spacer\",\"id\":\"p3871\",\"attributes\":{\"name\":\"HSpacer06103\",\"stylesheets\":[\"\\n:host(.pn-loading.pn-arc):before, .pn-loading.pn-arc:before {\\n  background-image: url(\\\"data:image/svg+xml;base64,PHN2ZyB4bWxucz0iaHR0cDovL3d3dy53My5vcmcvMjAwMC9zdmciIHN0eWxlPSJtYXJnaW46IGF1dG87IGJhY2tncm91bmQ6IG5vbmU7IGRpc3BsYXk6IGJsb2NrOyBzaGFwZS1yZW5kZXJpbmc6IGF1dG87IiB2aWV3Qm94PSIwIDAgMTAwIDEwMCIgcHJlc2VydmVBc3BlY3RSYXRpbz0ieE1pZFlNaWQiPiAgPGNpcmNsZSBjeD0iNTAiIGN5PSI1MCIgZmlsbD0ibm9uZSIgc3Ryb2tlPSIjYzNjM2MzIiBzdHJva2Utd2lkdGg9IjEwIiByPSIzNSIgc3Ryb2tlLWRhc2hhcnJheT0iMTY0LjkzMzYxNDMxMzQ2NDE1IDU2Ljk3Nzg3MTQzNzgyMTM4Ij4gICAgPGFuaW1hdGVUcmFuc2Zvcm0gYXR0cmlidXRlTmFtZT0idHJhbnNmb3JtIiB0eXBlPSJyb3RhdGUiIHJlcGVhdENvdW50PSJpbmRlZmluaXRlIiBkdXI9IjFzIiB2YWx1ZXM9IjAgNTAgNTA7MzYwIDUwIDUwIiBrZXlUaW1lcz0iMDsxIj48L2FuaW1hdGVUcmFuc2Zvcm0+ICA8L2NpcmNsZT48L3N2Zz4=\\\");\\n  background-size: auto calc(min(50%, 400px));\\n}\",{\"id\":\"p3790\"},{\"id\":\"p3788\"},{\"id\":\"p3789\"}],\"margin\":0,\"sizing_mode\":\"stretch_width\",\"align\":\"start\"}}]}}],\"defs\":[{\"type\":\"model\",\"name\":\"ReactiveHTML1\"},{\"type\":\"model\",\"name\":\"FlexBox1\",\"properties\":[{\"name\":\"align_content\",\"kind\":\"Any\",\"default\":\"flex-start\"},{\"name\":\"align_items\",\"kind\":\"Any\",\"default\":\"flex-start\"},{\"name\":\"flex_direction\",\"kind\":\"Any\",\"default\":\"row\"},{\"name\":\"flex_wrap\",\"kind\":\"Any\",\"default\":\"wrap\"},{\"name\":\"justify_content\",\"kind\":\"Any\",\"default\":\"flex-start\"}]},{\"type\":\"model\",\"name\":\"FloatPanel1\",\"properties\":[{\"name\":\"config\",\"kind\":\"Any\",\"default\":{\"type\":\"map\"}},{\"name\":\"contained\",\"kind\":\"Any\",\"default\":true},{\"name\":\"position\",\"kind\":\"Any\",\"default\":\"right-top\"},{\"name\":\"offsetx\",\"kind\":\"Any\",\"default\":null},{\"name\":\"offsety\",\"kind\":\"Any\",\"default\":null},{\"name\":\"theme\",\"kind\":\"Any\",\"default\":\"primary\"},{\"name\":\"status\",\"kind\":\"Any\",\"default\":\"normalized\"}]},{\"type\":\"model\",\"name\":\"GridStack1\",\"properties\":[{\"name\":\"mode\",\"kind\":\"Any\",\"default\":\"warn\"},{\"name\":\"ncols\",\"kind\":\"Any\",\"default\":null},{\"name\":\"nrows\",\"kind\":\"Any\",\"default\":null},{\"name\":\"allow_resize\",\"kind\":\"Any\",\"default\":true},{\"name\":\"allow_drag\",\"kind\":\"Any\",\"default\":true},{\"name\":\"state\",\"kind\":\"Any\",\"default\":[]}]},{\"type\":\"model\",\"name\":\"drag1\",\"properties\":[{\"name\":\"slider_width\",\"kind\":\"Any\",\"default\":5},{\"name\":\"slider_color\",\"kind\":\"Any\",\"default\":\"black\"},{\"name\":\"value\",\"kind\":\"Any\",\"default\":50}]},{\"type\":\"model\",\"name\":\"click1\",\"properties\":[{\"name\":\"terminal_output\",\"kind\":\"Any\",\"default\":\"\"},{\"name\":\"debug_name\",\"kind\":\"Any\",\"default\":\"\"},{\"name\":\"clears\",\"kind\":\"Any\",\"default\":0}]},{\"type\":\"model\",\"name\":\"FastWrapper1\",\"properties\":[{\"name\":\"object\",\"kind\":\"Any\",\"default\":null},{\"name\":\"style\",\"kind\":\"Any\",\"default\":null}]},{\"type\":\"model\",\"name\":\"NotificationAreaBase1\",\"properties\":[{\"name\":\"js_events\",\"kind\":\"Any\",\"default\":{\"type\":\"map\"}},{\"name\":\"position\",\"kind\":\"Any\",\"default\":\"bottom-right\"},{\"name\":\"_clear\",\"kind\":\"Any\",\"default\":0}]},{\"type\":\"model\",\"name\":\"NotificationArea1\",\"properties\":[{\"name\":\"js_events\",\"kind\":\"Any\",\"default\":{\"type\":\"map\"}},{\"name\":\"notifications\",\"kind\":\"Any\",\"default\":[]},{\"name\":\"position\",\"kind\":\"Any\",\"default\":\"bottom-right\"},{\"name\":\"_clear\",\"kind\":\"Any\",\"default\":0},{\"name\":\"types\",\"kind\":\"Any\",\"default\":[{\"type\":\"map\",\"entries\":[[\"type\",\"warning\"],[\"background\",\"#ffc107\"],[\"icon\",{\"type\":\"map\",\"entries\":[[\"className\",\"fas fa-exclamation-triangle\"],[\"tagName\",\"i\"],[\"color\",\"white\"]]}]]},{\"type\":\"map\",\"entries\":[[\"type\",\"info\"],[\"background\",\"#007bff\"],[\"icon\",{\"type\":\"map\",\"entries\":[[\"className\",\"fas fa-info-circle\"],[\"tagName\",\"i\"],[\"color\",\"white\"]]}]]}]}]},{\"type\":\"model\",\"name\":\"Notification\",\"properties\":[{\"name\":\"background\",\"kind\":\"Any\",\"default\":null},{\"name\":\"duration\",\"kind\":\"Any\",\"default\":3000},{\"name\":\"icon\",\"kind\":\"Any\",\"default\":null},{\"name\":\"message\",\"kind\":\"Any\",\"default\":\"\"},{\"name\":\"notification_type\",\"kind\":\"Any\",\"default\":null},{\"name\":\"_destroyed\",\"kind\":\"Any\",\"default\":false}]},{\"type\":\"model\",\"name\":\"TemplateActions1\",\"properties\":[{\"name\":\"open_modal\",\"kind\":\"Any\",\"default\":0},{\"name\":\"close_modal\",\"kind\":\"Any\",\"default\":0}]},{\"type\":\"model\",\"name\":\"BootstrapTemplateActions1\",\"properties\":[{\"name\":\"open_modal\",\"kind\":\"Any\",\"default\":0},{\"name\":\"close_modal\",\"kind\":\"Any\",\"default\":0}]},{\"type\":\"model\",\"name\":\"MaterialTemplateActions1\",\"properties\":[{\"name\":\"open_modal\",\"kind\":\"Any\",\"default\":0},{\"name\":\"close_modal\",\"kind\":\"Any\",\"default\":0}]}]}};\n",
       "  var render_items = [{\"docid\":\"8d914703-aeaa-44d0-ba52-e9e1146d284d\",\"roots\":{\"p3787\":\"e659a0f1-0066-48c7-b80b-a8e6697791f5\"},\"root_ids\":[\"p3787\"]}];\n",
       "  var docs = Object.values(docs_json)\n",
       "  if (!docs) {\n",
       "    return\n",
       "  }\n",
       "  const py_version = docs[0].version.replace('rc', '-rc.').replace('.dev', '-dev.')\n",
       "  const is_dev = py_version.indexOf(\"+\") !== -1 || py_version.indexOf(\"-\") !== -1\n",
       "  function embed_document(root) {\n",
       "    var Bokeh = get_bokeh(root)\n",
       "    Bokeh.embed.embed_items_notebook(docs_json, render_items);\n",
       "    for (const render_item of render_items) {\n",
       "      for (const root_id of render_item.root_ids) {\n",
       "\tconst id_el = document.getElementById(root_id)\n",
       "\tif (id_el.children.length && (id_el.children[0].className === 'bk-root')) {\n",
       "\t  const root_el = id_el.children[0]\n",
       "\t  root_el.id = root_el.id + '-rendered'\n",
       "\t}\n",
       "      }\n",
       "    }\n",
       "  }\n",
       "  function get_bokeh(root) {\n",
       "    if (root.Bokeh === undefined) {\n",
       "      return null\n",
       "    } else if (root.Bokeh.version !== py_version && !is_dev) {\n",
       "      if (root.Bokeh.versions === undefined || !root.Bokeh.versions.has(py_version)) {\n",
       "\treturn null\n",
       "      }\n",
       "      return root.Bokeh.versions.get(py_version);\n",
       "    } else if (root.Bokeh.version === py_version) {\n",
       "      return root.Bokeh\n",
       "    }\n",
       "    return null\n",
       "  }\n",
       "  function is_loaded(root) {\n",
       "    var Bokeh = get_bokeh(root)\n",
       "    return (Bokeh != null && Bokeh.Panel !== undefined)\n",
       "  }\n",
       "  if (is_loaded(root)) {\n",
       "    embed_document(root);\n",
       "  } else {\n",
       "    var attempts = 0;\n",
       "    var timer = setInterval(function(root) {\n",
       "      if (is_loaded(root)) {\n",
       "        clearInterval(timer);\n",
       "        embed_document(root);\n",
       "      } else if (document.readyState == \"complete\") {\n",
       "        attempts++;\n",
       "        if (attempts > 200) {\n",
       "          clearInterval(timer);\n",
       "\t  var Bokeh = get_bokeh(root)\n",
       "\t  if (Bokeh == null || Bokeh.Panel == null) {\n",
       "            console.warn(\"Panel: ERROR: Unable to run Panel code because Bokeh or Panel library is missing\");\n",
       "\t  } else {\n",
       "\t    console.warn(\"Panel: WARNING: Attempting to render but not all required libraries could be resolved.\")\n",
       "\t    embed_document(root)\n",
       "\t  }\n",
       "        }\n",
       "      }\n",
       "    }, 25, root)\n",
       "  }\n",
       "})(window);</script>"
      ],
      "text/plain": [
       ":Overlay\n",
       "   .Curve.Quarterly_Returns_of_the_S_ampersand_P_500_Index :Curve   [Date]   (Close)\n",
       "   .Curve.Quarterly_Returns_of_the_Housing_Price_Index     :Curve   [date]   (HPI pct_change)"
      ]
     },
     "execution_count": 79,
     "metadata": {
      "application/vnd.holoviews_exec.v0+json": {
       "id": "p3787"
      }
     },
     "output_type": "execute_result"
    }
   ],
   "source": [
    "# Create an overlay plot for the two visualizations of SP550 & HPI\n",
    "(sp500_plot * hpi_1985_plot).opts(\n",
    "    title=\"Comparative view at Quartlely Returns of the HPI with Monthly Returns of the S&P500\",\n",
    "    bgcolor=\"lightgrey\", \n",
    "    height=500,\n",
    "    width=1000,\n",
    "    ylabel='Rate of Return',\n",
    "    xlabel='Date',\n",
    "    #hover_line_color='yellow'\n",
    ")"
   ]
  },
  {
   "cell_type": "markdown",
   "metadata": {},
   "source": [
    "## Residential Real Estate vs XLRE"
   ]
  },
  {
   "cell_type": "code",
   "execution_count": 80,
   "metadata": {},
   "outputs": [
    {
     "name": "stdout",
     "output_type": "stream",
     "text": [
      "[*********************100%%**********************]  1 of 1 completed\n"
     ]
    }
   ],
   "source": [
    "# Download the XLRE Fund Dataframe from the yfinance library on a 3 month interval to compare with HPI quarterly report\n",
    "\n",
    "xlre_download = yf.download(\"XLRE\", interval=\"3mo\", start=\"1985-01-01\", end=\"2023-10-01\")\n",
    "\n",
    "# Get Closing cloumns and then calculate the returns and drop NaN Values\n",
    "\n",
    "xlre_close = xlre_download['Close']\n",
    "\n",
    "\n",
    "xlre_returns = xlre_close.pct_change().dropna()\n"
   ]
  },
  {
   "cell_type": "code",
   "execution_count": 81,
   "metadata": {},
   "outputs": [
    {
     "data": {},
     "metadata": {},
     "output_type": "display_data"
    },
    {
     "data": {
      "application/vnd.holoviews_exec.v0+json": "",
      "text/html": [
       "<div id='p3880'>\n",
       "  <div id=\"ea6ff391-8a04-4df8-a9d7-607cf6832b72\" data-root-id=\"p3880\" style=\"display: contents;\"></div>\n",
       "</div>\n",
       "<script type=\"application/javascript\">(function(root) {\n",
       "  var docs_json = {\"ae62e322-45c1-4a58-8a7e-7a507f39ae77\":{\"version\":\"3.2.2\",\"title\":\"Bokeh Application\",\"roots\":[{\"type\":\"object\",\"name\":\"Row\",\"id\":\"p3880\",\"attributes\":{\"name\":\"Row06242\",\"tags\":[\"embedded\"],\"stylesheets\":[\"\\n:host(.pn-loading.pn-arc):before, .pn-loading.pn-arc:before {\\n  background-image: url(\\\"data:image/svg+xml;base64,PHN2ZyB4bWxucz0iaHR0cDovL3d3dy53My5vcmcvMjAwMC9zdmciIHN0eWxlPSJtYXJnaW46IGF1dG87IGJhY2tncm91bmQ6IG5vbmU7IGRpc3BsYXk6IGJsb2NrOyBzaGFwZS1yZW5kZXJpbmc6IGF1dG87IiB2aWV3Qm94PSIwIDAgMTAwIDEwMCIgcHJlc2VydmVBc3BlY3RSYXRpbz0ieE1pZFlNaWQiPiAgPGNpcmNsZSBjeD0iNTAiIGN5PSI1MCIgZmlsbD0ibm9uZSIgc3Ryb2tlPSIjYzNjM2MzIiBzdHJva2Utd2lkdGg9IjEwIiByPSIzNSIgc3Ryb2tlLWRhc2hhcnJheT0iMTY0LjkzMzYxNDMxMzQ2NDE1IDU2Ljk3Nzg3MTQzNzgyMTM4Ij4gICAgPGFuaW1hdGVUcmFuc2Zvcm0gYXR0cmlidXRlTmFtZT0idHJhbnNmb3JtIiB0eXBlPSJyb3RhdGUiIHJlcGVhdENvdW50PSJpbmRlZmluaXRlIiBkdXI9IjFzIiB2YWx1ZXM9IjAgNTAgNTA7MzYwIDUwIDUwIiBrZXlUaW1lcz0iMDsxIj48L2FuaW1hdGVUcmFuc2Zvcm0+ICA8L2NpcmNsZT48L3N2Zz4=\\\");\\n  background-size: auto calc(min(50%, 400px));\\n}\",{\"type\":\"object\",\"name\":\"ImportedStyleSheet\",\"id\":\"p3883\",\"attributes\":{\"url\":\"https://cdn.holoviz.org/panel/1.2.3/dist/css/loading.css\"}},{\"type\":\"object\",\"name\":\"ImportedStyleSheet\",\"id\":\"p3947\",\"attributes\":{\"url\":\"https://cdn.holoviz.org/panel/1.2.3/dist/css/listpanel.css\"}},{\"type\":\"object\",\"name\":\"ImportedStyleSheet\",\"id\":\"p3881\",\"attributes\":{\"url\":\"https://cdn.holoviz.org/panel/1.2.3/dist/bundled/theme/default.css\"}},{\"type\":\"object\",\"name\":\"ImportedStyleSheet\",\"id\":\"p3882\",\"attributes\":{\"url\":\"https://cdn.holoviz.org/panel/1.2.3/dist/bundled/theme/native.css\"}}],\"min_width\":700,\"margin\":0,\"sizing_mode\":\"stretch_width\",\"align\":\"start\",\"children\":[{\"type\":\"object\",\"name\":\"Spacer\",\"id\":\"p3884\",\"attributes\":{\"name\":\"HSpacer06253\",\"stylesheets\":[\"\\n:host(.pn-loading.pn-arc):before, .pn-loading.pn-arc:before {\\n  background-image: url(\\\"data:image/svg+xml;base64,PHN2ZyB4bWxucz0iaHR0cDovL3d3dy53My5vcmcvMjAwMC9zdmciIHN0eWxlPSJtYXJnaW46IGF1dG87IGJhY2tncm91bmQ6IG5vbmU7IGRpc3BsYXk6IGJsb2NrOyBzaGFwZS1yZW5kZXJpbmc6IGF1dG87IiB2aWV3Qm94PSIwIDAgMTAwIDEwMCIgcHJlc2VydmVBc3BlY3RSYXRpbz0ieE1pZFlNaWQiPiAgPGNpcmNsZSBjeD0iNTAiIGN5PSI1MCIgZmlsbD0ibm9uZSIgc3Ryb2tlPSIjYzNjM2MzIiBzdHJva2Utd2lkdGg9IjEwIiByPSIzNSIgc3Ryb2tlLWRhc2hhcnJheT0iMTY0LjkzMzYxNDMxMzQ2NDE1IDU2Ljk3Nzg3MTQzNzgyMTM4Ij4gICAgPGFuaW1hdGVUcmFuc2Zvcm0gYXR0cmlidXRlTmFtZT0idHJhbnNmb3JtIiB0eXBlPSJyb3RhdGUiIHJlcGVhdENvdW50PSJpbmRlZmluaXRlIiBkdXI9IjFzIiB2YWx1ZXM9IjAgNTAgNTA7MzYwIDUwIDUwIiBrZXlUaW1lcz0iMDsxIj48L2FuaW1hdGVUcmFuc2Zvcm0+ICA8L2NpcmNsZT48L3N2Zz4=\\\");\\n  background-size: auto calc(min(50%, 400px));\\n}\",{\"id\":\"p3883\"},{\"id\":\"p3881\"},{\"id\":\"p3882\"}],\"margin\":0,\"sizing_mode\":\"stretch_width\",\"align\":\"start\"}},{\"type\":\"object\",\"name\":\"Figure\",\"id\":\"p3892\",\"attributes\":{\"width\":700,\"height\":300,\"margin\":[5,10],\"sizing_mode\":\"fixed\",\"align\":\"start\",\"x_range\":{\"type\":\"object\",\"name\":\"Range1d\",\"id\":\"p3885\",\"attributes\":{\"tags\":[[[\"Date\",\"Date\",null]],[]],\"start\":1451606400000.0,\"end\":1688169600000.0,\"reset_start\":1451606400000.0,\"reset_end\":1688169600000.0}},\"y_range\":{\"type\":\"object\",\"name\":\"Range1d\",\"id\":\"p3886\",\"attributes\":{\"tags\":[[[\"Close\",\"Close\",null]],{\"type\":\"map\",\"entries\":[[\"invert_yaxis\",false],[\"autorange\",false]]}],\"start\":-0.23501813914758157,\"end\":0.20506034299710424,\"reset_start\":-0.23501813914758157,\"reset_end\":0.20506034299710424}},\"x_scale\":{\"type\":\"object\",\"name\":\"LinearScale\",\"id\":\"p3902\"},\"y_scale\":{\"type\":\"object\",\"name\":\"LinearScale\",\"id\":\"p3903\"},\"title\":{\"type\":\"object\",\"name\":\"Title\",\"id\":\"p3895\",\"attributes\":{\"text\":\"Quarterly Returns of The Real Estate Select Sector SPDR Fund (XLRE)\",\"text_color\":\"black\",\"text_font_size\":\"12pt\"}},\"renderers\":[{\"type\":\"object\",\"name\":\"GlyphRenderer\",\"id\":\"p3940\",\"attributes\":{\"data_source\":{\"type\":\"object\",\"name\":\"ColumnDataSource\",\"id\":\"p3931\",\"attributes\":{\"selected\":{\"type\":\"object\",\"name\":\"Selection\",\"id\":\"p3932\",\"attributes\":{\"indices\":[],\"line_indices\":[]}},\"selection_policy\":{\"type\":\"object\",\"name\":\"UnionRenderers\",\"id\":\"p3933\"},\"data\":{\"type\":\"map\",\"entries\":[[\"Date\",{\"type\":\"ndarray\",\"array\":{\"type\":\"bytes\",\"data\":\"AADAvacfdUIAAADp8Tx1QgAAQBQ8WnVCAABApdh3dUIAAEA2dZV1QgAAwPtssnVCAAAAJ7fPdUIAAAC4U+11QgAAAEnwCnZCAACADugndkIAAMA5MkV2QgAAwMrOYnZCAADAW2uAdkIAAEAhY512QgAAgEytunZCAACA3UnYdkIAAIBu5vV2QgAAwJkwE3dCAAAAxXowd0IAAABWF053QgAAAOeza3dCAACArKuId0IAAMDX9aV3QgAAwGiSw3dCAADA+S7hd0IAAEC/Jv53QgAAgOpwG3hCAACAew05eEIAAIAMqlZ4QgAAANKhc3hCAABA/euQeEI=\"},\"shape\":[31],\"dtype\":\"float64\",\"order\":\"little\"}],[\"Close\",{\"type\":\"ndarray\",\"array\":{\"type\":\"bytes\",\"data\":\"AG8m100GoD+Au7f8I8SmP4BBEs92/5i/MJORMoKPr7/AKQSaQk6cP8CFQLtrcZM/AITSRW9aVD8ArWrirzuWP+Bh/XUl6ay/4PXRbhvaqj8A880kQAtpv/Do43w0R6m/2FprrbWNxT+AIru1ShmPP7DSzX6R5LE/oAsVOpdwkb/wWcjiXWPJv2BrrbWWdr8/gJP2HT0Qiz/gaLb39bmiP4AqKqAzhLQ/oC0rb0Rgvz8AIquy4CxmP5g3I/SzMcU/wLvEK5s+sb8kx1Zf98LDv9AGpMf+Yr6/wI8z0mMpmj8AuharkvSIP4CvFFP++4A/AI6vwoOWuL8=\"},\"shape\":[31],\"dtype\":\"float64\",\"order\":\"little\"}]]}}},\"view\":{\"type\":\"object\",\"name\":\"CDSView\",\"id\":\"p3941\",\"attributes\":{\"filter\":{\"type\":\"object\",\"name\":\"AllIndices\",\"id\":\"p3942\"}}},\"glyph\":{\"type\":\"object\",\"name\":\"Line\",\"id\":\"p3937\",\"attributes\":{\"tags\":[\"apply_ranges\"],\"x\":{\"type\":\"field\",\"field\":\"Date\"},\"y\":{\"type\":\"field\",\"field\":\"Close\"},\"line_color\":\"#30a2da\",\"line_width\":2}},\"selection_glyph\":{\"type\":\"object\",\"name\":\"Line\",\"id\":\"p3943\",\"attributes\":{\"tags\":[\"apply_ranges\"],\"x\":{\"type\":\"field\",\"field\":\"Date\"},\"y\":{\"type\":\"field\",\"field\":\"Close\"},\"line_color\":\"#30a2da\",\"line_width\":2}},\"nonselection_glyph\":{\"type\":\"object\",\"name\":\"Line\",\"id\":\"p3938\",\"attributes\":{\"tags\":[\"apply_ranges\"],\"x\":{\"type\":\"field\",\"field\":\"Date\"},\"y\":{\"type\":\"field\",\"field\":\"Close\"},\"line_color\":\"#30a2da\",\"line_alpha\":0.1,\"line_width\":2}},\"muted_glyph\":{\"type\":\"object\",\"name\":\"Line\",\"id\":\"p3939\",\"attributes\":{\"tags\":[\"apply_ranges\"],\"x\":{\"type\":\"field\",\"field\":\"Date\"},\"y\":{\"type\":\"field\",\"field\":\"Close\"},\"line_color\":\"#30a2da\",\"line_alpha\":0.2,\"line_width\":2}}}}],\"toolbar\":{\"type\":\"object\",\"name\":\"Toolbar\",\"id\":\"p3901\",\"attributes\":{\"tools\":[{\"type\":\"object\",\"name\":\"WheelZoomTool\",\"id\":\"p3890\",\"attributes\":{\"tags\":[\"hv_created\"],\"zoom_together\":\"none\"}},{\"type\":\"object\",\"name\":\"HoverTool\",\"id\":\"p3891\",\"attributes\":{\"tags\":[\"hv_created\"],\"renderers\":[{\"id\":\"p3940\"}],\"tooltips\":[[\"Date\",\"@{Date}{%F %T}\"],[\"Close\",\"@{Close}\"]],\"formatters\":{\"type\":\"map\",\"entries\":[[\"@{Date}\",\"datetime\"]]}}},{\"type\":\"object\",\"name\":\"SaveTool\",\"id\":\"p3926\"},{\"type\":\"object\",\"name\":\"PanTool\",\"id\":\"p3927\"},{\"type\":\"object\",\"name\":\"BoxZoomTool\",\"id\":\"p3928\",\"attributes\":{\"overlay\":{\"type\":\"object\",\"name\":\"BoxAnnotation\",\"id\":\"p3929\",\"attributes\":{\"syncable\":false,\"level\":\"overlay\",\"visible\":false,\"left_units\":\"canvas\",\"right_units\":\"canvas\",\"bottom_units\":\"canvas\",\"top_units\":\"canvas\",\"line_color\":\"black\",\"line_alpha\":1.0,\"line_width\":2,\"line_dash\":[4,4],\"fill_color\":\"lightgrey\",\"fill_alpha\":0.5}}}},{\"type\":\"object\",\"name\":\"ResetTool\",\"id\":\"p3930\"}],\"active_drag\":{\"id\":\"p3927\"},\"active_scroll\":{\"id\":\"p3890\"}}},\"left\":[{\"type\":\"object\",\"name\":\"LinearAxis\",\"id\":\"p3921\",\"attributes\":{\"ticker\":{\"type\":\"object\",\"name\":\"BasicTicker\",\"id\":\"p3922\",\"attributes\":{\"mantissas\":[1,2,5]}},\"formatter\":{\"type\":\"object\",\"name\":\"BasicTickFormatter\",\"id\":\"p3923\"},\"axis_label\":\"Rate of Return\",\"major_label_policy\":{\"type\":\"object\",\"name\":\"AllLabels\",\"id\":\"p3924\"}}}],\"below\":[{\"type\":\"object\",\"name\":\"DatetimeAxis\",\"id\":\"p3904\",\"attributes\":{\"ticker\":{\"type\":\"object\",\"name\":\"DatetimeTicker\",\"id\":\"p3905\",\"attributes\":{\"num_minor_ticks\":5,\"tickers\":[{\"type\":\"object\",\"name\":\"AdaptiveTicker\",\"id\":\"p3906\",\"attributes\":{\"num_minor_ticks\":0,\"mantissas\":[1,2,5],\"max_interval\":500.0}},{\"type\":\"object\",\"name\":\"AdaptiveTicker\",\"id\":\"p3907\",\"attributes\":{\"num_minor_ticks\":0,\"base\":60,\"mantissas\":[1,2,5,10,15,20,30],\"min_interval\":1000.0,\"max_interval\":1800000.0}},{\"type\":\"object\",\"name\":\"AdaptiveTicker\",\"id\":\"p3908\",\"attributes\":{\"num_minor_ticks\":0,\"base\":24,\"mantissas\":[1,2,4,6,8,12],\"min_interval\":3600000.0,\"max_interval\":43200000.0}},{\"type\":\"object\",\"name\":\"DaysTicker\",\"id\":\"p3909\",\"attributes\":{\"days\":[1,2,3,4,5,6,7,8,9,10,11,12,13,14,15,16,17,18,19,20,21,22,23,24,25,26,27,28,29,30,31]}},{\"type\":\"object\",\"name\":\"DaysTicker\",\"id\":\"p3910\",\"attributes\":{\"days\":[1,4,7,10,13,16,19,22,25,28]}},{\"type\":\"object\",\"name\":\"DaysTicker\",\"id\":\"p3911\",\"attributes\":{\"days\":[1,8,15,22]}},{\"type\":\"object\",\"name\":\"DaysTicker\",\"id\":\"p3912\",\"attributes\":{\"days\":[1,15]}},{\"type\":\"object\",\"name\":\"MonthsTicker\",\"id\":\"p3913\",\"attributes\":{\"months\":[0,1,2,3,4,5,6,7,8,9,10,11]}},{\"type\":\"object\",\"name\":\"MonthsTicker\",\"id\":\"p3914\",\"attributes\":{\"months\":[0,2,4,6,8,10]}},{\"type\":\"object\",\"name\":\"MonthsTicker\",\"id\":\"p3915\",\"attributes\":{\"months\":[0,4,8]}},{\"type\":\"object\",\"name\":\"MonthsTicker\",\"id\":\"p3916\",\"attributes\":{\"months\":[0,6]}},{\"type\":\"object\",\"name\":\"YearsTicker\",\"id\":\"p3917\"}]}},\"formatter\":{\"type\":\"object\",\"name\":\"DatetimeTickFormatter\",\"id\":\"p3918\"},\"axis_label\":\"Date(in Qtrs.)\",\"major_label_orientation\":1.5707963267948966,\"major_label_policy\":{\"type\":\"object\",\"name\":\"AllLabels\",\"id\":\"p3919\"}}}],\"center\":[{\"type\":\"object\",\"name\":\"Grid\",\"id\":\"p3920\",\"attributes\":{\"axis\":{\"id\":\"p3904\"},\"grid_line_color\":null}},{\"type\":\"object\",\"name\":\"Grid\",\"id\":\"p3925\",\"attributes\":{\"dimension\":1,\"axis\":{\"id\":\"p3921\"},\"grid_line_color\":null}}],\"min_border_top\":10,\"min_border_bottom\":10,\"min_border_left\":10,\"min_border_right\":10,\"output_backend\":\"webgl\"}},{\"type\":\"object\",\"name\":\"Spacer\",\"id\":\"p3945\",\"attributes\":{\"name\":\"HSpacer06256\",\"stylesheets\":[\"\\n:host(.pn-loading.pn-arc):before, .pn-loading.pn-arc:before {\\n  background-image: url(\\\"data:image/svg+xml;base64,PHN2ZyB4bWxucz0iaHR0cDovL3d3dy53My5vcmcvMjAwMC9zdmciIHN0eWxlPSJtYXJnaW46IGF1dG87IGJhY2tncm91bmQ6IG5vbmU7IGRpc3BsYXk6IGJsb2NrOyBzaGFwZS1yZW5kZXJpbmc6IGF1dG87IiB2aWV3Qm94PSIwIDAgMTAwIDEwMCIgcHJlc2VydmVBc3BlY3RSYXRpbz0ieE1pZFlNaWQiPiAgPGNpcmNsZSBjeD0iNTAiIGN5PSI1MCIgZmlsbD0ibm9uZSIgc3Ryb2tlPSIjYzNjM2MzIiBzdHJva2Utd2lkdGg9IjEwIiByPSIzNSIgc3Ryb2tlLWRhc2hhcnJheT0iMTY0LjkzMzYxNDMxMzQ2NDE1IDU2Ljk3Nzg3MTQzNzgyMTM4Ij4gICAgPGFuaW1hdGVUcmFuc2Zvcm0gYXR0cmlidXRlTmFtZT0idHJhbnNmb3JtIiB0eXBlPSJyb3RhdGUiIHJlcGVhdENvdW50PSJpbmRlZmluaXRlIiBkdXI9IjFzIiB2YWx1ZXM9IjAgNTAgNTA7MzYwIDUwIDUwIiBrZXlUaW1lcz0iMDsxIj48L2FuaW1hdGVUcmFuc2Zvcm0+ICA8L2NpcmNsZT48L3N2Zz4=\\\");\\n  background-size: auto calc(min(50%, 400px));\\n}\",{\"id\":\"p3883\"},{\"id\":\"p3881\"},{\"id\":\"p3882\"}],\"margin\":0,\"sizing_mode\":\"stretch_width\",\"align\":\"start\"}}]}}],\"defs\":[{\"type\":\"model\",\"name\":\"ReactiveHTML1\"},{\"type\":\"model\",\"name\":\"FlexBox1\",\"properties\":[{\"name\":\"align_content\",\"kind\":\"Any\",\"default\":\"flex-start\"},{\"name\":\"align_items\",\"kind\":\"Any\",\"default\":\"flex-start\"},{\"name\":\"flex_direction\",\"kind\":\"Any\",\"default\":\"row\"},{\"name\":\"flex_wrap\",\"kind\":\"Any\",\"default\":\"wrap\"},{\"name\":\"justify_content\",\"kind\":\"Any\",\"default\":\"flex-start\"}]},{\"type\":\"model\",\"name\":\"FloatPanel1\",\"properties\":[{\"name\":\"config\",\"kind\":\"Any\",\"default\":{\"type\":\"map\"}},{\"name\":\"contained\",\"kind\":\"Any\",\"default\":true},{\"name\":\"position\",\"kind\":\"Any\",\"default\":\"right-top\"},{\"name\":\"offsetx\",\"kind\":\"Any\",\"default\":null},{\"name\":\"offsety\",\"kind\":\"Any\",\"default\":null},{\"name\":\"theme\",\"kind\":\"Any\",\"default\":\"primary\"},{\"name\":\"status\",\"kind\":\"Any\",\"default\":\"normalized\"}]},{\"type\":\"model\",\"name\":\"GridStack1\",\"properties\":[{\"name\":\"mode\",\"kind\":\"Any\",\"default\":\"warn\"},{\"name\":\"ncols\",\"kind\":\"Any\",\"default\":null},{\"name\":\"nrows\",\"kind\":\"Any\",\"default\":null},{\"name\":\"allow_resize\",\"kind\":\"Any\",\"default\":true},{\"name\":\"allow_drag\",\"kind\":\"Any\",\"default\":true},{\"name\":\"state\",\"kind\":\"Any\",\"default\":[]}]},{\"type\":\"model\",\"name\":\"drag1\",\"properties\":[{\"name\":\"slider_width\",\"kind\":\"Any\",\"default\":5},{\"name\":\"slider_color\",\"kind\":\"Any\",\"default\":\"black\"},{\"name\":\"value\",\"kind\":\"Any\",\"default\":50}]},{\"type\":\"model\",\"name\":\"click1\",\"properties\":[{\"name\":\"terminal_output\",\"kind\":\"Any\",\"default\":\"\"},{\"name\":\"debug_name\",\"kind\":\"Any\",\"default\":\"\"},{\"name\":\"clears\",\"kind\":\"Any\",\"default\":0}]},{\"type\":\"model\",\"name\":\"FastWrapper1\",\"properties\":[{\"name\":\"object\",\"kind\":\"Any\",\"default\":null},{\"name\":\"style\",\"kind\":\"Any\",\"default\":null}]},{\"type\":\"model\",\"name\":\"NotificationAreaBase1\",\"properties\":[{\"name\":\"js_events\",\"kind\":\"Any\",\"default\":{\"type\":\"map\"}},{\"name\":\"position\",\"kind\":\"Any\",\"default\":\"bottom-right\"},{\"name\":\"_clear\",\"kind\":\"Any\",\"default\":0}]},{\"type\":\"model\",\"name\":\"NotificationArea1\",\"properties\":[{\"name\":\"js_events\",\"kind\":\"Any\",\"default\":{\"type\":\"map\"}},{\"name\":\"notifications\",\"kind\":\"Any\",\"default\":[]},{\"name\":\"position\",\"kind\":\"Any\",\"default\":\"bottom-right\"},{\"name\":\"_clear\",\"kind\":\"Any\",\"default\":0},{\"name\":\"types\",\"kind\":\"Any\",\"default\":[{\"type\":\"map\",\"entries\":[[\"type\",\"warning\"],[\"background\",\"#ffc107\"],[\"icon\",{\"type\":\"map\",\"entries\":[[\"className\",\"fas fa-exclamation-triangle\"],[\"tagName\",\"i\"],[\"color\",\"white\"]]}]]},{\"type\":\"map\",\"entries\":[[\"type\",\"info\"],[\"background\",\"#007bff\"],[\"icon\",{\"type\":\"map\",\"entries\":[[\"className\",\"fas fa-info-circle\"],[\"tagName\",\"i\"],[\"color\",\"white\"]]}]]}]}]},{\"type\":\"model\",\"name\":\"Notification\",\"properties\":[{\"name\":\"background\",\"kind\":\"Any\",\"default\":null},{\"name\":\"duration\",\"kind\":\"Any\",\"default\":3000},{\"name\":\"icon\",\"kind\":\"Any\",\"default\":null},{\"name\":\"message\",\"kind\":\"Any\",\"default\":\"\"},{\"name\":\"notification_type\",\"kind\":\"Any\",\"default\":null},{\"name\":\"_destroyed\",\"kind\":\"Any\",\"default\":false}]},{\"type\":\"model\",\"name\":\"TemplateActions1\",\"properties\":[{\"name\":\"open_modal\",\"kind\":\"Any\",\"default\":0},{\"name\":\"close_modal\",\"kind\":\"Any\",\"default\":0}]},{\"type\":\"model\",\"name\":\"BootstrapTemplateActions1\",\"properties\":[{\"name\":\"open_modal\",\"kind\":\"Any\",\"default\":0},{\"name\":\"close_modal\",\"kind\":\"Any\",\"default\":0}]},{\"type\":\"model\",\"name\":\"MaterialTemplateActions1\",\"properties\":[{\"name\":\"open_modal\",\"kind\":\"Any\",\"default\":0},{\"name\":\"close_modal\",\"kind\":\"Any\",\"default\":0}]}]}};\n",
       "  var render_items = [{\"docid\":\"ae62e322-45c1-4a58-8a7e-7a507f39ae77\",\"roots\":{\"p3880\":\"ea6ff391-8a04-4df8-a9d7-607cf6832b72\"},\"root_ids\":[\"p3880\"]}];\n",
       "  var docs = Object.values(docs_json)\n",
       "  if (!docs) {\n",
       "    return\n",
       "  }\n",
       "  const py_version = docs[0].version.replace('rc', '-rc.').replace('.dev', '-dev.')\n",
       "  const is_dev = py_version.indexOf(\"+\") !== -1 || py_version.indexOf(\"-\") !== -1\n",
       "  function embed_document(root) {\n",
       "    var Bokeh = get_bokeh(root)\n",
       "    Bokeh.embed.embed_items_notebook(docs_json, render_items);\n",
       "    for (const render_item of render_items) {\n",
       "      for (const root_id of render_item.root_ids) {\n",
       "\tconst id_el = document.getElementById(root_id)\n",
       "\tif (id_el.children.length && (id_el.children[0].className === 'bk-root')) {\n",
       "\t  const root_el = id_el.children[0]\n",
       "\t  root_el.id = root_el.id + '-rendered'\n",
       "\t}\n",
       "      }\n",
       "    }\n",
       "  }\n",
       "  function get_bokeh(root) {\n",
       "    if (root.Bokeh === undefined) {\n",
       "      return null\n",
       "    } else if (root.Bokeh.version !== py_version && !is_dev) {\n",
       "      if (root.Bokeh.versions === undefined || !root.Bokeh.versions.has(py_version)) {\n",
       "\treturn null\n",
       "      }\n",
       "      return root.Bokeh.versions.get(py_version);\n",
       "    } else if (root.Bokeh.version === py_version) {\n",
       "      return root.Bokeh\n",
       "    }\n",
       "    return null\n",
       "  }\n",
       "  function is_loaded(root) {\n",
       "    var Bokeh = get_bokeh(root)\n",
       "    return (Bokeh != null && Bokeh.Panel !== undefined)\n",
       "  }\n",
       "  if (is_loaded(root)) {\n",
       "    embed_document(root);\n",
       "  } else {\n",
       "    var attempts = 0;\n",
       "    var timer = setInterval(function(root) {\n",
       "      if (is_loaded(root)) {\n",
       "        clearInterval(timer);\n",
       "        embed_document(root);\n",
       "      } else if (document.readyState == \"complete\") {\n",
       "        attempts++;\n",
       "        if (attempts > 200) {\n",
       "          clearInterval(timer);\n",
       "\t  var Bokeh = get_bokeh(root)\n",
       "\t  if (Bokeh == null || Bokeh.Panel == null) {\n",
       "            console.warn(\"Panel: ERROR: Unable to run Panel code because Bokeh or Panel library is missing\");\n",
       "\t  } else {\n",
       "\t    console.warn(\"Panel: WARNING: Attempting to render but not all required libraries could be resolved.\")\n",
       "\t    embed_document(root)\n",
       "\t  }\n",
       "        }\n",
       "      }\n",
       "    }, 25, root)\n",
       "  }\n",
       "})(window);</script>"
      ],
      "text/plain": [
       ":Curve   [Date]   (Close)"
      ]
     },
     "execution_count": 81,
     "metadata": {
      "application/vnd.holoviews_exec.v0+json": {
       "id": "p3880"
      }
     },
     "output_type": "execute_result"
    }
   ],
   "source": [
    "#  Store a Plot inside a variable \n",
    "\n",
    "xlre_plot = xlre_returns.hvplot(\n",
    "    title='Quarterly Returns of The Real Estate Select Sector SPDR Fund (XLRE)',\n",
    "    rot=90,\n",
    "    ylabel='Rate of Return',\n",
    "    xlabel='Date(in Qtrs.)'\n",
    "\n",
    ")\n",
    "\n",
    "xlre_plot"
   ]
  },
  {
   "cell_type": "code",
   "execution_count": 82,
   "metadata": {},
   "outputs": [],
   "source": [
    "# Slice HPI data to start from 2016 for a comparative view of XLRE & create a variable to store a plot of HPI for this timeframe \n",
    "hpi_returns_2016 = hpi_1985_returns.loc['2016-01-01':'2023-07-01']\n",
    "\n",
    "hpi_2016_plot = hpi_returns_2016.hvplot(\n",
    "    title='Quarterly Returns of the Housing Price Index',\n",
    "    rot=90,\n",
    "    label='Quarterly Returns of the Housing Price Index',\n",
    "    ylabel='Rate of Return',\n",
    "    xlabel='Date(in Qtrs.)'\n",
    "\n",
    ")"
   ]
  },
  {
   "cell_type": "code",
   "execution_count": 83,
   "metadata": {},
   "outputs": [
    {
     "data": {},
     "metadata": {},
     "output_type": "display_data"
    },
    {
     "data": {
      "application/vnd.holoviews_exec.v0+json": "",
      "text/html": [
       "<div id='p3951'>\n",
       "  <div id=\"b9b3083d-0bca-4121-b4c6-4c212f656c30\" data-root-id=\"p3951\" style=\"display: contents;\"></div>\n",
       "</div>\n",
       "<script type=\"application/javascript\">(function(root) {\n",
       "  var docs_json = {\"47016434-5c86-4229-ade7-bd0fda05a268\":{\"version\":\"3.2.2\",\"title\":\"Bokeh Application\",\"roots\":[{\"type\":\"object\",\"name\":\"Row\",\"id\":\"p3951\",\"attributes\":{\"name\":\"Row06406\",\"tags\":[\"embedded\"],\"stylesheets\":[\"\\n:host(.pn-loading.pn-arc):before, .pn-loading.pn-arc:before {\\n  background-image: url(\\\"data:image/svg+xml;base64,PHN2ZyB4bWxucz0iaHR0cDovL3d3dy53My5vcmcvMjAwMC9zdmciIHN0eWxlPSJtYXJnaW46IGF1dG87IGJhY2tncm91bmQ6IG5vbmU7IGRpc3BsYXk6IGJsb2NrOyBzaGFwZS1yZW5kZXJpbmc6IGF1dG87IiB2aWV3Qm94PSIwIDAgMTAwIDEwMCIgcHJlc2VydmVBc3BlY3RSYXRpbz0ieE1pZFlNaWQiPiAgPGNpcmNsZSBjeD0iNTAiIGN5PSI1MCIgZmlsbD0ibm9uZSIgc3Ryb2tlPSIjYzNjM2MzIiBzdHJva2Utd2lkdGg9IjEwIiByPSIzNSIgc3Ryb2tlLWRhc2hhcnJheT0iMTY0LjkzMzYxNDMxMzQ2NDE1IDU2Ljk3Nzg3MTQzNzgyMTM4Ij4gICAgPGFuaW1hdGVUcmFuc2Zvcm0gYXR0cmlidXRlTmFtZT0idHJhbnNmb3JtIiB0eXBlPSJyb3RhdGUiIHJlcGVhdENvdW50PSJpbmRlZmluaXRlIiBkdXI9IjFzIiB2YWx1ZXM9IjAgNTAgNTA7MzYwIDUwIDUwIiBrZXlUaW1lcz0iMDsxIj48L2FuaW1hdGVUcmFuc2Zvcm0+ICA8L2NpcmNsZT48L3N2Zz4=\\\");\\n  background-size: auto calc(min(50%, 400px));\\n}\",{\"type\":\"object\",\"name\":\"ImportedStyleSheet\",\"id\":\"p3954\",\"attributes\":{\"url\":\"https://cdn.holoviz.org/panel/1.2.3/dist/css/loading.css\"}},{\"type\":\"object\",\"name\":\"ImportedStyleSheet\",\"id\":\"p4037\",\"attributes\":{\"url\":\"https://cdn.holoviz.org/panel/1.2.3/dist/css/listpanel.css\"}},{\"type\":\"object\",\"name\":\"ImportedStyleSheet\",\"id\":\"p3952\",\"attributes\":{\"url\":\"https://cdn.holoviz.org/panel/1.2.3/dist/bundled/theme/default.css\"}},{\"type\":\"object\",\"name\":\"ImportedStyleSheet\",\"id\":\"p3953\",\"attributes\":{\"url\":\"https://cdn.holoviz.org/panel/1.2.3/dist/bundled/theme/native.css\"}}],\"min_width\":1000,\"margin\":0,\"sizing_mode\":\"stretch_width\",\"align\":\"start\",\"children\":[{\"type\":\"object\",\"name\":\"Spacer\",\"id\":\"p3955\",\"attributes\":{\"name\":\"HSpacer06417\",\"stylesheets\":[\"\\n:host(.pn-loading.pn-arc):before, .pn-loading.pn-arc:before {\\n  background-image: url(\\\"data:image/svg+xml;base64,PHN2ZyB4bWxucz0iaHR0cDovL3d3dy53My5vcmcvMjAwMC9zdmciIHN0eWxlPSJtYXJnaW46IGF1dG87IGJhY2tncm91bmQ6IG5vbmU7IGRpc3BsYXk6IGJsb2NrOyBzaGFwZS1yZW5kZXJpbmc6IGF1dG87IiB2aWV3Qm94PSIwIDAgMTAwIDEwMCIgcHJlc2VydmVBc3BlY3RSYXRpbz0ieE1pZFlNaWQiPiAgPGNpcmNsZSBjeD0iNTAiIGN5PSI1MCIgZmlsbD0ibm9uZSIgc3Ryb2tlPSIjYzNjM2MzIiBzdHJva2Utd2lkdGg9IjEwIiByPSIzNSIgc3Ryb2tlLWRhc2hhcnJheT0iMTY0LjkzMzYxNDMxMzQ2NDE1IDU2Ljk3Nzg3MTQzNzgyMTM4Ij4gICAgPGFuaW1hdGVUcmFuc2Zvcm0gYXR0cmlidXRlTmFtZT0idHJhbnNmb3JtIiB0eXBlPSJyb3RhdGUiIHJlcGVhdENvdW50PSJpbmRlZmluaXRlIiBkdXI9IjFzIiB2YWx1ZXM9IjAgNTAgNTA7MzYwIDUwIDUwIiBrZXlUaW1lcz0iMDsxIj48L2FuaW1hdGVUcmFuc2Zvcm0+ICA8L2NpcmNsZT48L3N2Zz4=\\\");\\n  background-size: auto calc(min(50%, 400px));\\n}\",{\"id\":\"p3954\"},{\"id\":\"p3952\"},{\"id\":\"p3953\"}],\"margin\":0,\"sizing_mode\":\"stretch_width\",\"align\":\"start\"}},{\"type\":\"object\",\"name\":\"Figure\",\"id\":\"p3966\",\"attributes\":{\"width\":1000,\"height\":500,\"margin\":[5,10],\"sizing_mode\":\"fixed\",\"align\":\"start\",\"x_range\":{\"type\":\"object\",\"name\":\"Range1d\",\"id\":\"p3956\",\"attributes\":{\"tags\":[[[\"Date\",\"Date\",null]],[]],\"start\":1451606400000.0,\"end\":1688169600000.0,\"reset_start\":1451606400000.0,\"reset_end\":1688169600000.0}},\"y_range\":{\"type\":\"object\",\"name\":\"Range1d\",\"id\":\"p3957\",\"attributes\":{\"tags\":[[[\"Close\",\"Close\",null]],{\"type\":\"map\",\"entries\":[[\"invert_yaxis\",false],[\"autorange\",false]]}],\"start\":-0.23501813914758157,\"end\":0.20506034299710424,\"reset_start\":-0.23501813914758157,\"reset_end\":0.20506034299710424}},\"x_scale\":{\"type\":\"object\",\"name\":\"LinearScale\",\"id\":\"p3976\"},\"y_scale\":{\"type\":\"object\",\"name\":\"LinearScale\",\"id\":\"p3977\"},\"title\":{\"type\":\"object\",\"name\":\"Title\",\"id\":\"p3969\",\"attributes\":{\"text\":\"Comparative view at Quartlely Returns of the HPI, S&P500 & XLRE\",\"text_color\":\"black\",\"text_font_size\":\"12pt\"}},\"renderers\":[{\"type\":\"object\",\"name\":\"GlyphRenderer\",\"id\":\"p4014\",\"attributes\":{\"name\":\"Close\",\"data_source\":{\"type\":\"object\",\"name\":\"ColumnDataSource\",\"id\":\"p4005\",\"attributes\":{\"selected\":{\"type\":\"object\",\"name\":\"Selection\",\"id\":\"p4006\",\"attributes\":{\"indices\":[],\"line_indices\":[]}},\"selection_policy\":{\"type\":\"object\",\"name\":\"UnionRenderers\",\"id\":\"p4007\"},\"data\":{\"type\":\"map\",\"entries\":[[\"Date\",{\"type\":\"ndarray\",\"array\":{\"type\":\"bytes\",\"data\":\"AADAvacfdUIAAADp8Tx1QgAAQBQ8WnVCAABApdh3dUIAAEA2dZV1QgAAwPtssnVCAAAAJ7fPdUIAAAC4U+11QgAAAEnwCnZCAACADugndkIAAMA5MkV2QgAAwMrOYnZCAADAW2uAdkIAAEAhY512QgAAgEytunZCAACA3UnYdkIAAIBu5vV2QgAAwJkwE3dCAAAAxXowd0IAAABWF053QgAAAOeza3dCAACArKuId0IAAMDX9aV3QgAAwGiSw3dCAADA+S7hd0IAAEC/Jv53QgAAgOpwG3hCAACAew05eEIAAIAMqlZ4QgAAANKhc3hCAABA/euQeEI=\"},\"shape\":[31],\"dtype\":\"float64\",\"order\":\"little\"}],[\"Close\",{\"type\":\"ndarray\",\"array\":{\"type\":\"bytes\",\"data\":\"AG8m100GoD+Au7f8I8SmP4BBEs92/5i/MJORMoKPr7/AKQSaQk6cP8CFQLtrcZM/AITSRW9aVD8ArWrirzuWP+Bh/XUl6ay/4PXRbhvaqj8A880kQAtpv/Do43w0R6m/2FprrbWNxT+AIru1ShmPP7DSzX6R5LE/oAsVOpdwkb/wWcjiXWPJv2BrrbWWdr8/gJP2HT0Qiz/gaLb39bmiP4AqKqAzhLQ/oC0rb0Rgvz8AIquy4CxmP5g3I/SzMcU/wLvEK5s+sb8kx1Zf98LDv9AGpMf+Yr6/wI8z0mMpmj8AuharkvSIP4CvFFP++4A/AI6vwoOWuL8=\"},\"shape\":[31],\"dtype\":\"float64\",\"order\":\"little\"}]]}}},\"view\":{\"type\":\"object\",\"name\":\"CDSView\",\"id\":\"p4015\",\"attributes\":{\"filter\":{\"type\":\"object\",\"name\":\"AllIndices\",\"id\":\"p4016\"}}},\"glyph\":{\"type\":\"object\",\"name\":\"Line\",\"id\":\"p4011\",\"attributes\":{\"tags\":[\"apply_ranges\"],\"x\":{\"type\":\"field\",\"field\":\"Date\"},\"y\":{\"type\":\"field\",\"field\":\"Close\"},\"line_color\":\"#30a2da\",\"line_width\":2}},\"selection_glyph\":{\"type\":\"object\",\"name\":\"Line\",\"id\":\"p4019\",\"attributes\":{\"tags\":[\"apply_ranges\"],\"x\":{\"type\":\"field\",\"field\":\"Date\"},\"y\":{\"type\":\"field\",\"field\":\"Close\"},\"line_color\":\"#30a2da\",\"line_width\":2}},\"nonselection_glyph\":{\"type\":\"object\",\"name\":\"Line\",\"id\":\"p4012\",\"attributes\":{\"tags\":[\"apply_ranges\"],\"x\":{\"type\":\"field\",\"field\":\"Date\"},\"y\":{\"type\":\"field\",\"field\":\"Close\"},\"line_color\":\"#30a2da\",\"line_alpha\":0.1,\"line_width\":2}},\"muted_glyph\":{\"type\":\"object\",\"name\":\"Line\",\"id\":\"p4013\",\"attributes\":{\"tags\":[\"apply_ranges\"],\"x\":{\"type\":\"field\",\"field\":\"Date\"},\"y\":{\"type\":\"field\",\"field\":\"Close\"},\"line_color\":\"#30a2da\",\"line_alpha\":0.2,\"line_width\":2}}}},{\"type\":\"object\",\"name\":\"GlyphRenderer\",\"id\":\"p4029\",\"attributes\":{\"name\":\"Quarterly Returns of the Housing Price Index\",\"data_source\":{\"type\":\"object\",\"name\":\"ColumnDataSource\",\"id\":\"p4020\",\"attributes\":{\"selected\":{\"type\":\"object\",\"name\":\"Selection\",\"id\":\"p4021\",\"attributes\":{\"indices\":[],\"line_indices\":[]}},\"selection_policy\":{\"type\":\"object\",\"name\":\"UnionRenderers\",\"id\":\"p4022\"},\"data\":{\"type\":\"map\",\"entries\":[[\"date\",{\"type\":\"ndarray\",\"array\":{\"type\":\"bytes\",\"data\":\"AADAvacfdUIAAADp8Tx1QgAAQBQ8WnVCAABApdh3dUIAAEA2dZV1QgAAwPtssnVCAAAAJ7fPdUIAAAC4U+11QgAAAEnwCnZCAACADugndkIAAMA5MkV2QgAAwMrOYnZCAADAW2uAdkIAAEAhY512QgAAgEytunZCAACA3UnYdkIAAIBu5vV2QgAAwJkwE3dCAAAAxXowd0IAAABWF053QgAAAOeza3dCAACArKuId0IAAMDX9aV3QgAAwGiSw3dCAADA+S7hd0IAAEC/Jv53QgAAgOpwG3hCAACAew05eEIAAIAMqlZ4QgAAANKhc3hC\"},\"shape\":[30],\"dtype\":\"float64\",\"order\":\"little\"}],[\"HPI pct_change\",{\"type\":\"ndarray\",\"array\":{\"type\":\"bytes\",\"data\":\"gEzcWk/zgj9ArAot0iOTP4BjJ1B7PZI/AGdUuPABgD8ASnygr6B9P8BTDR689pY/gEGClqaFjz+As/KX/hSBPwDlGqM1wow/wPt7KsXhkj8AZnghlf+IPwBsyEtRJGw/ANzrkSHfhj9A+DmaRQyRP4AtfOALG4o/AJ1flcFAgj+AK75FPbWHP4BsjjkuhoQ/APIftC/jkT9ApDFjQIqWP0DPU5cOrZg/gHl9xwh0rD+AFX5F/o6sP8CyBDJ0s6E/YFnwqaTjoj8g/oJp6TmxPwBjp8DQbJE/gAkLKkagf78Atz+o3ERyP4BhyL2dQZ8/\"},\"shape\":[30],\"dtype\":\"float64\",\"order\":\"little\"}],[\"HPI_pct_change\",{\"type\":\"ndarray\",\"array\":{\"type\":\"bytes\",\"data\":\"gEzcWk/zgj9ArAot0iOTP4BjJ1B7PZI/AGdUuPABgD8ASnygr6B9P8BTDR689pY/gEGClqaFjz+As/KX/hSBPwDlGqM1wow/wPt7KsXhkj8AZnghlf+IPwBsyEtRJGw/ANzrkSHfhj9A+DmaRQyRP4AtfOALG4o/AJ1flcFAgj+AK75FPbWHP4BsjjkuhoQ/APIftC/jkT9ApDFjQIqWP0DPU5cOrZg/gHl9xwh0rD+AFX5F/o6sP8CyBDJ0s6E/YFnwqaTjoj8g/oJp6TmxPwBjp8DQbJE/gAkLKkagf78Atz+o3ERyP4BhyL2dQZ8/\"},\"shape\":[30],\"dtype\":\"float64\",\"order\":\"little\"}]]}}},\"view\":{\"type\":\"object\",\"name\":\"CDSView\",\"id\":\"p4030\",\"attributes\":{\"filter\":{\"type\":\"object\",\"name\":\"AllIndices\",\"id\":\"p4031\"}}},\"glyph\":{\"type\":\"object\",\"name\":\"Line\",\"id\":\"p4026\",\"attributes\":{\"tags\":[\"apply_ranges\"],\"x\":{\"type\":\"field\",\"field\":\"date\"},\"y\":{\"type\":\"field\",\"field\":\"HPI pct_change\"},\"line_color\":\"#fc4f30\",\"line_width\":2}},\"selection_glyph\":{\"type\":\"object\",\"name\":\"Line\",\"id\":\"p4033\",\"attributes\":{\"tags\":[\"apply_ranges\"],\"x\":{\"type\":\"field\",\"field\":\"date\"},\"y\":{\"type\":\"field\",\"field\":\"HPI pct_change\"},\"line_color\":\"#fc4f30\",\"line_width\":2}},\"nonselection_glyph\":{\"type\":\"object\",\"name\":\"Line\",\"id\":\"p4027\",\"attributes\":{\"tags\":[\"apply_ranges\"],\"x\":{\"type\":\"field\",\"field\":\"date\"},\"y\":{\"type\":\"field\",\"field\":\"HPI pct_change\"},\"line_color\":\"#fc4f30\",\"line_alpha\":0.1,\"line_width\":2}},\"muted_glyph\":{\"type\":\"object\",\"name\":\"Line\",\"id\":\"p4028\",\"attributes\":{\"tags\":[\"apply_ranges\"],\"x\":{\"type\":\"field\",\"field\":\"date\"},\"y\":{\"type\":\"field\",\"field\":\"HPI pct_change\"},\"line_color\":\"#fc4f30\",\"line_alpha\":0.2,\"line_width\":2}}}}],\"toolbar\":{\"type\":\"object\",\"name\":\"Toolbar\",\"id\":\"p3975\",\"attributes\":{\"tools\":[{\"type\":\"object\",\"name\":\"WheelZoomTool\",\"id\":\"p3961\",\"attributes\":{\"tags\":[\"hv_created\"],\"zoom_together\":\"none\"}},{\"type\":\"object\",\"name\":\"HoverTool\",\"id\":\"p3962\",\"attributes\":{\"tags\":[\"hv_created\"],\"renderers\":[{\"id\":\"p4014\"}],\"tooltips\":[[\"Date\",\"@{Date}{%F %T}\"],[\"Close\",\"@{Close}\"]],\"formatters\":{\"type\":\"map\",\"entries\":[[\"@{Date}\",\"datetime\"]]}}},{\"type\":\"object\",\"name\":\"HoverTool\",\"id\":\"p3965\",\"attributes\":{\"tags\":[\"hv_created\"],\"renderers\":[{\"id\":\"p4029\"}],\"tooltips\":[[\"date\",\"@{date}{%F %T}\"],[\"HPI pct_change\",\"@{HPI_pct_change}\"]],\"formatters\":{\"type\":\"map\",\"entries\":[[\"@{date}\",\"datetime\"]]}}},{\"type\":\"object\",\"name\":\"SaveTool\",\"id\":\"p4000\"},{\"type\":\"object\",\"name\":\"PanTool\",\"id\":\"p4001\"},{\"type\":\"object\",\"name\":\"BoxZoomTool\",\"id\":\"p4002\",\"attributes\":{\"overlay\":{\"type\":\"object\",\"name\":\"BoxAnnotation\",\"id\":\"p4003\",\"attributes\":{\"syncable\":false,\"level\":\"overlay\",\"visible\":false,\"left_units\":\"canvas\",\"right_units\":\"canvas\",\"bottom_units\":\"canvas\",\"top_units\":\"canvas\",\"line_color\":\"black\",\"line_alpha\":1.0,\"line_width\":2,\"line_dash\":[4,4],\"fill_color\":\"lightgrey\",\"fill_alpha\":0.5}}}},{\"type\":\"object\",\"name\":\"ResetTool\",\"id\":\"p4004\"}],\"active_drag\":{\"id\":\"p4001\"},\"active_scroll\":{\"id\":\"p3961\"}}},\"left\":[{\"type\":\"object\",\"name\":\"LinearAxis\",\"id\":\"p3995\",\"attributes\":{\"ticker\":{\"type\":\"object\",\"name\":\"BasicTicker\",\"id\":\"p3996\",\"attributes\":{\"mantissas\":[1,2,5]}},\"formatter\":{\"type\":\"object\",\"name\":\"BasicTickFormatter\",\"id\":\"p3997\"},\"axis_label\":\"Rate of Return\",\"major_label_policy\":{\"type\":\"object\",\"name\":\"AllLabels\",\"id\":\"p3998\"}}}],\"below\":[{\"type\":\"object\",\"name\":\"DatetimeAxis\",\"id\":\"p3978\",\"attributes\":{\"ticker\":{\"type\":\"object\",\"name\":\"DatetimeTicker\",\"id\":\"p3979\",\"attributes\":{\"num_minor_ticks\":5,\"tickers\":[{\"type\":\"object\",\"name\":\"AdaptiveTicker\",\"id\":\"p3980\",\"attributes\":{\"num_minor_ticks\":0,\"mantissas\":[1,2,5],\"max_interval\":500.0}},{\"type\":\"object\",\"name\":\"AdaptiveTicker\",\"id\":\"p3981\",\"attributes\":{\"num_minor_ticks\":0,\"base\":60,\"mantissas\":[1,2,5,10,15,20,30],\"min_interval\":1000.0,\"max_interval\":1800000.0}},{\"type\":\"object\",\"name\":\"AdaptiveTicker\",\"id\":\"p3982\",\"attributes\":{\"num_minor_ticks\":0,\"base\":24,\"mantissas\":[1,2,4,6,8,12],\"min_interval\":3600000.0,\"max_interval\":43200000.0}},{\"type\":\"object\",\"name\":\"DaysTicker\",\"id\":\"p3983\",\"attributes\":{\"days\":[1,2,3,4,5,6,7,8,9,10,11,12,13,14,15,16,17,18,19,20,21,22,23,24,25,26,27,28,29,30,31]}},{\"type\":\"object\",\"name\":\"DaysTicker\",\"id\":\"p3984\",\"attributes\":{\"days\":[1,4,7,10,13,16,19,22,25,28]}},{\"type\":\"object\",\"name\":\"DaysTicker\",\"id\":\"p3985\",\"attributes\":{\"days\":[1,8,15,22]}},{\"type\":\"object\",\"name\":\"DaysTicker\",\"id\":\"p3986\",\"attributes\":{\"days\":[1,15]}},{\"type\":\"object\",\"name\":\"MonthsTicker\",\"id\":\"p3987\",\"attributes\":{\"months\":[0,1,2,3,4,5,6,7,8,9,10,11]}},{\"type\":\"object\",\"name\":\"MonthsTicker\",\"id\":\"p3988\",\"attributes\":{\"months\":[0,2,4,6,8,10]}},{\"type\":\"object\",\"name\":\"MonthsTicker\",\"id\":\"p3989\",\"attributes\":{\"months\":[0,4,8]}},{\"type\":\"object\",\"name\":\"MonthsTicker\",\"id\":\"p3990\",\"attributes\":{\"months\":[0,6]}},{\"type\":\"object\",\"name\":\"YearsTicker\",\"id\":\"p3991\"}]}},\"formatter\":{\"type\":\"object\",\"name\":\"DatetimeTickFormatter\",\"id\":\"p3992\"},\"axis_label\":\"Date\",\"major_label_orientation\":1.5707963267948966,\"major_label_policy\":{\"type\":\"object\",\"name\":\"AllLabels\",\"id\":\"p3993\"}}}],\"center\":[{\"type\":\"object\",\"name\":\"Grid\",\"id\":\"p3994\",\"attributes\":{\"axis\":{\"id\":\"p3978\"},\"grid_line_color\":null}},{\"type\":\"object\",\"name\":\"Grid\",\"id\":\"p3999\",\"attributes\":{\"dimension\":1,\"axis\":{\"id\":\"p3995\"},\"grid_line_color\":null}},{\"type\":\"object\",\"name\":\"Legend\",\"id\":\"p4017\",\"attributes\":{\"click_policy\":\"mute\",\"items\":[{\"type\":\"object\",\"name\":\"LegendItem\",\"id\":\"p4018\",\"attributes\":{\"label\":{\"type\":\"value\",\"value\":\"Close\"},\"renderers\":[{\"id\":\"p4014\"}]}},{\"type\":\"object\",\"name\":\"LegendItem\",\"id\":\"p4032\",\"attributes\":{\"label\":{\"type\":\"value\",\"value\":\"Quarterly Returns of the Housing Price Index\"},\"renderers\":[{\"id\":\"p4029\"}]}}]}}],\"background_fill_color\":\"lightgrey\",\"min_border_top\":10,\"min_border_bottom\":10,\"min_border_left\":10,\"min_border_right\":10,\"output_backend\":\"webgl\"}},{\"type\":\"object\",\"name\":\"Spacer\",\"id\":\"p4035\",\"attributes\":{\"name\":\"HSpacer06420\",\"stylesheets\":[\"\\n:host(.pn-loading.pn-arc):before, .pn-loading.pn-arc:before {\\n  background-image: url(\\\"data:image/svg+xml;base64,PHN2ZyB4bWxucz0iaHR0cDovL3d3dy53My5vcmcvMjAwMC9zdmciIHN0eWxlPSJtYXJnaW46IGF1dG87IGJhY2tncm91bmQ6IG5vbmU7IGRpc3BsYXk6IGJsb2NrOyBzaGFwZS1yZW5kZXJpbmc6IGF1dG87IiB2aWV3Qm94PSIwIDAgMTAwIDEwMCIgcHJlc2VydmVBc3BlY3RSYXRpbz0ieE1pZFlNaWQiPiAgPGNpcmNsZSBjeD0iNTAiIGN5PSI1MCIgZmlsbD0ibm9uZSIgc3Ryb2tlPSIjYzNjM2MzIiBzdHJva2Utd2lkdGg9IjEwIiByPSIzNSIgc3Ryb2tlLWRhc2hhcnJheT0iMTY0LjkzMzYxNDMxMzQ2NDE1IDU2Ljk3Nzg3MTQzNzgyMTM4Ij4gICAgPGFuaW1hdGVUcmFuc2Zvcm0gYXR0cmlidXRlTmFtZT0idHJhbnNmb3JtIiB0eXBlPSJyb3RhdGUiIHJlcGVhdENvdW50PSJpbmRlZmluaXRlIiBkdXI9IjFzIiB2YWx1ZXM9IjAgNTAgNTA7MzYwIDUwIDUwIiBrZXlUaW1lcz0iMDsxIj48L2FuaW1hdGVUcmFuc2Zvcm0+ICA8L2NpcmNsZT48L3N2Zz4=\\\");\\n  background-size: auto calc(min(50%, 400px));\\n}\",{\"id\":\"p3954\"},{\"id\":\"p3952\"},{\"id\":\"p3953\"}],\"margin\":0,\"sizing_mode\":\"stretch_width\",\"align\":\"start\"}}]}}],\"defs\":[{\"type\":\"model\",\"name\":\"ReactiveHTML1\"},{\"type\":\"model\",\"name\":\"FlexBox1\",\"properties\":[{\"name\":\"align_content\",\"kind\":\"Any\",\"default\":\"flex-start\"},{\"name\":\"align_items\",\"kind\":\"Any\",\"default\":\"flex-start\"},{\"name\":\"flex_direction\",\"kind\":\"Any\",\"default\":\"row\"},{\"name\":\"flex_wrap\",\"kind\":\"Any\",\"default\":\"wrap\"},{\"name\":\"justify_content\",\"kind\":\"Any\",\"default\":\"flex-start\"}]},{\"type\":\"model\",\"name\":\"FloatPanel1\",\"properties\":[{\"name\":\"config\",\"kind\":\"Any\",\"default\":{\"type\":\"map\"}},{\"name\":\"contained\",\"kind\":\"Any\",\"default\":true},{\"name\":\"position\",\"kind\":\"Any\",\"default\":\"right-top\"},{\"name\":\"offsetx\",\"kind\":\"Any\",\"default\":null},{\"name\":\"offsety\",\"kind\":\"Any\",\"default\":null},{\"name\":\"theme\",\"kind\":\"Any\",\"default\":\"primary\"},{\"name\":\"status\",\"kind\":\"Any\",\"default\":\"normalized\"}]},{\"type\":\"model\",\"name\":\"GridStack1\",\"properties\":[{\"name\":\"mode\",\"kind\":\"Any\",\"default\":\"warn\"},{\"name\":\"ncols\",\"kind\":\"Any\",\"default\":null},{\"name\":\"nrows\",\"kind\":\"Any\",\"default\":null},{\"name\":\"allow_resize\",\"kind\":\"Any\",\"default\":true},{\"name\":\"allow_drag\",\"kind\":\"Any\",\"default\":true},{\"name\":\"state\",\"kind\":\"Any\",\"default\":[]}]},{\"type\":\"model\",\"name\":\"drag1\",\"properties\":[{\"name\":\"slider_width\",\"kind\":\"Any\",\"default\":5},{\"name\":\"slider_color\",\"kind\":\"Any\",\"default\":\"black\"},{\"name\":\"value\",\"kind\":\"Any\",\"default\":50}]},{\"type\":\"model\",\"name\":\"click1\",\"properties\":[{\"name\":\"terminal_output\",\"kind\":\"Any\",\"default\":\"\"},{\"name\":\"debug_name\",\"kind\":\"Any\",\"default\":\"\"},{\"name\":\"clears\",\"kind\":\"Any\",\"default\":0}]},{\"type\":\"model\",\"name\":\"FastWrapper1\",\"properties\":[{\"name\":\"object\",\"kind\":\"Any\",\"default\":null},{\"name\":\"style\",\"kind\":\"Any\",\"default\":null}]},{\"type\":\"model\",\"name\":\"NotificationAreaBase1\",\"properties\":[{\"name\":\"js_events\",\"kind\":\"Any\",\"default\":{\"type\":\"map\"}},{\"name\":\"position\",\"kind\":\"Any\",\"default\":\"bottom-right\"},{\"name\":\"_clear\",\"kind\":\"Any\",\"default\":0}]},{\"type\":\"model\",\"name\":\"NotificationArea1\",\"properties\":[{\"name\":\"js_events\",\"kind\":\"Any\",\"default\":{\"type\":\"map\"}},{\"name\":\"notifications\",\"kind\":\"Any\",\"default\":[]},{\"name\":\"position\",\"kind\":\"Any\",\"default\":\"bottom-right\"},{\"name\":\"_clear\",\"kind\":\"Any\",\"default\":0},{\"name\":\"types\",\"kind\":\"Any\",\"default\":[{\"type\":\"map\",\"entries\":[[\"type\",\"warning\"],[\"background\",\"#ffc107\"],[\"icon\",{\"type\":\"map\",\"entries\":[[\"className\",\"fas fa-exclamation-triangle\"],[\"tagName\",\"i\"],[\"color\",\"white\"]]}]]},{\"type\":\"map\",\"entries\":[[\"type\",\"info\"],[\"background\",\"#007bff\"],[\"icon\",{\"type\":\"map\",\"entries\":[[\"className\",\"fas fa-info-circle\"],[\"tagName\",\"i\"],[\"color\",\"white\"]]}]]}]}]},{\"type\":\"model\",\"name\":\"Notification\",\"properties\":[{\"name\":\"background\",\"kind\":\"Any\",\"default\":null},{\"name\":\"duration\",\"kind\":\"Any\",\"default\":3000},{\"name\":\"icon\",\"kind\":\"Any\",\"default\":null},{\"name\":\"message\",\"kind\":\"Any\",\"default\":\"\"},{\"name\":\"notification_type\",\"kind\":\"Any\",\"default\":null},{\"name\":\"_destroyed\",\"kind\":\"Any\",\"default\":false}]},{\"type\":\"model\",\"name\":\"TemplateActions1\",\"properties\":[{\"name\":\"open_modal\",\"kind\":\"Any\",\"default\":0},{\"name\":\"close_modal\",\"kind\":\"Any\",\"default\":0}]},{\"type\":\"model\",\"name\":\"BootstrapTemplateActions1\",\"properties\":[{\"name\":\"open_modal\",\"kind\":\"Any\",\"default\":0},{\"name\":\"close_modal\",\"kind\":\"Any\",\"default\":0}]},{\"type\":\"model\",\"name\":\"MaterialTemplateActions1\",\"properties\":[{\"name\":\"open_modal\",\"kind\":\"Any\",\"default\":0},{\"name\":\"close_modal\",\"kind\":\"Any\",\"default\":0}]}]}};\n",
       "  var render_items = [{\"docid\":\"47016434-5c86-4229-ade7-bd0fda05a268\",\"roots\":{\"p3951\":\"b9b3083d-0bca-4121-b4c6-4c212f656c30\"},\"root_ids\":[\"p3951\"]}];\n",
       "  var docs = Object.values(docs_json)\n",
       "  if (!docs) {\n",
       "    return\n",
       "  }\n",
       "  const py_version = docs[0].version.replace('rc', '-rc.').replace('.dev', '-dev.')\n",
       "  const is_dev = py_version.indexOf(\"+\") !== -1 || py_version.indexOf(\"-\") !== -1\n",
       "  function embed_document(root) {\n",
       "    var Bokeh = get_bokeh(root)\n",
       "    Bokeh.embed.embed_items_notebook(docs_json, render_items);\n",
       "    for (const render_item of render_items) {\n",
       "      for (const root_id of render_item.root_ids) {\n",
       "\tconst id_el = document.getElementById(root_id)\n",
       "\tif (id_el.children.length && (id_el.children[0].className === 'bk-root')) {\n",
       "\t  const root_el = id_el.children[0]\n",
       "\t  root_el.id = root_el.id + '-rendered'\n",
       "\t}\n",
       "      }\n",
       "    }\n",
       "  }\n",
       "  function get_bokeh(root) {\n",
       "    if (root.Bokeh === undefined) {\n",
       "      return null\n",
       "    } else if (root.Bokeh.version !== py_version && !is_dev) {\n",
       "      if (root.Bokeh.versions === undefined || !root.Bokeh.versions.has(py_version)) {\n",
       "\treturn null\n",
       "      }\n",
       "      return root.Bokeh.versions.get(py_version);\n",
       "    } else if (root.Bokeh.version === py_version) {\n",
       "      return root.Bokeh\n",
       "    }\n",
       "    return null\n",
       "  }\n",
       "  function is_loaded(root) {\n",
       "    var Bokeh = get_bokeh(root)\n",
       "    return (Bokeh != null && Bokeh.Panel !== undefined)\n",
       "  }\n",
       "  if (is_loaded(root)) {\n",
       "    embed_document(root);\n",
       "  } else {\n",
       "    var attempts = 0;\n",
       "    var timer = setInterval(function(root) {\n",
       "      if (is_loaded(root)) {\n",
       "        clearInterval(timer);\n",
       "        embed_document(root);\n",
       "      } else if (document.readyState == \"complete\") {\n",
       "        attempts++;\n",
       "        if (attempts > 200) {\n",
       "          clearInterval(timer);\n",
       "\t  var Bokeh = get_bokeh(root)\n",
       "\t  if (Bokeh == null || Bokeh.Panel == null) {\n",
       "            console.warn(\"Panel: ERROR: Unable to run Panel code because Bokeh or Panel library is missing\");\n",
       "\t  } else {\n",
       "\t    console.warn(\"Panel: WARNING: Attempting to render but not all required libraries could be resolved.\")\n",
       "\t    embed_document(root)\n",
       "\t  }\n",
       "        }\n",
       "      }\n",
       "    }, 25, root)\n",
       "  }\n",
       "})(window);</script>"
      ],
      "text/plain": [
       ":Overlay\n",
       "   .Curve.Close                                        :Curve   [Date]   (Close)\n",
       "   .Curve.Quarterly_Returns_of_the_Housing_Price_Index :Curve   [date]   (HPI pct_change)"
      ]
     },
     "execution_count": 83,
     "metadata": {
      "application/vnd.holoviews_exec.v0+json": {
       "id": "p3951"
      }
     },
     "output_type": "execute_result"
    }
   ],
   "source": [
    "# Create an overlay plot for the two visualizations of XLRE & HPI\n",
    "(xlre_plot * hpi_2016_plot).opts(\n",
    "    title=\"Comparative view at Quartlely Returns of the HPI, S&P500 & XLRE\",\n",
    "    bgcolor=\"lightgrey\", \n",
    "    height=500,\n",
    "    width=1000,\n",
    "    ylabel='Rate of Return',\n",
    "    xlabel='Date',\n",
    "    #hover_cols=['yellow']\n",
    ")"
   ]
  },
  {
   "cell_type": "markdown",
   "metadata": {},
   "source": [
    "## Residential Real Estate vs XLRE vs SP500 Index"
   ]
  },
  {
   "cell_type": "code",
   "execution_count": 84,
   "metadata": {},
   "outputs": [],
   "source": [
    "# Slice SP500 data to start from 2016 for a comparative view of XLRE & create a variable to store a plot of SP500 for this timeframe \n",
    "sp500_qtr_returns_2016 = sp500_returns.loc['2016-01-01':'2023-07-01']\n",
    "\n",
    "sp500_2016_plot = sp500_qtr_returns_2016.hvplot(\n",
    "    title='Quarterly Returns of the S&P 500 Index',\n",
    "    rot=90,\n",
    "    label='Quarterly Returns of the S&P 500 Index',\n",
    "    ylabel='Rate of Return',\n",
    "    xlabel='Date(in Qtrs.)'\n",
    "\n",
    ")"
   ]
  },
  {
   "cell_type": "code",
   "execution_count": 85,
   "metadata": {},
   "outputs": [
    {
     "data": {},
     "metadata": {},
     "output_type": "display_data"
    },
    {
     "data": {
      "application/vnd.holoviews_exec.v0+json": "",
      "text/html": [
       "<div id='p4044'>\n",
       "  <div id=\"e8d272d1-538f-43d6-a8a8-62a501fab62d\" data-root-id=\"p4044\" style=\"display: contents;\"></div>\n",
       "</div>\n",
       "<script type=\"application/javascript\">(function(root) {\n",
       "  var docs_json = {\"3ca6817d-bd2e-47e8-a594-80e9835ec27d\":{\"version\":\"3.2.2\",\"title\":\"Bokeh Application\",\"roots\":[{\"type\":\"object\",\"name\":\"Row\",\"id\":\"p4044\",\"attributes\":{\"name\":\"Row06619\",\"tags\":[\"embedded\"],\"stylesheets\":[\"\\n:host(.pn-loading.pn-arc):before, .pn-loading.pn-arc:before {\\n  background-image: url(\\\"data:image/svg+xml;base64,PHN2ZyB4bWxucz0iaHR0cDovL3d3dy53My5vcmcvMjAwMC9zdmciIHN0eWxlPSJtYXJnaW46IGF1dG87IGJhY2tncm91bmQ6IG5vbmU7IGRpc3BsYXk6IGJsb2NrOyBzaGFwZS1yZW5kZXJpbmc6IGF1dG87IiB2aWV3Qm94PSIwIDAgMTAwIDEwMCIgcHJlc2VydmVBc3BlY3RSYXRpbz0ieE1pZFlNaWQiPiAgPGNpcmNsZSBjeD0iNTAiIGN5PSI1MCIgZmlsbD0ibm9uZSIgc3Ryb2tlPSIjYzNjM2MzIiBzdHJva2Utd2lkdGg9IjEwIiByPSIzNSIgc3Ryb2tlLWRhc2hhcnJheT0iMTY0LjkzMzYxNDMxMzQ2NDE1IDU2Ljk3Nzg3MTQzNzgyMTM4Ij4gICAgPGFuaW1hdGVUcmFuc2Zvcm0gYXR0cmlidXRlTmFtZT0idHJhbnNmb3JtIiB0eXBlPSJyb3RhdGUiIHJlcGVhdENvdW50PSJpbmRlZmluaXRlIiBkdXI9IjFzIiB2YWx1ZXM9IjAgNTAgNTA7MzYwIDUwIDUwIiBrZXlUaW1lcz0iMDsxIj48L2FuaW1hdGVUcmFuc2Zvcm0+ICA8L2NpcmNsZT48L3N2Zz4=\\\");\\n  background-size: auto calc(min(50%, 400px));\\n}\",{\"type\":\"object\",\"name\":\"ImportedStyleSheet\",\"id\":\"p4047\",\"attributes\":{\"url\":\"https://cdn.holoviz.org/panel/1.2.3/dist/css/loading.css\"}},{\"type\":\"object\",\"name\":\"ImportedStyleSheet\",\"id\":\"p4147\",\"attributes\":{\"url\":\"https://cdn.holoviz.org/panel/1.2.3/dist/css/listpanel.css\"}},{\"type\":\"object\",\"name\":\"ImportedStyleSheet\",\"id\":\"p4045\",\"attributes\":{\"url\":\"https://cdn.holoviz.org/panel/1.2.3/dist/bundled/theme/default.css\"}},{\"type\":\"object\",\"name\":\"ImportedStyleSheet\",\"id\":\"p4046\",\"attributes\":{\"url\":\"https://cdn.holoviz.org/panel/1.2.3/dist/bundled/theme/native.css\"}}],\"min_width\":1000,\"margin\":0,\"sizing_mode\":\"stretch_width\",\"align\":\"start\",\"children\":[{\"type\":\"object\",\"name\":\"Spacer\",\"id\":\"p4048\",\"attributes\":{\"name\":\"HSpacer06630\",\"stylesheets\":[\"\\n:host(.pn-loading.pn-arc):before, .pn-loading.pn-arc:before {\\n  background-image: url(\\\"data:image/svg+xml;base64,PHN2ZyB4bWxucz0iaHR0cDovL3d3dy53My5vcmcvMjAwMC9zdmciIHN0eWxlPSJtYXJnaW46IGF1dG87IGJhY2tncm91bmQ6IG5vbmU7IGRpc3BsYXk6IGJsb2NrOyBzaGFwZS1yZW5kZXJpbmc6IGF1dG87IiB2aWV3Qm94PSIwIDAgMTAwIDEwMCIgcHJlc2VydmVBc3BlY3RSYXRpbz0ieE1pZFlNaWQiPiAgPGNpcmNsZSBjeD0iNTAiIGN5PSI1MCIgZmlsbD0ibm9uZSIgc3Ryb2tlPSIjYzNjM2MzIiBzdHJva2Utd2lkdGg9IjEwIiByPSIzNSIgc3Ryb2tlLWRhc2hhcnJheT0iMTY0LjkzMzYxNDMxMzQ2NDE1IDU2Ljk3Nzg3MTQzNzgyMTM4Ij4gICAgPGFuaW1hdGVUcmFuc2Zvcm0gYXR0cmlidXRlTmFtZT0idHJhbnNmb3JtIiB0eXBlPSJyb3RhdGUiIHJlcGVhdENvdW50PSJpbmRlZmluaXRlIiBkdXI9IjFzIiB2YWx1ZXM9IjAgNTAgNTA7MzYwIDUwIDUwIiBrZXlUaW1lcz0iMDsxIj48L2FuaW1hdGVUcmFuc2Zvcm0+ICA8L2NpcmNsZT48L3N2Zz4=\\\");\\n  background-size: auto calc(min(50%, 400px));\\n}\",{\"id\":\"p4047\"},{\"id\":\"p4045\"},{\"id\":\"p4046\"}],\"margin\":0,\"sizing_mode\":\"stretch_width\",\"align\":\"start\"}},{\"type\":\"object\",\"name\":\"Figure\",\"id\":\"p4062\",\"attributes\":{\"width\":1000,\"height\":500,\"margin\":[5,10],\"sizing_mode\":\"fixed\",\"align\":\"start\",\"x_range\":{\"type\":\"object\",\"name\":\"Range1d\",\"id\":\"p4049\",\"attributes\":{\"tags\":[[[\"Date\",\"Date\",null]],[]],\"start\":1451606400000.0,\"end\":1688169600000.0,\"reset_start\":1451606400000.0,\"reset_end\":1688169600000.0}},\"y_range\":{\"type\":\"object\",\"name\":\"Range1d\",\"id\":\"p4050\",\"attributes\":{\"tags\":[[[\"Close\",\"Close\",null]],{\"type\":\"map\",\"entries\":[[\"invert_yaxis\",false],[\"autorange\",false]]}],\"start\":-0.23996442617655153,\"end\":0.23948264204639844,\"reset_start\":-0.23996442617655153,\"reset_end\":0.23948264204639844}},\"x_scale\":{\"type\":\"object\",\"name\":\"LinearScale\",\"id\":\"p4072\"},\"y_scale\":{\"type\":\"object\",\"name\":\"LinearScale\",\"id\":\"p4073\"},\"title\":{\"type\":\"object\",\"name\":\"Title\",\"id\":\"p4065\",\"attributes\":{\"text\":\"Comparative view at Quartlely Returns of the HPI, S&P500 & XLRE\",\"text_color\":\"black\",\"text_font_size\":\"12pt\"}},\"renderers\":[{\"type\":\"object\",\"name\":\"GlyphRenderer\",\"id\":\"p4110\",\"attributes\":{\"name\":\"Quarterly Returns of the S&P 500 Index\",\"data_source\":{\"type\":\"object\",\"name\":\"ColumnDataSource\",\"id\":\"p4101\",\"attributes\":{\"selected\":{\"type\":\"object\",\"name\":\"Selection\",\"id\":\"p4102\",\"attributes\":{\"indices\":[],\"line_indices\":[]}},\"selection_policy\":{\"type\":\"object\",\"name\":\"UnionRenderers\",\"id\":\"p4103\"},\"data\":{\"type\":\"map\",\"entries\":[[\"Date\",{\"type\":\"ndarray\",\"array\":{\"type\":\"bytes\",\"data\":\"AADAvacfdUIAAADp8Tx1QgAAQBQ8WnVCAABApdh3dUIAAEA2dZV1QgAAwPtssnVCAAAAJ7fPdUIAAAC4U+11QgAAAEnwCnZCAACADugndkIAAMA5MkV2QgAAwMrOYnZCAADAW2uAdkIAAEAhY512QgAAgEytunZCAACA3UnYdkIAAIBu5vV2QgAAwJkwE3dCAAAAxXowd0IAAABWF053QgAAAOeza3dCAACArKuId0IAAMDX9aV3QgAAwGiSw3dCAADA+S7hd0IAAEC/Jv53QgAAgOpwG3hCAACAew05eEIAAIAMqlZ4QgAAANKhc3hCAABA/euQeEI=\"},\"shape\":[31],\"dtype\":\"float64\",\"order\":\"little\"}],[\"Close\",{\"type\":\"ndarray\",\"array\":{\"type\":\"bytes\",\"data\":\"AAH7srGpfz+ASBuR1XKTPyBwwsqW7qA/AISyqVupoD+AMxXlHVWsP0CmSPyNTZo/wJdDYYpFpD9AvHgZ/1ivP0BvmCE6FIm/wB2cyPoMnj9QfSZ332uyPyRb7H034sG/wOJxfIe5wD/AJ7N6r2SjPwDLWL84Wog/wOPvEPTYtT9sQ2S28ZnJvzis2TYoisk/0LYxp1axtT9g+Ese5uu9PyAaW6gnjq0/ULlCIrTqtD8A6PVAeSNjP/DoC93dQbs/wCsz1sZTqb+ESzKXugzFvwC5hBXaBKu/8C/IA0cgsj9ALDClW/2xP7DpawtxP7U/sA5mi+ysor8=\"},\"shape\":[31],\"dtype\":\"float64\",\"order\":\"little\"}]]}}},\"view\":{\"type\":\"object\",\"name\":\"CDSView\",\"id\":\"p4111\",\"attributes\":{\"filter\":{\"type\":\"object\",\"name\":\"AllIndices\",\"id\":\"p4112\"}}},\"glyph\":{\"type\":\"object\",\"name\":\"Line\",\"id\":\"p4107\",\"attributes\":{\"tags\":[\"apply_ranges\"],\"x\":{\"type\":\"field\",\"field\":\"Date\"},\"y\":{\"type\":\"field\",\"field\":\"Close\"},\"line_color\":\"#30a2da\",\"line_width\":2}},\"selection_glyph\":{\"type\":\"object\",\"name\":\"Line\",\"id\":\"p4115\",\"attributes\":{\"tags\":[\"apply_ranges\"],\"x\":{\"type\":\"field\",\"field\":\"Date\"},\"y\":{\"type\":\"field\",\"field\":\"Close\"},\"line_color\":\"#30a2da\",\"line_width\":2}},\"nonselection_glyph\":{\"type\":\"object\",\"name\":\"Line\",\"id\":\"p4108\",\"attributes\":{\"tags\":[\"apply_ranges\"],\"x\":{\"type\":\"field\",\"field\":\"Date\"},\"y\":{\"type\":\"field\",\"field\":\"Close\"},\"line_color\":\"#30a2da\",\"line_alpha\":0.1,\"line_width\":2}},\"muted_glyph\":{\"type\":\"object\",\"name\":\"Line\",\"id\":\"p4109\",\"attributes\":{\"tags\":[\"apply_ranges\"],\"x\":{\"type\":\"field\",\"field\":\"Date\"},\"y\":{\"type\":\"field\",\"field\":\"Close\"},\"line_color\":\"#30a2da\",\"line_alpha\":0.2,\"line_width\":2}}}},{\"type\":\"object\",\"name\":\"GlyphRenderer\",\"id\":\"p4125\",\"attributes\":{\"name\":\"Quarterly Returns of the Housing Price Index\",\"data_source\":{\"type\":\"object\",\"name\":\"ColumnDataSource\",\"id\":\"p4116\",\"attributes\":{\"selected\":{\"type\":\"object\",\"name\":\"Selection\",\"id\":\"p4117\",\"attributes\":{\"indices\":[],\"line_indices\":[]}},\"selection_policy\":{\"type\":\"object\",\"name\":\"UnionRenderers\",\"id\":\"p4118\"},\"data\":{\"type\":\"map\",\"entries\":[[\"date\",{\"type\":\"ndarray\",\"array\":{\"type\":\"bytes\",\"data\":\"AADAvacfdUIAAADp8Tx1QgAAQBQ8WnVCAABApdh3dUIAAEA2dZV1QgAAwPtssnVCAAAAJ7fPdUIAAAC4U+11QgAAAEnwCnZCAACADugndkIAAMA5MkV2QgAAwMrOYnZCAADAW2uAdkIAAEAhY512QgAAgEytunZCAACA3UnYdkIAAIBu5vV2QgAAwJkwE3dCAAAAxXowd0IAAABWF053QgAAAOeza3dCAACArKuId0IAAMDX9aV3QgAAwGiSw3dCAADA+S7hd0IAAEC/Jv53QgAAgOpwG3hCAACAew05eEIAAIAMqlZ4QgAAANKhc3hC\"},\"shape\":[30],\"dtype\":\"float64\",\"order\":\"little\"}],[\"HPI pct_change\",{\"type\":\"ndarray\",\"array\":{\"type\":\"bytes\",\"data\":\"gEzcWk/zgj9ArAot0iOTP4BjJ1B7PZI/AGdUuPABgD8ASnygr6B9P8BTDR689pY/gEGClqaFjz+As/KX/hSBPwDlGqM1wow/wPt7KsXhkj8AZnghlf+IPwBsyEtRJGw/ANzrkSHfhj9A+DmaRQyRP4AtfOALG4o/AJ1flcFAgj+AK75FPbWHP4BsjjkuhoQ/APIftC/jkT9ApDFjQIqWP0DPU5cOrZg/gHl9xwh0rD+AFX5F/o6sP8CyBDJ0s6E/YFnwqaTjoj8g/oJp6TmxPwBjp8DQbJE/gAkLKkagf78Atz+o3ERyP4BhyL2dQZ8/\"},\"shape\":[30],\"dtype\":\"float64\",\"order\":\"little\"}],[\"HPI_pct_change\",{\"type\":\"ndarray\",\"array\":{\"type\":\"bytes\",\"data\":\"gEzcWk/zgj9ArAot0iOTP4BjJ1B7PZI/AGdUuPABgD8ASnygr6B9P8BTDR689pY/gEGClqaFjz+As/KX/hSBPwDlGqM1wow/wPt7KsXhkj8AZnghlf+IPwBsyEtRJGw/ANzrkSHfhj9A+DmaRQyRP4AtfOALG4o/AJ1flcFAgj+AK75FPbWHP4BsjjkuhoQ/APIftC/jkT9ApDFjQIqWP0DPU5cOrZg/gHl9xwh0rD+AFX5F/o6sP8CyBDJ0s6E/YFnwqaTjoj8g/oJp6TmxPwBjp8DQbJE/gAkLKkagf78Atz+o3ERyP4BhyL2dQZ8/\"},\"shape\":[30],\"dtype\":\"float64\",\"order\":\"little\"}]]}}},\"view\":{\"type\":\"object\",\"name\":\"CDSView\",\"id\":\"p4126\",\"attributes\":{\"filter\":{\"type\":\"object\",\"name\":\"AllIndices\",\"id\":\"p4127\"}}},\"glyph\":{\"type\":\"object\",\"name\":\"Line\",\"id\":\"p4122\",\"attributes\":{\"tags\":[\"apply_ranges\"],\"x\":{\"type\":\"field\",\"field\":\"date\"},\"y\":{\"type\":\"field\",\"field\":\"HPI pct_change\"},\"line_color\":\"#fc4f30\",\"line_width\":2}},\"selection_glyph\":{\"type\":\"object\",\"name\":\"Line\",\"id\":\"p4129\",\"attributes\":{\"tags\":[\"apply_ranges\"],\"x\":{\"type\":\"field\",\"field\":\"date\"},\"y\":{\"type\":\"field\",\"field\":\"HPI pct_change\"},\"line_color\":\"#fc4f30\",\"line_width\":2}},\"nonselection_glyph\":{\"type\":\"object\",\"name\":\"Line\",\"id\":\"p4123\",\"attributes\":{\"tags\":[\"apply_ranges\"],\"x\":{\"type\":\"field\",\"field\":\"date\"},\"y\":{\"type\":\"field\",\"field\":\"HPI pct_change\"},\"line_color\":\"#fc4f30\",\"line_alpha\":0.1,\"line_width\":2}},\"muted_glyph\":{\"type\":\"object\",\"name\":\"Line\",\"id\":\"p4124\",\"attributes\":{\"tags\":[\"apply_ranges\"],\"x\":{\"type\":\"field\",\"field\":\"date\"},\"y\":{\"type\":\"field\",\"field\":\"HPI pct_change\"},\"line_color\":\"#fc4f30\",\"line_alpha\":0.2,\"line_width\":2}}}},{\"type\":\"object\",\"name\":\"GlyphRenderer\",\"id\":\"p4139\",\"attributes\":{\"name\":\"Close\",\"data_source\":{\"type\":\"object\",\"name\":\"ColumnDataSource\",\"id\":\"p4130\",\"attributes\":{\"selected\":{\"type\":\"object\",\"name\":\"Selection\",\"id\":\"p4131\",\"attributes\":{\"indices\":[],\"line_indices\":[]}},\"selection_policy\":{\"type\":\"object\",\"name\":\"UnionRenderers\",\"id\":\"p4132\"},\"data\":{\"type\":\"map\",\"entries\":[[\"Date\",{\"type\":\"ndarray\",\"array\":{\"type\":\"bytes\",\"data\":\"AADAvacfdUIAAADp8Tx1QgAAQBQ8WnVCAABApdh3dUIAAEA2dZV1QgAAwPtssnVCAAAAJ7fPdUIAAAC4U+11QgAAAEnwCnZCAACADugndkIAAMA5MkV2QgAAwMrOYnZCAADAW2uAdkIAAEAhY512QgAAgEytunZCAACA3UnYdkIAAIBu5vV2QgAAwJkwE3dCAAAAxXowd0IAAABWF053QgAAAOeza3dCAACArKuId0IAAMDX9aV3QgAAwGiSw3dCAADA+S7hd0IAAEC/Jv53QgAAgOpwG3hCAACAew05eEIAAIAMqlZ4QgAAANKhc3hCAABA/euQeEI=\"},\"shape\":[31],\"dtype\":\"float64\",\"order\":\"little\"}],[\"Close\",{\"type\":\"ndarray\",\"array\":{\"type\":\"bytes\",\"data\":\"AG8m100GoD+Au7f8I8SmP4BBEs92/5i/MJORMoKPr7/AKQSaQk6cP8CFQLtrcZM/AITSRW9aVD8ArWrirzuWP+Bh/XUl6ay/4PXRbhvaqj8A880kQAtpv/Do43w0R6m/2FprrbWNxT+AIru1ShmPP7DSzX6R5LE/oAsVOpdwkb/wWcjiXWPJv2BrrbWWdr8/gJP2HT0Qiz/gaLb39bmiP4AqKqAzhLQ/oC0rb0Rgvz8AIquy4CxmP5g3I/SzMcU/wLvEK5s+sb8kx1Zf98LDv9AGpMf+Yr6/wI8z0mMpmj8AuharkvSIP4CvFFP++4A/AI6vwoOWuL8=\"},\"shape\":[31],\"dtype\":\"float64\",\"order\":\"little\"}]]}}},\"view\":{\"type\":\"object\",\"name\":\"CDSView\",\"id\":\"p4140\",\"attributes\":{\"filter\":{\"type\":\"object\",\"name\":\"AllIndices\",\"id\":\"p4141\"}}},\"glyph\":{\"type\":\"object\",\"name\":\"Line\",\"id\":\"p4136\",\"attributes\":{\"tags\":[\"apply_ranges\"],\"x\":{\"type\":\"field\",\"field\":\"Date\"},\"y\":{\"type\":\"field\",\"field\":\"Close\"},\"line_color\":\"#e5ae38\",\"line_width\":2}},\"selection_glyph\":{\"type\":\"object\",\"name\":\"Line\",\"id\":\"p4143\",\"attributes\":{\"tags\":[\"apply_ranges\"],\"x\":{\"type\":\"field\",\"field\":\"Date\"},\"y\":{\"type\":\"field\",\"field\":\"Close\"},\"line_color\":\"#e5ae38\",\"line_width\":2}},\"nonselection_glyph\":{\"type\":\"object\",\"name\":\"Line\",\"id\":\"p4137\",\"attributes\":{\"tags\":[\"apply_ranges\"],\"x\":{\"type\":\"field\",\"field\":\"Date\"},\"y\":{\"type\":\"field\",\"field\":\"Close\"},\"line_color\":\"#e5ae38\",\"line_alpha\":0.1,\"line_width\":2}},\"muted_glyph\":{\"type\":\"object\",\"name\":\"Line\",\"id\":\"p4138\",\"attributes\":{\"tags\":[\"apply_ranges\"],\"x\":{\"type\":\"field\",\"field\":\"Date\"},\"y\":{\"type\":\"field\",\"field\":\"Close\"},\"line_color\":\"#e5ae38\",\"line_alpha\":0.2,\"line_width\":2}}}}],\"toolbar\":{\"type\":\"object\",\"name\":\"Toolbar\",\"id\":\"p4071\",\"attributes\":{\"tools\":[{\"type\":\"object\",\"name\":\"WheelZoomTool\",\"id\":\"p4054\",\"attributes\":{\"tags\":[\"hv_created\"],\"zoom_together\":\"none\"}},{\"type\":\"object\",\"name\":\"HoverTool\",\"id\":\"p4055\",\"attributes\":{\"tags\":[\"hv_created\"],\"renderers\":[{\"id\":\"p4110\"},{\"id\":\"p4139\"}],\"tooltips\":[[\"Date\",\"@{Date}{%F %T}\"],[\"Close\",\"@{Close}\"]],\"formatters\":{\"type\":\"map\",\"entries\":[[\"@{Date}\",\"datetime\"]]}}},{\"type\":\"object\",\"name\":\"HoverTool\",\"id\":\"p4058\",\"attributes\":{\"tags\":[\"hv_created\"],\"renderers\":[{\"id\":\"p4125\"}],\"tooltips\":[[\"date\",\"@{date}{%F %T}\"],[\"HPI pct_change\",\"@{HPI_pct_change}\"]],\"formatters\":{\"type\":\"map\",\"entries\":[[\"@{date}\",\"datetime\"]]}}},{\"type\":\"object\",\"name\":\"SaveTool\",\"id\":\"p4096\"},{\"type\":\"object\",\"name\":\"PanTool\",\"id\":\"p4097\"},{\"type\":\"object\",\"name\":\"BoxZoomTool\",\"id\":\"p4098\",\"attributes\":{\"overlay\":{\"type\":\"object\",\"name\":\"BoxAnnotation\",\"id\":\"p4099\",\"attributes\":{\"syncable\":false,\"level\":\"overlay\",\"visible\":false,\"left_units\":\"canvas\",\"right_units\":\"canvas\",\"bottom_units\":\"canvas\",\"top_units\":\"canvas\",\"line_color\":\"black\",\"line_alpha\":1.0,\"line_width\":2,\"line_dash\":[4,4],\"fill_color\":\"lightgrey\",\"fill_alpha\":0.5}}}},{\"type\":\"object\",\"name\":\"ResetTool\",\"id\":\"p4100\"}],\"active_drag\":{\"id\":\"p4097\"},\"active_scroll\":{\"id\":\"p4054\"}}},\"left\":[{\"type\":\"object\",\"name\":\"LinearAxis\",\"id\":\"p4091\",\"attributes\":{\"ticker\":{\"type\":\"object\",\"name\":\"BasicTicker\",\"id\":\"p4092\",\"attributes\":{\"mantissas\":[1,2,5]}},\"formatter\":{\"type\":\"object\",\"name\":\"BasicTickFormatter\",\"id\":\"p4093\"},\"axis_label\":\"Rate of Return\",\"major_label_policy\":{\"type\":\"object\",\"name\":\"AllLabels\",\"id\":\"p4094\"}}}],\"below\":[{\"type\":\"object\",\"name\":\"DatetimeAxis\",\"id\":\"p4074\",\"attributes\":{\"ticker\":{\"type\":\"object\",\"name\":\"DatetimeTicker\",\"id\":\"p4075\",\"attributes\":{\"num_minor_ticks\":5,\"tickers\":[{\"type\":\"object\",\"name\":\"AdaptiveTicker\",\"id\":\"p4076\",\"attributes\":{\"num_minor_ticks\":0,\"mantissas\":[1,2,5],\"max_interval\":500.0}},{\"type\":\"object\",\"name\":\"AdaptiveTicker\",\"id\":\"p4077\",\"attributes\":{\"num_minor_ticks\":0,\"base\":60,\"mantissas\":[1,2,5,10,15,20,30],\"min_interval\":1000.0,\"max_interval\":1800000.0}},{\"type\":\"object\",\"name\":\"AdaptiveTicker\",\"id\":\"p4078\",\"attributes\":{\"num_minor_ticks\":0,\"base\":24,\"mantissas\":[1,2,4,6,8,12],\"min_interval\":3600000.0,\"max_interval\":43200000.0}},{\"type\":\"object\",\"name\":\"DaysTicker\",\"id\":\"p4079\",\"attributes\":{\"days\":[1,2,3,4,5,6,7,8,9,10,11,12,13,14,15,16,17,18,19,20,21,22,23,24,25,26,27,28,29,30,31]}},{\"type\":\"object\",\"name\":\"DaysTicker\",\"id\":\"p4080\",\"attributes\":{\"days\":[1,4,7,10,13,16,19,22,25,28]}},{\"type\":\"object\",\"name\":\"DaysTicker\",\"id\":\"p4081\",\"attributes\":{\"days\":[1,8,15,22]}},{\"type\":\"object\",\"name\":\"DaysTicker\",\"id\":\"p4082\",\"attributes\":{\"days\":[1,15]}},{\"type\":\"object\",\"name\":\"MonthsTicker\",\"id\":\"p4083\",\"attributes\":{\"months\":[0,1,2,3,4,5,6,7,8,9,10,11]}},{\"type\":\"object\",\"name\":\"MonthsTicker\",\"id\":\"p4084\",\"attributes\":{\"months\":[0,2,4,6,8,10]}},{\"type\":\"object\",\"name\":\"MonthsTicker\",\"id\":\"p4085\",\"attributes\":{\"months\":[0,4,8]}},{\"type\":\"object\",\"name\":\"MonthsTicker\",\"id\":\"p4086\",\"attributes\":{\"months\":[0,6]}},{\"type\":\"object\",\"name\":\"YearsTicker\",\"id\":\"p4087\"}]}},\"formatter\":{\"type\":\"object\",\"name\":\"DatetimeTickFormatter\",\"id\":\"p4088\"},\"axis_label\":\"Date\",\"major_label_orientation\":1.5707963267948966,\"major_label_policy\":{\"type\":\"object\",\"name\":\"AllLabels\",\"id\":\"p4089\"}}}],\"center\":[{\"type\":\"object\",\"name\":\"Grid\",\"id\":\"p4090\",\"attributes\":{\"axis\":{\"id\":\"p4074\"},\"grid_line_color\":null}},{\"type\":\"object\",\"name\":\"Grid\",\"id\":\"p4095\",\"attributes\":{\"dimension\":1,\"axis\":{\"id\":\"p4091\"},\"grid_line_color\":null}},{\"type\":\"object\",\"name\":\"Legend\",\"id\":\"p4113\",\"attributes\":{\"click_policy\":\"mute\",\"items\":[{\"type\":\"object\",\"name\":\"LegendItem\",\"id\":\"p4114\",\"attributes\":{\"label\":{\"type\":\"value\",\"value\":\"Quarterly Returns of the S&P 500 Index\"},\"renderers\":[{\"id\":\"p4110\"}]}},{\"type\":\"object\",\"name\":\"LegendItem\",\"id\":\"p4128\",\"attributes\":{\"label\":{\"type\":\"value\",\"value\":\"Quarterly Returns of the Housing Price Index\"},\"renderers\":[{\"id\":\"p4125\"}]}},{\"type\":\"object\",\"name\":\"LegendItem\",\"id\":\"p4142\",\"attributes\":{\"label\":{\"type\":\"value\",\"value\":\"Close\"},\"renderers\":[{\"id\":\"p4139\"}]}}]}}],\"background_fill_color\":\"lightgrey\",\"min_border_top\":10,\"min_border_bottom\":10,\"min_border_left\":10,\"min_border_right\":10,\"output_backend\":\"webgl\"}},{\"type\":\"object\",\"name\":\"Spacer\",\"id\":\"p4145\",\"attributes\":{\"name\":\"HSpacer06633\",\"stylesheets\":[\"\\n:host(.pn-loading.pn-arc):before, .pn-loading.pn-arc:before {\\n  background-image: url(\\\"data:image/svg+xml;base64,PHN2ZyB4bWxucz0iaHR0cDovL3d3dy53My5vcmcvMjAwMC9zdmciIHN0eWxlPSJtYXJnaW46IGF1dG87IGJhY2tncm91bmQ6IG5vbmU7IGRpc3BsYXk6IGJsb2NrOyBzaGFwZS1yZW5kZXJpbmc6IGF1dG87IiB2aWV3Qm94PSIwIDAgMTAwIDEwMCIgcHJlc2VydmVBc3BlY3RSYXRpbz0ieE1pZFlNaWQiPiAgPGNpcmNsZSBjeD0iNTAiIGN5PSI1MCIgZmlsbD0ibm9uZSIgc3Ryb2tlPSIjYzNjM2MzIiBzdHJva2Utd2lkdGg9IjEwIiByPSIzNSIgc3Ryb2tlLWRhc2hhcnJheT0iMTY0LjkzMzYxNDMxMzQ2NDE1IDU2Ljk3Nzg3MTQzNzgyMTM4Ij4gICAgPGFuaW1hdGVUcmFuc2Zvcm0gYXR0cmlidXRlTmFtZT0idHJhbnNmb3JtIiB0eXBlPSJyb3RhdGUiIHJlcGVhdENvdW50PSJpbmRlZmluaXRlIiBkdXI9IjFzIiB2YWx1ZXM9IjAgNTAgNTA7MzYwIDUwIDUwIiBrZXlUaW1lcz0iMDsxIj48L2FuaW1hdGVUcmFuc2Zvcm0+ICA8L2NpcmNsZT48L3N2Zz4=\\\");\\n  background-size: auto calc(min(50%, 400px));\\n}\",{\"id\":\"p4047\"},{\"id\":\"p4045\"},{\"id\":\"p4046\"}],\"margin\":0,\"sizing_mode\":\"stretch_width\",\"align\":\"start\"}}]}}],\"defs\":[{\"type\":\"model\",\"name\":\"ReactiveHTML1\"},{\"type\":\"model\",\"name\":\"FlexBox1\",\"properties\":[{\"name\":\"align_content\",\"kind\":\"Any\",\"default\":\"flex-start\"},{\"name\":\"align_items\",\"kind\":\"Any\",\"default\":\"flex-start\"},{\"name\":\"flex_direction\",\"kind\":\"Any\",\"default\":\"row\"},{\"name\":\"flex_wrap\",\"kind\":\"Any\",\"default\":\"wrap\"},{\"name\":\"justify_content\",\"kind\":\"Any\",\"default\":\"flex-start\"}]},{\"type\":\"model\",\"name\":\"FloatPanel1\",\"properties\":[{\"name\":\"config\",\"kind\":\"Any\",\"default\":{\"type\":\"map\"}},{\"name\":\"contained\",\"kind\":\"Any\",\"default\":true},{\"name\":\"position\",\"kind\":\"Any\",\"default\":\"right-top\"},{\"name\":\"offsetx\",\"kind\":\"Any\",\"default\":null},{\"name\":\"offsety\",\"kind\":\"Any\",\"default\":null},{\"name\":\"theme\",\"kind\":\"Any\",\"default\":\"primary\"},{\"name\":\"status\",\"kind\":\"Any\",\"default\":\"normalized\"}]},{\"type\":\"model\",\"name\":\"GridStack1\",\"properties\":[{\"name\":\"mode\",\"kind\":\"Any\",\"default\":\"warn\"},{\"name\":\"ncols\",\"kind\":\"Any\",\"default\":null},{\"name\":\"nrows\",\"kind\":\"Any\",\"default\":null},{\"name\":\"allow_resize\",\"kind\":\"Any\",\"default\":true},{\"name\":\"allow_drag\",\"kind\":\"Any\",\"default\":true},{\"name\":\"state\",\"kind\":\"Any\",\"default\":[]}]},{\"type\":\"model\",\"name\":\"drag1\",\"properties\":[{\"name\":\"slider_width\",\"kind\":\"Any\",\"default\":5},{\"name\":\"slider_color\",\"kind\":\"Any\",\"default\":\"black\"},{\"name\":\"value\",\"kind\":\"Any\",\"default\":50}]},{\"type\":\"model\",\"name\":\"click1\",\"properties\":[{\"name\":\"terminal_output\",\"kind\":\"Any\",\"default\":\"\"},{\"name\":\"debug_name\",\"kind\":\"Any\",\"default\":\"\"},{\"name\":\"clears\",\"kind\":\"Any\",\"default\":0}]},{\"type\":\"model\",\"name\":\"FastWrapper1\",\"properties\":[{\"name\":\"object\",\"kind\":\"Any\",\"default\":null},{\"name\":\"style\",\"kind\":\"Any\",\"default\":null}]},{\"type\":\"model\",\"name\":\"NotificationAreaBase1\",\"properties\":[{\"name\":\"js_events\",\"kind\":\"Any\",\"default\":{\"type\":\"map\"}},{\"name\":\"position\",\"kind\":\"Any\",\"default\":\"bottom-right\"},{\"name\":\"_clear\",\"kind\":\"Any\",\"default\":0}]},{\"type\":\"model\",\"name\":\"NotificationArea1\",\"properties\":[{\"name\":\"js_events\",\"kind\":\"Any\",\"default\":{\"type\":\"map\"}},{\"name\":\"notifications\",\"kind\":\"Any\",\"default\":[]},{\"name\":\"position\",\"kind\":\"Any\",\"default\":\"bottom-right\"},{\"name\":\"_clear\",\"kind\":\"Any\",\"default\":0},{\"name\":\"types\",\"kind\":\"Any\",\"default\":[{\"type\":\"map\",\"entries\":[[\"type\",\"warning\"],[\"background\",\"#ffc107\"],[\"icon\",{\"type\":\"map\",\"entries\":[[\"className\",\"fas fa-exclamation-triangle\"],[\"tagName\",\"i\"],[\"color\",\"white\"]]}]]},{\"type\":\"map\",\"entries\":[[\"type\",\"info\"],[\"background\",\"#007bff\"],[\"icon\",{\"type\":\"map\",\"entries\":[[\"className\",\"fas fa-info-circle\"],[\"tagName\",\"i\"],[\"color\",\"white\"]]}]]}]}]},{\"type\":\"model\",\"name\":\"Notification\",\"properties\":[{\"name\":\"background\",\"kind\":\"Any\",\"default\":null},{\"name\":\"duration\",\"kind\":\"Any\",\"default\":3000},{\"name\":\"icon\",\"kind\":\"Any\",\"default\":null},{\"name\":\"message\",\"kind\":\"Any\",\"default\":\"\"},{\"name\":\"notification_type\",\"kind\":\"Any\",\"default\":null},{\"name\":\"_destroyed\",\"kind\":\"Any\",\"default\":false}]},{\"type\":\"model\",\"name\":\"TemplateActions1\",\"properties\":[{\"name\":\"open_modal\",\"kind\":\"Any\",\"default\":0},{\"name\":\"close_modal\",\"kind\":\"Any\",\"default\":0}]},{\"type\":\"model\",\"name\":\"BootstrapTemplateActions1\",\"properties\":[{\"name\":\"open_modal\",\"kind\":\"Any\",\"default\":0},{\"name\":\"close_modal\",\"kind\":\"Any\",\"default\":0}]},{\"type\":\"model\",\"name\":\"MaterialTemplateActions1\",\"properties\":[{\"name\":\"open_modal\",\"kind\":\"Any\",\"default\":0},{\"name\":\"close_modal\",\"kind\":\"Any\",\"default\":0}]}]}};\n",
       "  var render_items = [{\"docid\":\"3ca6817d-bd2e-47e8-a594-80e9835ec27d\",\"roots\":{\"p4044\":\"e8d272d1-538f-43d6-a8a8-62a501fab62d\"},\"root_ids\":[\"p4044\"]}];\n",
       "  var docs = Object.values(docs_json)\n",
       "  if (!docs) {\n",
       "    return\n",
       "  }\n",
       "  const py_version = docs[0].version.replace('rc', '-rc.').replace('.dev', '-dev.')\n",
       "  const is_dev = py_version.indexOf(\"+\") !== -1 || py_version.indexOf(\"-\") !== -1\n",
       "  function embed_document(root) {\n",
       "    var Bokeh = get_bokeh(root)\n",
       "    Bokeh.embed.embed_items_notebook(docs_json, render_items);\n",
       "    for (const render_item of render_items) {\n",
       "      for (const root_id of render_item.root_ids) {\n",
       "\tconst id_el = document.getElementById(root_id)\n",
       "\tif (id_el.children.length && (id_el.children[0].className === 'bk-root')) {\n",
       "\t  const root_el = id_el.children[0]\n",
       "\t  root_el.id = root_el.id + '-rendered'\n",
       "\t}\n",
       "      }\n",
       "    }\n",
       "  }\n",
       "  function get_bokeh(root) {\n",
       "    if (root.Bokeh === undefined) {\n",
       "      return null\n",
       "    } else if (root.Bokeh.version !== py_version && !is_dev) {\n",
       "      if (root.Bokeh.versions === undefined || !root.Bokeh.versions.has(py_version)) {\n",
       "\treturn null\n",
       "      }\n",
       "      return root.Bokeh.versions.get(py_version);\n",
       "    } else if (root.Bokeh.version === py_version) {\n",
       "      return root.Bokeh\n",
       "    }\n",
       "    return null\n",
       "  }\n",
       "  function is_loaded(root) {\n",
       "    var Bokeh = get_bokeh(root)\n",
       "    return (Bokeh != null && Bokeh.Panel !== undefined)\n",
       "  }\n",
       "  if (is_loaded(root)) {\n",
       "    embed_document(root);\n",
       "  } else {\n",
       "    var attempts = 0;\n",
       "    var timer = setInterval(function(root) {\n",
       "      if (is_loaded(root)) {\n",
       "        clearInterval(timer);\n",
       "        embed_document(root);\n",
       "      } else if (document.readyState == \"complete\") {\n",
       "        attempts++;\n",
       "        if (attempts > 200) {\n",
       "          clearInterval(timer);\n",
       "\t  var Bokeh = get_bokeh(root)\n",
       "\t  if (Bokeh == null || Bokeh.Panel == null) {\n",
       "            console.warn(\"Panel: ERROR: Unable to run Panel code because Bokeh or Panel library is missing\");\n",
       "\t  } else {\n",
       "\t    console.warn(\"Panel: WARNING: Attempting to render but not all required libraries could be resolved.\")\n",
       "\t    embed_document(root)\n",
       "\t  }\n",
       "        }\n",
       "      }\n",
       "    }, 25, root)\n",
       "  }\n",
       "})(window);</script>"
      ],
      "text/plain": [
       ":Overlay\n",
       "   .Curve.Quarterly_Returns_of_the_S_ampersand_P_500_Index :Curve   [Date]   (Close)\n",
       "   .Curve.Quarterly_Returns_of_the_Housing_Price_Index     :Curve   [date]   (HPI pct_change)\n",
       "   .Curve.Close                                            :Curve   [Date]   (Close)"
      ]
     },
     "execution_count": 85,
     "metadata": {
      "application/vnd.holoviews_exec.v0+json": {
       "id": "p4044"
      }
     },
     "output_type": "execute_result"
    }
   ],
   "source": [
    "# Create an overlay plot for the two visualizations of SP550 & HPI\n",
    "(sp500_2016_plot * hpi_2016_plot * xlre_plot).opts(\n",
    "    title=\"Comparative view at Quartlely Returns of the HPI, S&P500 & XLRE\",\n",
    "    bgcolor=\"lightgrey\", \n",
    "    height=500,\n",
    "    width=1000,\n",
    "    ylabel='Rate of Return',\n",
    "    xlabel='Date',\n",
    "    #hover_cols=['yellow']\n",
    ")"
   ]
  },
  {
   "cell_type": "markdown",
   "metadata": {},
   "source": [
    "## Investment Analysis of HPI, SP500 & XLRE"
   ]
  },
  {
   "cell_type": "markdown",
   "metadata": {},
   "source": [
    "### Calculate and Plot the Standard Deviation and Sharpe Ratios"
   ]
  },
  {
   "cell_type": "code",
   "execution_count": 86,
   "metadata": {},
   "outputs": [
    {
     "name": "stdout",
     "output_type": "stream",
     "text": [
      "[*********************100%%**********************]  1 of 1 completed\n",
      "[*********************100%%**********************]  1 of 1 completed\n"
     ]
    }
   ],
   "source": [
    "# Fetch 13Week Treasury Bill for a Risk Free Rate\n",
    "\n",
    "tbill_month = yf.download(\"^IRX\", interval=\"1mo\", start=\"1985-01-01\", end=\"2023-10-01\")\n",
    "\n",
    "\n",
    "tbill_qtr = yf.download(\"^IRX\", interval=\"1mo\", start=\"1985-01-01\", end=\"2023-10-01\")"
   ]
  },
  {
   "cell_type": "code",
   "execution_count": 97,
   "metadata": {},
   "outputs": [
    {
     "data": {
      "text/html": [
       "<div>\n",
       "<style scoped>\n",
       "    .dataframe tbody tr th:only-of-type {\n",
       "        vertical-align: middle;\n",
       "    }\n",
       "\n",
       "    .dataframe tbody tr th {\n",
       "        vertical-align: top;\n",
       "    }\n",
       "\n",
       "    .dataframe thead th {\n",
       "        text-align: right;\n",
       "    }\n",
       "</style>\n",
       "<table border=\"1\" class=\"dataframe\">\n",
       "  <thead>\n",
       "    <tr style=\"text-align: right;\">\n",
       "      <th></th>\n",
       "      <th>XLRE Returns</th>\n",
       "      <th>HPI Returns</th>\n",
       "      <th>XLRE Returns</th>\n",
       "    </tr>\n",
       "  </thead>\n",
       "  <tbody>\n",
       "    <tr>\n",
       "      <th>2016-01-01</th>\n",
       "      <td>0.007730</td>\n",
       "      <td>0.009253</td>\n",
       "      <td>0.031298</td>\n",
       "    </tr>\n",
       "    <tr>\n",
       "      <th>2016-04-01</th>\n",
       "      <td>0.018993</td>\n",
       "      <td>0.018691</td>\n",
       "      <td>0.044465</td>\n",
       "    </tr>\n",
       "    <tr>\n",
       "      <th>2016-07-01</th>\n",
       "      <td>0.033070</td>\n",
       "      <td>0.017813</td>\n",
       "      <td>-0.024412</td>\n",
       "    </tr>\n",
       "    <tr>\n",
       "      <th>2016-10-01</th>\n",
       "      <td>0.032542</td>\n",
       "      <td>0.007816</td>\n",
       "      <td>-0.061642</td>\n",
       "    </tr>\n",
       "    <tr>\n",
       "      <th>2017-01-01</th>\n",
       "      <td>0.055337</td>\n",
       "      <td>0.007233</td>\n",
       "      <td>0.027642</td>\n",
       "    </tr>\n",
       "  </tbody>\n",
       "</table>\n",
       "</div>"
      ],
      "text/plain": [
       "            XLRE Returns  HPI Returns  XLRE Returns\n",
       "2016-01-01      0.007730     0.009253      0.031298\n",
       "2016-04-01      0.018993     0.018691      0.044465\n",
       "2016-07-01      0.033070     0.017813     -0.024412\n",
       "2016-10-01      0.032542     0.007816     -0.061642\n",
       "2017-01-01      0.055337     0.007233      0.027642"
      ]
     },
     "execution_count": 97,
     "metadata": {},
     "output_type": "execute_result"
    }
   ],
   "source": [
    "# Concat return DataFrames with inner join\n",
    "all_returns = pd.concat([sp500_qtr_returns_2016,hpi_returns_2016,xlre_returns], axis='columns', join='inner')\n",
    "\n",
    "all_returns =  all_returns.rename(columns={\n",
    "    \"Close\": \"SP500 Returns\",\n",
    "    \"HPI pct_change\": \"HPI Returns\",\n",
    "    \"Close\": \"XLRE Returns\"\n",
    "})\n",
    "\n",
    "all_returns.head()"
   ]
  },
  {
   "cell_type": "code",
   "execution_count": 102,
   "metadata": {},
   "outputs": [
    {
     "data": {
      "text/plain": [
       "XLRE Returns    0.084611\n",
       "HPI Returns     0.016435\n",
       "XLRE Returns    0.082305\n",
       "dtype: float64"
      ]
     },
     "metadata": {},
     "output_type": "display_data"
    },
    {
     "data": {
      "text/plain": [
       "XLRE Returns     5.603851\n",
       "HPI Returns     18.807140\n",
       "XLRE Returns     1.865732\n",
       "dtype: float64"
      ]
     },
     "metadata": {},
     "output_type": "display_data"
    }
   ],
   "source": [
    "# Calculate Standard Deviation and Sharpe Ratios\n",
    "all_portfolio_std = all_returns.std()\n",
    "\n",
    "# Calculate sharpe ratio\n",
    "sharpe_ratios = (all_returns.mean() * 252) / (all_portfolio_std * np.sqrt(252))\n",
    "\n",
    "display(all_portfolio_std)\n",
    "display(sharpe_ratios)\n"
   ]
  },
  {
   "cell_type": "code",
   "execution_count": 109,
   "metadata": {},
   "outputs": [
    {
     "data": {
      "text/plain": [
       "<Axes: >"
      ]
     },
     "execution_count": 109,
     "metadata": {},
     "output_type": "execute_result"
    },
    {
     "data": {
      "image/png": "[encoded data removed]",
      "text/plain": [
       "<Figure size 640x480 with 1 Axes>"
      ]
     },
     "metadata": {},
     "output_type": "display_data"
    }
   ],
   "source": [
    "all_portfolio_std.plot.box()"
   ]
  },
  {
   "cell_type": "code",
   "execution_count": 110,
   "metadata": {},
   "outputs": [
    {
     "data": {
      "text/plain": [
       "<Axes: title={'center': 'Sharpe Ratios'}>"
      ]
     },
     "execution_count": 110,
     "metadata": {},
     "output_type": "execute_result"
    },
    {
     "data": {
      "image/png": "[encoded data removed]",
      "text/plain": [
       "<Figure size 640x480 with 1 Axes>"
      ]
     },
     "metadata": {},
     "output_type": "display_data"
    }
   ],
   "source": [
    "# Plot Sharpe Ratios\n",
    "sharpe_ratios.plot(kind=\"bar\", title=\"Sharpe Ratios\")"
   ]
  },
  {
   "cell_type": "markdown",
   "metadata": {},
   "source": [
    "### Calculate and Plot Correlation"
   ]
  },
  {
   "cell_type": "code",
   "execution_count": 103,
   "metadata": {},
   "outputs": [],
   "source": [
    "# Calculate Correlation\n",
    "\n",
    "investment_correlation = all_returns.corr()"
   ]
  },
  {
   "cell_type": "code",
   "execution_count": 108,
   "metadata": {},
   "outputs": [
    {
     "data": {
      "text/plain": [
       "<Axes: >"
      ]
     },
     "execution_count": 108,
     "metadata": {},
     "output_type": "execute_result"
    },
    {
     "data": {
      "image/png": "[encoded data removed]",
      "text/plain": [
       "<Figure size 640x480 with 2 Axes>"
      ]
     },
     "metadata": {},
     "output_type": "display_data"
    }
   ],
   "source": [
    "# Plot Correlation Results\n",
    "sns.heatmap(investment_correlation)"
   ]
  },
  {
   "cell_type": "code",
   "execution_count": null,
   "metadata": {},
   "outputs": [],
   "source": []
  }
 ],
 "metadata": {
  "kernelspec": {
   "display_name": "Python 3 (ipykernel)",
   "language": "python",
   "name": "python3"
  },
  "language_info": {
   "codemirror_mode": {
    "name": "ipython",
    "version": 3
   },
   "file_extension": ".py",
   "mimetype": "text/x-python",
   "name": "python",
   "nbconvert_exporter": "python",
   "pygments_lexer": "ipython3",
   "version": "3.11.5"
  }
 },
 "nbformat": 4,
 "nbformat_minor": 4
}
