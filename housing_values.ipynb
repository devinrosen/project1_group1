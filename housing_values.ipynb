{
 "cells": [
  {
   "cell_type": "markdown",
   "metadata": {},
   "source": [
    "# Residential Real Estate vs Supply, Inflation, and Interest Rate #"
   ]
  },
  {
   "cell_type": "markdown",
   "metadata": {},
   "source": [
    "## Description ##\n",
    "Our goal is to determine how the value of residential real estate relates to supply, inflation, and interest rate.  Additionally, we will compare real estate returns to the returns of the  S&P 500 and XLRE (Real Estate Select Sector)."
   ]
  },
  {
   "cell_type": "markdown",
   "metadata": {},
   "source": [
    "## Objectives ##\n",
    "We intend to identify ideal periods to transact residential real estate based on valuation, inflation, and interest rate."
   ]
  },
  {
   "cell_type": "code",
   "execution_count": null,
   "metadata": {
    "tags": []
   },
   "outputs": [],
   "source": [
    "# Imports\n",
    "import pandas as pd\n",
    "import os\n",
    "from dotenv import load_dotenv\n",
    "from fredapi import Fred\n",
    "import hvplot.pandas\n",
    "\n",
    "# Load Environment Variables\n",
    "load_dotenv()\n",
    "\n",
    "# setup fred api client\n",
    "FRED_API_KEY = os.getenv('FRED_API_KEY')\n",
    "fred = Fred(api_key=FRED_API_KEY)"
   ]
  },
  {
   "cell_type": "markdown",
   "metadata": {},
   "source": [
    "## Load all Fred Data"
   ]
  },
  {
   "cell_type": "code",
   "execution_count": null,
   "metadata": {
    "tags": []
   },
   "outputs": [],
   "source": [
    "dataframes = {}\n",
    "FRED_SERIES_KEYS = [\"FPCPITOTLZGUSA\", \"DFF\", \"MSACSR\", \"USSTHPI\"]\n",
    "for FRED_SERIES_KEY in FRED_SERIES_KEYS:\n",
    "    series = fred.get_series(FRED_SERIES_KEY)\n",
    "    frame = {\n",
    "        \"date\": series.keys(),\n",
    "        \"value\": series.values,\n",
    "    }\n",
    "    dataframes[FRED_SERIES_KEY] = pd.DataFrame(frame).set_index(\"date\")\n",
    "    dataframes[FRED_SERIES_KEY][f\"pct_change {FRED_SERIES_KEY}\"] = dataframes[FRED_SERIES_KEY].pct_change()\n",
    "    dataframes[FRED_SERIES_KEY][f\"diff {FRED_SERIES_KEY}\"] = dataframes[FRED_SERIES_KEY][\"value\"].diff()\n",
    "    dataframes[FRED_SERIES_KEY] = dataframes[FRED_SERIES_KEY].dropna()\n",
    "    "
   ]
  },
  {
   "cell_type": "markdown",
   "metadata": {},
   "source": [
    "## Residential Real Estate Value vs Inflation"
   ]
  },
  {
   "cell_type": "code",
   "execution_count": null,
   "metadata": {
    "tags": []
   },
   "outputs": [],
   "source": [
    "# Inflation, consumer prices for the United States\n",
    "display(dataframes[\"FPCPITOTLZGUSA\"][\"value\"].hvplot(title=\"Infaltion, consumer prices for the United States\"))\n",
    "\n",
    "# House price Index for the United States\n",
    "display(dataframes[\"USSTHPI\"][\"value\"].hvplot(title=\"All Transactions House Price Index for the United States\"))"
   ]
  },
  {
   "cell_type": "code",
   "execution_count": null,
   "metadata": {
    "tags": []
   },
   "outputs": [],
   "source": [
    "# Rename Columns to 'Inflation in %', Inflation pct_change'\n",
    "dataframes[\"FPCPITOTLZGUSA\"].columns = ['Inflation','Inflation pct_change','Difference in Inflation'] \n",
    "display(dataframes[\"FPCPITOTLZGUSA\"].head())\n",
    "\n",
    "# Rename Columns to 'House Price Index', HPI pct_change'\n",
    "dataframes[\"USSTHPI\"].columns = ['HPI','HPI pct_change','Difference in HPI']\n",
    "dataframes[\"USSTHPI\"].head()"
   ]
  },
  {
   "cell_type": "markdown",
   "metadata": {
    "tags": []
   },
   "source": [
    "#### Combine Infaltion and Housing Price Index for the United States"
   ]
  },
  {
   "cell_type": "code",
   "execution_count": null,
   "metadata": {
    "tags": []
   },
   "outputs": [],
   "source": [
    "# Use 'concat' function to combine the two DataFrames by matching indexes.\n",
    "inflation_combined_df = pd.concat([dataframes[\"FPCPITOTLZGUSA\"], dataframes[\"USSTHPI\"]],axis=\"columns\", join=\"inner\")\n",
    "inflation_combined_df.head()"
   ]
  },
  {
   "cell_type": "code",
   "execution_count": null,
   "metadata": {
    "tags": []
   },
   "outputs": [],
   "source": [
    "# Drop columns 'Inflation in %' and 'House Price Index'\n",
    "inflation_combined_df = inflation_combined_df.drop(columns=[\"Inflation\",\"Inflation pct_change\",\"HPI\",\"HPI pct_change\"])\n",
    "inflation_combined_df.head()"
   ]
  },
  {
   "cell_type": "markdown",
   "metadata": {},
   "source": [
    "#### Conduct House Price Index and Inflation Analysis"
   ]
  },
  {
   "cell_type": "code",
   "execution_count": null,
   "metadata": {
    "tags": []
   },
   "outputs": [],
   "source": [
    "# Plot Pct difference for combined dataframes\n",
    "inflation_combined_df.hvplot(title=\"Housing Price Index, Inflation for the United States\",xlabel=\"Date\", ylabel=\"Difference\")"
   ]
  },
  {
   "cell_type": "markdown",
   "metadata": {},
   "source": [
    "## Residential Real Estate Value vs Federal Funds Effective Rate"
   ]
  },
  {
   "cell_type": "code",
   "execution_count": null,
   "metadata": {
    "tags": []
   },
   "outputs": [],
   "source": [
    "# Federal Funds Effective Rate\n",
    "effective_rate_df = fred.get_series('DFF')\n",
    "effective_rate_df.hvplot()"
   ]
  },
  {
   "cell_type": "markdown",
   "metadata": {},
   "source": [
    "## Residential Real Estate Value vs Monthly Supply of New Houses"
   ]
  },
  {
   "cell_type": "code",
   "execution_count": null,
   "metadata": {
    "tags": []
   },
   "outputs": [],
   "source": [
    "# Monthly Supply of New Houses in the United States \n",
    "monthly_supply_df = fred.get_series('MSACSR')\n",
    "monthly_supply_df.hvplot()"
   ]
  },
  {
   "cell_type": "markdown",
   "metadata": {
    "tags": []
   },
   "source": [
    "## Residential Real Estate vs S&P500"
   ]
  },
  {
   "cell_type": "markdown",
   "metadata": {},
   "source": [
    "## Residential Real Estate vs XLRE"
   ]
  },
  {
   "cell_type": "code",
   "execution_count": null,
   "metadata": {},
   "outputs": [],
   "source": []
  }
 ],
 "metadata": {
  "kernelspec": {
   "display_name": "Python 3 (ipykernel)",
   "language": "python",
   "name": "python3"
  },
  "language_info": {
   "codemirror_mode": {
    "name": "ipython",
    "version": 3
   },
   "file_extension": ".py",
   "mimetype": "text/x-python",
   "name": "python",
   "nbconvert_exporter": "python",
   "pygments_lexer": "ipython3",
   "version": "3.11.5"
  }
 },
 "nbformat": 4,
 "nbformat_minor": 4
}
