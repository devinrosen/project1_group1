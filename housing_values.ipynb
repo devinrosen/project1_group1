{
 "cells": [
  {
   "cell_type": "markdown",
   "metadata": {},
   "source": [
    "# Residential Real Estate vs Supply, Inflation, and Interest Rate #"
   ]
  },
  {
   "cell_type": "markdown",
   "metadata": {},
   "source": [
    "## Description ##\n",
    "Our goal is to determine how the value of residential real estate relates to supply, inflation, and interest rate.  Additionally, we will compare real estate returns to the returns of the  S&P 500 and XLRE (Real Estate Select Sector)."
   ]
  },
  {
   "cell_type": "markdown",
   "metadata": {},
   "source": [
    "## Objectives ##\n",
    "We intend to identify ideal periods to transact residential real estate based on valuation, inflation, and interest rate."
   ]
  },
  {
   "cell_type": "code",
   "execution_count": null,
   "metadata": {
    "tags": []
   },
   "outputs": [],
   "source": [
    "# Imports\n",
    "import pandas as pd\n",
    "import os\n",
    "from dotenv import load_dotenv\n",
    "from fredapi import Fred\n",
    "from pathlib import Path\n",
    "import hvplot.pandas\n",
    "import seaborn as sns\n",
    "\n",
    "# Load Environment Variables\n",
    "load_dotenv()\n",
    "\n",
    "# setup fred api client\n",
    "FRED_API_KEY = os.getenv('FRED_API_KEY')\n",
    "fred = Fred(api_key=FRED_API_KEY)"
   ]
  },
  {
   "cell_type": "markdown",
   "metadata": {},
   "source": [
    "## Residential Real Estate Value vs Inflation"
   ]
  },
  {
   "cell_type": "code",
   "execution_count": null,
   "metadata": {
    "tags": []
   },
   "outputs": [],
   "source": [
    "# Inflation, consumer prices for the United States\n",
    "inflation_cpi_df = pd.read_csv(Path('Resource/Inflation Consumer Price FPCPITOTLZGUSA.csv'),index_col=\"DATE\", parse_dates=True)\n",
    "inflation_cpi_df.head()\n",
    "display(inflation_cpi_df.hvplot(title=\"Consumer Price Index\"))\n",
    "\n",
    "# House Price Index for the United States\n",
    "house_PI_df = pd.read_csv(Path('Resource/House Price Index US.csv'), index_col=\"DATE\", parse_dates=True)\n",
    "house_PI_df.hvplot(title =\"House Price Index\")"
   ]
  },
  {
   "cell_type": "code",
   "execution_count": null,
   "metadata": {
    "tags": []
   },
   "outputs": [],
   "source": [
    "# Use 'concat' function to combine the two DataFrames by matching indexes.\n",
    "inflation_combined_df = pd.concat([inflation_cpi_df, house_PI_df], axis='columns', join=\"inner\")\n",
    "inflation_combined_df.head()"
   ]
  },
  {
   "cell_type": "code",
   "execution_count": null,
   "metadata": {
    "tags": []
   },
   "outputs": [],
   "source": [
    "# Rename Columns to 'Inflation in %', 'House Price Index'.\n",
    "inflation_combined_df.columns = ['Inflation in %', 'House Price Index']\n",
    "inflation_combined_df.tail()"
   ]
  },
  {
   "cell_type": "code",
   "execution_count": null,
   "metadata": {
    "tags": []
   },
   "outputs": [],
   "source": [
    "# Plot the data trends of the two variables over time\n",
    "inflation_combined_df.plot()"
   ]
  },
  {
   "cell_type": "code",
   "execution_count": null,
   "metadata": {
    "tags": []
   },
   "outputs": [],
   "source": [
    "#Calculate Corelation of Inflation and House Price Index.\n",
    "inflation_correlation = inflation_combined_df.corr()"
   ]
  },
  {
   "cell_type": "code",
   "execution_count": null,
   "metadata": {
    "tags": []
   },
   "outputs": [],
   "source": [
    "# Use the 'heatmap' function from the seaborn library to visualize correlations\n",
    "#sns.heatmap(inflation_cpi_df, vmin=-1, vmax=1)\n",
    "inflation_correlation.plot.bar()"
   ]
  },
  {
   "cell_type": "markdown",
   "metadata": {},
   "source": [
    "## Residential Real Estate Value vs Federal Funds Effective Rate"
   ]
  },
  {
   "cell_type": "code",
   "execution_count": null,
   "metadata": {
    "tags": []
   },
   "outputs": [],
   "source": [
    "# Federal Funds Effective Rate\n",
    "effective_rate_df = pd.read_csv(Path('Resource/Interest Rate.csv'),index_col='DATE',parse_dates=True)\n",
    "effective_rate_df\n",
    "display(effective_rate_df.hvplot())\n",
    "\n",
    "# House Price Index for the United States\n",
    "house_PI_df.hvplot()"
   ]
  },
  {
   "cell_type": "code",
   "execution_count": null,
   "metadata": {
    "tags": []
   },
   "outputs": [],
   "source": [
    "# Use 'concat' function to combine the two DataFrames by matching indexes\n",
    "interest_combined_df = pd.concat([effective_rate_df,house_PI_df],axis=\"columns\",join=\"inner\")\n",
    "interest_combined_df"
   ]
  },
  {
   "cell_type": "code",
   "execution_count": null,
   "metadata": {
    "tags": []
   },
   "outputs": [],
   "source": [
    "# Rename Columns to'Interest Rate','House Price Index'\n",
    "interest_combined_df.columns= [\"Interest Rate\",\"House Prie Index\"]\n",
    "interest_combined_df.tail()"
   ]
  },
  {
   "cell_type": "code",
   "execution_count": null,
   "metadata": {
    "tags": []
   },
   "outputs": [],
   "source": [
    "# Plot the data trends of the two variables over time\n",
    "interest_combined_df.plot()"
   ]
  },
  {
   "cell_type": "markdown",
   "metadata": {},
   "source": [
    "## Residential Real Estate Value vs Monthly Supply of New Houses"
   ]
  },
  {
   "cell_type": "code",
   "execution_count": null,
   "metadata": {
    "tags": []
   },
   "outputs": [],
   "source": [
    "# Monthly Supply of New Houses in the United States \n",
    "monthly_supply_df = fred.get_series('MSACSR')\n",
    "monthly_supply_df.hvplot()"
   ]
  },
  {
   "cell_type": "markdown",
   "metadata": {
    "tags": []
   },
   "source": [
    "## Residential Real Estate vs S&P500"
   ]
  },
  {
   "cell_type": "markdown",
   "metadata": {},
   "source": [
    "## Residential Real Estate vs XLRE"
   ]
  },
  {
   "cell_type": "code",
   "execution_count": null,
   "metadata": {},
   "outputs": [],
   "source": []
  }
 ],
 "metadata": {
  "kernelspec": {
   "display_name": "Python 3 (ipykernel)",
   "language": "python",
   "name": "python3"
  },
  "language_info": {
   "codemirror_mode": {
    "name": "ipython",
    "version": 3
   },
   "file_extension": ".py",
   "mimetype": "text/x-python",
   "name": "python",
   "nbconvert_exporter": "python",
   "pygments_lexer": "ipython3",
   "version": "3.11.5"
  }
 },
 "nbformat": 4,
 "nbformat_minor": 4
}
