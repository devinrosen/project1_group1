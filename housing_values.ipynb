{
 "cells": [
  {
   "cell_type": "markdown",
   "metadata": {},
   "source": [
    "# Residential Real Estate vs Supply, Inflation, and Interest Rate"
   ]
  },
  {
   "cell_type": "markdown",
   "metadata": {},
   "source": [
    "## Description ##\n",
    "Our goal is to determine how the value of residential real estate relates to supply, inflation, and interest rate.  Additionally, we will compare real estate returns to the returns of the  S&P 500 and XLRE (Real Estate Select Sector)."
   ]
  },
  {
   "cell_type": "markdown",
   "metadata": {},
   "source": [
    "## Objectives ##\n",
    "We intend to identify ideal periods to transact residential real estate based on valuation, inflation, and interest rate."
   ]
  },
  {
   "cell_type": "code",
   "execution_count": null,
   "metadata": {
    "tags": []
   },
   "outputs": [],
   "source": [
    "# Imports\n",
    "import pandas as pd\n",
    "import os\n",
    "from dotenv import load_dotenv\n",
    "from fredapi import Fred\n",
    "import hvplot.pandas\n",
    "import yfinance as yf\n",
    "import numpy as np\n",
    "import seaborn as sns\n",
    "\n"
   ]
  },
  {
   "cell_type": "code",
   "execution_count": null,
   "metadata": {},
   "outputs": [],
   "source": [
    "# Load Environment Variables\n",
    "load_dotenv()\n",
    "\n",
    "# setup fred api client\n",
    "FRED_API_KEY = os.getenv('FRED_API_KEY')\n",
    "fred = Fred(api_key=FRED_API_KEY)"
   ]
  },
  {
   "cell_type": "markdown",
   "metadata": {},
   "source": [
    "## Load all Fred Data"
   ]
  },
  {
   "cell_type": "code",
   "execution_count": null,
   "metadata": {},
   "outputs": [],
   "source": [
    "dataframes = {}\n",
    "FRED_SERIES_KEYS = [\"FPCPITOTLZGUSA\", \"FEDFUNDS\", \"MSACSR\", \"USSTHPI\"]\n",
    "for FRED_SERIES_KEY in FRED_SERIES_KEYS:\n",
    "    series = fred.get_series(FRED_SERIES_KEY)\n",
    "    frame = {\n",
    "        \"date\": series.keys(),\n",
    "        \"value\": series.values,\n",
    "    }\n",
    "    dataframes[FRED_SERIES_KEY] = pd.DataFrame(frame).set_index(\"date\")\n",
    "    dataframes[FRED_SERIES_KEY][f\"pct_change {FRED_SERIES_KEY}\"] = dataframes[FRED_SERIES_KEY].pct_change()\n",
    "    dataframes[FRED_SERIES_KEY][f\"diff {FRED_SERIES_KEY}\"] = dataframes[FRED_SERIES_KEY][\"value\"].diff()\n",
    "    dataframes[FRED_SERIES_KEY] = dataframes[FRED_SERIES_KEY].dropna()\n"
   ]
  },
  {
   "cell_type": "markdown",
   "metadata": {},
   "source": [
    "## Residential Real Estate Value vs Inflation"
   ]
  },
  {
   "cell_type": "code",
   "execution_count": null,
   "metadata": {
    "tags": []
   },
   "outputs": [],
   "source": [
    "# Plot Inflation, consumer prices for the United States\n",
    "display(dataframes[\"FPCPITOTLZGUSA\"][\"value\"].hvplot(title=\"Inflation, consumer prices for the United States\"))\n",
    "\n",
    "# Plot House price Index for the United States\n",
    "display(dataframes[\"USSTHPI\"][\"value\"].hvplot(title=\"All Transactions House Price Index for the United States\"))"
   ]
  },
  {
   "cell_type": "code",
   "execution_count": null,
   "metadata": {
    "tags": []
   },
   "outputs": [],
   "source": [
    "# Rename Columns to 'Inflation in %', Inflation pct_change'\n",
    "dataframes[\"FPCPITOTLZGUSA\"].columns = ['Inflation','Inflation pct_change','Difference in Inflation'] \n",
    "display(dataframes[\"FPCPITOTLZGUSA\"].head())\n",
    "\n",
    "# Rename Columns to 'House Price Index', HPI pct_change'\n",
    "dataframes[\"USSTHPI\"].columns = ['HPI','HPI pct_change','Difference in HPI']\n",
    "dataframes[\"USSTHPI\"].head()"
   ]
  },
  {
   "cell_type": "markdown",
   "metadata": {
    "tags": []
   },
   "source": [
    "#### Combine Infaltion and Housing Price Index for the United States"
   ]
  },
  {
   "cell_type": "code",
   "execution_count": null,
   "metadata": {
    "tags": []
   },
   "outputs": [],
   "source": [
    "# Use 'concat' function to combine the two DataFrames by matching indexes.\n",
    "inflation_combined_df = pd.concat([dataframes[\"FPCPITOTLZGUSA\"], dataframes[\"USSTHPI\"]],axis=\"columns\", join=\"inner\")\n",
    "inflation_combined_df.head()"
   ]
  },
  {
   "cell_type": "code",
   "execution_count": null,
   "metadata": {
    "tags": []
   },
   "outputs": [],
   "source": [
    "# Drop columns 'Inflation''Inflation pct_change','HPI and 'House Price Index'\n",
    "inflation_combined_df = inflation_combined_df.drop(columns=[\"Inflation\",\"Inflation pct_change\",\"HPI\",\"HPI pct_change\"])\n",
    "inflation_combined_df.head()"
   ]
  },
  {
   "cell_type": "markdown",
   "metadata": {},
   "source": [
    "#### Conduct House Price Index and Inflation Analysis"
   ]
  },
  {
   "cell_type": "code",
   "execution_count": 55,
   "metadata": {
    "tags": []
   },
   "outputs": [
    {
     "data": {},
     "metadata": {},
     "output_type": "display_data"
    },
    {
     "data": {
      "application/vnd.holoviews_exec.v0+json": "",
      "text/html": [
       "<div id='p2346'>\n",
       "  <div id=\"b0e5bb31-d81b-49bc-8581-963430be0357\" data-root-id=\"p2346\" style=\"display: contents;\"></div>\n",
       "</div>\n",
       "<script type=\"application/javascript\">(function(root) {\n",
       "  var docs_json = {\"7a3259df-b4a7-484f-bd84-28f711d7b8f9\":{\"version\":\"3.2.1\",\"title\":\"Bokeh Application\",\"roots\":[{\"type\":\"object\",\"name\":\"Row\",\"id\":\"p2346\",\"attributes\":{\"name\":\"Row03415\",\"tags\":[\"embedded\"],\"stylesheets\":[\"\\n:host(.pn-loading.pn-arc):before, .pn-loading.pn-arc:before {\\n  background-image: url(\\\"data:image/svg+xml;base64,PHN2ZyB4bWxucz0iaHR0cDovL3d3dy53My5vcmcvMjAwMC9zdmciIHN0eWxlPSJtYXJnaW46IGF1dG87IGJhY2tncm91bmQ6IG5vbmU7IGRpc3BsYXk6IGJsb2NrOyBzaGFwZS1yZW5kZXJpbmc6IGF1dG87IiB2aWV3Qm94PSIwIDAgMTAwIDEwMCIgcHJlc2VydmVBc3BlY3RSYXRpbz0ieE1pZFlNaWQiPiAgPGNpcmNsZSBjeD0iNTAiIGN5PSI1MCIgZmlsbD0ibm9uZSIgc3Ryb2tlPSIjYzNjM2MzIiBzdHJva2Utd2lkdGg9IjEwIiByPSIzNSIgc3Ryb2tlLWRhc2hhcnJheT0iMTY0LjkzMzYxNDMxMzQ2NDE1IDU2Ljk3Nzg3MTQzNzgyMTM4Ij4gICAgPGFuaW1hdGVUcmFuc2Zvcm0gYXR0cmlidXRlTmFtZT0idHJhbnNmb3JtIiB0eXBlPSJyb3RhdGUiIHJlcGVhdENvdW50PSJpbmRlZmluaXRlIiBkdXI9IjFzIiB2YWx1ZXM9IjAgNTAgNTA7MzYwIDUwIDUwIiBrZXlUaW1lcz0iMDsxIj48L2FuaW1hdGVUcmFuc2Zvcm0+ICA8L2NpcmNsZT48L3N2Zz4=\\\");\\n  background-size: auto calc(min(50%, 400px));\\n}\",{\"type\":\"object\",\"name\":\"ImportedStyleSheet\",\"id\":\"p2349\",\"attributes\":{\"url\":\"https://cdn.holoviz.org/panel/1.2.3/dist/css/loading.css\"}},{\"type\":\"object\",\"name\":\"ImportedStyleSheet\",\"id\":\"p2432\",\"attributes\":{\"url\":\"https://cdn.holoviz.org/panel/1.2.3/dist/css/listpanel.css\"}},{\"type\":\"object\",\"name\":\"ImportedStyleSheet\",\"id\":\"p2347\",\"attributes\":{\"url\":\"https://cdn.holoviz.org/panel/1.2.3/dist/bundled/theme/default.css\"}},{\"type\":\"object\",\"name\":\"ImportedStyleSheet\",\"id\":\"p2348\",\"attributes\":{\"url\":\"https://cdn.holoviz.org/panel/1.2.3/dist/bundled/theme/native.css\"}}],\"min_width\":700,\"margin\":0,\"sizing_mode\":\"stretch_width\",\"align\":\"start\",\"children\":[{\"type\":\"object\",\"name\":\"Spacer\",\"id\":\"p2350\",\"attributes\":{\"name\":\"HSpacer03426\",\"stylesheets\":[\"\\n:host(.pn-loading.pn-arc):before, .pn-loading.pn-arc:before {\\n  background-image: url(\\\"data:image/svg+xml;base64,PHN2ZyB4bWxucz0iaHR0cDovL3d3dy53My5vcmcvMjAwMC9zdmciIHN0eWxlPSJtYXJnaW46IGF1dG87IGJhY2tncm91bmQ6IG5vbmU7IGRpc3BsYXk6IGJsb2NrOyBzaGFwZS1yZW5kZXJpbmc6IGF1dG87IiB2aWV3Qm94PSIwIDAgMTAwIDEwMCIgcHJlc2VydmVBc3BlY3RSYXRpbz0ieE1pZFlNaWQiPiAgPGNpcmNsZSBjeD0iNTAiIGN5PSI1MCIgZmlsbD0ibm9uZSIgc3Ryb2tlPSIjYzNjM2MzIiBzdHJva2Utd2lkdGg9IjEwIiByPSIzNSIgc3Ryb2tlLWRhc2hhcnJheT0iMTY0LjkzMzYxNDMxMzQ2NDE1IDU2Ljk3Nzg3MTQzNzgyMTM4Ij4gICAgPGFuaW1hdGVUcmFuc2Zvcm0gYXR0cmlidXRlTmFtZT0idHJhbnNmb3JtIiB0eXBlPSJyb3RhdGUiIHJlcGVhdENvdW50PSJpbmRlZmluaXRlIiBkdXI9IjFzIiB2YWx1ZXM9IjAgNTAgNTA7MzYwIDUwIDUwIiBrZXlUaW1lcz0iMDsxIj48L2FuaW1hdGVUcmFuc2Zvcm0+ICA8L2NpcmNsZT48L3N2Zz4=\\\");\\n  background-size: auto calc(min(50%, 400px));\\n}\",{\"id\":\"p2349\"},{\"id\":\"p2347\"},{\"id\":\"p2348\"}],\"margin\":0,\"sizing_mode\":\"stretch_width\",\"align\":\"start\"}},{\"type\":\"object\",\"name\":\"Figure\",\"id\":\"p2361\",\"attributes\":{\"width\":700,\"height\":300,\"margin\":[5,10],\"sizing_mode\":\"fixed\",\"align\":\"start\",\"x_range\":{\"type\":\"object\",\"name\":\"Range1d\",\"id\":\"p2351\",\"attributes\":{\"tags\":[[[\"date\",\"date\",null]],[]],\"start\":189302400000.0,\"end\":1640995200000.0,\"reset_start\":189302400000.0,\"reset_end\":1640995200000.0}},\"y_range\":{\"type\":\"object\",\"name\":\"Range1d\",\"id\":\"p2352\",\"attributes\":{\"tags\":[[[\"value\",\"value\",null]],{\"type\":\"map\",\"entries\":[[\"invert_yaxis\",false],[\"autorange\",false]]}],\"start\":-11.959000000000003,\"end\":23.549000000000035,\"reset_start\":-11.959000000000003,\"reset_end\":23.549000000000035}},\"x_scale\":{\"type\":\"object\",\"name\":\"LinearScale\",\"id\":\"p2371\"},\"y_scale\":{\"type\":\"object\",\"name\":\"LinearScale\",\"id\":\"p2372\"},\"title\":{\"type\":\"object\",\"name\":\"Title\",\"id\":\"p2364\",\"attributes\":{\"text\":\"Housing Price Index, Inflation for the United States\",\"text_color\":\"black\",\"text_font_size\":\"12pt\"}},\"renderers\":[{\"type\":\"object\",\"name\":\"GlyphRenderer\",\"id\":\"p2409\",\"attributes\":{\"name\":\"Difference in Inflation\",\"data_source\":{\"type\":\"object\",\"name\":\"ColumnDataSource\",\"id\":\"p2400\",\"attributes\":{\"selected\":{\"type\":\"object\",\"name\":\"Selection\",\"id\":\"p2401\",\"attributes\":{\"indices\":[],\"line_indices\":[]}},\"selection_policy\":{\"type\":\"object\",\"name\":\"UnionRenderers\",\"id\":\"p2402\"},\"data\":{\"type\":\"map\",\"entries\":[[\"date\",{\"type\":\"ndarray\",\"array\":{\"type\":\"bytes\",\"data\":\"AAAAsqYJRkIAAAB2ErhJQgAAAAzrY01CAAAA0eGHUEIAAAAczl1SQgAAAP4DNVRCAAAASfAKVkIAAACU3OBXQgAAAN/ItllCAAAAwf6NW0IAAAAM62NdQgAAAFfXOV9CAAAA0eGHYEIAAADCfHNhQgAAgOdyXmJCAAAADWlJY0IAAIAyXzRkQgAAgCP6H2VCAAAASfAKZkIAAIBu5vVmQgAAAJTc4GdCAAAAhXfMaEIAAICqbbdpQgAAANBjompCAACA9VmNa0IAAIDm9HhsQgAAAAzrY21CAACAMeFObkIAAABX1zlvQgAAACS5EnBCAADANjSIcEIAAIBJr/1wQgAAQFwqc3FCAADA1PfocUIAAIDncl5yQgAAQPrt03JCAAAADWlJc0IAAICFNr9zQgAAQJixNHRCAAAAqyyqdEIAAMC9px91QgAAQDZ1lXVCAAAASfAKdkIAAMBba4B2QgAAgG7m9XZCAAAA57Nrd0IAAMD5LuF3Qg==\"},\"shape\":[47],\"dtype\":\"float64\",\"order\":\"little\"}],[\"value\",{\"type\":\"ndarray\",\"array\":{\"type\":\"bytes\",\"data\":\"KsND28kvC8CoieZISjjoP1z26L2HEfI/yn3pY/H8DECY2XrYm1sCQARty8REtwnAoN6P0SrQEMDHZAhbGFoHwI6dp8zbaPE/4Igd2REo6L8cluwSjlz6v3pnesClQ/w/CLgqrYFx2j/Izbwj9PnnP6gR1hVAReI/hPdy/52b8r+uwYTzXUzzvwBsf3vvwLO/4IvG658H1r+wdKSkWFfJP4AHZvW0GcA/xCh2nxH+4r/0xTHpFSLpvzyKTGUMWOQ/SG4pr3IF8z+gGP+QOJ/hv3TNIYKc1/O/mFHk0Njj5T/AIMUknA7aPxT2EIx15eY/YIzh1spZxb/oCUClruPXv+DWvRDRkO8/+pu4bVHHEMAT5nB57+3/P+zRrBzORPg/ACaT6Wpm8b9wBRUNGljjv6jYYLZdJcQ/F8Fyg7oO+L8EJeFNjEnyP4A4Hbb4yus/yI7d+4//0z/A02p2BCzkv9hu9/8ZhOK/uW8siNW2C0DaNmjihHAKQA==\"},\"shape\":[47],\"dtype\":\"float64\",\"order\":\"little\"}],[\"Variable\",[\"Difference in Inflation\",\"Difference in Inflation\",\"Difference in Inflation\",\"Difference in Inflation\",\"Difference in Inflation\",\"Difference in Inflation\",\"Difference in Inflation\",\"Difference in Inflation\",\"Difference in Inflation\",\"Difference in Inflation\",\"Difference in Inflation\",\"Difference in Inflation\",\"Difference in Inflation\",\"Difference in Inflation\",\"Difference in Inflation\",\"Difference in Inflation\",\"Difference in Inflation\",\"Difference in Inflation\",\"Difference in Inflation\",\"Difference in Inflation\",\"Difference in Inflation\",\"Difference in Inflation\",\"Difference in Inflation\",\"Difference in Inflation\",\"Difference in Inflation\",\"Difference in Inflation\",\"Difference in Inflation\",\"Difference in Inflation\",\"Difference in Inflation\",\"Difference in Inflation\",\"Difference in Inflation\",\"Difference in Inflation\",\"Difference in Inflation\",\"Difference in Inflation\",\"Difference in Inflation\",\"Difference in Inflation\",\"Difference in Inflation\",\"Difference in Inflation\",\"Difference in Inflation\",\"Difference in Inflation\",\"Difference in Inflation\",\"Difference in Inflation\",\"Difference in Inflation\",\"Difference in Inflation\",\"Difference in Inflation\",\"Difference in Inflation\",\"Difference in Inflation\"]]]}}},\"view\":{\"type\":\"object\",\"name\":\"CDSView\",\"id\":\"p2410\",\"attributes\":{\"filter\":{\"type\":\"object\",\"name\":\"AllIndices\",\"id\":\"p2411\"}}},\"glyph\":{\"type\":\"object\",\"name\":\"Line\",\"id\":\"p2406\",\"attributes\":{\"tags\":[\"apply_ranges\"],\"x\":{\"type\":\"field\",\"field\":\"date\"},\"y\":{\"type\":\"field\",\"field\":\"value\"},\"line_color\":\"#30a2da\",\"line_width\":2}},\"selection_glyph\":{\"type\":\"object\",\"name\":\"Line\",\"id\":\"p2414\",\"attributes\":{\"tags\":[\"apply_ranges\"],\"x\":{\"type\":\"field\",\"field\":\"date\"},\"y\":{\"type\":\"field\",\"field\":\"value\"},\"line_color\":\"#30a2da\",\"line_width\":2}},\"nonselection_glyph\":{\"type\":\"object\",\"name\":\"Line\",\"id\":\"p2407\",\"attributes\":{\"tags\":[\"apply_ranges\"],\"x\":{\"type\":\"field\",\"field\":\"date\"},\"y\":{\"type\":\"field\",\"field\":\"value\"},\"line_color\":\"#30a2da\",\"line_alpha\":0.1,\"line_width\":2}},\"muted_glyph\":{\"type\":\"object\",\"name\":\"Line\",\"id\":\"p2408\",\"attributes\":{\"tags\":[\"apply_ranges\"],\"x\":{\"type\":\"field\",\"field\":\"date\"},\"y\":{\"type\":\"field\",\"field\":\"value\"},\"line_color\":\"#30a2da\",\"line_alpha\":0.2,\"line_width\":2}}}},{\"type\":\"object\",\"name\":\"GlyphRenderer\",\"id\":\"p2424\",\"attributes\":{\"name\":\"Difference in HPI\",\"data_source\":{\"type\":\"object\",\"name\":\"ColumnDataSource\",\"id\":\"p2415\",\"attributes\":{\"selected\":{\"type\":\"object\",\"name\":\"Selection\",\"id\":\"p2416\",\"attributes\":{\"indices\":[],\"line_indices\":[]}},\"selection_policy\":{\"type\":\"object\",\"name\":\"UnionRenderers\",\"id\":\"p2417\"},\"data\":{\"type\":\"map\",\"entries\":[[\"date\",{\"type\":\"ndarray\",\"array\":{\"type\":\"bytes\",\"data\":\"AAAAsqYJRkIAAAB2ErhJQgAAAAzrY01CAAAA0eGHUEIAAAAczl1SQgAAAP4DNVRCAAAASfAKVkIAAACU3OBXQgAAAN/ItllCAAAAwf6NW0IAAAAM62NdQgAAAFfXOV9CAAAA0eGHYEIAAADCfHNhQgAAgOdyXmJCAAAADWlJY0IAAIAyXzRkQgAAgCP6H2VCAAAASfAKZkIAAIBu5vVmQgAAAJTc4GdCAAAAhXfMaEIAAICqbbdpQgAAANBjompCAACA9VmNa0IAAIDm9HhsQgAAAAzrY21CAACAMeFObkIAAABX1zlvQgAAACS5EnBCAADANjSIcEIAAIBJr/1wQgAAQFwqc3FCAADA1PfocUIAAIDncl5yQgAAQPrt03JCAAAADWlJc0IAAICFNr9zQgAAQJixNHRCAAAAqyyqdEIAAMC9px91QgAAQDZ1lXVCAAAASfAKdkIAAMBba4B2QgAAgG7m9XZCAAAA57Nrd0IAAMD5LuF3Qg==\"},\"shape\":[47],\"dtype\":\"float64\",\"order\":\"little\"}],[\"value\",{\"type\":\"ndarray\",\"array\":{\"type\":\"bytes\",\"data\":\"QFyPwvUo5D9ACtejcD0CQMBH4XoUrgNAYOF6FK5HD0DAR+F6FK77PwCF61G4HuU/QOF6FK5H9b+gR+F6FK4FQIAUrkfhevw/wKNwPQrX+z+AuB6F61EEQABcj8L1KAZAgGZmZmZmAkCAKFyPwvX8PwD2KFyPwu0/AFK4HoXr9T8A4XoUrkf1PwDYo3A9Crc/AK5H4XoU8j8AH4XrUbjuP0AzMzMzMwFAAK5H4XoU+j/AwvUoXI8IQACuR+F6FAJAYLgehetREUAAKVyPwvUXQID1KFyPwg1AgChcj8L1CkDAcD0K16MSQABSuB6F6x1AANejcD0KF0AAwvUoXI/2PwAAAAAAAAbAgB6F61G4BECA61G4HoUPwAAAAAAAACLAgArXo3A9CsAA4XoUrkf5P4BH4XoUrgVAgLgehetRDkAAexSuR+EKQIBcj8L1KAZAwEfhehSuFkDAUbgehesSQICZmZmZmRRAQOF6FK7HJkDgo3A9Cpc0QA==\"},\"shape\":[47],\"dtype\":\"float64\",\"order\":\"little\"}],[\"Variable\",[\"Difference in HPI\",\"Difference in HPI\",\"Difference in HPI\",\"Difference in HPI\",\"Difference in HPI\",\"Difference in HPI\",\"Difference in HPI\",\"Difference in HPI\",\"Difference in HPI\",\"Difference in HPI\",\"Difference in HPI\",\"Difference in HPI\",\"Difference in HPI\",\"Difference in HPI\",\"Difference in HPI\",\"Difference in HPI\",\"Difference in HPI\",\"Difference in HPI\",\"Difference in HPI\",\"Difference in HPI\",\"Difference in HPI\",\"Difference in HPI\",\"Difference in HPI\",\"Difference in HPI\",\"Difference in HPI\",\"Difference in HPI\",\"Difference in HPI\",\"Difference in HPI\",\"Difference in HPI\",\"Difference in HPI\",\"Difference in HPI\",\"Difference in HPI\",\"Difference in HPI\",\"Difference in HPI\",\"Difference in HPI\",\"Difference in HPI\",\"Difference in HPI\",\"Difference in HPI\",\"Difference in HPI\",\"Difference in HPI\",\"Difference in HPI\",\"Difference in HPI\",\"Difference in HPI\",\"Difference in HPI\",\"Difference in HPI\",\"Difference in HPI\",\"Difference in HPI\"]]]}}},\"view\":{\"type\":\"object\",\"name\":\"CDSView\",\"id\":\"p2425\",\"attributes\":{\"filter\":{\"type\":\"object\",\"name\":\"AllIndices\",\"id\":\"p2426\"}}},\"glyph\":{\"type\":\"object\",\"name\":\"Line\",\"id\":\"p2421\",\"attributes\":{\"tags\":[\"apply_ranges\"],\"x\":{\"type\":\"field\",\"field\":\"date\"},\"y\":{\"type\":\"field\",\"field\":\"value\"},\"line_color\":\"#fc4f30\",\"line_width\":2}},\"selection_glyph\":{\"type\":\"object\",\"name\":\"Line\",\"id\":\"p2428\",\"attributes\":{\"tags\":[\"apply_ranges\"],\"x\":{\"type\":\"field\",\"field\":\"date\"},\"y\":{\"type\":\"field\",\"field\":\"value\"},\"line_color\":\"#fc4f30\",\"line_width\":2}},\"nonselection_glyph\":{\"type\":\"object\",\"name\":\"Line\",\"id\":\"p2422\",\"attributes\":{\"tags\":[\"apply_ranges\"],\"x\":{\"type\":\"field\",\"field\":\"date\"},\"y\":{\"type\":\"field\",\"field\":\"value\"},\"line_color\":\"#fc4f30\",\"line_alpha\":0.1,\"line_width\":2}},\"muted_glyph\":{\"type\":\"object\",\"name\":\"Line\",\"id\":\"p2423\",\"attributes\":{\"tags\":[\"apply_ranges\"],\"x\":{\"type\":\"field\",\"field\":\"date\"},\"y\":{\"type\":\"field\",\"field\":\"value\"},\"line_color\":\"#fc4f30\",\"line_alpha\":0.2,\"line_width\":2}}}}],\"toolbar\":{\"type\":\"object\",\"name\":\"Toolbar\",\"id\":\"p2370\",\"attributes\":{\"tools\":[{\"type\":\"object\",\"name\":\"WheelZoomTool\",\"id\":\"p2356\",\"attributes\":{\"tags\":[\"hv_created\"],\"zoom_together\":\"none\"}},{\"type\":\"object\",\"name\":\"HoverTool\",\"id\":\"p2357\",\"attributes\":{\"tags\":[\"hv_created\"],\"renderers\":[{\"id\":\"p2409\"},{\"id\":\"p2424\"}],\"tooltips\":[[\"Variable\",\"@{Variable}\"],[\"date\",\"@{date}{%F %T}\"],[\"value\",\"@{value}\"]],\"formatters\":{\"type\":\"map\",\"entries\":[[\"@{date}\",\"datetime\"]]}}},{\"type\":\"object\",\"name\":\"SaveTool\",\"id\":\"p2395\"},{\"type\":\"object\",\"name\":\"PanTool\",\"id\":\"p2396\"},{\"type\":\"object\",\"name\":\"BoxZoomTool\",\"id\":\"p2397\",\"attributes\":{\"overlay\":{\"type\":\"object\",\"name\":\"BoxAnnotation\",\"id\":\"p2398\",\"attributes\":{\"syncable\":false,\"level\":\"overlay\",\"visible\":false,\"left_units\":\"canvas\",\"right_units\":\"canvas\",\"bottom_units\":\"canvas\",\"top_units\":\"canvas\",\"line_color\":\"black\",\"line_alpha\":1.0,\"line_width\":2,\"line_dash\":[4,4],\"fill_color\":\"lightgrey\",\"fill_alpha\":0.5}}}},{\"type\":\"object\",\"name\":\"ResetTool\",\"id\":\"p2399\"}],\"active_drag\":{\"id\":\"p2396\"},\"active_scroll\":{\"id\":\"p2356\"}}},\"left\":[{\"type\":\"object\",\"name\":\"LinearAxis\",\"id\":\"p2390\",\"attributes\":{\"ticker\":{\"type\":\"object\",\"name\":\"BasicTicker\",\"id\":\"p2391\",\"attributes\":{\"mantissas\":[1,2,5]}},\"formatter\":{\"type\":\"object\",\"name\":\"BasicTickFormatter\",\"id\":\"p2392\"},\"axis_label\":\"Difference\",\"major_label_policy\":{\"type\":\"object\",\"name\":\"AllLabels\",\"id\":\"p2393\"}}}],\"right\":[{\"type\":\"object\",\"name\":\"Legend\",\"id\":\"p2412\",\"attributes\":{\"location\":[0,0],\"title\":\"Variable\",\"click_policy\":\"mute\",\"items\":[{\"type\":\"object\",\"name\":\"LegendItem\",\"id\":\"p2413\",\"attributes\":{\"label\":{\"type\":\"value\",\"value\":\"Difference in Inflation\"},\"renderers\":[{\"id\":\"p2409\"}]}},{\"type\":\"object\",\"name\":\"LegendItem\",\"id\":\"p2427\",\"attributes\":{\"label\":{\"type\":\"value\",\"value\":\"Difference in HPI\"},\"renderers\":[{\"id\":\"p2424\"}]}}]}}],\"below\":[{\"type\":\"object\",\"name\":\"DatetimeAxis\",\"id\":\"p2373\",\"attributes\":{\"ticker\":{\"type\":\"object\",\"name\":\"DatetimeTicker\",\"id\":\"p2374\",\"attributes\":{\"num_minor_ticks\":5,\"tickers\":[{\"type\":\"object\",\"name\":\"AdaptiveTicker\",\"id\":\"p2375\",\"attributes\":{\"num_minor_ticks\":0,\"mantissas\":[1,2,5],\"max_interval\":500.0}},{\"type\":\"object\",\"name\":\"AdaptiveTicker\",\"id\":\"p2376\",\"attributes\":{\"num_minor_ticks\":0,\"base\":60,\"mantissas\":[1,2,5,10,15,20,30],\"min_interval\":1000.0,\"max_interval\":1800000.0}},{\"type\":\"object\",\"name\":\"AdaptiveTicker\",\"id\":\"p2377\",\"attributes\":{\"num_minor_ticks\":0,\"base\":24,\"mantissas\":[1,2,4,6,8,12],\"min_interval\":3600000.0,\"max_interval\":43200000.0}},{\"type\":\"object\",\"name\":\"DaysTicker\",\"id\":\"p2378\",\"attributes\":{\"days\":[1,2,3,4,5,6,7,8,9,10,11,12,13,14,15,16,17,18,19,20,21,22,23,24,25,26,27,28,29,30,31]}},{\"type\":\"object\",\"name\":\"DaysTicker\",\"id\":\"p2379\",\"attributes\":{\"days\":[1,4,7,10,13,16,19,22,25,28]}},{\"type\":\"object\",\"name\":\"DaysTicker\",\"id\":\"p2380\",\"attributes\":{\"days\":[1,8,15,22]}},{\"type\":\"object\",\"name\":\"DaysTicker\",\"id\":\"p2381\",\"attributes\":{\"days\":[1,15]}},{\"type\":\"object\",\"name\":\"MonthsTicker\",\"id\":\"p2382\",\"attributes\":{\"months\":[0,1,2,3,4,5,6,7,8,9,10,11]}},{\"type\":\"object\",\"name\":\"MonthsTicker\",\"id\":\"p2383\",\"attributes\":{\"months\":[0,2,4,6,8,10]}},{\"type\":\"object\",\"name\":\"MonthsTicker\",\"id\":\"p2384\",\"attributes\":{\"months\":[0,4,8]}},{\"type\":\"object\",\"name\":\"MonthsTicker\",\"id\":\"p2385\",\"attributes\":{\"months\":[0,6]}},{\"type\":\"object\",\"name\":\"YearsTicker\",\"id\":\"p2386\"}]}},\"formatter\":{\"type\":\"object\",\"name\":\"DatetimeTickFormatter\",\"id\":\"p2387\"},\"axis_label\":\"Date\",\"major_label_policy\":{\"type\":\"object\",\"name\":\"AllLabels\",\"id\":\"p2388\"}}}],\"center\":[{\"type\":\"object\",\"name\":\"Grid\",\"id\":\"p2389\",\"attributes\":{\"axis\":{\"id\":\"p2373\"},\"grid_line_color\":null}},{\"type\":\"object\",\"name\":\"Grid\",\"id\":\"p2394\",\"attributes\":{\"dimension\":1,\"axis\":{\"id\":\"p2390\"},\"grid_line_color\":null}}],\"min_border_top\":10,\"min_border_bottom\":10,\"min_border_left\":10,\"min_border_right\":10,\"output_backend\":\"webgl\"}},{\"type\":\"object\",\"name\":\"Spacer\",\"id\":\"p2430\",\"attributes\":{\"name\":\"HSpacer03429\",\"stylesheets\":[\"\\n:host(.pn-loading.pn-arc):before, .pn-loading.pn-arc:before {\\n  background-image: url(\\\"data:image/svg+xml;base64,PHN2ZyB4bWxucz0iaHR0cDovL3d3dy53My5vcmcvMjAwMC9zdmciIHN0eWxlPSJtYXJnaW46IGF1dG87IGJhY2tncm91bmQ6IG5vbmU7IGRpc3BsYXk6IGJsb2NrOyBzaGFwZS1yZW5kZXJpbmc6IGF1dG87IiB2aWV3Qm94PSIwIDAgMTAwIDEwMCIgcHJlc2VydmVBc3BlY3RSYXRpbz0ieE1pZFlNaWQiPiAgPGNpcmNsZSBjeD0iNTAiIGN5PSI1MCIgZmlsbD0ibm9uZSIgc3Ryb2tlPSIjYzNjM2MzIiBzdHJva2Utd2lkdGg9IjEwIiByPSIzNSIgc3Ryb2tlLWRhc2hhcnJheT0iMTY0LjkzMzYxNDMxMzQ2NDE1IDU2Ljk3Nzg3MTQzNzgyMTM4Ij4gICAgPGFuaW1hdGVUcmFuc2Zvcm0gYXR0cmlidXRlTmFtZT0idHJhbnNmb3JtIiB0eXBlPSJyb3RhdGUiIHJlcGVhdENvdW50PSJpbmRlZmluaXRlIiBkdXI9IjFzIiB2YWx1ZXM9IjAgNTAgNTA7MzYwIDUwIDUwIiBrZXlUaW1lcz0iMDsxIj48L2FuaW1hdGVUcmFuc2Zvcm0+ICA8L2NpcmNsZT48L3N2Zz4=\\\");\\n  background-size: auto calc(min(50%, 400px));\\n}\",{\"id\":\"p2349\"},{\"id\":\"p2347\"},{\"id\":\"p2348\"}],\"margin\":0,\"sizing_mode\":\"stretch_width\",\"align\":\"start\"}}]}}],\"defs\":[{\"type\":\"model\",\"name\":\"ReactiveHTML1\"},{\"type\":\"model\",\"name\":\"FlexBox1\",\"properties\":[{\"name\":\"align_content\",\"kind\":\"Any\",\"default\":\"flex-start\"},{\"name\":\"align_items\",\"kind\":\"Any\",\"default\":\"flex-start\"},{\"name\":\"flex_direction\",\"kind\":\"Any\",\"default\":\"row\"},{\"name\":\"flex_wrap\",\"kind\":\"Any\",\"default\":\"wrap\"},{\"name\":\"justify_content\",\"kind\":\"Any\",\"default\":\"flex-start\"}]},{\"type\":\"model\",\"name\":\"FloatPanel1\",\"properties\":[{\"name\":\"config\",\"kind\":\"Any\",\"default\":{\"type\":\"map\"}},{\"name\":\"contained\",\"kind\":\"Any\",\"default\":true},{\"name\":\"position\",\"kind\":\"Any\",\"default\":\"right-top\"},{\"name\":\"offsetx\",\"kind\":\"Any\",\"default\":null},{\"name\":\"offsety\",\"kind\":\"Any\",\"default\":null},{\"name\":\"theme\",\"kind\":\"Any\",\"default\":\"primary\"},{\"name\":\"status\",\"kind\":\"Any\",\"default\":\"normalized\"}]},{\"type\":\"model\",\"name\":\"GridStack1\",\"properties\":[{\"name\":\"mode\",\"kind\":\"Any\",\"default\":\"warn\"},{\"name\":\"ncols\",\"kind\":\"Any\",\"default\":null},{\"name\":\"nrows\",\"kind\":\"Any\",\"default\":null},{\"name\":\"allow_resize\",\"kind\":\"Any\",\"default\":true},{\"name\":\"allow_drag\",\"kind\":\"Any\",\"default\":true},{\"name\":\"state\",\"kind\":\"Any\",\"default\":[]}]},{\"type\":\"model\",\"name\":\"drag1\",\"properties\":[{\"name\":\"slider_width\",\"kind\":\"Any\",\"default\":5},{\"name\":\"slider_color\",\"kind\":\"Any\",\"default\":\"black\"},{\"name\":\"value\",\"kind\":\"Any\",\"default\":50}]},{\"type\":\"model\",\"name\":\"click1\",\"properties\":[{\"name\":\"terminal_output\",\"kind\":\"Any\",\"default\":\"\"},{\"name\":\"debug_name\",\"kind\":\"Any\",\"default\":\"\"},{\"name\":\"clears\",\"kind\":\"Any\",\"default\":0}]},{\"type\":\"model\",\"name\":\"FastWrapper1\",\"properties\":[{\"name\":\"object\",\"kind\":\"Any\",\"default\":null},{\"name\":\"style\",\"kind\":\"Any\",\"default\":null}]},{\"type\":\"model\",\"name\":\"NotificationAreaBase1\",\"properties\":[{\"name\":\"js_events\",\"kind\":\"Any\",\"default\":{\"type\":\"map\"}},{\"name\":\"position\",\"kind\":\"Any\",\"default\":\"bottom-right\"},{\"name\":\"_clear\",\"kind\":\"Any\",\"default\":0}]},{\"type\":\"model\",\"name\":\"NotificationArea1\",\"properties\":[{\"name\":\"js_events\",\"kind\":\"Any\",\"default\":{\"type\":\"map\"}},{\"name\":\"notifications\",\"kind\":\"Any\",\"default\":[]},{\"name\":\"position\",\"kind\":\"Any\",\"default\":\"bottom-right\"},{\"name\":\"_clear\",\"kind\":\"Any\",\"default\":0},{\"name\":\"types\",\"kind\":\"Any\",\"default\":[{\"type\":\"map\",\"entries\":[[\"type\",\"warning\"],[\"background\",\"#ffc107\"],[\"icon\",{\"type\":\"map\",\"entries\":[[\"className\",\"fas fa-exclamation-triangle\"],[\"tagName\",\"i\"],[\"color\",\"white\"]]}]]},{\"type\":\"map\",\"entries\":[[\"type\",\"info\"],[\"background\",\"#007bff\"],[\"icon\",{\"type\":\"map\",\"entries\":[[\"className\",\"fas fa-info-circle\"],[\"tagName\",\"i\"],[\"color\",\"white\"]]}]]}]}]},{\"type\":\"model\",\"name\":\"Notification\",\"properties\":[{\"name\":\"background\",\"kind\":\"Any\",\"default\":null},{\"name\":\"duration\",\"kind\":\"Any\",\"default\":3000},{\"name\":\"icon\",\"kind\":\"Any\",\"default\":null},{\"name\":\"message\",\"kind\":\"Any\",\"default\":\"\"},{\"name\":\"notification_type\",\"kind\":\"Any\",\"default\":null},{\"name\":\"_destroyed\",\"kind\":\"Any\",\"default\":false}]},{\"type\":\"model\",\"name\":\"TemplateActions1\",\"properties\":[{\"name\":\"open_modal\",\"kind\":\"Any\",\"default\":0},{\"name\":\"close_modal\",\"kind\":\"Any\",\"default\":0}]},{\"type\":\"model\",\"name\":\"BootstrapTemplateActions1\",\"properties\":[{\"name\":\"open_modal\",\"kind\":\"Any\",\"default\":0},{\"name\":\"close_modal\",\"kind\":\"Any\",\"default\":0}]},{\"type\":\"model\",\"name\":\"MaterialTemplateActions1\",\"properties\":[{\"name\":\"open_modal\",\"kind\":\"Any\",\"default\":0},{\"name\":\"close_modal\",\"kind\":\"Any\",\"default\":0}]}]}};\n",
       "  var render_items = [{\"docid\":\"7a3259df-b4a7-484f-bd84-28f711d7b8f9\",\"roots\":{\"p2346\":\"b0e5bb31-d81b-49bc-8581-963430be0357\"},\"root_ids\":[\"p2346\"]}];\n",
       "  var docs = Object.values(docs_json)\n",
       "  if (!docs) {\n",
       "    return\n",
       "  }\n",
       "  const py_version = docs[0].version.replace('rc', '-rc.').replace('.dev', '-dev.')\n",
       "  const is_dev = py_version.indexOf(\"+\") !== -1 || py_version.indexOf(\"-\") !== -1\n",
       "  function embed_document(root) {\n",
       "    var Bokeh = get_bokeh(root)\n",
       "    Bokeh.embed.embed_items_notebook(docs_json, render_items);\n",
       "    for (const render_item of render_items) {\n",
       "      for (const root_id of render_item.root_ids) {\n",
       "\tconst id_el = document.getElementById(root_id)\n",
       "\tif (id_el.children.length && (id_el.children[0].className === 'bk-root')) {\n",
       "\t  const root_el = id_el.children[0]\n",
       "\t  root_el.id = root_el.id + '-rendered'\n",
       "\t}\n",
       "      }\n",
       "    }\n",
       "  }\n",
       "  function get_bokeh(root) {\n",
       "    if (root.Bokeh === undefined) {\n",
       "      return null\n",
       "    } else if (root.Bokeh.version !== py_version && !is_dev) {\n",
       "      if (root.Bokeh.versions === undefined || !root.Bokeh.versions.has(py_version)) {\n",
       "\treturn null\n",
       "      }\n",
       "      return root.Bokeh.versions.get(py_version);\n",
       "    } else if (root.Bokeh.version === py_version) {\n",
       "      return root.Bokeh\n",
       "    }\n",
       "    return null\n",
       "  }\n",
       "  function is_loaded(root) {\n",
       "    var Bokeh = get_bokeh(root)\n",
       "    return (Bokeh != null && Bokeh.Panel !== undefined)\n",
       "  }\n",
       "  if (is_loaded(root)) {\n",
       "    embed_document(root);\n",
       "  } else {\n",
       "    var attempts = 0;\n",
       "    var timer = setInterval(function(root) {\n",
       "      if (is_loaded(root)) {\n",
       "        clearInterval(timer);\n",
       "        embed_document(root);\n",
       "      } else if (document.readyState == \"complete\") {\n",
       "        attempts++;\n",
       "        if (attempts > 200) {\n",
       "          clearInterval(timer);\n",
       "\t  var Bokeh = get_bokeh(root)\n",
       "\t  if (Bokeh == null || Bokeh.Panel == null) {\n",
       "            console.warn(\"Panel: ERROR: Unable to run Panel code because Bokeh or Panel library is missing\");\n",
       "\t  } else {\n",
       "\t    console.warn(\"Panel: WARNING: Attempting to render but not all required libraries could be resolved.\")\n",
       "\t    embed_document(root)\n",
       "\t  }\n",
       "        }\n",
       "      }\n",
       "    }, 25, root)\n",
       "  }\n",
       "})(window);</script>"
      ],
      "text/plain": [
       ":NdOverlay   [Variable]\n",
       "   :Curve   [date]   (value)"
      ]
     },
     "execution_count": 55,
     "metadata": {
      "application/vnd.holoviews_exec.v0+json": {
       "id": "p2346"
      }
     },
     "output_type": "execute_result"
    }
   ],
   "source": [
    "# Plot difference for combined dataframes\n",
    "inflation_combined_df.hvplot(title=\"Housing Price Index, Inflation for the United States\",xlabel=\"Date\", ylabel=\"Difference\")"
   ]
  },
  {
   "cell_type": "markdown",
   "metadata": {},
   "source": [
    "## Residential Real Estate Value vs Federal Funds Effective Rate"
   ]
  },
  {
   "cell_type": "code",
   "execution_count": null,
   "metadata": {
    "tags": []
   },
   "outputs": [],
   "source": [
    "# Federal Effective Rate(Interest Rate)\n",
    "display(dataframes[\"FEDFUNDS\"][\"value\"].hvplot(title=\"Federal Effective Rate\"))\n",
    "\n",
    "# House price Index for the United States\n",
    "display(dataframes[\"USSTHPI\"][\"HPI\"].hvplot(title=\"All Transactions House Price Index for the United States\"))"
   ]
  },
  {
   "cell_type": "code",
   "execution_count": 56,
   "metadata": {
    "tags": []
   },
   "outputs": [
    {
     "data": {
      "text/html": [
       "<div>\n",
       "<style scoped>\n",
       "    .dataframe tbody tr th:only-of-type {\n",
       "        vertical-align: middle;\n",
       "    }\n",
       "\n",
       "    .dataframe tbody tr th {\n",
       "        vertical-align: top;\n",
       "    }\n",
       "\n",
       "    .dataframe thead th {\n",
       "        text-align: right;\n",
       "    }\n",
       "</style>\n",
       "<table border=\"1\" class=\"dataframe\">\n",
       "  <thead>\n",
       "    <tr style=\"text-align: right;\">\n",
       "      <th></th>\n",
       "      <th>Interest Rate</th>\n",
       "      <th>Interest Rate pct_change</th>\n",
       "      <th>Difference in Interest Rate</th>\n",
       "    </tr>\n",
       "    <tr>\n",
       "      <th>date</th>\n",
       "      <th></th>\n",
       "      <th></th>\n",
       "      <th></th>\n",
       "    </tr>\n",
       "  </thead>\n",
       "  <tbody>\n",
       "    <tr>\n",
       "      <th>1954-08-01</th>\n",
       "      <td>1.22</td>\n",
       "      <td>0.525000</td>\n",
       "      <td>0.42</td>\n",
       "    </tr>\n",
       "    <tr>\n",
       "      <th>1954-09-01</th>\n",
       "      <td>1.07</td>\n",
       "      <td>-0.122951</td>\n",
       "      <td>-0.15</td>\n",
       "    </tr>\n",
       "    <tr>\n",
       "      <th>1954-10-01</th>\n",
       "      <td>0.85</td>\n",
       "      <td>-0.205607</td>\n",
       "      <td>-0.22</td>\n",
       "    </tr>\n",
       "    <tr>\n",
       "      <th>1954-11-01</th>\n",
       "      <td>0.83</td>\n",
       "      <td>-0.023529</td>\n",
       "      <td>-0.02</td>\n",
       "    </tr>\n",
       "    <tr>\n",
       "      <th>1954-12-01</th>\n",
       "      <td>1.28</td>\n",
       "      <td>0.542169</td>\n",
       "      <td>0.45</td>\n",
       "    </tr>\n",
       "  </tbody>\n",
       "</table>\n",
       "</div>"
      ],
      "text/plain": [
       "            Interest Rate  Interest Rate pct_change  \\\n",
       "date                                                  \n",
       "1954-08-01           1.22                  0.525000   \n",
       "1954-09-01           1.07                 -0.122951   \n",
       "1954-10-01           0.85                 -0.205607   \n",
       "1954-11-01           0.83                 -0.023529   \n",
       "1954-12-01           1.28                  0.542169   \n",
       "\n",
       "            Difference in Interest Rate  \n",
       "date                                     \n",
       "1954-08-01                         0.42  \n",
       "1954-09-01                        -0.15  \n",
       "1954-10-01                        -0.22  \n",
       "1954-11-01                        -0.02  \n",
       "1954-12-01                         0.45  "
      ]
     },
     "metadata": {},
     "output_type": "display_data"
    },
    {
     "data": {
      "text/html": [
       "<div>\n",
       "<style scoped>\n",
       "    .dataframe tbody tr th:only-of-type {\n",
       "        vertical-align: middle;\n",
       "    }\n",
       "\n",
       "    .dataframe tbody tr th {\n",
       "        vertical-align: top;\n",
       "    }\n",
       "\n",
       "    .dataframe thead th {\n",
       "        text-align: right;\n",
       "    }\n",
       "</style>\n",
       "<table border=\"1\" class=\"dataframe\">\n",
       "  <thead>\n",
       "    <tr style=\"text-align: right;\">\n",
       "      <th></th>\n",
       "      <th>HPI</th>\n",
       "      <th>HPI pct_change</th>\n",
       "      <th>Difference in HPI</th>\n",
       "    </tr>\n",
       "    <tr>\n",
       "      <th>date</th>\n",
       "      <th></th>\n",
       "      <th></th>\n",
       "      <th></th>\n",
       "    </tr>\n",
       "  </thead>\n",
       "  <tbody>\n",
       "    <tr>\n",
       "      <th>1975-04-01</th>\n",
       "      <td>60.76</td>\n",
       "      <td>0.014188</td>\n",
       "      <td>0.85</td>\n",
       "    </tr>\n",
       "    <tr>\n",
       "      <th>1975-07-01</th>\n",
       "      <td>61.16</td>\n",
       "      <td>0.006583</td>\n",
       "      <td>0.40</td>\n",
       "    </tr>\n",
       "    <tr>\n",
       "      <th>1975-10-01</th>\n",
       "      <td>62.22</td>\n",
       "      <td>0.017332</td>\n",
       "      <td>1.06</td>\n",
       "    </tr>\n",
       "    <tr>\n",
       "      <th>1976-01-01</th>\n",
       "      <td>62.85</td>\n",
       "      <td>0.010125</td>\n",
       "      <td>0.63</td>\n",
       "    </tr>\n",
       "    <tr>\n",
       "      <th>1976-04-01</th>\n",
       "      <td>65.43</td>\n",
       "      <td>0.041050</td>\n",
       "      <td>2.58</td>\n",
       "    </tr>\n",
       "  </tbody>\n",
       "</table>\n",
       "</div>"
      ],
      "text/plain": [
       "              HPI  HPI pct_change  Difference in HPI\n",
       "date                                                \n",
       "1975-04-01  60.76        0.014188               0.85\n",
       "1975-07-01  61.16        0.006583               0.40\n",
       "1975-10-01  62.22        0.017332               1.06\n",
       "1976-01-01  62.85        0.010125               0.63\n",
       "1976-04-01  65.43        0.041050               2.58"
      ]
     },
     "metadata": {},
     "output_type": "display_data"
    }
   ],
   "source": [
    "# Rename columns to 'Interest Rate','Interest Rate pct_change','Difference in Interest Rate'\n",
    "dataframes[\"FEDFUNDS\"].columns=[\"Interest Rate\",\"Interest Rate pct_change\",\"Difference in Interest Rate\"]\n",
    "display(dataframes[\"FEDFUNDS\"].head())\n",
    "\n",
    "# Rename Columns to 'House Price Index', HPI pct_change'\n",
    "dataframes[\"USSTHPI\"].columns = ['HPI','HPI pct_change','Difference in HPI']\n",
    "display(dataframes[\"USSTHPI\"].head())"
   ]
  },
  {
   "cell_type": "markdown",
   "metadata": {},
   "source": [
    "#### Combine Interest Rate and Housing Price Index for the United States"
   ]
  },
  {
   "cell_type": "code",
   "execution_count": null,
   "metadata": {
    "tags": []
   },
   "outputs": [],
   "source": [
    "# Use 'concat' function to combine the two DataFrames by matching indexes\n",
    "fed_rate_combined_df = pd.concat([dataframes[\"FEDFUNDS\"],dataframes[\"USSTHPI\"]],axis=\"columns\",join=\"inner\")\n",
    "fed_rate_combined_df.head()"
   ]
  },
  {
   "cell_type": "code",
   "execution_count": null,
   "metadata": {
    "tags": []
   },
   "outputs": [],
   "source": [
    "# Drop Columns 'Interest Rate','Interest Rate pct_change','HPI','HPI pct_change'\n",
    "fed_rate_combined_df = fed_rate_combined_df.drop(columns=[\"Difference in Interest Rate\",\"Interest Rate pct_change\",\"HPI\",\"HPI pct_change\"])\n",
    "fed_rate_combined_df.head()"
   ]
  },
  {
   "cell_type": "markdown",
   "metadata": {},
   "source": [
    "#### Conduct House Price Index and Interest Rate Analysis"
   ]
  },
  {
   "cell_type": "code",
   "execution_count": 57,
   "metadata": {
    "tags": []
   },
   "outputs": [
    {
     "data": {},
     "metadata": {},
     "output_type": "display_data"
    },
    {
     "data": {
      "application/vnd.holoviews_exec.v0+json": "",
      "text/html": [
       "<div id='p2438'>\n",
       "  <div id=\"a3f93ca3-1a60-4c84-95d5-f189532df4a2\" data-root-id=\"p2438\" style=\"display: contents;\"></div>\n",
       "</div>\n",
       "<script type=\"application/javascript\">(function(root) {\n",
       "  var docs_json = {\"6bb3cb4f-d06d-497a-853b-b8b1533f294e\":{\"version\":\"3.2.1\",\"title\":\"Bokeh Application\",\"roots\":[{\"type\":\"object\",\"name\":\"Row\",\"id\":\"p2438\",\"attributes\":{\"name\":\"Row03593\",\"tags\":[\"embedded\"],\"stylesheets\":[\"\\n:host(.pn-loading.pn-arc):before, .pn-loading.pn-arc:before {\\n  background-image: url(\\\"data:image/svg+xml;base64,PHN2ZyB4bWxucz0iaHR0cDovL3d3dy53My5vcmcvMjAwMC9zdmciIHN0eWxlPSJtYXJnaW46IGF1dG87IGJhY2tncm91bmQ6IG5vbmU7IGRpc3BsYXk6IGJsb2NrOyBzaGFwZS1yZW5kZXJpbmc6IGF1dG87IiB2aWV3Qm94PSIwIDAgMTAwIDEwMCIgcHJlc2VydmVBc3BlY3RSYXRpbz0ieE1pZFlNaWQiPiAgPGNpcmNsZSBjeD0iNTAiIGN5PSI1MCIgZmlsbD0ibm9uZSIgc3Ryb2tlPSIjYzNjM2MzIiBzdHJva2Utd2lkdGg9IjEwIiByPSIzNSIgc3Ryb2tlLWRhc2hhcnJheT0iMTY0LjkzMzYxNDMxMzQ2NDE1IDU2Ljk3Nzg3MTQzNzgyMTM4Ij4gICAgPGFuaW1hdGVUcmFuc2Zvcm0gYXR0cmlidXRlTmFtZT0idHJhbnNmb3JtIiB0eXBlPSJyb3RhdGUiIHJlcGVhdENvdW50PSJpbmRlZmluaXRlIiBkdXI9IjFzIiB2YWx1ZXM9IjAgNTAgNTA7MzYwIDUwIDUwIiBrZXlUaW1lcz0iMDsxIj48L2FuaW1hdGVUcmFuc2Zvcm0+ICA8L2NpcmNsZT48L3N2Zz4=\\\");\\n  background-size: auto calc(min(50%, 400px));\\n}\",{\"type\":\"object\",\"name\":\"ImportedStyleSheet\",\"id\":\"p2441\",\"attributes\":{\"url\":\"https://cdn.holoviz.org/panel/1.2.3/dist/css/loading.css\"}},{\"type\":\"object\",\"name\":\"ImportedStyleSheet\",\"id\":\"p2524\",\"attributes\":{\"url\":\"https://cdn.holoviz.org/panel/1.2.3/dist/css/listpanel.css\"}},{\"type\":\"object\",\"name\":\"ImportedStyleSheet\",\"id\":\"p2439\",\"attributes\":{\"url\":\"https://cdn.holoviz.org/panel/1.2.3/dist/bundled/theme/default.css\"}},{\"type\":\"object\",\"name\":\"ImportedStyleSheet\",\"id\":\"p2440\",\"attributes\":{\"url\":\"https://cdn.holoviz.org/panel/1.2.3/dist/bundled/theme/native.css\"}}],\"min_width\":700,\"margin\":0,\"sizing_mode\":\"stretch_width\",\"align\":\"start\",\"children\":[{\"type\":\"object\",\"name\":\"Spacer\",\"id\":\"p2442\",\"attributes\":{\"name\":\"HSpacer03604\",\"stylesheets\":[\"\\n:host(.pn-loading.pn-arc):before, .pn-loading.pn-arc:before {\\n  background-image: url(\\\"data:image/svg+xml;base64,PHN2ZyB4bWxucz0iaHR0cDovL3d3dy53My5vcmcvMjAwMC9zdmciIHN0eWxlPSJtYXJnaW46IGF1dG87IGJhY2tncm91bmQ6IG5vbmU7IGRpc3BsYXk6IGJsb2NrOyBzaGFwZS1yZW5kZXJpbmc6IGF1dG87IiB2aWV3Qm94PSIwIDAgMTAwIDEwMCIgcHJlc2VydmVBc3BlY3RSYXRpbz0ieE1pZFlNaWQiPiAgPGNpcmNsZSBjeD0iNTAiIGN5PSI1MCIgZmlsbD0ibm9uZSIgc3Ryb2tlPSIjYzNjM2MzIiBzdHJva2Utd2lkdGg9IjEwIiByPSIzNSIgc3Ryb2tlLWRhc2hhcnJheT0iMTY0LjkzMzYxNDMxMzQ2NDE1IDU2Ljk3Nzg3MTQzNzgyMTM4Ij4gICAgPGFuaW1hdGVUcmFuc2Zvcm0gYXR0cmlidXRlTmFtZT0idHJhbnNmb3JtIiB0eXBlPSJyb3RhdGUiIHJlcGVhdENvdW50PSJpbmRlZmluaXRlIiBkdXI9IjFzIiB2YWx1ZXM9IjAgNTAgNTA7MzYwIDUwIDUwIiBrZXlUaW1lcz0iMDsxIj48L2FuaW1hdGVUcmFuc2Zvcm0+ICA8L2NpcmNsZT48L3N2Zz4=\\\");\\n  background-size: auto calc(min(50%, 400px));\\n}\",{\"id\":\"p2441\"},{\"id\":\"p2439\"},{\"id\":\"p2440\"}],\"margin\":0,\"sizing_mode\":\"stretch_width\",\"align\":\"start\"}},{\"type\":\"object\",\"name\":\"Figure\",\"id\":\"p2453\",\"attributes\":{\"width\":700,\"height\":300,\"margin\":[5,10],\"sizing_mode\":\"fixed\",\"align\":\"start\",\"x_range\":{\"type\":\"object\",\"name\":\"Range1d\",\"id\":\"p2443\",\"attributes\":{\"tags\":[[[\"date\",\"date\",null]],[]],\"start\":165542400000.0,\"end\":1680307200000.0,\"reset_start\":165542400000.0,\"reset_end\":1680307200000.0}},\"y_range\":{\"type\":\"object\",\"name\":\"Range1d\",\"id\":\"p2444\",\"attributes\":{\"tags\":[[[\"value\",\"value\",null]],{\"type\":\"map\",\"entries\":[[\"invert_yaxis\",false],[\"autorange\",false]]}],\"start\":-16.467000000000002,\"end\":43.97699999999993,\"reset_start\":-16.467000000000002,\"reset_end\":43.97699999999993}},\"x_scale\":{\"type\":\"object\",\"name\":\"LinearScale\",\"id\":\"p2463\"},\"y_scale\":{\"type\":\"object\",\"name\":\"LinearScale\",\"id\":\"p2464\"},\"title\":{\"type\":\"object\",\"name\":\"Title\",\"id\":\"p2456\",\"attributes\":{\"text\":\"House Price Index and Fedral Interest Rate\",\"text_color\":\"black\",\"text_font_size\":\"12pt\"}},\"renderers\":[{\"type\":\"object\",\"name\":\"GlyphRenderer\",\"id\":\"p2501\",\"attributes\":{\"name\":\"Interest Rate\",\"data_source\":{\"type\":\"object\",\"name\":\"ColumnDataSource\",\"id\":\"p2492\",\"attributes\":{\"selected\":{\"type\":\"object\",\"name\":\"Selection\",\"id\":\"p2493\",\"attributes\":{\"indices\":[],\"line_indices\":[]}},\"selection_policy\":{\"type\":\"object\",\"name\":\"UnionRenderers\",\"id\":\"p2494\"},\"data\":{\"type\":\"map\",\"entries\":[[\"date\",{\"type\":\"ndarray\",\"array\":{\"type\":\"bytes\",\"data\":\"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\"},\"shape\":[193],\"dtype\":\"float64\",\"order\":\"little\"}],[\"value\",{\"type\":\"ndarray\",\"array\":{\"type\":\"bytes\",\"data\":\"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\"},\"shape\":[193],\"dtype\":\"float64\",\"order\":\"little\"}],[\"Variable\",[\"Interest Rate\",\"Interest Rate\",\"Interest Rate\",\"Interest Rate\",\"Interest Rate\",\"Interest Rate\",\"Interest Rate\",\"Interest Rate\",\"Interest Rate\",\"Interest Rate\",\"Interest Rate\",\"Interest Rate\",\"Interest Rate\",\"Interest Rate\",\"Interest Rate\",\"Interest Rate\",\"Interest Rate\",\"Interest Rate\",\"Interest Rate\",\"Interest Rate\",\"Interest Rate\",\"Interest Rate\",\"Interest Rate\",\"Interest Rate\",\"Interest Rate\",\"Interest Rate\",\"Interest Rate\",\"Interest Rate\",\"Interest Rate\",\"Interest Rate\",\"Interest Rate\",\"Interest Rate\",\"Interest Rate\",\"Interest Rate\",\"Interest Rate\",\"Interest Rate\",\"Interest Rate\",\"Interest Rate\",\"Interest Rate\",\"Interest Rate\",\"Interest Rate\",\"Interest Rate\",\"Interest Rate\",\"Interest Rate\",\"Interest Rate\",\"Interest Rate\",\"Interest Rate\",\"Interest Rate\",\"Interest Rate\",\"Interest Rate\",\"Interest Rate\",\"Interest Rate\",\"Interest Rate\",\"Interest Rate\",\"Interest Rate\",\"Interest Rate\",\"Interest Rate\",\"Interest Rate\",\"Interest Rate\",\"Interest Rate\",\"Interest Rate\",\"Interest Rate\",\"Interest Rate\",\"Interest Rate\",\"Interest Rate\",\"Interest Rate\",\"Interest Rate\",\"Interest Rate\",\"Interest Rate\",\"Interest Rate\",\"Interest Rate\",\"Interest Rate\",\"Interest Rate\",\"Interest Rate\",\"Interest Rate\",\"Interest Rate\",\"Interest Rate\",\"Interest Rate\",\"Interest Rate\",\"Interest Rate\",\"Interest Rate\",\"Interest Rate\",\"Interest Rate\",\"Interest Rate\",\"Interest Rate\",\"Interest Rate\",\"Interest Rate\",\"Interest Rate\",\"Interest Rate\",\"Interest Rate\",\"Interest Rate\",\"Interest Rate\",\"Interest Rate\",\"Interest Rate\",\"Interest Rate\",\"Interest Rate\",\"Interest Rate\",\"Interest Rate\",\"Interest Rate\",\"Interest Rate\",\"Interest Rate\",\"Interest Rate\",\"Interest Rate\",\"Interest Rate\",\"Interest Rate\",\"Interest Rate\",\"Interest Rate\",\"Interest Rate\",\"Interest Rate\",\"Interest Rate\",\"Interest Rate\",\"Interest Rate\",\"Interest Rate\",\"Interest Rate\",\"Interest Rate\",\"Interest Rate\",\"Interest Rate\",\"Interest Rate\",\"Interest Rate\",\"Interest Rate\",\"Interest Rate\",\"Interest Rate\",\"Interest Rate\",\"Interest Rate\",\"Interest Rate\",\"Interest Rate\",\"Interest Rate\",\"Interest Rate\",\"Interest Rate\",\"Interest Rate\",\"Interest Rate\",\"Interest Rate\",\"Interest Rate\",\"Interest Rate\",\"Interest Rate\",\"Interest Rate\",\"Interest Rate\",\"Interest Rate\",\"Interest Rate\",\"Interest Rate\",\"Interest Rate\",\"Interest Rate\",\"Interest Rate\",\"Interest Rate\",\"Interest Rate\",\"Interest Rate\",\"Interest Rate\",\"Interest Rate\",\"Interest Rate\",\"Interest Rate\",\"Interest Rate\",\"Interest Rate\",\"Interest Rate\",\"Interest Rate\",\"Interest Rate\",\"Interest Rate\",\"Interest Rate\",\"Interest Rate\",\"Interest Rate\",\"Interest Rate\",\"Interest Rate\",\"Interest Rate\",\"Interest Rate\",\"Interest Rate\",\"Interest Rate\",\"Interest Rate\",\"Interest Rate\",\"Interest Rate\",\"Interest Rate\",\"Interest Rate\",\"Interest Rate\",\"Interest Rate\",\"Interest Rate\",\"Interest Rate\",\"Interest Rate\",\"Interest Rate\",\"Interest Rate\",\"Interest Rate\",\"Interest Rate\",\"Interest Rate\",\"Interest Rate\",\"Interest Rate\",\"Interest Rate\",\"Interest Rate\",\"Interest Rate\",\"Interest Rate\",\"Interest Rate\",\"Interest Rate\",\"Interest Rate\",\"Interest Rate\",\"Interest Rate\",\"Interest Rate\",\"Interest Rate\"]]]}}},\"view\":{\"type\":\"object\",\"name\":\"CDSView\",\"id\":\"p2502\",\"attributes\":{\"filter\":{\"type\":\"object\",\"name\":\"AllIndices\",\"id\":\"p2503\"}}},\"glyph\":{\"type\":\"object\",\"name\":\"Line\",\"id\":\"p2498\",\"attributes\":{\"tags\":[\"apply_ranges\"],\"x\":{\"type\":\"field\",\"field\":\"date\"},\"y\":{\"type\":\"field\",\"field\":\"value\"},\"line_color\":\"#30a2da\",\"line_width\":2}},\"selection_glyph\":{\"type\":\"object\",\"name\":\"Line\",\"id\":\"p2506\",\"attributes\":{\"tags\":[\"apply_ranges\"],\"x\":{\"type\":\"field\",\"field\":\"date\"},\"y\":{\"type\":\"field\",\"field\":\"value\"},\"line_color\":\"#30a2da\",\"line_width\":2}},\"nonselection_glyph\":{\"type\":\"object\",\"name\":\"Line\",\"id\":\"p2499\",\"attributes\":{\"tags\":[\"apply_ranges\"],\"x\":{\"type\":\"field\",\"field\":\"date\"},\"y\":{\"type\":\"field\",\"field\":\"value\"},\"line_color\":\"#30a2da\",\"line_alpha\":0.1,\"line_width\":2}},\"muted_glyph\":{\"type\":\"object\",\"name\":\"Line\",\"id\":\"p2500\",\"attributes\":{\"tags\":[\"apply_ranges\"],\"x\":{\"type\":\"field\",\"field\":\"date\"},\"y\":{\"type\":\"field\",\"field\":\"value\"},\"line_color\":\"#30a2da\",\"line_alpha\":0.2,\"line_width\":2}}}},{\"type\":\"object\",\"name\":\"GlyphRenderer\",\"id\":\"p2516\",\"attributes\":{\"name\":\"Difference in HPI\",\"data_source\":{\"type\":\"object\",\"name\":\"ColumnDataSource\",\"id\":\"p2507\",\"attributes\":{\"selected\":{\"type\":\"object\",\"name\":\"Selection\",\"id\":\"p2508\",\"attributes\":{\"indices\":[],\"line_indices\":[]}},\"selection_policy\":{\"type\":\"object\",\"name\":\"UnionRenderers\",\"id\":\"p2509\"},\"data\":{\"type\":\"map\",\"entries\":[[\"date\",{\"type\":\"ndarray\",\"array\":{\"type\":\"bytes\",\"data\":\"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\"},\"shape\":[193],\"dtype\":\"float64\",\"order\":\"little\"}],[\"value\",{\"type\":\"ndarray\",\"array\":{\"type\":\"bytes\",\"data\":\"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\"},\"shape\":[193],\"dtype\":\"float64\",\"order\":\"little\"}],[\"Variable\",[\"Difference in HPI\",\"Difference in HPI\",\"Difference in HPI\",\"Difference in HPI\",\"Difference in HPI\",\"Difference in HPI\",\"Difference in HPI\",\"Difference in HPI\",\"Difference in HPI\",\"Difference in HPI\",\"Difference in HPI\",\"Difference in HPI\",\"Difference in HPI\",\"Difference in HPI\",\"Difference in HPI\",\"Difference in HPI\",\"Difference in HPI\",\"Difference in HPI\",\"Difference in HPI\",\"Difference in HPI\",\"Difference in HPI\",\"Difference in HPI\",\"Difference in HPI\",\"Difference in HPI\",\"Difference in HPI\",\"Difference in HPI\",\"Difference in HPI\",\"Difference in HPI\",\"Difference in HPI\",\"Difference in HPI\",\"Difference in HPI\",\"Difference in HPI\",\"Difference in HPI\",\"Difference in HPI\",\"Difference in HPI\",\"Difference in HPI\",\"Difference in HPI\",\"Difference in HPI\",\"Difference in HPI\",\"Difference in HPI\",\"Difference in HPI\",\"Difference in HPI\",\"Difference in HPI\",\"Difference in HPI\",\"Difference in HPI\",\"Difference in HPI\",\"Difference in HPI\",\"Difference in HPI\",\"Difference in HPI\",\"Difference in HPI\",\"Difference in HPI\",\"Difference in HPI\",\"Difference in HPI\",\"Difference in HPI\",\"Difference in HPI\",\"Difference in HPI\",\"Difference in HPI\",\"Difference in HPI\",\"Difference in HPI\",\"Difference in HPI\",\"Difference in HPI\",\"Difference in HPI\",\"Difference in HPI\",\"Difference in HPI\",\"Difference in HPI\",\"Difference in HPI\",\"Difference in HPI\",\"Difference in HPI\",\"Difference in HPI\",\"Difference in HPI\",\"Difference in HPI\",\"Difference in HPI\",\"Difference in HPI\",\"Difference in HPI\",\"Difference in HPI\",\"Difference in HPI\",\"Difference in HPI\",\"Difference in HPI\",\"Difference in HPI\",\"Difference in HPI\",\"Difference in HPI\",\"Difference in HPI\",\"Difference in HPI\",\"Difference in HPI\",\"Difference in HPI\",\"Difference in HPI\",\"Difference in HPI\",\"Difference in HPI\",\"Difference in HPI\",\"Difference in HPI\",\"Difference in HPI\",\"Difference in HPI\",\"Difference in HPI\",\"Difference in HPI\",\"Difference in HPI\",\"Difference in HPI\",\"Difference in HPI\",\"Difference in HPI\",\"Difference in HPI\",\"Difference in HPI\",\"Difference in HPI\",\"Difference in HPI\",\"Difference in HPI\",\"Difference in HPI\",\"Difference in HPI\",\"Difference in HPI\",\"Difference in HPI\",\"Difference in HPI\",\"Difference in HPI\",\"Difference in HPI\",\"Difference in HPI\",\"Difference in HPI\",\"Difference in HPI\",\"Difference in HPI\",\"Difference in HPI\",\"Difference in HPI\",\"Difference in HPI\",\"Difference in HPI\",\"Difference in HPI\",\"Difference in HPI\",\"Difference in HPI\",\"Difference in HPI\",\"Difference in HPI\",\"Difference in HPI\",\"Difference in HPI\",\"Difference in HPI\",\"Difference in HPI\",\"Difference in HPI\",\"Difference in HPI\",\"Difference in HPI\",\"Difference in HPI\",\"Difference in HPI\",\"Difference in HPI\",\"Difference in HPI\",\"Difference in HPI\",\"Difference in HPI\",\"Difference in HPI\",\"Difference in HPI\",\"Difference in HPI\",\"Difference in HPI\",\"Difference in HPI\",\"Difference in HPI\",\"Difference in HPI\",\"Difference in HPI\",\"Difference in HPI\",\"Difference in HPI\",\"Difference in HPI\",\"Difference in HPI\",\"Difference in HPI\",\"Difference in HPI\",\"Difference in HPI\",\"Difference in HPI\",\"Difference in HPI\",\"Difference in HPI\",\"Difference in HPI\",\"Difference in HPI\",\"Difference in HPI\",\"Difference in HPI\",\"Difference in HPI\",\"Difference in HPI\",\"Difference in HPI\",\"Difference in HPI\",\"Difference in HPI\",\"Difference in HPI\",\"Difference in HPI\",\"Difference in HPI\",\"Difference in HPI\",\"Difference in HPI\",\"Difference in HPI\",\"Difference in HPI\",\"Difference in HPI\",\"Difference in HPI\",\"Difference in HPI\",\"Difference in HPI\",\"Difference in HPI\",\"Difference in HPI\",\"Difference in HPI\",\"Difference in HPI\",\"Difference in HPI\",\"Difference in HPI\",\"Difference in HPI\",\"Difference in HPI\",\"Difference in HPI\",\"Difference in HPI\",\"Difference in HPI\",\"Difference in HPI\",\"Difference in HPI\",\"Difference in HPI\",\"Difference in HPI\",\"Difference in HPI\",\"Difference in HPI\",\"Difference in HPI\",\"Difference in HPI\"]]]}}},\"view\":{\"type\":\"object\",\"name\":\"CDSView\",\"id\":\"p2517\",\"attributes\":{\"filter\":{\"type\":\"object\",\"name\":\"AllIndices\",\"id\":\"p2518\"}}},\"glyph\":{\"type\":\"object\",\"name\":\"Line\",\"id\":\"p2513\",\"attributes\":{\"tags\":[\"apply_ranges\"],\"x\":{\"type\":\"field\",\"field\":\"date\"},\"y\":{\"type\":\"field\",\"field\":\"value\"},\"line_color\":\"#fc4f30\",\"line_width\":2}},\"selection_glyph\":{\"type\":\"object\",\"name\":\"Line\",\"id\":\"p2520\",\"attributes\":{\"tags\":[\"apply_ranges\"],\"x\":{\"type\":\"field\",\"field\":\"date\"},\"y\":{\"type\":\"field\",\"field\":\"value\"},\"line_color\":\"#fc4f30\",\"line_width\":2}},\"nonselection_glyph\":{\"type\":\"object\",\"name\":\"Line\",\"id\":\"p2514\",\"attributes\":{\"tags\":[\"apply_ranges\"],\"x\":{\"type\":\"field\",\"field\":\"date\"},\"y\":{\"type\":\"field\",\"field\":\"value\"},\"line_color\":\"#fc4f30\",\"line_alpha\":0.1,\"line_width\":2}},\"muted_glyph\":{\"type\":\"object\",\"name\":\"Line\",\"id\":\"p2515\",\"attributes\":{\"tags\":[\"apply_ranges\"],\"x\":{\"type\":\"field\",\"field\":\"date\"},\"y\":{\"type\":\"field\",\"field\":\"value\"},\"line_color\":\"#fc4f30\",\"line_alpha\":0.2,\"line_width\":2}}}}],\"toolbar\":{\"type\":\"object\",\"name\":\"Toolbar\",\"id\":\"p2462\",\"attributes\":{\"tools\":[{\"type\":\"object\",\"name\":\"WheelZoomTool\",\"id\":\"p2448\",\"attributes\":{\"tags\":[\"hv_created\"],\"zoom_together\":\"none\"}},{\"type\":\"object\",\"name\":\"HoverTool\",\"id\":\"p2449\",\"attributes\":{\"tags\":[\"hv_created\"],\"renderers\":[{\"id\":\"p2501\"},{\"id\":\"p2516\"}],\"tooltips\":[[\"Variable\",\"@{Variable}\"],[\"date\",\"@{date}{%F %T}\"],[\"value\",\"@{value}\"]],\"formatters\":{\"type\":\"map\",\"entries\":[[\"@{date}\",\"datetime\"]]}}},{\"type\":\"object\",\"name\":\"SaveTool\",\"id\":\"p2487\"},{\"type\":\"object\",\"name\":\"PanTool\",\"id\":\"p2488\"},{\"type\":\"object\",\"name\":\"BoxZoomTool\",\"id\":\"p2489\",\"attributes\":{\"overlay\":{\"type\":\"object\",\"name\":\"BoxAnnotation\",\"id\":\"p2490\",\"attributes\":{\"syncable\":false,\"level\":\"overlay\",\"visible\":false,\"left_units\":\"canvas\",\"right_units\":\"canvas\",\"bottom_units\":\"canvas\",\"top_units\":\"canvas\",\"line_color\":\"black\",\"line_alpha\":1.0,\"line_width\":2,\"line_dash\":[4,4],\"fill_color\":\"lightgrey\",\"fill_alpha\":0.5}}}},{\"type\":\"object\",\"name\":\"ResetTool\",\"id\":\"p2491\"}],\"active_drag\":{\"id\":\"p2488\"},\"active_scroll\":{\"id\":\"p2448\"}}},\"left\":[{\"type\":\"object\",\"name\":\"LinearAxis\",\"id\":\"p2482\",\"attributes\":{\"ticker\":{\"type\":\"object\",\"name\":\"BasicTicker\",\"id\":\"p2483\",\"attributes\":{\"mantissas\":[1,2,5]}},\"formatter\":{\"type\":\"object\",\"name\":\"BasicTickFormatter\",\"id\":\"p2484\"},\"axis_label\":\"Difference\",\"major_label_policy\":{\"type\":\"object\",\"name\":\"AllLabels\",\"id\":\"p2485\"}}}],\"right\":[{\"type\":\"object\",\"name\":\"Legend\",\"id\":\"p2504\",\"attributes\":{\"location\":[0,0],\"title\":\"Variable\",\"click_policy\":\"mute\",\"items\":[{\"type\":\"object\",\"name\":\"LegendItem\",\"id\":\"p2505\",\"attributes\":{\"label\":{\"type\":\"value\",\"value\":\"Interest Rate\"},\"renderers\":[{\"id\":\"p2501\"}]}},{\"type\":\"object\",\"name\":\"LegendItem\",\"id\":\"p2519\",\"attributes\":{\"label\":{\"type\":\"value\",\"value\":\"Difference in HPI\"},\"renderers\":[{\"id\":\"p2516\"}]}}]}}],\"below\":[{\"type\":\"object\",\"name\":\"DatetimeAxis\",\"id\":\"p2465\",\"attributes\":{\"ticker\":{\"type\":\"object\",\"name\":\"DatetimeTicker\",\"id\":\"p2466\",\"attributes\":{\"num_minor_ticks\":5,\"tickers\":[{\"type\":\"object\",\"name\":\"AdaptiveTicker\",\"id\":\"p2467\",\"attributes\":{\"num_minor_ticks\":0,\"mantissas\":[1,2,5],\"max_interval\":500.0}},{\"type\":\"object\",\"name\":\"AdaptiveTicker\",\"id\":\"p2468\",\"attributes\":{\"num_minor_ticks\":0,\"base\":60,\"mantissas\":[1,2,5,10,15,20,30],\"min_interval\":1000.0,\"max_interval\":1800000.0}},{\"type\":\"object\",\"name\":\"AdaptiveTicker\",\"id\":\"p2469\",\"attributes\":{\"num_minor_ticks\":0,\"base\":24,\"mantissas\":[1,2,4,6,8,12],\"min_interval\":3600000.0,\"max_interval\":43200000.0}},{\"type\":\"object\",\"name\":\"DaysTicker\",\"id\":\"p2470\",\"attributes\":{\"days\":[1,2,3,4,5,6,7,8,9,10,11,12,13,14,15,16,17,18,19,20,21,22,23,24,25,26,27,28,29,30,31]}},{\"type\":\"object\",\"name\":\"DaysTicker\",\"id\":\"p2471\",\"attributes\":{\"days\":[1,4,7,10,13,16,19,22,25,28]}},{\"type\":\"object\",\"name\":\"DaysTicker\",\"id\":\"p2472\",\"attributes\":{\"days\":[1,8,15,22]}},{\"type\":\"object\",\"name\":\"DaysTicker\",\"id\":\"p2473\",\"attributes\":{\"days\":[1,15]}},{\"type\":\"object\",\"name\":\"MonthsTicker\",\"id\":\"p2474\",\"attributes\":{\"months\":[0,1,2,3,4,5,6,7,8,9,10,11]}},{\"type\":\"object\",\"name\":\"MonthsTicker\",\"id\":\"p2475\",\"attributes\":{\"months\":[0,2,4,6,8,10]}},{\"type\":\"object\",\"name\":\"MonthsTicker\",\"id\":\"p2476\",\"attributes\":{\"months\":[0,4,8]}},{\"type\":\"object\",\"name\":\"MonthsTicker\",\"id\":\"p2477\",\"attributes\":{\"months\":[0,6]}},{\"type\":\"object\",\"name\":\"YearsTicker\",\"id\":\"p2478\"}]}},\"formatter\":{\"type\":\"object\",\"name\":\"DatetimeTickFormatter\",\"id\":\"p2479\"},\"axis_label\":\"Date\",\"major_label_policy\":{\"type\":\"object\",\"name\":\"AllLabels\",\"id\":\"p2480\"}}}],\"center\":[{\"type\":\"object\",\"name\":\"Grid\",\"id\":\"p2481\",\"attributes\":{\"axis\":{\"id\":\"p2465\"},\"grid_line_color\":null}},{\"type\":\"object\",\"name\":\"Grid\",\"id\":\"p2486\",\"attributes\":{\"dimension\":1,\"axis\":{\"id\":\"p2482\"},\"grid_line_color\":null}}],\"min_border_top\":10,\"min_border_bottom\":10,\"min_border_left\":10,\"min_border_right\":10,\"output_backend\":\"webgl\"}},{\"type\":\"object\",\"name\":\"Spacer\",\"id\":\"p2522\",\"attributes\":{\"name\":\"HSpacer03607\",\"stylesheets\":[\"\\n:host(.pn-loading.pn-arc):before, .pn-loading.pn-arc:before {\\n  background-image: url(\\\"data:image/svg+xml;base64,PHN2ZyB4bWxucz0iaHR0cDovL3d3dy53My5vcmcvMjAwMC9zdmciIHN0eWxlPSJtYXJnaW46IGF1dG87IGJhY2tncm91bmQ6IG5vbmU7IGRpc3BsYXk6IGJsb2NrOyBzaGFwZS1yZW5kZXJpbmc6IGF1dG87IiB2aWV3Qm94PSIwIDAgMTAwIDEwMCIgcHJlc2VydmVBc3BlY3RSYXRpbz0ieE1pZFlNaWQiPiAgPGNpcmNsZSBjeD0iNTAiIGN5PSI1MCIgZmlsbD0ibm9uZSIgc3Ryb2tlPSIjYzNjM2MzIiBzdHJva2Utd2lkdGg9IjEwIiByPSIzNSIgc3Ryb2tlLWRhc2hhcnJheT0iMTY0LjkzMzYxNDMxMzQ2NDE1IDU2Ljk3Nzg3MTQzNzgyMTM4Ij4gICAgPGFuaW1hdGVUcmFuc2Zvcm0gYXR0cmlidXRlTmFtZT0idHJhbnNmb3JtIiB0eXBlPSJyb3RhdGUiIHJlcGVhdENvdW50PSJpbmRlZmluaXRlIiBkdXI9IjFzIiB2YWx1ZXM9IjAgNTAgNTA7MzYwIDUwIDUwIiBrZXlUaW1lcz0iMDsxIj48L2FuaW1hdGVUcmFuc2Zvcm0+ICA8L2NpcmNsZT48L3N2Zz4=\\\");\\n  background-size: auto calc(min(50%, 400px));\\n}\",{\"id\":\"p2441\"},{\"id\":\"p2439\"},{\"id\":\"p2440\"}],\"margin\":0,\"sizing_mode\":\"stretch_width\",\"align\":\"start\"}}]}}],\"defs\":[{\"type\":\"model\",\"name\":\"ReactiveHTML1\"},{\"type\":\"model\",\"name\":\"FlexBox1\",\"properties\":[{\"name\":\"align_content\",\"kind\":\"Any\",\"default\":\"flex-start\"},{\"name\":\"align_items\",\"kind\":\"Any\",\"default\":\"flex-start\"},{\"name\":\"flex_direction\",\"kind\":\"Any\",\"default\":\"row\"},{\"name\":\"flex_wrap\",\"kind\":\"Any\",\"default\":\"wrap\"},{\"name\":\"justify_content\",\"kind\":\"Any\",\"default\":\"flex-start\"}]},{\"type\":\"model\",\"name\":\"FloatPanel1\",\"properties\":[{\"name\":\"config\",\"kind\":\"Any\",\"default\":{\"type\":\"map\"}},{\"name\":\"contained\",\"kind\":\"Any\",\"default\":true},{\"name\":\"position\",\"kind\":\"Any\",\"default\":\"right-top\"},{\"name\":\"offsetx\",\"kind\":\"Any\",\"default\":null},{\"name\":\"offsety\",\"kind\":\"Any\",\"default\":null},{\"name\":\"theme\",\"kind\":\"Any\",\"default\":\"primary\"},{\"name\":\"status\",\"kind\":\"Any\",\"default\":\"normalized\"}]},{\"type\":\"model\",\"name\":\"GridStack1\",\"properties\":[{\"name\":\"mode\",\"kind\":\"Any\",\"default\":\"warn\"},{\"name\":\"ncols\",\"kind\":\"Any\",\"default\":null},{\"name\":\"nrows\",\"kind\":\"Any\",\"default\":null},{\"name\":\"allow_resize\",\"kind\":\"Any\",\"default\":true},{\"name\":\"allow_drag\",\"kind\":\"Any\",\"default\":true},{\"name\":\"state\",\"kind\":\"Any\",\"default\":[]}]},{\"type\":\"model\",\"name\":\"drag1\",\"properties\":[{\"name\":\"slider_width\",\"kind\":\"Any\",\"default\":5},{\"name\":\"slider_color\",\"kind\":\"Any\",\"default\":\"black\"},{\"name\":\"value\",\"kind\":\"Any\",\"default\":50}]},{\"type\":\"model\",\"name\":\"click1\",\"properties\":[{\"name\":\"terminal_output\",\"kind\":\"Any\",\"default\":\"\"},{\"name\":\"debug_name\",\"kind\":\"Any\",\"default\":\"\"},{\"name\":\"clears\",\"kind\":\"Any\",\"default\":0}]},{\"type\":\"model\",\"name\":\"FastWrapper1\",\"properties\":[{\"name\":\"object\",\"kind\":\"Any\",\"default\":null},{\"name\":\"style\",\"kind\":\"Any\",\"default\":null}]},{\"type\":\"model\",\"name\":\"NotificationAreaBase1\",\"properties\":[{\"name\":\"js_events\",\"kind\":\"Any\",\"default\":{\"type\":\"map\"}},{\"name\":\"position\",\"kind\":\"Any\",\"default\":\"bottom-right\"},{\"name\":\"_clear\",\"kind\":\"Any\",\"default\":0}]},{\"type\":\"model\",\"name\":\"NotificationArea1\",\"properties\":[{\"name\":\"js_events\",\"kind\":\"Any\",\"default\":{\"type\":\"map\"}},{\"name\":\"notifications\",\"kind\":\"Any\",\"default\":[]},{\"name\":\"position\",\"kind\":\"Any\",\"default\":\"bottom-right\"},{\"name\":\"_clear\",\"kind\":\"Any\",\"default\":0},{\"name\":\"types\",\"kind\":\"Any\",\"default\":[{\"type\":\"map\",\"entries\":[[\"type\",\"warning\"],[\"background\",\"#ffc107\"],[\"icon\",{\"type\":\"map\",\"entries\":[[\"className\",\"fas fa-exclamation-triangle\"],[\"tagName\",\"i\"],[\"color\",\"white\"]]}]]},{\"type\":\"map\",\"entries\":[[\"type\",\"info\"],[\"background\",\"#007bff\"],[\"icon\",{\"type\":\"map\",\"entries\":[[\"className\",\"fas fa-info-circle\"],[\"tagName\",\"i\"],[\"color\",\"white\"]]}]]}]}]},{\"type\":\"model\",\"name\":\"Notification\",\"properties\":[{\"name\":\"background\",\"kind\":\"Any\",\"default\":null},{\"name\":\"duration\",\"kind\":\"Any\",\"default\":3000},{\"name\":\"icon\",\"kind\":\"Any\",\"default\":null},{\"name\":\"message\",\"kind\":\"Any\",\"default\":\"\"},{\"name\":\"notification_type\",\"kind\":\"Any\",\"default\":null},{\"name\":\"_destroyed\",\"kind\":\"Any\",\"default\":false}]},{\"type\":\"model\",\"name\":\"TemplateActions1\",\"properties\":[{\"name\":\"open_modal\",\"kind\":\"Any\",\"default\":0},{\"name\":\"close_modal\",\"kind\":\"Any\",\"default\":0}]},{\"type\":\"model\",\"name\":\"BootstrapTemplateActions1\",\"properties\":[{\"name\":\"open_modal\",\"kind\":\"Any\",\"default\":0},{\"name\":\"close_modal\",\"kind\":\"Any\",\"default\":0}]},{\"type\":\"model\",\"name\":\"MaterialTemplateActions1\",\"properties\":[{\"name\":\"open_modal\",\"kind\":\"Any\",\"default\":0},{\"name\":\"close_modal\",\"kind\":\"Any\",\"default\":0}]}]}};\n",
       "  var render_items = [{\"docid\":\"6bb3cb4f-d06d-497a-853b-b8b1533f294e\",\"roots\":{\"p2438\":\"a3f93ca3-1a60-4c84-95d5-f189532df4a2\"},\"root_ids\":[\"p2438\"]}];\n",
       "  var docs = Object.values(docs_json)\n",
       "  if (!docs) {\n",
       "    return\n",
       "  }\n",
       "  const py_version = docs[0].version.replace('rc', '-rc.').replace('.dev', '-dev.')\n",
       "  const is_dev = py_version.indexOf(\"+\") !== -1 || py_version.indexOf(\"-\") !== -1\n",
       "  function embed_document(root) {\n",
       "    var Bokeh = get_bokeh(root)\n",
       "    Bokeh.embed.embed_items_notebook(docs_json, render_items);\n",
       "    for (const render_item of render_items) {\n",
       "      for (const root_id of render_item.root_ids) {\n",
       "\tconst id_el = document.getElementById(root_id)\n",
       "\tif (id_el.children.length && (id_el.children[0].className === 'bk-root')) {\n",
       "\t  const root_el = id_el.children[0]\n",
       "\t  root_el.id = root_el.id + '-rendered'\n",
       "\t}\n",
       "      }\n",
       "    }\n",
       "  }\n",
       "  function get_bokeh(root) {\n",
       "    if (root.Bokeh === undefined) {\n",
       "      return null\n",
       "    } else if (root.Bokeh.version !== py_version && !is_dev) {\n",
       "      if (root.Bokeh.versions === undefined || !root.Bokeh.versions.has(py_version)) {\n",
       "\treturn null\n",
       "      }\n",
       "      return root.Bokeh.versions.get(py_version);\n",
       "    } else if (root.Bokeh.version === py_version) {\n",
       "      return root.Bokeh\n",
       "    }\n",
       "    return null\n",
       "  }\n",
       "  function is_loaded(root) {\n",
       "    var Bokeh = get_bokeh(root)\n",
       "    return (Bokeh != null && Bokeh.Panel !== undefined)\n",
       "  }\n",
       "  if (is_loaded(root)) {\n",
       "    embed_document(root);\n",
       "  } else {\n",
       "    var attempts = 0;\n",
       "    var timer = setInterval(function(root) {\n",
       "      if (is_loaded(root)) {\n",
       "        clearInterval(timer);\n",
       "        embed_document(root);\n",
       "      } else if (document.readyState == \"complete\") {\n",
       "        attempts++;\n",
       "        if (attempts > 200) {\n",
       "          clearInterval(timer);\n",
       "\t  var Bokeh = get_bokeh(root)\n",
       "\t  if (Bokeh == null || Bokeh.Panel == null) {\n",
       "            console.warn(\"Panel: ERROR: Unable to run Panel code because Bokeh or Panel library is missing\");\n",
       "\t  } else {\n",
       "\t    console.warn(\"Panel: WARNING: Attempting to render but not all required libraries could be resolved.\")\n",
       "\t    embed_document(root)\n",
       "\t  }\n",
       "        }\n",
       "      }\n",
       "    }, 25, root)\n",
       "  }\n",
       "})(window);</script>"
      ],
      "text/plain": [
       ":NdOverlay   [Variable]\n",
       "   :Curve   [date]   (value)"
      ]
     },
     "execution_count": 57,
     "metadata": {
      "application/vnd.holoviews_exec.v0+json": {
       "id": "p2438"
      }
     },
     "output_type": "execute_result"
    }
   ],
   "source": [
    "# Plot difference for combined dataframes\n",
    "fed_rate_combined_df.hvplot(title=\"House Price Index and Fedral Interest Rate\", xlabel=\"Date\",ylabel=\"Difference\")"
   ]
  },
  {
   "cell_type": "markdown",
   "metadata": {},
   "source": [
    "## Residential Real Estate Value vs Monthly Supply of New Houses"
   ]
  },
  {
   "cell_type": "code",
   "execution_count": null,
   "metadata": {
    "tags": []
   },
   "outputs": [],
   "source": [
    "# Plot Monthly Supply of New Houses in the United States\n",
    "display(dataframes[\"MSACSR\"][\"value\"].hvplot(title=\"Monthly Supply of New Houses in the United States\"))\n",
    "\n",
    "# Plot House price Index for the United States\n",
    "display(dataframes[\"USSTHPI\"][\"HPI\"].hvplot(title=\"All Transactions House Price Index for the United States\"))"
   ]
  },
  {
   "cell_type": "code",
   "execution_count": 58,
   "metadata": {
    "tags": []
   },
   "outputs": [
    {
     "data": {
      "text/html": [
       "<div>\n",
       "<style scoped>\n",
       "    .dataframe tbody tr th:only-of-type {\n",
       "        vertical-align: middle;\n",
       "    }\n",
       "\n",
       "    .dataframe tbody tr th {\n",
       "        vertical-align: top;\n",
       "    }\n",
       "\n",
       "    .dataframe thead th {\n",
       "        text-align: right;\n",
       "    }\n",
       "</style>\n",
       "<table border=\"1\" class=\"dataframe\">\n",
       "  <thead>\n",
       "    <tr style=\"text-align: right;\">\n",
       "      <th></th>\n",
       "      <th>Monthly Supply</th>\n",
       "      <th>MS pct_change</th>\n",
       "      <th>Difference in MS</th>\n",
       "    </tr>\n",
       "    <tr>\n",
       "      <th>date</th>\n",
       "      <th></th>\n",
       "      <th></th>\n",
       "      <th></th>\n",
       "    </tr>\n",
       "  </thead>\n",
       "  <tbody>\n",
       "    <tr>\n",
       "      <th>1963-02-01</th>\n",
       "      <td>6.6</td>\n",
       "      <td>0.404255</td>\n",
       "      <td>1.9</td>\n",
       "    </tr>\n",
       "    <tr>\n",
       "      <th>1963-03-01</th>\n",
       "      <td>6.4</td>\n",
       "      <td>-0.030303</td>\n",
       "      <td>-0.2</td>\n",
       "    </tr>\n",
       "    <tr>\n",
       "      <th>1963-04-01</th>\n",
       "      <td>5.3</td>\n",
       "      <td>-0.171875</td>\n",
       "      <td>-1.1</td>\n",
       "    </tr>\n",
       "    <tr>\n",
       "      <th>1963-05-01</th>\n",
       "      <td>5.1</td>\n",
       "      <td>-0.037736</td>\n",
       "      <td>-0.2</td>\n",
       "    </tr>\n",
       "    <tr>\n",
       "      <th>1963-06-01</th>\n",
       "      <td>6.0</td>\n",
       "      <td>0.176471</td>\n",
       "      <td>0.9</td>\n",
       "    </tr>\n",
       "  </tbody>\n",
       "</table>\n",
       "</div>"
      ],
      "text/plain": [
       "            Monthly Supply  MS pct_change  Difference in MS\n",
       "date                                                       \n",
       "1963-02-01             6.6       0.404255               1.9\n",
       "1963-03-01             6.4      -0.030303              -0.2\n",
       "1963-04-01             5.3      -0.171875              -1.1\n",
       "1963-05-01             5.1      -0.037736              -0.2\n",
       "1963-06-01             6.0       0.176471               0.9"
      ]
     },
     "metadata": {},
     "output_type": "display_data"
    },
    {
     "data": {
      "text/html": [
       "<div>\n",
       "<style scoped>\n",
       "    .dataframe tbody tr th:only-of-type {\n",
       "        vertical-align: middle;\n",
       "    }\n",
       "\n",
       "    .dataframe tbody tr th {\n",
       "        vertical-align: top;\n",
       "    }\n",
       "\n",
       "    .dataframe thead th {\n",
       "        text-align: right;\n",
       "    }\n",
       "</style>\n",
       "<table border=\"1\" class=\"dataframe\">\n",
       "  <thead>\n",
       "    <tr style=\"text-align: right;\">\n",
       "      <th></th>\n",
       "      <th>HPI</th>\n",
       "      <th>HPI pct_change</th>\n",
       "      <th>Difference in HPI</th>\n",
       "    </tr>\n",
       "    <tr>\n",
       "      <th>date</th>\n",
       "      <th></th>\n",
       "      <th></th>\n",
       "      <th></th>\n",
       "    </tr>\n",
       "  </thead>\n",
       "  <tbody>\n",
       "    <tr>\n",
       "      <th>1975-04-01</th>\n",
       "      <td>60.76</td>\n",
       "      <td>0.014188</td>\n",
       "      <td>0.85</td>\n",
       "    </tr>\n",
       "    <tr>\n",
       "      <th>1975-07-01</th>\n",
       "      <td>61.16</td>\n",
       "      <td>0.006583</td>\n",
       "      <td>0.40</td>\n",
       "    </tr>\n",
       "    <tr>\n",
       "      <th>1975-10-01</th>\n",
       "      <td>62.22</td>\n",
       "      <td>0.017332</td>\n",
       "      <td>1.06</td>\n",
       "    </tr>\n",
       "    <tr>\n",
       "      <th>1976-01-01</th>\n",
       "      <td>62.85</td>\n",
       "      <td>0.010125</td>\n",
       "      <td>0.63</td>\n",
       "    </tr>\n",
       "    <tr>\n",
       "      <th>1976-04-01</th>\n",
       "      <td>65.43</td>\n",
       "      <td>0.041050</td>\n",
       "      <td>2.58</td>\n",
       "    </tr>\n",
       "  </tbody>\n",
       "</table>\n",
       "</div>"
      ],
      "text/plain": [
       "              HPI  HPI pct_change  Difference in HPI\n",
       "date                                                \n",
       "1975-04-01  60.76        0.014188               0.85\n",
       "1975-07-01  61.16        0.006583               0.40\n",
       "1975-10-01  62.22        0.017332               1.06\n",
       "1976-01-01  62.85        0.010125               0.63\n",
       "1976-04-01  65.43        0.041050               2.58"
      ]
     },
     "execution_count": 58,
     "metadata": {},
     "output_type": "execute_result"
    }
   ],
   "source": [
    "# Rename Columns to 'Monthly Supply', 'MS pct_change','Difference in MS'\n",
    "dataframes[\"MSACSR\"].columns=[\"Monthly Supply\",\"MS pct_change\",\"Difference in MS\"]\n",
    "display(dataframes[\"MSACSR\"].head())\n",
    "\n",
    "# Rename Columns to 'House Price Index', HPI pct_change'\n",
    "dataframes[\"USSTHPI\"].columns = ['HPI','HPI pct_change','Difference in HPI']\n",
    "dataframes[\"USSTHPI\"].head()"
   ]
  },
  {
   "cell_type": "markdown",
   "metadata": {},
   "source": [
    "#### Combine Monthly Suppky of New Houses and Housing Price Index for the United States"
   ]
  },
  {
   "cell_type": "code",
   "execution_count": null,
   "metadata": {
    "tags": []
   },
   "outputs": [],
   "source": [
    "# Use 'concat' function to combine the two DataFrames by matching indexes\n",
    "monthly_supply_df = pd.concat([dataframes[\"MSACSR\"],dataframes[\"USSTHPI\"]],axis=\"columns\",join=\"inner\")\n",
    "monthly_supply_df.head()"
   ]
  },
  {
   "cell_type": "code",
   "execution_count": null,
   "metadata": {
    "tags": []
   },
   "outputs": [],
   "source": [
    "# Drop columns 'Monthly Supply','MS pct_change','HPI','HPI pct_change'\n",
    "monthly_supply_df = monthly_supply_df.drop(columns=[\"Difference in MS\",\"MS pct_change\",\"HPI\",\"HPI pct_change\"])\n",
    "monthly_supply_df.head()"
   ]
  },
  {
   "cell_type": "markdown",
   "metadata": {
    "tags": []
   },
   "source": [
    "#### Conduct House Price Index and Monthly Supply of New Houses Analysis"
   ]
  },
  {
   "cell_type": "code",
   "execution_count": 60,
   "metadata": {
    "tags": []
   },
   "outputs": [
    {
     "data": {},
     "metadata": {},
     "output_type": "display_data"
    },
    {
     "data": {
      "application/vnd.holoviews_exec.v0+json": "",
      "text/html": [
       "<div id='p2622'>\n",
       "  <div id=\"e2a838fe-f840-4937-8428-c971c5535b9d\" data-root-id=\"p2622\" style=\"display: contents;\"></div>\n",
       "</div>\n",
       "<script type=\"application/javascript\">(function(root) {\n",
       "  var docs_json = {\"fd66c20a-e766-43e4-a31c-7e78a3100fc3\":{\"version\":\"3.2.1\",\"title\":\"Bokeh Application\",\"roots\":[{\"type\":\"object\",\"name\":\"Row\",\"id\":\"p2622\",\"attributes\":{\"name\":\"Row03949\",\"tags\":[\"embedded\"],\"stylesheets\":[\"\\n:host(.pn-loading.pn-arc):before, .pn-loading.pn-arc:before {\\n  background-image: url(\\\"data:image/svg+xml;base64,PHN2ZyB4bWxucz0iaHR0cDovL3d3dy53My5vcmcvMjAwMC9zdmciIHN0eWxlPSJtYXJnaW46IGF1dG87IGJhY2tncm91bmQ6IG5vbmU7IGRpc3BsYXk6IGJsb2NrOyBzaGFwZS1yZW5kZXJpbmc6IGF1dG87IiB2aWV3Qm94PSIwIDAgMTAwIDEwMCIgcHJlc2VydmVBc3BlY3RSYXRpbz0ieE1pZFlNaWQiPiAgPGNpcmNsZSBjeD0iNTAiIGN5PSI1MCIgZmlsbD0ibm9uZSIgc3Ryb2tlPSIjYzNjM2MzIiBzdHJva2Utd2lkdGg9IjEwIiByPSIzNSIgc3Ryb2tlLWRhc2hhcnJheT0iMTY0LjkzMzYxNDMxMzQ2NDE1IDU2Ljk3Nzg3MTQzNzgyMTM4Ij4gICAgPGFuaW1hdGVUcmFuc2Zvcm0gYXR0cmlidXRlTmFtZT0idHJhbnNmb3JtIiB0eXBlPSJyb3RhdGUiIHJlcGVhdENvdW50PSJpbmRlZmluaXRlIiBkdXI9IjFzIiB2YWx1ZXM9IjAgNTAgNTA7MzYwIDUwIDUwIiBrZXlUaW1lcz0iMDsxIj48L2FuaW1hdGVUcmFuc2Zvcm0+ICA8L2NpcmNsZT48L3N2Zz4=\\\");\\n  background-size: auto calc(min(50%, 400px));\\n}\",{\"type\":\"object\",\"name\":\"ImportedStyleSheet\",\"id\":\"p2625\",\"attributes\":{\"url\":\"https://cdn.holoviz.org/panel/1.2.3/dist/css/loading.css\"}},{\"type\":\"object\",\"name\":\"ImportedStyleSheet\",\"id\":\"p2708\",\"attributes\":{\"url\":\"https://cdn.holoviz.org/panel/1.2.3/dist/css/listpanel.css\"}},{\"type\":\"object\",\"name\":\"ImportedStyleSheet\",\"id\":\"p2623\",\"attributes\":{\"url\":\"https://cdn.holoviz.org/panel/1.2.3/dist/bundled/theme/default.css\"}},{\"type\":\"object\",\"name\":\"ImportedStyleSheet\",\"id\":\"p2624\",\"attributes\":{\"url\":\"https://cdn.holoviz.org/panel/1.2.3/dist/bundled/theme/native.css\"}}],\"min_width\":700,\"margin\":0,\"sizing_mode\":\"stretch_width\",\"align\":\"start\",\"children\":[{\"type\":\"object\",\"name\":\"Spacer\",\"id\":\"p2626\",\"attributes\":{\"name\":\"HSpacer03960\",\"stylesheets\":[\"\\n:host(.pn-loading.pn-arc):before, .pn-loading.pn-arc:before {\\n  background-image: url(\\\"data:image/svg+xml;base64,PHN2ZyB4bWxucz0iaHR0cDovL3d3dy53My5vcmcvMjAwMC9zdmciIHN0eWxlPSJtYXJnaW46IGF1dG87IGJhY2tncm91bmQ6IG5vbmU7IGRpc3BsYXk6IGJsb2NrOyBzaGFwZS1yZW5kZXJpbmc6IGF1dG87IiB2aWV3Qm94PSIwIDAgMTAwIDEwMCIgcHJlc2VydmVBc3BlY3RSYXRpbz0ieE1pZFlNaWQiPiAgPGNpcmNsZSBjeD0iNTAiIGN5PSI1MCIgZmlsbD0ibm9uZSIgc3Ryb2tlPSIjYzNjM2MzIiBzdHJva2Utd2lkdGg9IjEwIiByPSIzNSIgc3Ryb2tlLWRhc2hhcnJheT0iMTY0LjkzMzYxNDMxMzQ2NDE1IDU2Ljk3Nzg3MTQzNzgyMTM4Ij4gICAgPGFuaW1hdGVUcmFuc2Zvcm0gYXR0cmlidXRlTmFtZT0idHJhbnNmb3JtIiB0eXBlPSJyb3RhdGUiIHJlcGVhdENvdW50PSJpbmRlZmluaXRlIiBkdXI9IjFzIiB2YWx1ZXM9IjAgNTAgNTA7MzYwIDUwIDUwIiBrZXlUaW1lcz0iMDsxIj48L2FuaW1hdGVUcmFuc2Zvcm0+ICA8L2NpcmNsZT48L3N2Zz4=\\\");\\n  background-size: auto calc(min(50%, 400px));\\n}\",{\"id\":\"p2625\"},{\"id\":\"p2623\"},{\"id\":\"p2624\"}],\"margin\":0,\"sizing_mode\":\"stretch_width\",\"align\":\"start\"}},{\"type\":\"object\",\"name\":\"Figure\",\"id\":\"p2637\",\"attributes\":{\"width\":700,\"height\":300,\"margin\":[5,10],\"sizing_mode\":\"fixed\",\"align\":\"start\",\"x_range\":{\"type\":\"object\",\"name\":\"Range1d\",\"id\":\"p2627\",\"attributes\":{\"tags\":[[[\"date\",\"date\",null]],[]],\"start\":165542400000.0,\"end\":1680307200000.0,\"reset_start\":165542400000.0,\"reset_end\":1680307200000.0}},\"y_range\":{\"type\":\"object\",\"name\":\"Range1d\",\"id\":\"p2628\",\"attributes\":{\"tags\":[[[\"value\",\"value\",null]],{\"type\":\"map\",\"entries\":[[\"invert_yaxis\",false],[\"autorange\",false]]}],\"start\":-16.467000000000002,\"end\":43.97699999999993,\"reset_start\":-16.467000000000002,\"reset_end\":43.97699999999993}},\"x_scale\":{\"type\":\"object\",\"name\":\"LinearScale\",\"id\":\"p2647\"},\"y_scale\":{\"type\":\"object\",\"name\":\"LinearScale\",\"id\":\"p2648\"},\"title\":{\"type\":\"object\",\"name\":\"Title\",\"id\":\"p2640\",\"attributes\":{\"text\":\"House Price Index and Monthly Supply of New Houses in the United States\",\"text_color\":\"black\",\"text_font_size\":\"12pt\"}},\"renderers\":[{\"type\":\"object\",\"name\":\"GlyphRenderer\",\"id\":\"p2685\",\"attributes\":{\"name\":\"Monthly Supply\",\"data_source\":{\"type\":\"object\",\"name\":\"ColumnDataSource\",\"id\":\"p2676\",\"attributes\":{\"selected\":{\"type\":\"object\",\"name\":\"Selection\",\"id\":\"p2677\",\"attributes\":{\"indices\":[],\"line_indices\":[]}},\"selection_policy\":{\"type\":\"object\",\"name\":\"UnionRenderers\",\"id\":\"p2678\"},\"data\":{\"type\":\"map\",\"entries\":[[\"date\",{\"type\":\"ndarray\",\"array\":{\"type\":\"bytes\",\"data\":\"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\"},\"shape\":[193],\"dtype\":\"float64\",\"order\":\"little\"}],[\"value\",{\"type\":\"ndarray\",\"array\":{\"type\":\"bytes\",\"data\":\"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\"},\"shape\":[193],\"dtype\":\"float64\",\"order\":\"little\"}],[\"Variable\",[\"Monthly Supply\",\"Monthly Supply\",\"Monthly Supply\",\"Monthly Supply\",\"Monthly Supply\",\"Monthly Supply\",\"Monthly Supply\",\"Monthly Supply\",\"Monthly Supply\",\"Monthly Supply\",\"Monthly Supply\",\"Monthly Supply\",\"Monthly Supply\",\"Monthly Supply\",\"Monthly Supply\",\"Monthly Supply\",\"Monthly Supply\",\"Monthly Supply\",\"Monthly Supply\",\"Monthly Supply\",\"Monthly Supply\",\"Monthly Supply\",\"Monthly Supply\",\"Monthly Supply\",\"Monthly Supply\",\"Monthly Supply\",\"Monthly Supply\",\"Monthly Supply\",\"Monthly Supply\",\"Monthly Supply\",\"Monthly Supply\",\"Monthly Supply\",\"Monthly Supply\",\"Monthly Supply\",\"Monthly Supply\",\"Monthly Supply\",\"Monthly Supply\",\"Monthly Supply\",\"Monthly Supply\",\"Monthly Supply\",\"Monthly Supply\",\"Monthly Supply\",\"Monthly Supply\",\"Monthly Supply\",\"Monthly Supply\",\"Monthly Supply\",\"Monthly Supply\",\"Monthly Supply\",\"Monthly Supply\",\"Monthly Supply\",\"Monthly Supply\",\"Monthly Supply\",\"Monthly Supply\",\"Monthly Supply\",\"Monthly Supply\",\"Monthly Supply\",\"Monthly Supply\",\"Monthly Supply\",\"Monthly Supply\",\"Monthly Supply\",\"Monthly Supply\",\"Monthly Supply\",\"Monthly Supply\",\"Monthly Supply\",\"Monthly Supply\",\"Monthly Supply\",\"Monthly Supply\",\"Monthly Supply\",\"Monthly Supply\",\"Monthly Supply\",\"Monthly Supply\",\"Monthly Supply\",\"Monthly Supply\",\"Monthly Supply\",\"Monthly Supply\",\"Monthly Supply\",\"Monthly Supply\",\"Monthly Supply\",\"Monthly Supply\",\"Monthly Supply\",\"Monthly Supply\",\"Monthly Supply\",\"Monthly Supply\",\"Monthly Supply\",\"Monthly Supply\",\"Monthly Supply\",\"Monthly Supply\",\"Monthly Supply\",\"Monthly Supply\",\"Monthly Supply\",\"Monthly Supply\",\"Monthly Supply\",\"Monthly Supply\",\"Monthly Supply\",\"Monthly Supply\",\"Monthly Supply\",\"Monthly Supply\",\"Monthly Supply\",\"Monthly Supply\",\"Monthly Supply\",\"Monthly Supply\",\"Monthly Supply\",\"Monthly Supply\",\"Monthly Supply\",\"Monthly Supply\",\"Monthly Supply\",\"Monthly Supply\",\"Monthly Supply\",\"Monthly Supply\",\"Monthly Supply\",\"Monthly Supply\",\"Monthly Supply\",\"Monthly Supply\",\"Monthly Supply\",\"Monthly Supply\",\"Monthly Supply\",\"Monthly Supply\",\"Monthly Supply\",\"Monthly Supply\",\"Monthly Supply\",\"Monthly Supply\",\"Monthly Supply\",\"Monthly Supply\",\"Monthly Supply\",\"Monthly Supply\",\"Monthly Supply\",\"Monthly Supply\",\"Monthly Supply\",\"Monthly Supply\",\"Monthly Supply\",\"Monthly Supply\",\"Monthly Supply\",\"Monthly Supply\",\"Monthly Supply\",\"Monthly Supply\",\"Monthly Supply\",\"Monthly Supply\",\"Monthly Supply\",\"Monthly Supply\",\"Monthly Supply\",\"Monthly Supply\",\"Monthly Supply\",\"Monthly Supply\",\"Monthly Supply\",\"Monthly Supply\",\"Monthly Supply\",\"Monthly Supply\",\"Monthly Supply\",\"Monthly Supply\",\"Monthly Supply\",\"Monthly Supply\",\"Monthly Supply\",\"Monthly Supply\",\"Monthly Supply\",\"Monthly Supply\",\"Monthly Supply\",\"Monthly Supply\",\"Monthly Supply\",\"Monthly Supply\",\"Monthly Supply\",\"Monthly Supply\",\"Monthly Supply\",\"Monthly Supply\",\"Monthly Supply\",\"Monthly Supply\",\"Monthly Supply\",\"Monthly Supply\",\"Monthly Supply\",\"Monthly Supply\",\"Monthly Supply\",\"Monthly Supply\",\"Monthly Supply\",\"Monthly Supply\",\"Monthly Supply\",\"Monthly Supply\",\"Monthly Supply\",\"Monthly Supply\",\"Monthly Supply\",\"Monthly Supply\",\"Monthly Supply\",\"Monthly Supply\",\"Monthly Supply\",\"Monthly Supply\",\"Monthly Supply\",\"Monthly Supply\",\"Monthly Supply\",\"Monthly Supply\",\"Monthly Supply\",\"Monthly Supply\",\"Monthly Supply\",\"Monthly Supply\",\"Monthly Supply\",\"Monthly Supply\"]]]}}},\"view\":{\"type\":\"object\",\"name\":\"CDSView\",\"id\":\"p2686\",\"attributes\":{\"filter\":{\"type\":\"object\",\"name\":\"AllIndices\",\"id\":\"p2687\"}}},\"glyph\":{\"type\":\"object\",\"name\":\"Line\",\"id\":\"p2682\",\"attributes\":{\"tags\":[\"apply_ranges\"],\"x\":{\"type\":\"field\",\"field\":\"date\"},\"y\":{\"type\":\"field\",\"field\":\"value\"},\"line_color\":\"#30a2da\",\"line_width\":2}},\"selection_glyph\":{\"type\":\"object\",\"name\":\"Line\",\"id\":\"p2690\",\"attributes\":{\"tags\":[\"apply_ranges\"],\"x\":{\"type\":\"field\",\"field\":\"date\"},\"y\":{\"type\":\"field\",\"field\":\"value\"},\"line_color\":\"#30a2da\",\"line_width\":2}},\"nonselection_glyph\":{\"type\":\"object\",\"name\":\"Line\",\"id\":\"p2683\",\"attributes\":{\"tags\":[\"apply_ranges\"],\"x\":{\"type\":\"field\",\"field\":\"date\"},\"y\":{\"type\":\"field\",\"field\":\"value\"},\"line_color\":\"#30a2da\",\"line_alpha\":0.1,\"line_width\":2}},\"muted_glyph\":{\"type\":\"object\",\"name\":\"Line\",\"id\":\"p2684\",\"attributes\":{\"tags\":[\"apply_ranges\"],\"x\":{\"type\":\"field\",\"field\":\"date\"},\"y\":{\"type\":\"field\",\"field\":\"value\"},\"line_color\":\"#30a2da\",\"line_alpha\":0.2,\"line_width\":2}}}},{\"type\":\"object\",\"name\":\"GlyphRenderer\",\"id\":\"p2700\",\"attributes\":{\"name\":\"Difference in HPI\",\"data_source\":{\"type\":\"object\",\"name\":\"ColumnDataSource\",\"id\":\"p2691\",\"attributes\":{\"selected\":{\"type\":\"object\",\"name\":\"Selection\",\"id\":\"p2692\",\"attributes\":{\"indices\":[],\"line_indices\":[]}},\"selection_policy\":{\"type\":\"object\",\"name\":\"UnionRenderers\",\"id\":\"p2693\"},\"data\":{\"type\":\"map\",\"entries\":[[\"date\",{\"type\":\"ndarray\",\"array\":{\"type\":\"bytes\",\"data\":\"AAAASIxFQ0IAAACi3S9EQgAAACrCHEVCAAAAsqYJRkIAAAAM+PNGQgAAAGZJ3kdCAAAA7i3LSEIAAAB2ErhJQgAAAKLQn0pCAAAA/CGKS0IAAACEBndMQgAAAAzrY01CAAAAOKlLTkIAAACS+jVPQgAAAI1vEVBCAAAA0eGHUEIAAADnwPtQQgAAAJTpcFFCAAAA2FvnUUIAAAAczl1SQgAAAMn20lJCAAAAdh9IU0IAAAC6kb5TQgAAAP4DNVRCAAAAFOOoVEIAAADBCx5VQgAAAAV+lFVCAAAASfAKVkIAAABfz35WQgAAAAz481ZCAAAAUGpqV0IAAACU3OBXQgAAAKq7VFhCAAAAV+TJWEIAAACbVkBZQgAAAN/ItllCAAAAjPErWkIAAAA5GqFaQgAAAH2MF1tCAAAAwf6NW0IAAADX3QFcQgAAAIQGd1xCAAAAyHjtXEIAAAAM62NdQgAAACLK111CAAAAz/JMXkIAAAATZcNeQgAAAFfXOV9CAAAAbbatX0IAAACNbxFgQgAAAK+oTGBCAAAA0eGHYEIAAIAndsJgQgAAAH4K/WBCAAAAoEM4YUIAAADCfHNhQgAAAE1srWFCAACAowDoYUIAAIDFOSNiQgAAgOdyXmJCAACAcmKYYkIAAADJ9tJiQgAAAOsvDmNCAAAADWlJY0IAAACYWINjQgAAgO7svWNCAACAECb5Y0IAAIAyXzRkQgAAAInzbmRCAACA34epZEIAAIABweRkQgAAgCP6H2VCAACArulZZUIAAAAFfpRlQgAAACe3z2VCAAAASfAKZkIAAADU30RmQgAAgCp0f2ZCAACATK26ZkIAAIBu5vVmQgAAgPnVL2dCAAAAUGpqZ0IAAAByo6VnQgAAAJTc4GdCAACA6nAbaEIAAABBBVZoQgAAAGM+kWhCAAAAhXfMaEIAAAAQZwZpQgAAgGb7QGlCAACAiDR8aUIAAICqbbdpQgAAgDVd8WlCAAAAjPErakIAAACuKmdqQgAAANBjompCAAAAW1PcakIAAICx5xZrQgAAgNMgUmtCAACA9VmNa0IAAABM7sdrQgAAgKKCAmxCAACAxLs9bEIAAIDm9HhsQgAAgHHksmxCAAAAyHjtbEIAAADqsShtQgAAAAzrY21CAAAAl9qdbUIAAIDtbthtQgAAgA+oE25CAACAMeFObkIAAIC80IhuQgAAABNlw25CAAAANZ7+bkIAAABX1zlvQgAAgK1rdG9CAAAABACvb0IAAAAmOepvQgAAACS5EnBCAACA6bAvcEIAAMAU+0xwQgAAwKWXanBCAADANjSIcEIAAED8K6VwQgAAgCd2wnBCAACAuBLgcEIAAIBJr/1wQgAAAA+nGnFCAABAOvE3cUIAAEDLjVVxQgAAQFwqc3FCAACAh3SQcUIAAMCyvq1xQgAAwENby3FCAADA1PfocUIAAECa7wVyQgAAgMU5I3JCAACAVtZAckIAAIDncl5yQgAAAK1qe3JCAABA2LSYckIAAEBpUbZyQgAAQPrt03JCAADAv+XwckIAAADrLw5zQgAAAHzMK3NCAAAADWlJc0IAAEA4s2ZzQgAAgGP9g3NCAACA9Jmhc0IAAICFNr9zQgAAAEsu3HNCAABAdnj5c0IAAEAHFRd0QgAAQJixNHRCAADAXalRdEIAAACJ8250QgAAABqQjHRCAAAAqyyqdEIAAIBwJMd0QgAAwJtu5HRCAADALAsCdUIAAMC9px91QgAAAOnxPHVCAABAFDxadUIAAECl2Hd1QgAAQDZ1lXVCAADA+2yydUIAAAAnt891QgAAALhT7XVCAAAASfAKdkIAAIAO6Cd2QgAAwDkyRXZCAADAys5idkIAAMBba4B2QgAAQCFjnXZCAACATK26dkIAAIDdSdh2QgAAgG7m9XZCAADAmTATd0IAAADFejB3QgAAAFYXTndCAAAA57Nrd0IAAICsq4h3QgAAwNf1pXdCAADAaJLDd0IAAMD5LuF3QgAAQL8m/ndCAACA6nAbeEIAAIB7DTl4QgAAgAyqVnhCAAAA0qFzeEI=\"},\"shape\":[193],\"dtype\":\"float64\",\"order\":\"little\"}],[\"value\",{\"type\":\"ndarray\",\"array\":{\"type\":\"bytes\",\"data\":\"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\"},\"shape\":[193],\"dtype\":\"float64\",\"order\":\"little\"}],[\"Variable\",[\"Difference in HPI\",\"Difference in HPI\",\"Difference in HPI\",\"Difference in HPI\",\"Difference in HPI\",\"Difference in HPI\",\"Difference in HPI\",\"Difference in HPI\",\"Difference in HPI\",\"Difference in HPI\",\"Difference in HPI\",\"Difference in HPI\",\"Difference in HPI\",\"Difference in HPI\",\"Difference in HPI\",\"Difference in HPI\",\"Difference in HPI\",\"Difference in HPI\",\"Difference in HPI\",\"Difference in HPI\",\"Difference in HPI\",\"Difference in HPI\",\"Difference in HPI\",\"Difference in HPI\",\"Difference in HPI\",\"Difference in HPI\",\"Difference in HPI\",\"Difference in HPI\",\"Difference in HPI\",\"Difference in HPI\",\"Difference in HPI\",\"Difference in HPI\",\"Difference in HPI\",\"Difference in HPI\",\"Difference in HPI\",\"Difference in HPI\",\"Difference in HPI\",\"Difference in HPI\",\"Difference in HPI\",\"Difference in HPI\",\"Difference in HPI\",\"Difference in HPI\",\"Difference in HPI\",\"Difference in HPI\",\"Difference in HPI\",\"Difference in HPI\",\"Difference in HPI\",\"Difference in HPI\",\"Difference in HPI\",\"Difference in HPI\",\"Difference in HPI\",\"Difference in HPI\",\"Difference in HPI\",\"Difference in HPI\",\"Difference in HPI\",\"Difference in HPI\",\"Difference in HPI\",\"Difference in HPI\",\"Difference in HPI\",\"Difference in HPI\",\"Difference in HPI\",\"Difference in HPI\",\"Difference in HPI\",\"Difference in HPI\",\"Difference in HPI\",\"Difference in HPI\",\"Difference in HPI\",\"Difference in HPI\",\"Difference in HPI\",\"Difference in HPI\",\"Difference in HPI\",\"Difference in HPI\",\"Difference in HPI\",\"Difference in HPI\",\"Difference in HPI\",\"Difference in HPI\",\"Difference in HPI\",\"Difference in HPI\",\"Difference in HPI\",\"Difference in HPI\",\"Difference in HPI\",\"Difference in HPI\",\"Difference in HPI\",\"Difference in HPI\",\"Difference in HPI\",\"Difference in HPI\",\"Difference in HPI\",\"Difference in HPI\",\"Difference in HPI\",\"Difference in HPI\",\"Difference in HPI\",\"Difference in HPI\",\"Difference in HPI\",\"Difference in HPI\",\"Difference in HPI\",\"Difference in HPI\",\"Difference in HPI\",\"Difference in HPI\",\"Difference in HPI\",\"Difference in HPI\",\"Difference in HPI\",\"Difference in HPI\",\"Difference in HPI\",\"Difference in HPI\",\"Difference in HPI\",\"Difference in HPI\",\"Difference in HPI\",\"Difference in HPI\",\"Difference in HPI\",\"Difference in HPI\",\"Difference in HPI\",\"Difference in HPI\",\"Difference in HPI\",\"Difference in HPI\",\"Difference in HPI\",\"Difference in HPI\",\"Difference in HPI\",\"Difference in HPI\",\"Difference in HPI\",\"Difference in HPI\",\"Difference in HPI\",\"Difference in HPI\",\"Difference in HPI\",\"Difference in HPI\",\"Difference in HPI\",\"Difference in HPI\",\"Difference in HPI\",\"Difference in HPI\",\"Difference in HPI\",\"Difference in HPI\",\"Difference in HPI\",\"Difference in HPI\",\"Difference in HPI\",\"Difference in HPI\",\"Difference in HPI\",\"Difference in HPI\",\"Difference in HPI\",\"Difference in HPI\",\"Difference in HPI\",\"Difference in HPI\",\"Difference in HPI\",\"Difference in HPI\",\"Difference in HPI\",\"Difference in HPI\",\"Difference in HPI\",\"Difference in HPI\",\"Difference in HPI\",\"Difference in HPI\",\"Difference in HPI\",\"Difference in HPI\",\"Difference in HPI\",\"Difference in HPI\",\"Difference in HPI\",\"Difference in HPI\",\"Difference in HPI\",\"Difference in HPI\",\"Difference in HPI\",\"Difference in HPI\",\"Difference in HPI\",\"Difference in HPI\",\"Difference in HPI\",\"Difference in HPI\",\"Difference in HPI\",\"Difference in HPI\",\"Difference in HPI\",\"Difference in HPI\",\"Difference in HPI\",\"Difference in HPI\",\"Difference in HPI\",\"Difference in HPI\",\"Difference in HPI\",\"Difference in HPI\",\"Difference in HPI\",\"Difference in HPI\",\"Difference in HPI\",\"Difference in HPI\",\"Difference in HPI\",\"Difference in HPI\",\"Difference in HPI\",\"Difference in HPI\",\"Difference in HPI\",\"Difference in HPI\",\"Difference in HPI\",\"Difference in HPI\",\"Difference in HPI\",\"Difference in HPI\",\"Difference in HPI\",\"Difference in HPI\",\"Difference in HPI\",\"Difference in HPI\",\"Difference in HPI\",\"Difference in HPI\",\"Difference in HPI\"]]]}}},\"view\":{\"type\":\"object\",\"name\":\"CDSView\",\"id\":\"p2701\",\"attributes\":{\"filter\":{\"type\":\"object\",\"name\":\"AllIndices\",\"id\":\"p2702\"}}},\"glyph\":{\"type\":\"object\",\"name\":\"Line\",\"id\":\"p2697\",\"attributes\":{\"tags\":[\"apply_ranges\"],\"x\":{\"type\":\"field\",\"field\":\"date\"},\"y\":{\"type\":\"field\",\"field\":\"value\"},\"line_color\":\"#fc4f30\",\"line_width\":2}},\"selection_glyph\":{\"type\":\"object\",\"name\":\"Line\",\"id\":\"p2704\",\"attributes\":{\"tags\":[\"apply_ranges\"],\"x\":{\"type\":\"field\",\"field\":\"date\"},\"y\":{\"type\":\"field\",\"field\":\"value\"},\"line_color\":\"#fc4f30\",\"line_width\":2}},\"nonselection_glyph\":{\"type\":\"object\",\"name\":\"Line\",\"id\":\"p2698\",\"attributes\":{\"tags\":[\"apply_ranges\"],\"x\":{\"type\":\"field\",\"field\":\"date\"},\"y\":{\"type\":\"field\",\"field\":\"value\"},\"line_color\":\"#fc4f30\",\"line_alpha\":0.1,\"line_width\":2}},\"muted_glyph\":{\"type\":\"object\",\"name\":\"Line\",\"id\":\"p2699\",\"attributes\":{\"tags\":[\"apply_ranges\"],\"x\":{\"type\":\"field\",\"field\":\"date\"},\"y\":{\"type\":\"field\",\"field\":\"value\"},\"line_color\":\"#fc4f30\",\"line_alpha\":0.2,\"line_width\":2}}}}],\"toolbar\":{\"type\":\"object\",\"name\":\"Toolbar\",\"id\":\"p2646\",\"attributes\":{\"tools\":[{\"type\":\"object\",\"name\":\"WheelZoomTool\",\"id\":\"p2632\",\"attributes\":{\"tags\":[\"hv_created\"],\"zoom_together\":\"none\"}},{\"type\":\"object\",\"name\":\"HoverTool\",\"id\":\"p2633\",\"attributes\":{\"tags\":[\"hv_created\"],\"renderers\":[{\"id\":\"p2685\"},{\"id\":\"p2700\"}],\"tooltips\":[[\"Variable\",\"@{Variable}\"],[\"date\",\"@{date}{%F %T}\"],[\"value\",\"@{value}\"]],\"formatters\":{\"type\":\"map\",\"entries\":[[\"@{date}\",\"datetime\"]]}}},{\"type\":\"object\",\"name\":\"SaveTool\",\"id\":\"p2671\"},{\"type\":\"object\",\"name\":\"PanTool\",\"id\":\"p2672\"},{\"type\":\"object\",\"name\":\"BoxZoomTool\",\"id\":\"p2673\",\"attributes\":{\"overlay\":{\"type\":\"object\",\"name\":\"BoxAnnotation\",\"id\":\"p2674\",\"attributes\":{\"syncable\":false,\"level\":\"overlay\",\"visible\":false,\"left_units\":\"canvas\",\"right_units\":\"canvas\",\"bottom_units\":\"canvas\",\"top_units\":\"canvas\",\"line_color\":\"black\",\"line_alpha\":1.0,\"line_width\":2,\"line_dash\":[4,4],\"fill_color\":\"lightgrey\",\"fill_alpha\":0.5}}}},{\"type\":\"object\",\"name\":\"ResetTool\",\"id\":\"p2675\"}],\"active_drag\":{\"id\":\"p2672\"},\"active_scroll\":{\"id\":\"p2632\"}}},\"left\":[{\"type\":\"object\",\"name\":\"LinearAxis\",\"id\":\"p2666\",\"attributes\":{\"ticker\":{\"type\":\"object\",\"name\":\"BasicTicker\",\"id\":\"p2667\",\"attributes\":{\"mantissas\":[1,2,5]}},\"formatter\":{\"type\":\"object\",\"name\":\"BasicTickFormatter\",\"id\":\"p2668\"},\"axis_label\":\"Difference\",\"major_label_policy\":{\"type\":\"object\",\"name\":\"AllLabels\",\"id\":\"p2669\"}}}],\"right\":[{\"type\":\"object\",\"name\":\"Legend\",\"id\":\"p2688\",\"attributes\":{\"location\":[0,0],\"title\":\"Variable\",\"click_policy\":\"mute\",\"items\":[{\"type\":\"object\",\"name\":\"LegendItem\",\"id\":\"p2689\",\"attributes\":{\"label\":{\"type\":\"value\",\"value\":\"Monthly Supply\"},\"renderers\":[{\"id\":\"p2685\"}]}},{\"type\":\"object\",\"name\":\"LegendItem\",\"id\":\"p2703\",\"attributes\":{\"label\":{\"type\":\"value\",\"value\":\"Difference in HPI\"},\"renderers\":[{\"id\":\"p2700\"}]}}]}}],\"below\":[{\"type\":\"object\",\"name\":\"DatetimeAxis\",\"id\":\"p2649\",\"attributes\":{\"ticker\":{\"type\":\"object\",\"name\":\"DatetimeTicker\",\"id\":\"p2650\",\"attributes\":{\"num_minor_ticks\":5,\"tickers\":[{\"type\":\"object\",\"name\":\"AdaptiveTicker\",\"id\":\"p2651\",\"attributes\":{\"num_minor_ticks\":0,\"mantissas\":[1,2,5],\"max_interval\":500.0}},{\"type\":\"object\",\"name\":\"AdaptiveTicker\",\"id\":\"p2652\",\"attributes\":{\"num_minor_ticks\":0,\"base\":60,\"mantissas\":[1,2,5,10,15,20,30],\"min_interval\":1000.0,\"max_interval\":1800000.0}},{\"type\":\"object\",\"name\":\"AdaptiveTicker\",\"id\":\"p2653\",\"attributes\":{\"num_minor_ticks\":0,\"base\":24,\"mantissas\":[1,2,4,6,8,12],\"min_interval\":3600000.0,\"max_interval\":43200000.0}},{\"type\":\"object\",\"name\":\"DaysTicker\",\"id\":\"p2654\",\"attributes\":{\"days\":[1,2,3,4,5,6,7,8,9,10,11,12,13,14,15,16,17,18,19,20,21,22,23,24,25,26,27,28,29,30,31]}},{\"type\":\"object\",\"name\":\"DaysTicker\",\"id\":\"p2655\",\"attributes\":{\"days\":[1,4,7,10,13,16,19,22,25,28]}},{\"type\":\"object\",\"name\":\"DaysTicker\",\"id\":\"p2656\",\"attributes\":{\"days\":[1,8,15,22]}},{\"type\":\"object\",\"name\":\"DaysTicker\",\"id\":\"p2657\",\"attributes\":{\"days\":[1,15]}},{\"type\":\"object\",\"name\":\"MonthsTicker\",\"id\":\"p2658\",\"attributes\":{\"months\":[0,1,2,3,4,5,6,7,8,9,10,11]}},{\"type\":\"object\",\"name\":\"MonthsTicker\",\"id\":\"p2659\",\"attributes\":{\"months\":[0,2,4,6,8,10]}},{\"type\":\"object\",\"name\":\"MonthsTicker\",\"id\":\"p2660\",\"attributes\":{\"months\":[0,4,8]}},{\"type\":\"object\",\"name\":\"MonthsTicker\",\"id\":\"p2661\",\"attributes\":{\"months\":[0,6]}},{\"type\":\"object\",\"name\":\"YearsTicker\",\"id\":\"p2662\"}]}},\"formatter\":{\"type\":\"object\",\"name\":\"DatetimeTickFormatter\",\"id\":\"p2663\"},\"axis_label\":\"Date(in Months)\",\"major_label_policy\":{\"type\":\"object\",\"name\":\"AllLabels\",\"id\":\"p2664\"}}}],\"center\":[{\"type\":\"object\",\"name\":\"Grid\",\"id\":\"p2665\",\"attributes\":{\"axis\":{\"id\":\"p2649\"},\"grid_line_color\":null}},{\"type\":\"object\",\"name\":\"Grid\",\"id\":\"p2670\",\"attributes\":{\"dimension\":1,\"axis\":{\"id\":\"p2666\"},\"grid_line_color\":null}}],\"min_border_top\":10,\"min_border_bottom\":10,\"min_border_left\":10,\"min_border_right\":10,\"output_backend\":\"webgl\"}},{\"type\":\"object\",\"name\":\"Spacer\",\"id\":\"p2706\",\"attributes\":{\"name\":\"HSpacer03963\",\"stylesheets\":[\"\\n:host(.pn-loading.pn-arc):before, .pn-loading.pn-arc:before {\\n  background-image: url(\\\"data:image/svg+xml;base64,PHN2ZyB4bWxucz0iaHR0cDovL3d3dy53My5vcmcvMjAwMC9zdmciIHN0eWxlPSJtYXJnaW46IGF1dG87IGJhY2tncm91bmQ6IG5vbmU7IGRpc3BsYXk6IGJsb2NrOyBzaGFwZS1yZW5kZXJpbmc6IGF1dG87IiB2aWV3Qm94PSIwIDAgMTAwIDEwMCIgcHJlc2VydmVBc3BlY3RSYXRpbz0ieE1pZFlNaWQiPiAgPGNpcmNsZSBjeD0iNTAiIGN5PSI1MCIgZmlsbD0ibm9uZSIgc3Ryb2tlPSIjYzNjM2MzIiBzdHJva2Utd2lkdGg9IjEwIiByPSIzNSIgc3Ryb2tlLWRhc2hhcnJheT0iMTY0LjkzMzYxNDMxMzQ2NDE1IDU2Ljk3Nzg3MTQzNzgyMTM4Ij4gICAgPGFuaW1hdGVUcmFuc2Zvcm0gYXR0cmlidXRlTmFtZT0idHJhbnNmb3JtIiB0eXBlPSJyb3RhdGUiIHJlcGVhdENvdW50PSJpbmRlZmluaXRlIiBkdXI9IjFzIiB2YWx1ZXM9IjAgNTAgNTA7MzYwIDUwIDUwIiBrZXlUaW1lcz0iMDsxIj48L2FuaW1hdGVUcmFuc2Zvcm0+ICA8L2NpcmNsZT48L3N2Zz4=\\\");\\n  background-size: auto calc(min(50%, 400px));\\n}\",{\"id\":\"p2625\"},{\"id\":\"p2623\"},{\"id\":\"p2624\"}],\"margin\":0,\"sizing_mode\":\"stretch_width\",\"align\":\"start\"}}]}}],\"defs\":[{\"type\":\"model\",\"name\":\"ReactiveHTML1\"},{\"type\":\"model\",\"name\":\"FlexBox1\",\"properties\":[{\"name\":\"align_content\",\"kind\":\"Any\",\"default\":\"flex-start\"},{\"name\":\"align_items\",\"kind\":\"Any\",\"default\":\"flex-start\"},{\"name\":\"flex_direction\",\"kind\":\"Any\",\"default\":\"row\"},{\"name\":\"flex_wrap\",\"kind\":\"Any\",\"default\":\"wrap\"},{\"name\":\"justify_content\",\"kind\":\"Any\",\"default\":\"flex-start\"}]},{\"type\":\"model\",\"name\":\"FloatPanel1\",\"properties\":[{\"name\":\"config\",\"kind\":\"Any\",\"default\":{\"type\":\"map\"}},{\"name\":\"contained\",\"kind\":\"Any\",\"default\":true},{\"name\":\"position\",\"kind\":\"Any\",\"default\":\"right-top\"},{\"name\":\"offsetx\",\"kind\":\"Any\",\"default\":null},{\"name\":\"offsety\",\"kind\":\"Any\",\"default\":null},{\"name\":\"theme\",\"kind\":\"Any\",\"default\":\"primary\"},{\"name\":\"status\",\"kind\":\"Any\",\"default\":\"normalized\"}]},{\"type\":\"model\",\"name\":\"GridStack1\",\"properties\":[{\"name\":\"mode\",\"kind\":\"Any\",\"default\":\"warn\"},{\"name\":\"ncols\",\"kind\":\"Any\",\"default\":null},{\"name\":\"nrows\",\"kind\":\"Any\",\"default\":null},{\"name\":\"allow_resize\",\"kind\":\"Any\",\"default\":true},{\"name\":\"allow_drag\",\"kind\":\"Any\",\"default\":true},{\"name\":\"state\",\"kind\":\"Any\",\"default\":[]}]},{\"type\":\"model\",\"name\":\"drag1\",\"properties\":[{\"name\":\"slider_width\",\"kind\":\"Any\",\"default\":5},{\"name\":\"slider_color\",\"kind\":\"Any\",\"default\":\"black\"},{\"name\":\"value\",\"kind\":\"Any\",\"default\":50}]},{\"type\":\"model\",\"name\":\"click1\",\"properties\":[{\"name\":\"terminal_output\",\"kind\":\"Any\",\"default\":\"\"},{\"name\":\"debug_name\",\"kind\":\"Any\",\"default\":\"\"},{\"name\":\"clears\",\"kind\":\"Any\",\"default\":0}]},{\"type\":\"model\",\"name\":\"FastWrapper1\",\"properties\":[{\"name\":\"object\",\"kind\":\"Any\",\"default\":null},{\"name\":\"style\",\"kind\":\"Any\",\"default\":null}]},{\"type\":\"model\",\"name\":\"NotificationAreaBase1\",\"properties\":[{\"name\":\"js_events\",\"kind\":\"Any\",\"default\":{\"type\":\"map\"}},{\"name\":\"position\",\"kind\":\"Any\",\"default\":\"bottom-right\"},{\"name\":\"_clear\",\"kind\":\"Any\",\"default\":0}]},{\"type\":\"model\",\"name\":\"NotificationArea1\",\"properties\":[{\"name\":\"js_events\",\"kind\":\"Any\",\"default\":{\"type\":\"map\"}},{\"name\":\"notifications\",\"kind\":\"Any\",\"default\":[]},{\"name\":\"position\",\"kind\":\"Any\",\"default\":\"bottom-right\"},{\"name\":\"_clear\",\"kind\":\"Any\",\"default\":0},{\"name\":\"types\",\"kind\":\"Any\",\"default\":[{\"type\":\"map\",\"entries\":[[\"type\",\"warning\"],[\"background\",\"#ffc107\"],[\"icon\",{\"type\":\"map\",\"entries\":[[\"className\",\"fas fa-exclamation-triangle\"],[\"tagName\",\"i\"],[\"color\",\"white\"]]}]]},{\"type\":\"map\",\"entries\":[[\"type\",\"info\"],[\"background\",\"#007bff\"],[\"icon\",{\"type\":\"map\",\"entries\":[[\"className\",\"fas fa-info-circle\"],[\"tagName\",\"i\"],[\"color\",\"white\"]]}]]}]}]},{\"type\":\"model\",\"name\":\"Notification\",\"properties\":[{\"name\":\"background\",\"kind\":\"Any\",\"default\":null},{\"name\":\"duration\",\"kind\":\"Any\",\"default\":3000},{\"name\":\"icon\",\"kind\":\"Any\",\"default\":null},{\"name\":\"message\",\"kind\":\"Any\",\"default\":\"\"},{\"name\":\"notification_type\",\"kind\":\"Any\",\"default\":null},{\"name\":\"_destroyed\",\"kind\":\"Any\",\"default\":false}]},{\"type\":\"model\",\"name\":\"TemplateActions1\",\"properties\":[{\"name\":\"open_modal\",\"kind\":\"Any\",\"default\":0},{\"name\":\"close_modal\",\"kind\":\"Any\",\"default\":0}]},{\"type\":\"model\",\"name\":\"BootstrapTemplateActions1\",\"properties\":[{\"name\":\"open_modal\",\"kind\":\"Any\",\"default\":0},{\"name\":\"close_modal\",\"kind\":\"Any\",\"default\":0}]},{\"type\":\"model\",\"name\":\"MaterialTemplateActions1\",\"properties\":[{\"name\":\"open_modal\",\"kind\":\"Any\",\"default\":0},{\"name\":\"close_modal\",\"kind\":\"Any\",\"default\":0}]}]}};\n",
       "  var render_items = [{\"docid\":\"fd66c20a-e766-43e4-a31c-7e78a3100fc3\",\"roots\":{\"p2622\":\"e2a838fe-f840-4937-8428-c971c5535b9d\"},\"root_ids\":[\"p2622\"]}];\n",
       "  var docs = Object.values(docs_json)\n",
       "  if (!docs) {\n",
       "    return\n",
       "  }\n",
       "  const py_version = docs[0].version.replace('rc', '-rc.').replace('.dev', '-dev.')\n",
       "  const is_dev = py_version.indexOf(\"+\") !== -1 || py_version.indexOf(\"-\") !== -1\n",
       "  function embed_document(root) {\n",
       "    var Bokeh = get_bokeh(root)\n",
       "    Bokeh.embed.embed_items_notebook(docs_json, render_items);\n",
       "    for (const render_item of render_items) {\n",
       "      for (const root_id of render_item.root_ids) {\n",
       "\tconst id_el = document.getElementById(root_id)\n",
       "\tif (id_el.children.length && (id_el.children[0].className === 'bk-root')) {\n",
       "\t  const root_el = id_el.children[0]\n",
       "\t  root_el.id = root_el.id + '-rendered'\n",
       "\t}\n",
       "      }\n",
       "    }\n",
       "  }\n",
       "  function get_bokeh(root) {\n",
       "    if (root.Bokeh === undefined) {\n",
       "      return null\n",
       "    } else if (root.Bokeh.version !== py_version && !is_dev) {\n",
       "      if (root.Bokeh.versions === undefined || !root.Bokeh.versions.has(py_version)) {\n",
       "\treturn null\n",
       "      }\n",
       "      return root.Bokeh.versions.get(py_version);\n",
       "    } else if (root.Bokeh.version === py_version) {\n",
       "      return root.Bokeh\n",
       "    }\n",
       "    return null\n",
       "  }\n",
       "  function is_loaded(root) {\n",
       "    var Bokeh = get_bokeh(root)\n",
       "    return (Bokeh != null && Bokeh.Panel !== undefined)\n",
       "  }\n",
       "  if (is_loaded(root)) {\n",
       "    embed_document(root);\n",
       "  } else {\n",
       "    var attempts = 0;\n",
       "    var timer = setInterval(function(root) {\n",
       "      if (is_loaded(root)) {\n",
       "        clearInterval(timer);\n",
       "        embed_document(root);\n",
       "      } else if (document.readyState == \"complete\") {\n",
       "        attempts++;\n",
       "        if (attempts > 200) {\n",
       "          clearInterval(timer);\n",
       "\t  var Bokeh = get_bokeh(root)\n",
       "\t  if (Bokeh == null || Bokeh.Panel == null) {\n",
       "            console.warn(\"Panel: ERROR: Unable to run Panel code because Bokeh or Panel library is missing\");\n",
       "\t  } else {\n",
       "\t    console.warn(\"Panel: WARNING: Attempting to render but not all required libraries could be resolved.\")\n",
       "\t    embed_document(root)\n",
       "\t  }\n",
       "        }\n",
       "      }\n",
       "    }, 25, root)\n",
       "  }\n",
       "})(window);</script>"
      ],
      "text/plain": [
       ":NdOverlay   [Variable]\n",
       "   :Curve   [date]   (value)"
      ]
     },
     "execution_count": 60,
     "metadata": {
      "application/vnd.holoviews_exec.v0+json": {
       "id": "p2622"
      }
     },
     "output_type": "execute_result"
    }
   ],
   "source": [
    "# Plot difference for combined dataframes\n",
    "monthly_supply_df.hvplot(title=\"House Price Index and Monthly Supply of New Houses in the United States\", xlabel=\"Date(in Months)\",ylabel=\"Difference\")"
   ]
  },
  {
   "cell_type": "markdown",
   "metadata": {},
   "source": [
    "## Combine Residential Real Estate Value, Inflation, Fred Funds Effective Rate, Monthly Supply of New Houses "
   ]
  },
  {
   "cell_type": "code",
   "execution_count": null,
   "metadata": {
    "tags": []
   },
   "outputs": [],
   "source": [
    "# Join inflation_combined_df, fed_rate_combined_df, and monthly_supply_df into a single DataFrame with columns.\n",
    "all_combined_df = pd.concat([inflation_combined_df, fed_rate_combined_df, monthly_supply_df],axis=\"columns\",join=\"inner\")\n",
    "all_combined_df.head()"
   ]
  },
  {
   "cell_type": "code",
   "execution_count": null,
   "metadata": {
    "tags": []
   },
   "outputs": [],
   "source": [
    "# Remove duplicate columns from dataframe.\n",
    "all_combined_df= all_combined_df.T.drop_duplicates().T\n",
    "all_combined_df.head()"
   ]
  },
  {
   "cell_type": "markdown",
   "metadata": {},
   "source": [
    "### Conduct Quantitative Analysis"
   ]
  },
  {
   "cell_type": "code",
   "execution_count": null,
   "metadata": {
    "tags": []
   },
   "outputs": [],
   "source": [
    "# Plot combined dataframe\n",
    "all_combined_df.hvplot(title=\"Residential Real Estate Value, Inflation, Fred Funds Effective Rate, Monthly Supply of New Houses Analysis\", xlabel=\"Date(in Months)\")"
   ]
  },
  {
   "cell_type": "markdown",
   "metadata": {},
   "source": [
    "### Calculate and Plot Correlation"
   ]
  },
  {
   "cell_type": "code",
   "execution_count": null,
   "metadata": {
    "tags": []
   },
   "outputs": [],
   "source": [
    "# Calculate the correlation\n",
    "correlation = all_combined_df.corr()\n",
    "correlation.head()\n",
    "mask=np.zeros_like(correlation)\n",
    "mask[np.triu_indices_from(mask)]= True\n",
    "# Plot the correlation matrix\n",
    "sns.heatmap(correlation, vmax= 1, vmin= -1, annot=True, mask=mask)"
   ]
  },
  {
   "cell_type": "markdown",
   "metadata": {
    "tags": []
   },
   "source": [
    "## Residential Real Estate vs S&P500"
   ]
  },
  {
   "cell_type": "code",
   "execution_count": null,
   "metadata": {
    "tags": []
   },
   "outputs": [],
   "source": [
    "# Download the S&P500 Dataframe from the yfinance library in quarters since HPI is a quarterly report \n",
    "\n",
    "sp500_df = yf.download(\"^GSPC\", interval=\"3mo\", start=\"1975-01-01\", end=\"2023-10-01\")\n",
    "\n",
    "# Get Closing cloumns and then calculate the returns and drop NaN Values\n",
    "\n",
    "sp500_close = sp500_df['Close']\n",
    "\n",
    "\n",
    "sp500_returns = sp500_close.pct_change().dropna()\n",
    "\n"
   ]
  },
  {
   "cell_type": "code",
   "execution_count": null,
   "metadata": {
    "tags": []
   },
   "outputs": [],
   "source": [
    "#  Save a Plot in variable containing the Monthly Returns\n",
    "\n",
    "sp500_plot = sp500_returns.hvplot(\n",
    "    title='Quarterly Returns of the S&P 500 Index',\n",
    "    rot=90,\n",
    "    label='Quarterly Returns of the S&P 500 Index',\n",
    "    ylabel='Rate of Return',\n",
    "    xlabel='Date(in Qtrs.)'\n",
    "\n",
    ")\n",
    "\n",
    "sp500_plot"
   ]
  },
  {
   "cell_type": "code",
   "execution_count": null,
   "metadata": {
    "tags": []
   },
   "outputs": [],
   "source": [
    "# Get Residential Housing Price Index Data (HPI)\n",
    "hpi_df = dataframes['USSTHPI']\n",
    "\n",
    "\n",
    "# Calculate HPI Returns \n",
    "hpi_returns = hpi_df['HPI pct_change']\n"
   ]
  },
  {
   "cell_type": "code",
   "execution_count": null,
   "metadata": {
    "tags": []
   },
   "outputs": [],
   "source": [
    "#  Save a Plot in variable containing the Returns and plot ## HPI is a quarterly report\n",
    "\n",
    "hpi_plot = hpi_returns.hvplot(\n",
    "    title='Quarterly Returns of the Housing Price Index',\n",
    "    rot=90,\n",
    "    label='Quarterly Returns of the Housing Price Index',\n",
    "    ylabel='Rate of Return',\n",
    "    xlabel='Date(in Qtrs.)'\n",
    "\n",
    ")\n",
    "\n",
    "hpi_plot"
   ]
  },
  {
   "cell_type": "code",
   "execution_count": null,
   "metadata": {
    "tags": []
   },
   "outputs": [],
   "source": [
    "# Slice the HPI returns data to start from 1985 for comparison, since yfinace library only lets us pull SP500 data fromn 1985\n",
    "hpi_1985_returns = hpi_returns.iloc[40:]\n",
    "\n"
   ]
  },
  {
   "cell_type": "code",
   "execution_count": null,
   "metadata": {
    "tags": []
   },
   "outputs": [],
   "source": [
    "# Save a Plot in variable containing the Returns\n",
    "\n",
    "hpi_1985_plot = hpi_1985_returns.hvplot(\n",
    "    title='Quarterly Returns of the Housing Price Index',\n",
    "    rot=90,\n",
    "    label='Quarterly Returns of the Housing Price Index',\n",
    "    ylabel='Rate of Return',\n",
    "    xlabel='Date(in Qtrs.)'\n",
    "\n",
    ")"
   ]
  },
  {
   "cell_type": "code",
   "execution_count": null,
   "metadata": {},
   "outputs": [],
   "source": [
    "# Create an overlay plot for the two visualizations of SP550 & HPI\n",
    "(sp500_plot * hpi_1985_plot).opts(\n",
    "    title=\"Comparative view at Quartlely Returns of the HPI with Monthly Returns of the S&P500\",\n",
    "    bgcolor=\"lightgrey\", \n",
    "    height=500,\n",
    "    width=1000,\n",
    "    ylabel='Rate of Return',\n",
    "    xlabel='Date',\n",
    "    #hover_line_color='yellow'\n",
    ")"
   ]
  },
  {
   "cell_type": "markdown",
   "metadata": {},
   "source": [
    "## Residential Real Estate vs XLRE"
   ]
  },
  {
   "cell_type": "code",
   "execution_count": null,
   "metadata": {},
   "outputs": [],
   "source": [
    "# Download the XLRE Fund Dataframe from the yfinance library on a 3 month interval to compare with HPI quarterly report\n",
    "\n",
    "xlre_download = yf.download(\"XLRE\", interval=\"3mo\", start=\"1985-01-01\", end=\"2023-10-01\")\n",
    "\n",
    "# Get Closing cloumns and then calculate the returns and drop NaN Values\n",
    "\n",
    "xlre_close = xlre_download['Close']\n",
    "\n",
    "\n",
    "xlre_returns = xlre_close.pct_change().dropna()\n"
   ]
  },
  {
   "cell_type": "code",
   "execution_count": null,
   "metadata": {},
   "outputs": [],
   "source": [
    "#  Store a Plot inside a variable \n",
    "\n",
    "xlre_plot = xlre_returns.hvplot(\n",
    "    title='Quarterly Returns of The Real Estate Select Sector SPDR Fund (XLRE)',\n",
    "    rot=90,\n",
    "    ylabel='Rate of Return',\n",
    "    xlabel='Date(in Qtrs.)'\n",
    "\n",
    ")\n",
    "\n",
    "xlre_plot"
   ]
  },
  {
   "cell_type": "code",
   "execution_count": null,
   "metadata": {},
   "outputs": [],
   "source": [
    "# Slice HPI data to start from 2016 for a comparative view of XLRE & create a variable to store a plot of HPI for this timeframe \n",
    "hpi_returns_2016 = hpi_1985_returns.loc['2016-01-01':'2023-07-01']\n",
    "\n",
    "hpi_2016_plot = hpi_returns_2016.hvplot(\n",
    "    title='Quarterly Returns of the Housing Price Index',\n",
    "    rot=90,\n",
    "    label='Quarterly Returns of the Housing Price Index',\n",
    "    ylabel='Rate of Return',\n",
    "    xlabel='Date(in Qtrs.)'\n",
    "\n",
    ")"
   ]
  },
  {
   "cell_type": "code",
   "execution_count": null,
   "metadata": {},
   "outputs": [],
   "source": [
    "# Create an overlay plot for the two visualizations of XLRE & HPI\n",
    "(xlre_plot * hpi_2016_plot).opts(\n",
    "    title=\"Comparative view at Quartlely Returns of the HPI, S&P500 & XLRE\",\n",
    "    bgcolor=\"lightgrey\", \n",
    "    height=500,\n",
    "    width=1000,\n",
    "    ylabel='Rate of Return',\n",
    "    xlabel='Date',\n",
    "    #hover_cols=['yellow']\n",
    ")"
   ]
  },
  {
   "cell_type": "markdown",
   "metadata": {},
   "source": [
    "## Residential Real Estate vs XLRE vs SP500 Index"
   ]
  },
  {
   "cell_type": "code",
   "execution_count": null,
   "metadata": {},
   "outputs": [],
   "source": [
    "# Slice SP500 data to start from 2016 for a comparative view of XLRE & create a variable to store a plot of SP500 for this timeframe \n",
    "sp500_qtr_returns_2016 = sp500_returns.loc['2016-01-01':'2023-07-01']\n",
    "\n",
    "sp500_2016_plot = sp500_qtr_returns_2016.hvplot(\n",
    "    title='Quarterly Returns of the S&P 500 Index',\n",
    "    rot=90,\n",
    "    label='Quarterly Returns of the S&P 500 Index',\n",
    "    ylabel='Rate of Return',\n",
    "    xlabel='Date(in Qtrs.)'\n",
    "\n",
    ")"
   ]
  },
  {
   "cell_type": "code",
   "execution_count": null,
   "metadata": {},
   "outputs": [],
   "source": [
    "# Create an overlay plot for the two visualizations of SP550 & HPI\n",
    "(sp500_2016_plot * hpi_2016_plot * xlre_plot).opts(\n",
    "    title=\"Comparative view at Quartlely Returns of the HPI, S&P500 & XLRE\",\n",
    "    bgcolor=\"lightgrey\", \n",
    "    height=500,\n",
    "    width=1000,\n",
    "    ylabel='Rate of Return',\n",
    "    xlabel='Date',\n",
    "    #hover_cols=['yellow']\n",
    ")"
   ]
  },
  {
   "cell_type": "markdown",
   "metadata": {},
   "source": [
    "## Investment Analysis of HPI, SP500 & XLRE"
   ]
  },
  {
   "cell_type": "markdown",
   "metadata": {},
   "source": [
    "### Calculate and Plot the Standard Deviation and Sharpe Ratios"
   ]
  },
  {
   "cell_type": "code",
   "execution_count": null,
   "metadata": {},
   "outputs": [],
   "source": [
    "# Fetch 13Week Treasury Bill for a Risk Free Rate\n",
    "\n",
    "tbill_month = yf.download(\"^IRX\", interval=\"1mo\", start=\"1985-01-01\", end=\"2023-10-01\")\n",
    "\n",
    "\n",
    "tbill_qtr = yf.download(\"^IRX\", interval=\"1mo\", start=\"1985-01-01\", end=\"2023-10-01\")"
   ]
  },
  {
   "cell_type": "code",
   "execution_count": null,
   "metadata": {},
   "outputs": [],
   "source": [
    "# Concat return DataFrames with inner join\n",
    "all_returns = pd.concat([sp500_qtr_returns_2016,hpi_returns_2016,xlre_returns], axis='columns', join='inner')\n",
    "\n",
    "all_returns =  all_returns.rename(columns={\n",
    "    \"Close\": \"SP500 Returns\",\n",
    "    \"HPI pct_change\": \"HPI Returns\",\n",
    "    \"Close\": \"XLRE Returns\"\n",
    "})\n",
    "\n",
    "all_returns.head()"
   ]
  },
  {
   "cell_type": "code",
   "execution_count": null,
   "metadata": {},
   "outputs": [],
   "source": [
    "# Calculate Standard Deviation and Sharpe Ratios\n",
    "all_portfolio_std = all_returns.std()\n",
    "\n",
    "# Calculate sharpe ratio\n",
    "sharpe_ratios = (all_returns.mean() * 252) / (all_portfolio_std * np.sqrt(252))\n",
    "\n",
    "display(all_portfolio_std)\n",
    "display(sharpe_ratios)\n"
   ]
  },
  {
   "cell_type": "code",
   "execution_count": null,
   "metadata": {},
   "outputs": [],
   "source": [
    "all_portfolio_std.plot.box()"
   ]
  },
  {
   "cell_type": "code",
   "execution_count": null,
   "metadata": {},
   "outputs": [],
   "source": [
    "# Plot Sharpe Ratios\n",
    "sharpe_ratios.plot(kind=\"bar\", title=\"Sharpe Ratios\")"
   ]
  },
  {
   "cell_type": "markdown",
   "metadata": {},
   "source": [
    "### Calculate and Plot Correlation"
   ]
  },
  {
   "cell_type": "code",
   "execution_count": null,
   "metadata": {
    "tags": []
   },
   "outputs": [],
   "source": [
    "# Calculate Correlation\n",
    "\n",
    "investment_correlation = all_returns.corr()\n",
    "mask=np.zeros_like(investment_correlation)\n",
    "mask[np.triu_indices_from(mask)]= True"
   ]
  },
  {
   "cell_type": "code",
   "execution_count": null,
   "metadata": {
    "tags": []
   },
   "outputs": [],
   "source": [
    "# Plot Correlation Results\n",
    "sns.heatmap(investment_correlation, vmax = 1, vmin = -1, annot=True, mask=mask)"
   ]
  },
  {
   "cell_type": "code",
   "execution_count": null,
   "metadata": {},
   "outputs": [],
   "source": []
  }
 ],
 "metadata": {
  "kernelspec": {
   "display_name": "Python 3 (ipykernel)",
   "language": "python",
   "name": "python3"
  },
  "language_info": {
   "codemirror_mode": {
    "name": "ipython",
    "version": 3
   },
   "file_extension": ".py",
   "mimetype": "text/x-python",
   "name": "python",
   "nbconvert_exporter": "python",
   "pygments_lexer": "ipython3",
   "version": "3.11.5"
  }
 },
 "nbformat": 4,
 "nbformat_minor": 4
}
