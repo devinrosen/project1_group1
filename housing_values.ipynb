{
 "cells": [
  {
   "cell_type": "markdown",
   "metadata": {},
   "source": [
    "# Residential Real Estate vs Supply, Inflation, and Interest Rate"
   ]
  },
  {
   "cell_type": "markdown",
   "metadata": {},
   "source": [
    "## Description ##\n",
    "Our goal is to determine how the value of residential real estate relates to supply, inflation, and interest rate.  Additionally, we will compare real estate returns to the returns of the  S&P 500 and XLRE (Real Estate Select Sector)."
   ]
  },
  {
   "cell_type": "markdown",
   "metadata": {},
   "source": [
    "## Objectives ##\n",
    "We intend to identify ideal periods to transact residential real estate based on valuation, inflation, and interest rate."
   ]
  },
  {
   "cell_type": "code",
   "execution_count": null,
   "metadata": {
    "tags": []
   },
   "outputs": [],
   "source": [
    "# Imports\n",
    "import pandas as pd\n",
    "import os\n",
    "from dotenv import load_dotenv\n",
    "from fredapi import Fred\n",
    "import hvplot.pandas\n",
    "import yfinance as yf\n",
    "\n"
   ]
  },
  {
   "cell_type": "code",
   "execution_count": null,
   "metadata": {},
   "outputs": [],
   "source": [
    "# Load Environment Variables\n",
    "load_dotenv()\n",
    "\n",
    "# setup fred api client\n",
    "FRED_API_KEY = os.getenv('FRED_API_KEY')\n",
    "fred = Fred(api_key=FRED_API_KEY)"
   ]
  },
  {
   "cell_type": "markdown",
   "metadata": {},
   "source": [
    "## Load all Fred Data"
   ]
  },
  {
   "cell_type": "code",
   "execution_count": null,
   "metadata": {},
   "outputs": [],
   "source": [
    "dataframes = {}\n",
    "FRED_SERIES_KEYS = [\"FPCPITOTLZGUSA\", \"FEDFUNDS\", \"MSACSR\", \"USSTHPI\"]\n",
    "for FRED_SERIES_KEY in FRED_SERIES_KEYS:\n",
    "    series = fred.get_series(FRED_SERIES_KEY)\n",
    "    frame = {\n",
    "        \"date\": series.keys(),\n",
    "        \"value\": series.values,\n",
    "    }\n",
    "    dataframes[FRED_SERIES_KEY] = pd.DataFrame(frame).set_index(\"date\")\n",
    "    dataframes[FRED_SERIES_KEY][f\"pct_change {FRED_SERIES_KEY}\"] = dataframes[FRED_SERIES_KEY].pct_change()\n",
    "    dataframes[FRED_SERIES_KEY][f\"diff {FRED_SERIES_KEY}\"] = dataframes[FRED_SERIES_KEY][\"value\"].diff()\n",
    "    dataframes[FRED_SERIES_KEY] = dataframes[FRED_SERIES_KEY].dropna()\n"
   ]
  },
  {
   "cell_type": "markdown",
   "metadata": {},
   "source": [
    "## Residential Real Estate Value vs Inflation"
   ]
  },
  {
   "cell_type": "code",
   "execution_count": null,
   "metadata": {
    "tags": []
   },
   "outputs": [],
   "source": [
    "# Plot Inflation, consumer prices for the United States\n",
    "display(dataframes[\"FPCPITOTLZGUSA\"][\"value\"].hvplot(title=\"Inflation, consumer prices for the United States\"))\n",
    "\n",
    "# Plot House price Index for the United States\n",
    "display(dataframes[\"USSTHPI\"][\"value\"].hvplot(title=\"All Transactions House Price Index for the United States\"))"
   ]
  },
  {
   "cell_type": "code",
   "execution_count": null,
   "metadata": {
    "tags": []
   },
   "outputs": [],
   "source": [
    "# Rename Columns to 'Inflation in %', Inflation pct_change'\n",
    "dataframes[\"FPCPITOTLZGUSA\"].columns = ['Inflation','Inflation pct_change','Difference in Inflation'] \n",
    "display(dataframes[\"FPCPITOTLZGUSA\"].head())\n",
    "\n",
    "# Rename Columns to 'House Price Index', HPI pct_change'\n",
    "dataframes[\"USSTHPI\"].columns = ['HPI','HPI pct_change','Difference in HPI']\n",
    "dataframes[\"USSTHPI\"].head()"
   ]
  },
  {
   "cell_type": "markdown",
   "metadata": {
    "tags": []
   },
   "source": [
    "#### Combine Infaltion and Housing Price Index for the United States"
   ]
  },
  {
   "cell_type": "code",
   "execution_count": null,
   "metadata": {
    "tags": []
   },
   "outputs": [],
   "source": [
    "# Use 'concat' function to combine the two DataFrames by matching indexes.\n",
    "inflation_combined_df = pd.concat([dataframes[\"FPCPITOTLZGUSA\"], dataframes[\"USSTHPI\"]],axis=\"columns\", join=\"inner\")\n",
    "inflation_combined_df.head()"
   ]
  },
  {
   "cell_type": "code",
   "execution_count": null,
   "metadata": {
    "tags": []
   },
   "outputs": [],
   "source": [
    "# Drop columns 'Inflation''Inflation pct_change','HPI and 'House Price Index'\n",
    "inflation_combined_df = inflation_combined_df.drop(columns=[\"Inflation\",\"Inflation pct_change\",\"HPI\",\"HPI pct_change\"])\n",
    "inflation_combined_df.head()"
   ]
  },
  {
   "cell_type": "markdown",
   "metadata": {},
   "source": [
    "#### Conduct House Price Index and Inflation Analysis"
   ]
  },
  {
   "cell_type": "code",
   "execution_count": null,
   "metadata": {
    "tags": []
   },
   "outputs": [],
   "source": [
    "# Plot difference for combined dataframes\n",
    "inflation_combined_df.hvplot(title=\"Housing Price Index, Inflation for the United States\",xlabel=\"Date\", ylabel=\"Difference\")"
   ]
  },
  {
   "cell_type": "markdown",
   "metadata": {},
   "source": [
    "## Residential Real Estate Value vs Federal Funds Effective Rate"
   ]
  },
  {
   "cell_type": "code",
   "execution_count": null,
   "metadata": {
    "tags": []
   },
   "outputs": [],
   "source": [
    "# Federal Effective Rate(Interest Rate)\n",
    "display(dataframes[\"FEDFUNDS\"][\"value\"].hvplot(title=\"Federal Effective Rate\"))\n",
    "\n",
    "# House price Index for the United States\n",
    "display(dataframes[\"USSTHPI\"][\"HPI\"].hvplot(title=\"All Transactions House Price Index for the United States\"))"
   ]
  },
  {
   "cell_type": "code",
   "execution_count": null,
   "metadata": {
    "tags": []
   },
   "outputs": [],
   "source": [
    "# Rename columns to 'Interest Rate','Interest Rate pct_change','Difference in Interest Rate'\n",
    "dataframes[\"FEDFUNDS\"].columns=[\"Interest Rate\",\"Interest Rate pct_change\",\"Difference in Interest Rate\"]\n",
    "display(dataframes[\"FEDFUNDS\"].head())\n",
    "\n",
    "# Rename Columns to 'House Price Index', HPI pct_change'\n",
    "dataframes[\"USSTHPI\"].columns = ['HPI','HPI pct_change','Difference in HPI']\n",
    "display(dataframes[\"USSTHPI\"].head())"
   ]
  },
  {
   "cell_type": "markdown",
   "metadata": {},
   "source": [
    "#### Combine Interest Rate and Housing Price Index for the United States"
   ]
  },
  {
   "cell_type": "code",
   "execution_count": null,
   "metadata": {
    "tags": []
   },
   "outputs": [],
   "source": [
    "# Use 'concat' function to combine the two DataFrames by matching indexes\n",
    "fed_rate_combined_df = pd.concat([dataframes[\"FEDFUNDS\"],dataframes[\"USSTHPI\"]],axis=\"columns\",join=\"inner\")\n",
    "fed_rate_combined_df.head()"
   ]
  },
  {
   "cell_type": "code",
   "execution_count": null,
   "metadata": {
    "tags": []
   },
   "outputs": [],
   "source": [
    "# Drop Columns 'Interest Rate','Interest Rate pct_change','HPI','HPI pct_change'\n",
    "fed_rate_combined_df = fed_rate_combined_df.drop(columns=[\"Difference in Interest Rate\",\"Interest Rate pct_change\",\"HPI\",\"HPI pct_change\"])\n",
    "fed_rate_combined_df.head()"
   ]
  },
  {
   "cell_type": "markdown",
   "metadata": {},
   "source": [
    "#### Conduct House Price Index and Interest Rate Analysis"
   ]
  },
  {
   "cell_type": "code",
   "execution_count": null,
   "metadata": {
    "tags": []
   },
   "outputs": [],
   "source": [
    "# Plot difference for combined dataframes\n",
    "fed_rate_combined_df.hvplot(title=\"House Price Index and Fedral Interest Rate\", xlabel=\"Date\",ylabel=\"Difference\")"
   ]
  },
  {
   "cell_type": "markdown",
   "metadata": {},
   "source": [
    "## Residential Real Estate Value vs Monthly Supply of New Houses"
   ]
  },
  {
   "cell_type": "code",
   "execution_count": null,
   "metadata": {
    "tags": []
   },
   "outputs": [],
   "source": [
    "# Plot Monthly Supply of New Houses in the United States\n",
    "display(dataframes[\"MSACSR\"][\"value\"].hvplot(title=\"Monthly Supply of New Houses in the United States\"))\n",
    "\n",
    "# Plot House price Index for the United States\n",
    "display(dataframes[\"USSTHPI\"][\"HPI\"].hvplot(title=\"All Transactions House Price Index for the United States\"))"
   ]
  },
  {
   "cell_type": "code",
   "execution_count": null,
   "metadata": {
    "tags": []
   },
   "outputs": [],
   "source": [
    "# Rename Columns to 'Monthly Supply', 'MS pct_change','Difference in MS'\n",
    "dataframes[\"MSACSR\"].columns=[\"Monthly Supply\",\"MS pct_change\",\"Difference in MS\"]\n",
    "display(dataframes[\"MSACSR\"].head())\n",
    "\n",
    "# Rename Columns to 'House Price Index', HPI pct_change'\n",
    "dataframes[\"USSTHPI\"].columns = ['HPI','HPI pct_change','Difference in HPI']\n",
    "dataframes[\"USSTHPI\"].head()"
   ]
  },
  {
   "cell_type": "markdown",
   "metadata": {},
   "source": [
    "#### Combine Monthly Suppky of New Houses and Housing Price Index for the United States"
   ]
  },
  {
   "cell_type": "code",
   "execution_count": null,
   "metadata": {
    "tags": []
   },
   "outputs": [],
   "source": [
    "# Use 'concat' function to combine the two DataFrames by matching indexes\n",
    "monthly_supply_df = pd.concat([dataframes[\"MSACSR\"],dataframes[\"USSTHPI\"]],axis=\"columns\",join=\"inner\")\n",
    "monthly_supply_df.head()"
   ]
  },
  {
   "cell_type": "code",
   "execution_count": null,
   "metadata": {
    "tags": []
   },
   "outputs": [],
   "source": [
    "# Drop columns 'Monthly Supply','MS pct_change','HPI','HPI pct_change'\n",
    "monthly_supply_df = monthly_supply_df.drop(columns=[\"Difference in MS\",\"MS pct_change\",\"HPI\",\"HPI pct_change\"])\n",
    "monthly_supply_df.head()"
   ]
  },
  {
   "cell_type": "markdown",
   "metadata": {
    "tags": []
   },
   "source": [
    "#### Conduct House Price Index and Monthly Supply of New Houses Analysis"
   ]
  },
  {
   "cell_type": "code",
   "execution_count": null,
   "metadata": {
    "tags": []
   },
   "outputs": [],
   "source": [
    "# Plot difference for combined dataframes\n",
    "monthly_supply_df.hvplot(title=\"House Price Inde and Monthly Supply of New Houses in the United States\", xlabel=\"Date(in Months)\",ylabel=\"Difference\")"
   ]
  },
  {
   "cell_type": "markdown",
   "metadata": {
    "tags": []
   },
   "source": [
    "## Residential Real Estate vs S&P500"
   ]
  },
  {
   "cell_type": "code",
   "execution_count": null,
   "metadata": {},
   "outputs": [],
   "source": [
    "# Download the S&P500 Dataframe from the yfinance library in quarters since HPI is a quarterly report \n",
    "\n",
    "sp500_df = yf.download(\"^GSPC\", interval=\"3mo\", start=\"1975-01-01\", end=\"2023-10-01\")\n",
    "\n",
    "# Get Closing cloumns and then calculate the returns and drop NaN Values\n",
    "\n",
    "sp500_close = sp500_df['Close']\n",
    "\n",
    "\n",
    "sp500_returns = sp500_close.pct_change().dropna()\n",
    "\n"
   ]
  },
  {
   "cell_type": "code",
   "execution_count": null,
   "metadata": {},
   "outputs": [],
   "source": [
    "#  Save a Plot in variable containing the Monthly Returns\n",
    "\n",
    "sp500_plot = sp500_returns.hvplot(\n",
    "    title='Quarterly Returns of the S&P 500 Index',\n",
    "    rot=90,\n",
    "    label='Quarterly Returns of the S&P 500 Index',\n",
    "    ylabel='Rate of Return',\n",
    "    xlabel='Date(in Qtrs.)'\n",
    "\n",
    ")\n",
    "\n",
    "sp500_plot"
   ]
  },
  {
   "cell_type": "code",
   "execution_count": null,
   "metadata": {},
   "outputs": [],
   "source": [
    "# Get Residential Housing Price Index Data (HPI)\n",
    "hpi_df = dataframes['USSTHPI']\n",
    "\n",
    "\n",
    "# Calculate HPI Returns \n",
    "hpi_returns = hpi_df['HPI pct_change']\n"
   ]
  },
  {
   "cell_type": "code",
   "execution_count": null,
   "metadata": {},
   "outputs": [],
   "source": [
    "#  Save a Plot in variable containing the Returns and plot ## HPI is a quarterly report\n",
    "\n",
    "hpi_plot = hpi_returns.hvplot(\n",
    "    title='Quarterly Returns of the Housing Price Index',\n",
    "    rot=90,\n",
    "    label='Quarterly Returns of the Housing Price Index',\n",
    "    ylabel='Rate of Return',\n",
    "    xlabel='Date(in Qtrs.)'\n",
    "\n",
    ")\n",
    "\n",
    "hpi_plot"
   ]
  },
  {
   "cell_type": "code",
   "execution_count": null,
   "metadata": {},
   "outputs": [],
   "source": [
    "# Slice the HPI returns data to start from 1985 for comparison, since yfinace library only lets us pull SP500 data fromn 1985\n",
    "hpi_1985_returns = hpi_returns.iloc[40:]\n",
    "\n"
   ]
  },
  {
   "cell_type": "code",
   "execution_count": null,
   "metadata": {},
   "outputs": [],
   "source": [
    "# Save a Plot in variable containing the Returns\n",
    "\n",
    "hpi_1985_plot = hpi_1985_returns.hvplot(\n",
    "    title='Quarterly Returns of the Housing Price Index',\n",
    "    rot=90,\n",
    "    label='Quarterly Returns of the Housing Price Index',\n",
    "    ylabel='Rate of Return',\n",
    "    xlabel='Date(in Qtrs.)'\n",
    "\n",
    ")"
   ]
  },
  {
   "cell_type": "code",
   "execution_count": null,
   "metadata": {},
   "outputs": [],
   "source": [
    "# Create an overlay plot for the two visualizations of SP550 & HPI\n",
    "(sp500_plot * hpi_1985_plot).opts(\n",
    "    title=\"Comparative view at Quartlely Returns of the HPI with Monthly Returns of the S&P500\",\n",
    "    bgcolor=\"lightgrey\", \n",
    "    height=500,\n",
    "    width=1000,\n",
    "    ylabel='Rate of Return',\n",
    "    xlabel='Date',\n",
    "    #hover_line_color='yellow'\n",
    ")"
   ]
  },
  {
   "cell_type": "markdown",
   "metadata": {},
   "source": [
    "## Residential Real Estate vs XLRE"
   ]
  },
  {
   "cell_type": "code",
   "execution_count": null,
   "metadata": {},
   "outputs": [],
   "source": [
    "# Download the XLRE Fund Dataframe from the yfinance library on a 3 month interval to compare with HPI quarterly report\n",
    "\n",
    "xlre_download = yf.download(\"XLRE\", interval=\"3mo\", start=\"1985-01-01\", end=\"2023-10-01\")\n",
    "\n",
    "# Get Closing cloumns and then calculate the returns and drop NaN Values\n",
    "\n",
    "xlre_close = xlre_download['Close']\n",
    "\n",
    "\n",
    "xlre_returns = xlre_close.pct_change().dropna()\n"
   ]
  },
  {
   "cell_type": "code",
   "execution_count": null,
   "metadata": {},
   "outputs": [],
   "source": [
    "#  Store a Plot inside a variable \n",
    "\n",
    "xlre_plot = xlre_returns.hvplot(\n",
    "    title='Quarterly Returns of The Real Estate Select Sector SPDR Fund (XLRE)',\n",
    "    rot=90,\n",
    "    ylabel='Rate of Return',\n",
    "    xlabel='Date(in Qtrs.)'\n",
    "\n",
    ")\n",
    "\n",
    "xlre_plot"
   ]
  },
  {
   "cell_type": "code",
   "execution_count": null,
   "metadata": {},
   "outputs": [],
   "source": [
    "# Slice HPI data to start from 2016 for a comparative view of XLRE & create a variable to store a plot of HPI for this timeframe \n",
    "hpi_returns_2016 = hpi_1985_returns.loc['2016-01-01':'2023-07-01']\n",
    "\n",
    "hpi_2016_plot = hpi_returns_2016.hvplot(\n",
    "    title='Quarterly Returns of the Housing Price Index',\n",
    "    rot=90,\n",
    "    label='Quarterly Returns of the Housing Price Index',\n",
    "    ylabel='Rate of Return',\n",
    "    xlabel='Date(in Qtrs.)'\n",
    "\n",
    ")"
   ]
  },
  {
   "cell_type": "code",
   "execution_count": null,
   "metadata": {},
   "outputs": [],
   "source": [
    "# Create an overlay plot for the two visualizations of XLRE & HPI\n",
    "(xlre_plot * hpi_2016_plot).opts(\n",
    "    title=\"Comparative view at Quartlely Returns of the HPI, S&P500 & XLRE\",\n",
    "    bgcolor=\"lightgrey\", \n",
    "    height=500,\n",
    "    width=1000,\n",
    "    ylabel='Rate of Return',\n",
    "    xlabel='Date',\n",
    "    #hover_cols=['yellow']\n",
    ")"
   ]
  },
  {
   "cell_type": "markdown",
   "metadata": {},
   "source": [
    "## Residential Real Estate vs XLRE vs SP500 Index"
   ]
  },
  {
   "cell_type": "code",
   "execution_count": null,
   "metadata": {},
   "outputs": [],
   "source": [
    "# Slice SP500 data to start from 2016 for a comparative view of XLRE & create a variable to store a plot of SP500 for this timeframe \n",
    "sp500_qtr_returns_2016 = sp500_returns.loc['2016-01-01':'2023-07-01']\n",
    "\n",
    "sp500_2016_plot = sp500_qtr_returns_2016.hvplot(\n",
    "    title='Quarterly Returns of the S&P 500 Index',\n",
    "    rot=90,\n",
    "    label='Quarterly Returns of the S&P 500 Index',\n",
    "    ylabel='Rate of Return',\n",
    "    xlabel='Date(in Qtrs.)'\n",
    "\n",
    ")"
   ]
  },
  {
   "cell_type": "code",
   "execution_count": null,
   "metadata": {},
   "outputs": [],
   "source": [
    "# Create an overlay plot for the two visualizations of SP550 & HPI\n",
    "(sp500_2016_plot * hpi_2016_plot * xlre_plot).opts(\n",
    "    title=\"Comparative view at Quartlely Returns of the HPI, S&P500 & XLRE\",\n",
    "    bgcolor=\"lightgrey\", \n",
    "    height=500,\n",
    "    width=1000,\n",
    "    ylabel='Rate of Return',\n",
    "    xlabel='Date',\n",
    "    #hover_cols=['yellow']\n",
    ")"
   ]
  },
  {
   "cell_type": "markdown",
   "metadata": {},
   "source": [
    "## Investment Analysis of HPI, SP500 & XLRE"
   ]
  },
  {
   "cell_type": "code",
   "execution_count": null,
   "metadata": {},
   "outputs": [],
   "source": [
    "# Fetch 13Week Treasury Bill for a Risk Free Rate\n",
    "\n",
    "tbill_month = yf.download(\"^IRX\", interval=\"1mo\", start=\"1985-01-01\", end=\"2023-10-01\")\n",
    "\n",
    "\n",
    "tbill_qtr = yf.download(\"^IRX\", interval=\"1mo\", start=\"1985-01-01\", end=\"2023-10-01\")"
   ]
  }
 ],
 "metadata": {
  "kernelspec": {
   "display_name": "Python 3 (ipykernel)",
   "language": "python",
   "name": "python3"
  },
  "language_info": {
   "codemirror_mode": {
    "name": "ipython",
    "version": 3
   },
   "file_extension": ".py",
   "mimetype": "text/x-python",
   "name": "python",
   "nbconvert_exporter": "python",
   "pygments_lexer": "ipython3",
   "version": "3.11.5"
  }
 },
 "nbformat": 4,
 "nbformat_minor": 4
}
